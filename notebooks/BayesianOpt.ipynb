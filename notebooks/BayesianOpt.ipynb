{
  "nbformat": 4,
  "nbformat_minor": 0,
  "metadata": {
    "colab": {
      "name": "BayesianOpt.ipynb",
      "version": "0.3.2",
      "provenance": [],
      "collapsed_sections": [
        "OMApMHOldZty"
      ]
    },
    "kernelspec": {
      "name": "python3",
      "display_name": "Python 3"
    },
    "accelerator": "TPU"
  },
  "cells": [
    {
      "cell_type": "markdown",
      "metadata": {
        "id": "N1UR88JVTQkp",
        "colab_type": "text"
      },
      "source": [
        "# Optimización Bayesiana\n",
        "\n",
        "En este notebook se muestra la obtención de hiperparámetros óptimos para una red neuronal utilizando optimización bayesiana. Esta técnica es más eficiente que un Gridsearch o Manual tuning para casos (como el actual) en el que no se tienen recursos para realizar entrenamientos en paralelo de modelos.\n",
        "\n",
        "\n",
        "https://arxiv.org/pdf/1807.02811.pdf\n",
        "\n",
        "**NOTA:** Este notebook está ejecutado en *Google Colab*"
      ]
    },
    {
      "cell_type": "code",
      "metadata": {
        "id": "leag2SIuKQ6H",
        "colab_type": "code",
        "outputId": "4da22029-e127-4fd0-ebca-c9d25c457fa7",
        "colab": {
          "base_uri": "https://localhost:8080/",
          "height": 125
        }
      },
      "source": [
        "from google.colab import drive\n",
        "drive.mount('/content/drive')"
      ],
      "execution_count": 6,
      "outputs": [
        {
          "output_type": "stream",
          "text": [
            "Go to this URL in a browser: https://accounts.google.com/o/oauth2/auth?client_id=947318989803-6bn6qk8qdgf4n4g3pfee6491hc0brc4i.apps.googleusercontent.com&redirect_uri=urn%3Aietf%3Awg%3Aoauth%3A2.0%3Aoob&scope=email%20https%3A%2F%2Fwww.googleapis.com%2Fauth%2Fdocs.test%20https%3A%2F%2Fwww.googleapis.com%2Fauth%2Fdrive%20https%3A%2F%2Fwww.googleapis.com%2Fauth%2Fdrive.photos.readonly%20https%3A%2F%2Fwww.googleapis.com%2Fauth%2Fpeopleapi.readonly&response_type=code\n",
            "\n",
            "Enter your authorization code:\n",
            "··········\n",
            "Mounted at /content/drive\n"
          ],
          "name": "stdout"
        }
      ]
    },
    {
      "cell_type": "code",
      "metadata": {
        "id": "RZPgJIeHd7Ki",
        "colab_type": "code",
        "outputId": "e6586c41-983f-47d5-ee6a-4741c5ada6d7",
        "colab": {
          "base_uri": "https://localhost:8080/",
          "height": 321
        }
      },
      "source": [
        "!pip install --upgrade pandas\n",
        "!pip install --upgrade matplotlib==2.1.1\n",
        "!pip install scikit-optimize"
      ],
      "execution_count": 7,
      "outputs": [
        {
          "output_type": "stream",
          "text": [
            "Requirement already up-to-date: pandas in /usr/local/lib/python3.6/dist-packages (0.24.2)\n",
            "Requirement already satisfied, skipping upgrade: python-dateutil>=2.5.0 in /usr/local/lib/python3.6/dist-packages (from pandas) (2.5.3)\n",
            "Requirement already satisfied, skipping upgrade: numpy>=1.12.0 in /usr/local/lib/python3.6/dist-packages (from pandas) (1.16.3)\n",
            "Requirement already satisfied, skipping upgrade: pytz>=2011k in /usr/local/lib/python3.6/dist-packages (from pandas) (2018.9)\n",
            "Requirement already satisfied, skipping upgrade: six>=1.5 in /usr/local/lib/python3.6/dist-packages (from python-dateutil>=2.5.0->pandas) (1.12.0)\n",
            "Requirement already up-to-date: matplotlib==2.1.1 in /usr/local/lib/python3.6/dist-packages (2.1.1)\n",
            "Requirement already satisfied, skipping upgrade: pyparsing!=2.0.4,!=2.1.2,!=2.1.6,>=2.0.1 in /usr/local/lib/python3.6/dist-packages (from matplotlib==2.1.1) (2.4.0)\n",
            "Requirement already satisfied, skipping upgrade: numpy>=1.7.1 in /usr/local/lib/python3.6/dist-packages (from matplotlib==2.1.1) (1.16.3)\n",
            "Requirement already satisfied, skipping upgrade: pytz in /usr/local/lib/python3.6/dist-packages (from matplotlib==2.1.1) (2018.9)\n",
            "Requirement already satisfied, skipping upgrade: cycler>=0.10 in /usr/local/lib/python3.6/dist-packages (from matplotlib==2.1.1) (0.10.0)\n",
            "Requirement already satisfied, skipping upgrade: six>=1.10 in /usr/local/lib/python3.6/dist-packages (from matplotlib==2.1.1) (1.12.0)\n",
            "Requirement already satisfied, skipping upgrade: python-dateutil>=2.0 in /usr/local/lib/python3.6/dist-packages (from matplotlib==2.1.1) (2.5.3)\n",
            "Requirement already satisfied: scikit-optimize in /usr/local/lib/python3.6/dist-packages (0.5.2)\n",
            "Requirement already satisfied: scikit-learn>=0.19.1 in /usr/local/lib/python3.6/dist-packages (from scikit-optimize) (0.20.3)\n",
            "Requirement already satisfied: numpy in /usr/local/lib/python3.6/dist-packages (from scikit-optimize) (1.16.3)\n",
            "Requirement already satisfied: scipy>=0.14.0 in /usr/local/lib/python3.6/dist-packages (from scikit-optimize) (1.2.1)\n"
          ],
          "name": "stdout"
        }
      ]
    },
    {
      "cell_type": "code",
      "metadata": {
        "id": "HSTFCp3TLOyY",
        "colab_type": "code",
        "outputId": "8656b293-cac6-47b0-ffc4-7a64f4193fa2",
        "colab": {
          "base_uri": "https://localhost:8080/",
          "height": 52
        }
      },
      "source": [
        "!ls \"drive/My Drive/Colab Notebooks/data\""
      ],
      "execution_count": 8,
      "outputs": [
        {
          "output_type": "stream",
          "text": [
            "data_kaggle_proc.pickle\t\t       news_getting_real.pickle\n",
            "GoogleNews-vectors-negative300.bin.gz  news_proc_12_3_19.pickle\n"
          ],
          "name": "stdout"
        }
      ]
    },
    {
      "cell_type": "markdown",
      "metadata": {
        "id": "L4ox1E4A-NIx",
        "colab_type": "text"
      },
      "source": [
        "# Imports, loads and Train/test split\n",
        "---"
      ]
    },
    {
      "cell_type": "code",
      "metadata": {
        "id": "Pxs1baLTJsxl",
        "colab_type": "code",
        "colab": {}
      },
      "source": [
        "import pandas as pd\n",
        "import numpy as np\n",
        "\n",
        "#Progress bars\n",
        "from tqdm import tqdm\n",
        "tqdm.pandas()\n",
        "\n",
        "#Paralelize pandas apply on multiple cores\n",
        "#import swifter\n",
        "\n",
        "from matplotlib import pyplot as plt\n",
        "from matplotlib import style\n",
        "#Nicer style\n",
        "style.use('seaborn')\n",
        "import seaborn as sns\n",
        "\n",
        "from tensorflow import keras as k\n",
        "\n",
        "from sklearn.model_selection import train_test_split\n",
        "\n",
        "from gensim.models import KeyedVectors\n",
        "\n",
        "from sklearn.metrics import accuracy_score, confusion_matrix, classification_report"
      ],
      "execution_count": 0,
      "outputs": []
    },
    {
      "cell_type": "code",
      "metadata": {
        "id": "E-i6JPxjKGaz",
        "colab_type": "code",
        "colab": {}
      },
      "source": [
        "data = pd.read_pickle('drive/My Drive/Colab Notebooks/data/news_proc_12_3_19.pickle')#.reset_index()\n",
        "data = data.dropna()"
      ],
      "execution_count": 0,
      "outputs": []
    },
    {
      "cell_type": "markdown",
      "metadata": {
        "id": "ytOekwMDE9Pi",
        "colab_type": "text"
      },
      "source": [
        "Labels asignadas a los tipos"
      ]
    },
    {
      "cell_type": "code",
      "metadata": {
        "id": "oxDrPOrlCONc",
        "colab_type": "code",
        "outputId": "a42e90ba-52a6-4808-c354-787fb84c0b47",
        "colab": {
          "base_uri": "https://localhost:8080/",
          "height": 87
        }
      },
      "source": [
        "types = data['type'].unique()\n",
        "for t in types:\n",
        "    print(\"{} - {}\".format(t, data[data['type'] == t].head(1)['one_hot_label'].iloc[0]))"
      ],
      "execution_count": 11,
      "outputs": [
        {
          "output_type": "stream",
          "text": [
            "bias - [1 0 0 0]\n",
            "click - [0 1 0 0]\n",
            "fake - [0 0 1 0]\n",
            "truth - [0 0 0 1]\n"
          ],
          "name": "stdout"
        }
      ]
    },
    {
      "cell_type": "code",
      "metadata": {
        "id": "p2Rb1d_iMRo4",
        "colab_type": "code",
        "outputId": "d2e7dae6-e551-4e7e-e2b8-1fdc32163c46",
        "colab": {
          "base_uri": "https://localhost:8080/",
          "height": 52
        }
      },
      "source": [
        "len_content = len(data['content'][0])\n",
        "len_title = len(data['title'][0])\n",
        "\n",
        "print(\"Max len content: {}\".format(len_content))\n",
        "print(\"Max len title: {}\".format(len_title))"
      ],
      "execution_count": 12,
      "outputs": [
        {
          "output_type": "stream",
          "text": [
            "Max len content: 1598\n",
            "Max len title: 13\n"
          ],
          "name": "stdout"
        }
      ]
    },
    {
      "cell_type": "code",
      "metadata": {
        "id": "42yvXt6pdWtl",
        "colab_type": "code",
        "colab": {}
      },
      "source": [
        ""
      ],
      "execution_count": 0,
      "outputs": []
    },
    {
      "cell_type": "code",
      "metadata": {
        "id": "obS9w_bsMeCf",
        "colab_type": "code",
        "colab": {}
      },
      "source": [
        "model = KeyedVectors.load_word2vec_format(\"drive/My Drive/Colab Notebooks/data/GoogleNews-vectors-negative300.bin.gz\", binary=True, limit=50000)"
      ],
      "execution_count": 0,
      "outputs": []
    },
    {
      "cell_type": "code",
      "metadata": {
        "id": "kq7N1l62dYve",
        "colab_type": "code",
        "colab": {}
      },
      "source": [
        "embed_mat = np.zeros((50000,300))\n",
        "for i, e in model.vocab.items():\n",
        "    embed_mat[e.index] = model[i]"
      ],
      "execution_count": 0,
      "outputs": []
    },
    {
      "cell_type": "markdown",
      "metadata": {
        "id": "Wbfhe0Txddio",
        "colab_type": "text"
      },
      "source": [
        "**Tran/valid/test split**"
      ]
    },
    {
      "cell_type": "code",
      "metadata": {
        "id": "cq-wi-x6ddtd",
        "colab_type": "code",
        "colab": {}
      },
      "source": [
        "#Train - test\n",
        "X_train, X_test, y_train, y_test = train_test_split(\n",
        "    data[['content', 'title']], data['one_hot_label'], test_size=0.3, random_state=1)\n",
        "\n",
        "#Train - valid\n",
        "X_train, X_valid, y_train, y_valid = train_test_split(\n",
        "    X_train, y_train, test_size=0.3, random_state=1)"
      ],
      "execution_count": 0,
      "outputs": []
    },
    {
      "cell_type": "code",
      "metadata": {
        "id": "WxjsZziCddwE",
        "colab_type": "code",
        "colab": {}
      },
      "source": [
        "X_train_title = X_train['title']\n",
        "X_train_content = X_train['content']\n",
        "\n",
        "X_valid_title = X_valid['title']\n",
        "X_valid_content = X_valid['content']\n",
        "\n",
        "X_test_title = X_test['title']\n",
        "X_test_content = X_test['content']"
      ],
      "execution_count": 0,
      "outputs": []
    },
    {
      "cell_type": "code",
      "metadata": {
        "id": "kOmvVOCofAl2",
        "colab_type": "code",
        "colab": {}
      },
      "source": [
        "train_fit = [np.asarray(X_train_title.tolist()), \n",
        "             np.asarray(X_train_content.tolist())]\n",
        "\n",
        "valid_fit = [np.asarray(X_valid_title.tolist()), \n",
        "             np.asarray(X_valid_content.tolist())]\n",
        "\n",
        "test_fit = [np.asarray(X_test_title.tolist()), \n",
        "             np.asarray(X_test_content.tolist())]"
      ],
      "execution_count": 0,
      "outputs": []
    },
    {
      "cell_type": "code",
      "metadata": {
        "id": "Fiv0BWnBddy0",
        "colab_type": "code",
        "colab": {}
      },
      "source": [
        "del data\n",
        "del X_train_title, X_train_content\n",
        "del X_valid_title, X_valid_content\n",
        "del X_test_title, X_test_content"
      ],
      "execution_count": 0,
      "outputs": []
    },
    {
      "cell_type": "code",
      "metadata": {
        "id": "slVgLTa1HRmG",
        "colab_type": "code",
        "colab": {}
      },
      "source": [
        ""
      ],
      "execution_count": 0,
      "outputs": []
    },
    {
      "cell_type": "code",
      "metadata": {
        "id": "lp6v7yeShqda",
        "colab_type": "code",
        "colab": {}
      },
      "source": [
        "import skopt\n",
        "from skopt.space import Real, Integer, Categorical\n",
        "from skopt.utils import use_named_args\n",
        "from skopt.plots import plot_objective\n",
        "\n",
        "from numpy.random import seed\n",
        "from tensorflow import set_random_seed\n",
        "\n",
        "import tensorflow as tf\n",
        "\n",
        "import os"
      ],
      "execution_count": 0,
      "outputs": []
    },
    {
      "cell_type": "markdown",
      "metadata": {
        "id": "OMApMHOldZty",
        "colab_type": "text"
      },
      "source": [
        "# Buscar hiperparámetros óptimos para la CNN"
      ]
    },
    {
      "cell_type": "code",
      "metadata": {
        "id": "fTa2eG8yelaa",
        "colab_type": "code",
        "colab": {}
      },
      "source": [
        "space  = [Real(1e-3, 0.4, name='lr'),\n",
        "          Real(1e-3, 0.4, name='momentum')]"
      ],
      "execution_count": 0,
      "outputs": []
    },
    {
      "cell_type": "code",
      "metadata": {
        "id": "nWvoCxc-dgxb",
        "colab_type": "code",
        "colab": {}
      },
      "source": [
        "@use_named_args(space)\n",
        "def cnn_model(**params):\n",
        "    \n",
        "    x_train = train_fit\n",
        "    y_train2 = np.array(y_train.tolist())\n",
        "    \n",
        "    x_valid = valid_fit\n",
        "    y_valid2 = np.array(y_valid.tolist())\n",
        "    \n",
        "    x_test = test_fit\n",
        "    y_test2 = np.array(y_test.tolist())\n",
        "\n",
        "    #Reproducible\n",
        "    seed(50)\n",
        "    set_random_seed(50)\n",
        "    k.backend.clear_session()\n",
        "    \n",
        "    \n",
        "    \n",
        "    #input_title\n",
        "    title_input = k.layers.Input(shape=(len_title,), name='title_input')\n",
        "    inp = k.layers.Embedding(output_dim=300, input_dim=50000, \n",
        "                             weights=[embed_mat], trainable=False, name='embed_title')(title_input)\n",
        "\n",
        "    x = k.layers.Conv1D(filters = 10, kernel_size=4, strides=2, activation='relu', name='Conv1Title')(inp)\n",
        "    x = k.layers.MaxPool1D(pool_size = 2, name='Pool1Title')(x)\n",
        "    x = k.layers.Flatten()(x)\n",
        "    x = k.layers.Dense(50, activation='relu', name='Dense1Title', kernel_regularizer='l2')(x)\n",
        "\n",
        "    #input_content\n",
        "    content_input = k.layers.Input(shape=(len_content,), name='content_input')\n",
        "    inp2 = k.layers.Embedding(output_dim=300, input_dim=50000, \n",
        "                             weights=[embed_mat], trainable=False, name='embed_content')(content_input)\n",
        "    x2 = k.layers.Conv1D(filters = 60, kernel_size = 16, strides = 2, activation='relu', name='Conv1Content')(inp2)\n",
        "    x2 = k.layers.MaxPool1D(pool_size = 6, name='Pool1Content')(x2)\n",
        "    \n",
        "    x2 = k.layers.Conv1D(filters = 80, kernel_size = 8, strides = 4, activation='relu', name='Conv2Content')(inp2)\n",
        "    x2 = k.layers.MaxPool1D(pool_size = 2, name='Pool2Content')(x2)\n",
        "\n",
        "    x2 = k.layers.Flatten()(x2)\n",
        "    x2 = k.layers.Dense(100, activation='relu', kernel_regularizer='l2', name='Dense1Content')(x2)\n",
        "\n",
        "\n",
        "    #Merge\n",
        "    x = k.layers.concatenate([x, x2])\n",
        "\n",
        "    #Common part\n",
        "    x = k.layers.Dense(100, activation='relu')(x)\n",
        "    x = k.layers.Dropout(0.2)(x)\n",
        "    x = k.layers.Dense(50, activation='relu')(x)\n",
        "    x = k.layers.Dropout(0.2)(x)\n",
        "    out = k.layers.Dense(4, activation='softmax')(x)\n",
        "\n",
        "\n",
        "    #Build model\n",
        "    model = k.models.Model(inputs=[title_input, content_input], outputs=[out])\n",
        "\n",
        "    model.compile(k.optimizers.SGD(lr=params['lr'], momentum=params['momentum']), loss='categorical_crossentropy', metrics=['acc'])\n",
        "    \n",
        "    out = model.fit(x=x_train, y=y_train2, batch_size=128, epochs=20,\n",
        "          callbacks = [k.callbacks.EarlyStopping(monitor='val_acc', patience=2, min_delta = 0.1)], \n",
        "                    validation_data=(x_valid, y_valid2))\n",
        "    \n",
        "    \n",
        "    #Evaluation\n",
        "    \n",
        "    acc = model.evaluate(x=x_test, y=y_test2)\n",
        "    return -acc[1] #Maximize accuracy"
      ],
      "execution_count": 0,
      "outputs": []
    },
    {
      "cell_type": "code",
      "metadata": {
        "id": "-L52abocf8AZ",
        "colab_type": "code",
        "outputId": "4593085f-87c7-4b34-dd2b-ab1984c9b5f6",
        "colab": {
          "base_uri": "https://localhost:8080/",
          "height": 727
        }
      },
      "source": [
        "r = skopt.gp_minimize(cnn_model, n_random_starts=3, n_calls=5, dimensions=space)"
      ],
      "execution_count": 0,
      "outputs": [
        {
          "output_type": "stream",
          "text": [
            "Train on 94319 samples, validate on 40423 samples\n",
            "Epoch 1/20\n",
            "94319/94319 [==============================] - 56s 597us/sample - loss: 1.0498 - acc: 0.6651 - val_loss: 0.6692 - val_acc: 0.7814\n",
            "Epoch 2/20\n",
            "94319/94319 [==============================] - 56s 590us/sample - loss: 0.6688 - acc: 0.7857 - val_loss: 0.6329 - val_acc: 0.8018\n",
            "Epoch 3/20\n",
            "94319/94319 [==============================] - 55s 588us/sample - loss: 0.6300 - acc: 0.8120 - val_loss: 0.6297 - val_acc: 0.8097\n",
            "57747/57747 [==============================] - 20s 348us/sample - loss: 0.6240 - acc: 0.8132\n",
            "Train on 94319 samples, validate on 40423 samples\n",
            "Epoch 1/20\n",
            "94319/94319 [==============================] - 56s 594us/sample - loss: 1.0701 - acc: 0.6819 - val_loss: 0.6468 - val_acc: 0.7860\n",
            "Epoch 2/20\n",
            "94319/94319 [==============================] - 56s 590us/sample - loss: 0.6474 - acc: 0.7952 - val_loss: 0.6079 - val_acc: 0.8078\n",
            "Epoch 3/20\n",
            "94319/94319 [==============================] - 56s 590us/sample - loss: 0.6033 - acc: 0.8224 - val_loss: 0.6128 - val_acc: 0.8155\n",
            "57747/57747 [==============================] - 20s 349us/sample - loss: 0.6105 - acc: 0.8178\n",
            "Train on 94319 samples, validate on 40423 samples\n",
            "Epoch 1/20\n",
            "94319/94319 [==============================] - 56s 595us/sample - loss: 1.0843 - acc: 0.6714 - val_loss: 0.6742 - val_acc: 0.7684\n",
            "Epoch 2/20\n",
            "94319/94319 [==============================] - 56s 589us/sample - loss: 0.6511 - acc: 0.7898 - val_loss: 0.6169 - val_acc: 0.8044\n",
            "Epoch 3/20\n",
            "94319/94319 [==============================] - 56s 590us/sample - loss: 0.6036 - acc: 0.8233 - val_loss: 0.6210 - val_acc: 0.8081\n",
            "57747/57747 [==============================] - 20s 348us/sample - loss: 0.6165 - acc: 0.8121\n",
            "Train on 94319 samples, validate on 40423 samples\n",
            "Epoch 1/20\n",
            "94319/94319 [==============================] - 57s 604us/sample - loss: 3.5612 - acc: 0.3072 - val_loss: 3.4672 - val_acc: 0.3644\n",
            "Epoch 2/20\n",
            "94319/94319 [==============================] - 56s 597us/sample - loss: 3.3813 - acc: 0.3583 - val_loss: 3.2919 - val_acc: 0.3895\n",
            "Epoch 3/20\n",
            "94319/94319 [==============================] - 56s 597us/sample - loss: 3.2116 - acc: 0.3789 - val_loss: 3.1230 - val_acc: 0.4068\n",
            "57747/57747 [==============================] - 20s 349us/sample - loss: 3.1211 - acc: 0.4059\n",
            "Train on 94319 samples, validate on 40423 samples\n",
            "Epoch 1/20\n",
            "94319/94319 [==============================] - 56s 597us/sample - loss: 1.0747 - acc: 0.6799 - val_loss: 0.6473 - val_acc: 0.7839\n",
            "Epoch 2/20\n",
            "94319/94319 [==============================] - 56s 592us/sample - loss: 0.6515 - acc: 0.7919 - val_loss: 0.6150 - val_acc: 0.8089\n",
            "Epoch 3/20\n",
            "94319/94319 [==============================] - 56s 592us/sample - loss: 0.6058 - acc: 0.8224 - val_loss: 0.6373 - val_acc: 0.8053\n",
            "57747/57747 [==============================] - 20s 348us/sample - loss: 0.6286 - acc: 0.8098\n"
          ],
          "name": "stdout"
        }
      ]
    },
    {
      "cell_type": "markdown",
      "metadata": {
        "id": "VQy81eyCp1Ke",
        "colab_type": "text"
      },
      "source": [
        "Podemos aceder a los parámetros con los que se obtiene el mínimo en la función de loss (máximo en nuestro caso)"
      ]
    },
    {
      "cell_type": "code",
      "metadata": {
        "id": "i2IXFcoSi38U",
        "colab_type": "code",
        "outputId": "d38e7cb9-9999-4822-ae95-1481ed65fd11",
        "colab": {
          "base_uri": "https://localhost:8080/",
          "height": 34
        }
      },
      "source": [
        "print(\"PARAMETERS (LR/Optimizer): {}  RESULT {}\".format(r.x, r.fun))"
      ],
      "execution_count": 0,
      "outputs": [
        {
          "output_type": "stream",
          "text": [
            "PARAMETERS (LR/Optimizer): [0.23993334664040306, 0.30361299021107185]  RESULT -0.8178433775901794\n"
          ],
          "name": "stdout"
        }
      ]
    },
    {
      "cell_type": "markdown",
      "metadata": {
        "id": "wSVEV59YrEgj",
        "colab_type": "text"
      },
      "source": [
        "Como vemos, con estos parámetros se obtiene un accuracy de 0.81 en el conjunto de validación."
      ]
    },
    {
      "cell_type": "code",
      "metadata": {
        "id": "Z60gA0P4fM8t",
        "colab_type": "code",
        "outputId": "74ea2729-bfcf-4922-ff70-813cb979908e",
        "colab": {
          "base_uri": "https://localhost:8080/",
          "height": 497
        }
      },
      "source": [
        "plot_objective(r, dimensions=space)"
      ],
      "execution_count": 0,
      "outputs": [
        {
          "output_type": "execute_result",
          "data": {
            "text/plain": [
              "array([[<matplotlib.axes._subplots.AxesSubplot object at 0x7f1e42b9c048>,\n",
              "        <matplotlib.axes._subplots.AxesSubplot object at 0x7f1e41e7ba20>],\n",
              "       [<matplotlib.axes._subplots.AxesSubplot object at 0x7f1e42103ba8>,\n",
              "        <matplotlib.axes._subplots.AxesSubplot object at 0x7f1e420f5ba8>]],\n",
              "      dtype=object)"
            ]
          },
          "metadata": {
            "tags": []
          },
          "execution_count": 30
        },
        {
          "output_type": "display_data",
          "data": {
            "image/png": "[encoded data removed]",
            "text/plain": [
              "<matplotlib.figure.Figure at 0x7f1e42c26780>"
            ]
          },
          "metadata": {
            "tags": []
          }
        }
      ]
    },
    {
      "cell_type": "code",
      "metadata": {
        "id": "FB3fOPpF9nLS",
        "colab_type": "code",
        "colab": {}
      },
      "source": [
        ""
      ],
      "execution_count": 0,
      "outputs": []
    },
    {
      "cell_type": "markdown",
      "metadata": {
        "id": "fH4oqxoFFUKO",
        "colab_type": "text"
      },
      "source": [
        ""
      ]
    },
    {
      "cell_type": "markdown",
      "metadata": {
        "id": "vqocNltjFXnx",
        "colab_type": "text"
      },
      "source": [
        "# Buscar hiperparámetros óptimos para la LSTM"
      ]
    },
    {
      "cell_type": "code",
      "metadata": {
        "id": "3AhEqk1mFYaO",
        "colab_type": "code",
        "colab": {}
      },
      "source": [
        "space  = [Real(1e-3, 0.4, name='lr'),\n",
        "          Real(1e-3, 0.1, name='momentum'),\n",
        "          Real(0.1, 0.3, name='dropout1')]\n",
        "\n",
        "\n",
        "@use_named_args(space)\n",
        "def lstm_model(**params):\n",
        "    \n",
        "    x_train = train_fit\n",
        "    y_train2 = np.array(y_train.tolist())\n",
        "    \n",
        "    x_valid = valid_fit\n",
        "    y_valid2 = np.array(y_valid.tolist())\n",
        "    \n",
        "    x_test = test_fit\n",
        "    y_test2 = np.array(y_test.tolist())\n",
        "\n",
        "    #Reproducible weights\n",
        "    seed(50)\n",
        "    set_random_seed(50)\n",
        "    k.backend.clear_session()\n",
        "    \n",
        "    \n",
        "    \n",
        "\n",
        "    #input_title\n",
        "    title_input = k.layers.Input(shape=(len_title,), name='title_input')\n",
        "    inp = k.layers.Embedding(output_dim=300, input_dim=50000, \n",
        "                             weights=[embed_mat], trainable=False)(title_input)\n",
        "    x = k.layers.Bidirectional(k.layers.LSTM(100))(inp)\n",
        "    #CudnnLSTM\n",
        "\n",
        "    #input_content\n",
        "    content_input = k.layers.Input(shape=(len_content,), name='content_input')\n",
        "    inp2 = k.layers.Embedding(output_dim=300, input_dim=50000, \n",
        "                             weights=[embed_mat], trainable=False)(content_input)\n",
        "    x2 = k.layers.Bidirectional(k.layers.LSTM(300))(inp2)\n",
        "    #CudnnLSTM\n",
        "\n",
        "    #Merge\n",
        "    x = k.layers.concatenate([x, x2])\n",
        "\n",
        "\n",
        "    #Common part\n",
        "    x = k.layers.Dense(100, activation='relu')(x)\n",
        "    x = k.layers.Dropout(params['dropout1'])(x)\n",
        "    x = k.layers.Dense(50, activation='relu')(x)\n",
        "    x = k.layers.Dropout(0.2)(x)\n",
        "\n",
        "    out = k.layers.Dense(4, activation='softmax')(x)\n",
        "\n",
        "    #Build model\n",
        "    model = k.models.Model(inputs=[title_input, content_input], outputs=[out])\n",
        "\n",
        "    #model.compile(k.optimizers.SGD(), loss='categorical_crossentropy', metrics=['acc'])\n",
        "    model.compile(tf.train.MomentumOptimizer(learning_rate=params['lr'], momentum=params['momentum']), \n",
        "                  loss='categorical_crossentropy', metrics=['acc'])\n",
        "\n",
        "    \n",
        "    \n",
        "    \n",
        "    \n",
        "    #Optimize TPU\n",
        "    # This address identifies the TPU we'll use when configuring TensorFlow.\n",
        "    TPU_WORKER = 'grpc://' + os.environ['COLAB_TPU_ADDR']\n",
        "    tf.logging.set_verbosity(tf.logging.INFO)\n",
        "\n",
        "    tpu_model = tf.contrib.tpu.keras_to_tpu_model(\n",
        "        model,\n",
        "        strategy=tf.contrib.tpu.TPUDistributionStrategy(\n",
        "            tf.contrib.cluster_resolver.TPUClusterResolver(TPU_WORKER)))\n",
        "\n",
        "\n",
        "\n",
        "    \n",
        "    out = tpu_model.fit(x=train_fit, y=np.asarray(y_train.tolist()), batch_size=64*8, epochs=30,\n",
        "          callbacks = [k.callbacks.EarlyStopping(monitor='val_acc', patience=2, min_delta = 0.1)], \n",
        "                         validation_data=(valid_fit, np.array(y_valid.tolist())))\n",
        "    \n",
        "\n",
        "    \n",
        "    \n",
        "    #Evaluation\n",
        "    acc = tpu_model.evaluate(x=x_test, y=y_test2)\n",
        "    return -acc[1] #Maximize accuracy"
      ],
      "execution_count": 0,
      "outputs": []
    },
    {
      "cell_type": "code",
      "metadata": {
        "id": "DzY04DRZFhJj",
        "colab_type": "code",
        "colab": {
          "base_uri": "https://localhost:8080/",
          "height": 8072
        },
        "outputId": "9d7ff78a-3e04-420f-c2b0-d3763ef68777"
      },
      "source": [
        "r = skopt.gp_minimize(lstm_model, n_random_starts=3, n_calls=7, dimensions=space)"
      ],
      "execution_count": 31,
      "outputs": [
        {
          "output_type": "stream",
          "text": [
            "INFO:tensorflow:Querying Tensorflow master (grpc://10.29.117.202:8470) for TPU system metadata.\n",
            "INFO:tensorflow:Found TPU system:\n",
            "INFO:tensorflow:*** Num TPU Cores: 8\n",
            "INFO:tensorflow:*** Num TPU Workers: 1\n",
            "INFO:tensorflow:*** Num TPU Cores Per Worker: 8\n",
            "INFO:tensorflow:*** Available Device: _DeviceAttributes(/job:worker/replica:0/task:0/device:CPU:0, CPU, -1, 16833865400973248794)\n",
            "INFO:tensorflow:*** Available Device: _DeviceAttributes(/job:worker/replica:0/task:0/device:XLA_CPU:0, XLA_CPU, 17179869184, 13755240218284278158)\n",
            "INFO:tensorflow:*** Available Device: _DeviceAttributes(/job:worker/replica:0/task:0/device:TPU:0, TPU, 17179869184, 12945550925011558216)\n",
            "INFO:tensorflow:*** Available Device: _DeviceAttributes(/job:worker/replica:0/task:0/device:TPU:1, TPU, 17179869184, 2350143857022530921)\n",
            "INFO:tensorflow:*** Available Device: _DeviceAttributes(/job:worker/replica:0/task:0/device:TPU:2, TPU, 17179869184, 13627641760753111972)\n",
            "INFO:tensorflow:*** Available Device: _DeviceAttributes(/job:worker/replica:0/task:0/device:TPU:3, TPU, 17179869184, 17216974069002826136)\n",
            "INFO:tensorflow:*** Available Device: _DeviceAttributes(/job:worker/replica:0/task:0/device:TPU:4, TPU, 17179869184, 15350308176957800762)\n",
            "INFO:tensorflow:*** Available Device: _DeviceAttributes(/job:worker/replica:0/task:0/device:TPU:5, TPU, 17179869184, 5750048082783041981)\n",
            "INFO:tensorflow:*** Available Device: _DeviceAttributes(/job:worker/replica:0/task:0/device:TPU:6, TPU, 17179869184, 13891274772997751420)\n",
            "INFO:tensorflow:*** Available Device: _DeviceAttributes(/job:worker/replica:0/task:0/device:TPU:7, TPU, 17179869184, 16251816654190509085)\n",
            "INFO:tensorflow:*** Available Device: _DeviceAttributes(/job:worker/replica:0/task:0/device:TPU_SYSTEM:0, TPU_SYSTEM, 17179869184, 3002664826571791369)\n",
            "WARNING:tensorflow:tpu_model (from tensorflow.contrib.tpu.python.tpu.keras_support) is experimental and may change or be removed at any time, and without warning.\n",
            "Train on 94319 samples, validate on 40423 samples\n",
            "Epoch 1/30\n",
            "INFO:tensorflow:New input shapes; (re-)compiling: mode=train (# of cores 8), [TensorSpec(shape=(64,), dtype=tf.int32, name='core_id0'), TensorSpec(shape=(64, 13), dtype=tf.float32, name='title_input_10'), TensorSpec(shape=(64, 1598), dtype=tf.float32, name='content_input_10'), TensorSpec(shape=(64, 4), dtype=tf.float32, name='dense_2_target_30')]\n",
            "INFO:tensorflow:Overriding default placeholder.\n",
            "INFO:tensorflow:Remapping placeholder for title_input\n",
            "INFO:tensorflow:Remapping placeholder for content_input\n",
            "INFO:tensorflow:Started compiling\n",
            "INFO:tensorflow:Finished compiling. Time elapsed: 13.273819923400879 secs\n",
            "INFO:tensorflow:Setting weights on TPU model.\n",
            "93696/94319 [============================>.] - ETA: 1s - loss: 1.3804 - acc: 0.2833INFO:tensorflow:New input shapes; (re-)compiling: mode=train (# of cores 8), [TensorSpec(shape=(13,), dtype=tf.int32, name='core_id0'), TensorSpec(shape=(13, 13), dtype=tf.float32, name='title_input_10'), TensorSpec(shape=(13, 1598), dtype=tf.float32, name='content_input_10'), TensorSpec(shape=(13, 4), dtype=tf.float32, name='dense_2_target_30')]\n",
            "INFO:tensorflow:Overriding default placeholder.\n",
            "INFO:tensorflow:Remapping placeholder for title_input\n",
            "INFO:tensorflow:Remapping placeholder for content_input\n",
            "INFO:tensorflow:Started compiling\n",
            "INFO:tensorflow:Finished compiling. Time elapsed: 13.865395069122314 secs\n",
            "94208/94319 [============================>.] - ETA: 0s - loss: 1.3804 - acc: 0.2835INFO:tensorflow:New input shapes; (re-)compiling: mode=eval (# of cores 8), [TensorSpec(shape=(64,), dtype=tf.int32, name='core_id_10'), TensorSpec(shape=(64, 13), dtype=tf.float32, name='title_input_10'), TensorSpec(shape=(64, 1598), dtype=tf.float32, name='content_input_10'), TensorSpec(shape=(64, 4), dtype=tf.float32, name='dense_2_target_30')]\n",
            "INFO:tensorflow:Overriding default placeholder.\n",
            "INFO:tensorflow:Remapping placeholder for title_input\n",
            "INFO:tensorflow:Remapping placeholder for content_input\n",
            "INFO:tensorflow:Started compiling\n",
            "INFO:tensorflow:Finished compiling. Time elapsed: 19.81184411048889 secs\n",
            "INFO:tensorflow:New input shapes; (re-)compiling: mode=eval (# of cores 8), [TensorSpec(shape=(60,), dtype=tf.int32, name='core_id_10'), TensorSpec(shape=(60, 13), dtype=tf.float32, name='title_input_10'), TensorSpec(shape=(60, 1598), dtype=tf.float32, name='content_input_10'), TensorSpec(shape=(60, 4), dtype=tf.float32, name='dense_2_target_30')]\n",
            "INFO:tensorflow:Overriding default placeholder.\n",
            "INFO:tensorflow:Remapping placeholder for title_input\n",
            "INFO:tensorflow:Remapping placeholder for content_input\n",
            "INFO:tensorflow:Started compiling\n",
            "INFO:tensorflow:Finished compiling. Time elapsed: 24.761150598526 secs\n",
            "94319/94319 [==============================] - 368s 4ms/sample - loss: 1.3803 - acc: 0.2836 - val_loss: 1.3726 - val_acc: 0.3385\n",
            "Epoch 2/30\n",
            "94319/94319 [==============================] - 236s 3ms/sample - loss: 1.3623 - acc: 0.3644 - val_loss: 1.3477 - val_acc: 0.4243\n",
            "Epoch 3/30\n",
            "94319/94319 [==============================] - 236s 3ms/sample - loss: 1.3311 - acc: 0.4291 - val_loss: 1.3056 - val_acc: 0.4834\n",
            "Epoch 4/30\n",
            "94319/94319 [==============================] - 236s 3ms/sample - loss: 1.2780 - acc: 0.4731 - val_loss: 1.2294 - val_acc: 0.5227\n",
            "Epoch 5/30\n",
            "94319/94319 [==============================] - 236s 2ms/sample - loss: 1.1821 - acc: 0.5119 - val_loss: 1.1197 - val_acc: 0.5279\n",
            "INFO:tensorflow:New input shapes; (re-)compiling: mode=eval (# of cores 8), [TensorSpec(shape=(4,), dtype=tf.int32, name='core_id_10'), TensorSpec(shape=(4, 13), dtype=tf.float32, name='title_input_10'), TensorSpec(shape=(4, 1598), dtype=tf.float32, name='content_input_10'), TensorSpec(shape=(4, 4), dtype=tf.float32, name='dense_2_target_30')]\n",
            "INFO:tensorflow:Overriding default placeholder.\n",
            "INFO:tensorflow:Remapping placeholder for title_input\n",
            "INFO:tensorflow:Remapping placeholder for content_input\n",
            "INFO:tensorflow:Started compiling\n",
            "INFO:tensorflow:Finished compiling. Time elapsed: 30.671831846237183 secs\n",
            "57728/57747 [============================>.] - ETA: 0s - loss: 1.1146 - acc: 0.5342INFO:tensorflow:New input shapes; (re-)compiling: mode=eval (# of cores 8), [TensorSpec(shape=(2,), dtype=tf.int32, name='core_id_10'), TensorSpec(shape=(2, 13), dtype=tf.float32, name='title_input_10'), TensorSpec(shape=(2, 1598), dtype=tf.float32, name='content_input_10'), TensorSpec(shape=(2, 4), dtype=tf.float32, name='dense_2_target_30')]\n",
            "INFO:tensorflow:Overriding default placeholder.\n",
            "INFO:tensorflow:Remapping placeholder for title_input\n",
            "INFO:tensorflow:Remapping placeholder for content_input\n",
            "INFO:tensorflow:Started compiling\n",
            "INFO:tensorflow:Finished compiling. Time elapsed: 38.919755935668945 secs\n",
            "57747/57747 [==============================] - 343s 6ms/sample - loss: 1.1146 - acc: 0.5342\n",
            "INFO:tensorflow:Querying Tensorflow master (grpc://10.29.117.202:8470) for TPU system metadata.\n",
            "INFO:tensorflow:Found TPU system:\n",
            "INFO:tensorflow:*** Num TPU Cores: 8\n",
            "INFO:tensorflow:*** Num TPU Workers: 1\n",
            "INFO:tensorflow:*** Num TPU Cores Per Worker: 8\n",
            "INFO:tensorflow:*** Available Device: _DeviceAttributes(/job:worker/replica:0/task:0/device:CPU:0, CPU, -1, 16833865400973248794)\n",
            "INFO:tensorflow:*** Available Device: _DeviceAttributes(/job:worker/replica:0/task:0/device:XLA_CPU:0, XLA_CPU, 17179869184, 13755240218284278158)\n",
            "INFO:tensorflow:*** Available Device: _DeviceAttributes(/job:worker/replica:0/task:0/device:TPU:0, TPU, 17179869184, 12945550925011558216)\n",
            "INFO:tensorflow:*** Available Device: _DeviceAttributes(/job:worker/replica:0/task:0/device:TPU:1, TPU, 17179869184, 2350143857022530921)\n",
            "INFO:tensorflow:*** Available Device: _DeviceAttributes(/job:worker/replica:0/task:0/device:TPU:2, TPU, 17179869184, 13627641760753111972)\n",
            "INFO:tensorflow:*** Available Device: _DeviceAttributes(/job:worker/replica:0/task:0/device:TPU:3, TPU, 17179869184, 17216974069002826136)\n",
            "INFO:tensorflow:*** Available Device: _DeviceAttributes(/job:worker/replica:0/task:0/device:TPU:4, TPU, 17179869184, 15350308176957800762)\n",
            "INFO:tensorflow:*** Available Device: _DeviceAttributes(/job:worker/replica:0/task:0/device:TPU:5, TPU, 17179869184, 5750048082783041981)\n",
            "INFO:tensorflow:*** Available Device: _DeviceAttributes(/job:worker/replica:0/task:0/device:TPU:6, TPU, 17179869184, 13891274772997751420)\n",
            "INFO:tensorflow:*** Available Device: _DeviceAttributes(/job:worker/replica:0/task:0/device:TPU:7, TPU, 17179869184, 16251816654190509085)\n",
            "INFO:tensorflow:*** Available Device: _DeviceAttributes(/job:worker/replica:0/task:0/device:TPU_SYSTEM:0, TPU_SYSTEM, 17179869184, 3002664826571791369)\n",
            "WARNING:tensorflow:tpu_model (from tensorflow.contrib.tpu.python.tpu.keras_support) is experimental and may change or be removed at any time, and without warning.\n",
            "Train on 94319 samples, validate on 40423 samples\n",
            "Epoch 1/30\n",
            "INFO:tensorflow:New input shapes; (re-)compiling: mode=train (# of cores 8), [TensorSpec(shape=(64,), dtype=tf.int32, name='core_id0'), TensorSpec(shape=(64, 13), dtype=tf.float32, name='title_input_10'), TensorSpec(shape=(64, 1598), dtype=tf.float32, name='content_input_10'), TensorSpec(shape=(64, 4), dtype=tf.float32, name='dense_2_target_30')]\n",
            "INFO:tensorflow:Overriding default placeholder.\n",
            "INFO:tensorflow:Remapping placeholder for title_input\n",
            "INFO:tensorflow:Remapping placeholder for content_input\n",
            "INFO:tensorflow:Started compiling\n",
            "INFO:tensorflow:Finished compiling. Time elapsed: 14.048860311508179 secs\n",
            "INFO:tensorflow:Setting weights on TPU model.\n",
            "93696/94319 [============================>.] - ETA: 1s - loss: 1.1459 - acc: 0.4977INFO:tensorflow:New input shapes; (re-)compiling: mode=train (# of cores 8), [TensorSpec(shape=(13,), dtype=tf.int32, name='core_id0'), TensorSpec(shape=(13, 13), dtype=tf.float32, name='title_input_10'), TensorSpec(shape=(13, 1598), dtype=tf.float32, name='content_input_10'), TensorSpec(shape=(13, 4), dtype=tf.float32, name='dense_2_target_30')]\n",
            "INFO:tensorflow:Overriding default placeholder.\n",
            "INFO:tensorflow:Remapping placeholder for title_input\n",
            "INFO:tensorflow:Remapping placeholder for content_input\n",
            "INFO:tensorflow:Started compiling\n",
            "INFO:tensorflow:Finished compiling. Time elapsed: 14.185973882675171 secs\n",
            "94208/94319 [============================>.] - ETA: 0s - loss: 1.1448 - acc: 0.4982INFO:tensorflow:New input shapes; (re-)compiling: mode=eval (# of cores 8), [TensorSpec(shape=(64,), dtype=tf.int32, name='core_id_10'), TensorSpec(shape=(64, 13), dtype=tf.float32, name='title_input_10'), TensorSpec(shape=(64, 1598), dtype=tf.float32, name='content_input_10'), TensorSpec(shape=(64, 4), dtype=tf.float32, name='dense_2_target_30')]\n",
            "INFO:tensorflow:Overriding default placeholder.\n",
            "INFO:tensorflow:Remapping placeholder for title_input\n",
            "INFO:tensorflow:Remapping placeholder for content_input\n",
            "INFO:tensorflow:Started compiling\n",
            "INFO:tensorflow:Finished compiling. Time elapsed: 21.166199922561646 secs\n",
            "INFO:tensorflow:New input shapes; (re-)compiling: mode=eval (# of cores 8), [TensorSpec(shape=(60,), dtype=tf.int32, name='core_id_10'), TensorSpec(shape=(60, 13), dtype=tf.float32, name='title_input_10'), TensorSpec(shape=(60, 1598), dtype=tf.float32, name='content_input_10'), TensorSpec(shape=(60, 4), dtype=tf.float32, name='dense_2_target_30')]\n",
            "INFO:tensorflow:Overriding default placeholder.\n",
            "INFO:tensorflow:Remapping placeholder for title_input\n",
            "INFO:tensorflow:Remapping placeholder for content_input\n",
            "INFO:tensorflow:Started compiling\n",
            "INFO:tensorflow:Finished compiling. Time elapsed: 25.73684000968933 secs\n",
            "94319/94319 [==============================] - 368s 4ms/sample - loss: 1.1445 - acc: 0.4984 - val_loss: 0.9465 - val_acc: 0.5847\n",
            "Epoch 2/30\n",
            "94319/94319 [==============================] - 236s 3ms/sample - loss: 0.8208 - acc: 0.6679 - val_loss: 0.7495 - val_acc: 0.6936\n",
            "Epoch 3/30\n",
            "94319/94319 [==============================] - 236s 3ms/sample - loss: 0.7304 - acc: 0.7077 - val_loss: 0.6825 - val_acc: 0.7310\n",
            "Epoch 4/30\n",
            "94319/94319 [==============================] - 237s 3ms/sample - loss: 0.6694 - acc: 0.7337 - val_loss: 0.6468 - val_acc: 0.7456\n",
            "INFO:tensorflow:New input shapes; (re-)compiling: mode=eval (# of cores 8), [TensorSpec(shape=(4,), dtype=tf.int32, name='core_id_10'), TensorSpec(shape=(4, 13), dtype=tf.float32, name='title_input_10'), TensorSpec(shape=(4, 1598), dtype=tf.float32, name='content_input_10'), TensorSpec(shape=(4, 4), dtype=tf.float32, name='dense_2_target_30')]\n",
            "INFO:tensorflow:Overriding default placeholder.\n",
            "INFO:tensorflow:Remapping placeholder for title_input\n",
            "INFO:tensorflow:Remapping placeholder for content_input\n",
            "INFO:tensorflow:Started compiling\n",
            "INFO:tensorflow:Finished compiling. Time elapsed: 31.928396701812744 secs\n",
            "57728/57747 [============================>.] - ETA: 0s - loss: 0.6463 - acc: 0.7471INFO:tensorflow:New input shapes; (re-)compiling: mode=eval (# of cores 8), [TensorSpec(shape=(2,), dtype=tf.int32, name='core_id_10'), TensorSpec(shape=(2, 13), dtype=tf.float32, name='title_input_10'), TensorSpec(shape=(2, 1598), dtype=tf.float32, name='content_input_10'), TensorSpec(shape=(2, 4), dtype=tf.float32, name='dense_2_target_30')]\n",
            "INFO:tensorflow:Overriding default placeholder.\n",
            "INFO:tensorflow:Remapping placeholder for title_input\n",
            "INFO:tensorflow:Remapping placeholder for content_input\n",
            "INFO:tensorflow:Started compiling\n",
            "INFO:tensorflow:Finished compiling. Time elapsed: 39.04683804512024 secs\n",
            "57747/57747 [==============================] - 346s 6ms/sample - loss: 0.6464 - acc: 0.7471\n",
            "INFO:tensorflow:Querying Tensorflow master (grpc://10.29.117.202:8470) for TPU system metadata.\n",
            "INFO:tensorflow:Found TPU system:\n",
            "INFO:tensorflow:*** Num TPU Cores: 8\n",
            "INFO:tensorflow:*** Num TPU Workers: 1\n",
            "INFO:tensorflow:*** Num TPU Cores Per Worker: 8\n",
            "INFO:tensorflow:*** Available Device: _DeviceAttributes(/job:worker/replica:0/task:0/device:CPU:0, CPU, -1, 16833865400973248794)\n",
            "INFO:tensorflow:*** Available Device: _DeviceAttributes(/job:worker/replica:0/task:0/device:XLA_CPU:0, XLA_CPU, 17179869184, 13755240218284278158)\n",
            "INFO:tensorflow:*** Available Device: _DeviceAttributes(/job:worker/replica:0/task:0/device:TPU:0, TPU, 17179869184, 12945550925011558216)\n",
            "INFO:tensorflow:*** Available Device: _DeviceAttributes(/job:worker/replica:0/task:0/device:TPU:1, TPU, 17179869184, 2350143857022530921)\n",
            "INFO:tensorflow:*** Available Device: _DeviceAttributes(/job:worker/replica:0/task:0/device:TPU:2, TPU, 17179869184, 13627641760753111972)\n",
            "INFO:tensorflow:*** Available Device: _DeviceAttributes(/job:worker/replica:0/task:0/device:TPU:3, TPU, 17179869184, 17216974069002826136)\n",
            "INFO:tensorflow:*** Available Device: _DeviceAttributes(/job:worker/replica:0/task:0/device:TPU:4, TPU, 17179869184, 15350308176957800762)\n",
            "INFO:tensorflow:*** Available Device: _DeviceAttributes(/job:worker/replica:0/task:0/device:TPU:5, TPU, 17179869184, 5750048082783041981)\n",
            "INFO:tensorflow:*** Available Device: _DeviceAttributes(/job:worker/replica:0/task:0/device:TPU:6, TPU, 17179869184, 13891274772997751420)\n",
            "INFO:tensorflow:*** Available Device: _DeviceAttributes(/job:worker/replica:0/task:0/device:TPU:7, TPU, 17179869184, 16251816654190509085)\n",
            "INFO:tensorflow:*** Available Device: _DeviceAttributes(/job:worker/replica:0/task:0/device:TPU_SYSTEM:0, TPU_SYSTEM, 17179869184, 3002664826571791369)\n",
            "WARNING:tensorflow:tpu_model (from tensorflow.contrib.tpu.python.tpu.keras_support) is experimental and may change or be removed at any time, and without warning.\n",
            "Train on 94319 samples, validate on 40423 samples\n",
            "Epoch 1/30\n",
            "INFO:tensorflow:New input shapes; (re-)compiling: mode=train (# of cores 8), [TensorSpec(shape=(64,), dtype=tf.int32, name='core_id0'), TensorSpec(shape=(64, 13), dtype=tf.float32, name='title_input_10'), TensorSpec(shape=(64, 1598), dtype=tf.float32, name='content_input_10'), TensorSpec(shape=(64, 4), dtype=tf.float32, name='dense_2_target_30')]\n",
            "INFO:tensorflow:Overriding default placeholder.\n",
            "INFO:tensorflow:Remapping placeholder for title_input\n",
            "INFO:tensorflow:Remapping placeholder for content_input\n",
            "INFO:tensorflow:Started compiling\n",
            "INFO:tensorflow:Finished compiling. Time elapsed: 14.101861476898193 secs\n",
            "INFO:tensorflow:Setting weights on TPU model.\n",
            "93696/94319 [============================>.] - ETA: 1s - loss: 1.1122 - acc: 0.5165INFO:tensorflow:New input shapes; (re-)compiling: mode=train (# of cores 8), [TensorSpec(shape=(13,), dtype=tf.int32, name='core_id0'), TensorSpec(shape=(13, 13), dtype=tf.float32, name='title_input_10'), TensorSpec(shape=(13, 1598), dtype=tf.float32, name='content_input_10'), TensorSpec(shape=(13, 4), dtype=tf.float32, name='dense_2_target_30')]\n",
            "INFO:tensorflow:Overriding default placeholder.\n",
            "INFO:tensorflow:Remapping placeholder for title_input\n",
            "INFO:tensorflow:Remapping placeholder for content_input\n",
            "INFO:tensorflow:Started compiling\n",
            "INFO:tensorflow:Finished compiling. Time elapsed: 14.280408382415771 secs\n",
            "94208/94319 [============================>.] - ETA: 0s - loss: 1.1106 - acc: 0.5174INFO:tensorflow:New input shapes; (re-)compiling: mode=eval (# of cores 8), [TensorSpec(shape=(64,), dtype=tf.int32, name='core_id_10'), TensorSpec(shape=(64, 13), dtype=tf.float32, name='title_input_10'), TensorSpec(shape=(64, 1598), dtype=tf.float32, name='content_input_10'), TensorSpec(shape=(64, 4), dtype=tf.float32, name='dense_2_target_30')]\n",
            "INFO:tensorflow:Overriding default placeholder.\n",
            "INFO:tensorflow:Remapping placeholder for title_input\n",
            "INFO:tensorflow:Remapping placeholder for content_input\n",
            "INFO:tensorflow:Started compiling\n",
            "INFO:tensorflow:Finished compiling. Time elapsed: 21.406819105148315 secs\n",
            "INFO:tensorflow:New input shapes; (re-)compiling: mode=eval (# of cores 8), [TensorSpec(shape=(60,), dtype=tf.int32, name='core_id_10'), TensorSpec(shape=(60, 13), dtype=tf.float32, name='title_input_10'), TensorSpec(shape=(60, 1598), dtype=tf.float32, name='content_input_10'), TensorSpec(shape=(60, 4), dtype=tf.float32, name='dense_2_target_30')]\n",
            "INFO:tensorflow:Overriding default placeholder.\n",
            "INFO:tensorflow:Remapping placeholder for title_input\n",
            "INFO:tensorflow:Remapping placeholder for content_input\n",
            "INFO:tensorflow:Started compiling\n",
            "INFO:tensorflow:Finished compiling. Time elapsed: 25.83915901184082 secs\n",
            "94319/94319 [==============================] - 372s 4ms/sample - loss: 1.1102 - acc: 0.5175 - val_loss: 0.9009 - val_acc: 0.6216\n",
            "Epoch 2/30\n",
            "94319/94319 [==============================] - 237s 3ms/sample - loss: 0.7933 - acc: 0.6794 - val_loss: 0.7816 - val_acc: 0.6655\n",
            "Epoch 3/30\n",
            "94319/94319 [==============================] - 237s 3ms/sample - loss: 0.7018 - acc: 0.7193 - val_loss: 0.6918 - val_acc: 0.7277\n",
            "Epoch 4/30\n",
            "94319/94319 [==============================] - 237s 3ms/sample - loss: 0.6478 - acc: 0.7425 - val_loss: 0.6105 - val_acc: 0.7571\n",
            "Epoch 5/30\n",
            "94319/94319 [==============================] - 236s 3ms/sample - loss: 0.6102 - acc: 0.7594 - val_loss: 0.6427 - val_acc: 0.7363\n",
            "INFO:tensorflow:New input shapes; (re-)compiling: mode=eval (# of cores 8), [TensorSpec(shape=(4,), dtype=tf.int32, name='core_id_10'), TensorSpec(shape=(4, 13), dtype=tf.float32, name='title_input_10'), TensorSpec(shape=(4, 1598), dtype=tf.float32, name='content_input_10'), TensorSpec(shape=(4, 4), dtype=tf.float32, name='dense_2_target_30')]\n",
            "INFO:tensorflow:Overriding default placeholder.\n",
            "INFO:tensorflow:Remapping placeholder for title_input\n",
            "INFO:tensorflow:Remapping placeholder for content_input\n",
            "INFO:tensorflow:Started compiling\n",
            "INFO:tensorflow:Finished compiling. Time elapsed: 31.17102026939392 secs\n",
            "57728/57747 [============================>.] - ETA: 0s - loss: 0.6423 - acc: 0.7372INFO:tensorflow:New input shapes; (re-)compiling: mode=eval (# of cores 8), [TensorSpec(shape=(2,), dtype=tf.int32, name='core_id_10'), TensorSpec(shape=(2, 13), dtype=tf.float32, name='title_input_10'), TensorSpec(shape=(2, 1598), dtype=tf.float32, name='content_input_10'), TensorSpec(shape=(2, 4), dtype=tf.float32, name='dense_2_target_30')]\n",
            "INFO:tensorflow:Overriding default placeholder.\n",
            "INFO:tensorflow:Remapping placeholder for title_input\n",
            "INFO:tensorflow:Remapping placeholder for content_input\n",
            "INFO:tensorflow:Started compiling\n",
            "INFO:tensorflow:Finished compiling. Time elapsed: 37.354026079177856 secs\n",
            "57747/57747 [==============================] - 343s 6ms/sample - loss: 0.6424 - acc: 0.7372\n",
            "INFO:tensorflow:Querying Tensorflow master (grpc://10.29.117.202:8470) for TPU system metadata.\n",
            "INFO:tensorflow:Found TPU system:\n",
            "INFO:tensorflow:*** Num TPU Cores: 8\n",
            "INFO:tensorflow:*** Num TPU Workers: 1\n",
            "INFO:tensorflow:*** Num TPU Cores Per Worker: 8\n",
            "INFO:tensorflow:*** Available Device: _DeviceAttributes(/job:worker/replica:0/task:0/device:CPU:0, CPU, -1, 16833865400973248794)\n",
            "INFO:tensorflow:*** Available Device: _DeviceAttributes(/job:worker/replica:0/task:0/device:XLA_CPU:0, XLA_CPU, 17179869184, 13755240218284278158)\n",
            "INFO:tensorflow:*** Available Device: _DeviceAttributes(/job:worker/replica:0/task:0/device:TPU:0, TPU, 17179869184, 12945550925011558216)\n",
            "INFO:tensorflow:*** Available Device: _DeviceAttributes(/job:worker/replica:0/task:0/device:TPU:1, TPU, 17179869184, 2350143857022530921)\n",
            "INFO:tensorflow:*** Available Device: _DeviceAttributes(/job:worker/replica:0/task:0/device:TPU:2, TPU, 17179869184, 13627641760753111972)\n",
            "INFO:tensorflow:*** Available Device: _DeviceAttributes(/job:worker/replica:0/task:0/device:TPU:3, TPU, 17179869184, 17216974069002826136)\n",
            "INFO:tensorflow:*** Available Device: _DeviceAttributes(/job:worker/replica:0/task:0/device:TPU:4, TPU, 17179869184, 15350308176957800762)\n",
            "INFO:tensorflow:*** Available Device: _DeviceAttributes(/job:worker/replica:0/task:0/device:TPU:5, TPU, 17179869184, 5750048082783041981)\n",
            "INFO:tensorflow:*** Available Device: _DeviceAttributes(/job:worker/replica:0/task:0/device:TPU:6, TPU, 17179869184, 13891274772997751420)\n",
            "INFO:tensorflow:*** Available Device: _DeviceAttributes(/job:worker/replica:0/task:0/device:TPU:7, TPU, 17179869184, 16251816654190509085)\n",
            "INFO:tensorflow:*** Available Device: _DeviceAttributes(/job:worker/replica:0/task:0/device:TPU_SYSTEM:0, TPU_SYSTEM, 17179869184, 3002664826571791369)\n",
            "WARNING:tensorflow:tpu_model (from tensorflow.contrib.tpu.python.tpu.keras_support) is experimental and may change or be removed at any time, and without warning.\n",
            "Train on 94319 samples, validate on 40423 samples\n",
            "Epoch 1/30\n",
            "INFO:tensorflow:New input shapes; (re-)compiling: mode=train (# of cores 8), [TensorSpec(shape=(64,), dtype=tf.int32, name='core_id0'), TensorSpec(shape=(64, 13), dtype=tf.float32, name='title_input_10'), TensorSpec(shape=(64, 1598), dtype=tf.float32, name='content_input_10'), TensorSpec(shape=(64, 4), dtype=tf.float32, name='dense_2_target_30')]\n",
            "INFO:tensorflow:Overriding default placeholder.\n",
            "INFO:tensorflow:Remapping placeholder for title_input\n",
            "INFO:tensorflow:Remapping placeholder for content_input\n",
            "INFO:tensorflow:Started compiling\n",
            "INFO:tensorflow:Finished compiling. Time elapsed: 14.376327753067017 secs\n",
            "INFO:tensorflow:Setting weights on TPU model.\n",
            "93696/94319 [============================>.] - ETA: 1s - loss: 1.1302 - acc: 0.5077INFO:tensorflow:New input shapes; (re-)compiling: mode=train (# of cores 8), [TensorSpec(shape=(13,), dtype=tf.int32, name='core_id0'), TensorSpec(shape=(13, 13), dtype=tf.float32, name='title_input_10'), TensorSpec(shape=(13, 1598), dtype=tf.float32, name='content_input_10'), TensorSpec(shape=(13, 4), dtype=tf.float32, name='dense_2_target_30')]\n",
            "INFO:tensorflow:Overriding default placeholder.\n",
            "INFO:tensorflow:Remapping placeholder for title_input\n",
            "INFO:tensorflow:Remapping placeholder for content_input\n",
            "INFO:tensorflow:Started compiling\n",
            "INFO:tensorflow:Finished compiling. Time elapsed: 14.568130254745483 secs\n",
            "94208/94319 [============================>.] - ETA: 0s - loss: 1.1287 - acc: 0.5084INFO:tensorflow:New input shapes; (re-)compiling: mode=eval (# of cores 8), [TensorSpec(shape=(64,), dtype=tf.int32, name='core_id_10'), TensorSpec(shape=(64, 13), dtype=tf.float32, name='title_input_10'), TensorSpec(shape=(64, 1598), dtype=tf.float32, name='content_input_10'), TensorSpec(shape=(64, 4), dtype=tf.float32, name='dense_2_target_30')]\n",
            "INFO:tensorflow:Overriding default placeholder.\n",
            "INFO:tensorflow:Remapping placeholder for title_input\n",
            "INFO:tensorflow:Remapping placeholder for content_input\n",
            "INFO:tensorflow:Started compiling\n",
            "INFO:tensorflow:Finished compiling. Time elapsed: 21.16223955154419 secs\n",
            "INFO:tensorflow:New input shapes; (re-)compiling: mode=eval (# of cores 8), [TensorSpec(shape=(60,), dtype=tf.int32, name='core_id_10'), TensorSpec(shape=(60, 13), dtype=tf.float32, name='title_input_10'), TensorSpec(shape=(60, 1598), dtype=tf.float32, name='content_input_10'), TensorSpec(shape=(60, 4), dtype=tf.float32, name='dense_2_target_30')]\n",
            "INFO:tensorflow:Overriding default placeholder.\n",
            "INFO:tensorflow:Remapping placeholder for title_input\n",
            "INFO:tensorflow:Remapping placeholder for content_input\n",
            "INFO:tensorflow:Started compiling\n",
            "INFO:tensorflow:Finished compiling. Time elapsed: 26.125426054000854 secs\n",
            "94319/94319 [==============================] - 372s 4ms/sample - loss: 1.1283 - acc: 0.5086 - val_loss: 0.9220 - val_acc: 0.6119\n",
            "Epoch 2/30\n",
            "94319/94319 [==============================] - 236s 3ms/sample - loss: 0.7902 - acc: 0.6780 - val_loss: 0.7645 - val_acc: 0.6922\n",
            "Epoch 3/30\n",
            "94319/94319 [==============================] - 237s 3ms/sample - loss: 0.7043 - acc: 0.7192 - val_loss: 0.6738 - val_acc: 0.7426\n",
            "Epoch 4/30\n",
            "94319/94319 [==============================] - 236s 3ms/sample - loss: 0.6512 - acc: 0.7404 - val_loss: 0.6146 - val_acc: 0.7563\n",
            "Epoch 5/30\n",
            "94319/94319 [==============================] - 236s 3ms/sample - loss: 0.6103 - acc: 0.7589 - val_loss: 0.7238 - val_acc: 0.6983\n",
            "INFO:tensorflow:New input shapes; (re-)compiling: mode=eval (# of cores 8), [TensorSpec(shape=(4,), dtype=tf.int32, name='core_id_10'), TensorSpec(shape=(4, 13), dtype=tf.float32, name='title_input_10'), TensorSpec(shape=(4, 1598), dtype=tf.float32, name='content_input_10'), TensorSpec(shape=(4, 4), dtype=tf.float32, name='dense_2_target_30')]\n",
            "INFO:tensorflow:Overriding default placeholder.\n",
            "INFO:tensorflow:Remapping placeholder for title_input\n",
            "INFO:tensorflow:Remapping placeholder for content_input\n",
            "INFO:tensorflow:Started compiling\n",
            "INFO:tensorflow:Finished compiling. Time elapsed: 32.06343746185303 secs\n",
            "57728/57747 [============================>.] - ETA: 0s - loss: 0.7214 - acc: 0.7000INFO:tensorflow:New input shapes; (re-)compiling: mode=eval (# of cores 8), [TensorSpec(shape=(2,), dtype=tf.int32, name='core_id_10'), TensorSpec(shape=(2, 13), dtype=tf.float32, name='title_input_10'), TensorSpec(shape=(2, 1598), dtype=tf.float32, name='content_input_10'), TensorSpec(shape=(2, 4), dtype=tf.float32, name='dense_2_target_30')]\n",
            "INFO:tensorflow:Overriding default placeholder.\n",
            "INFO:tensorflow:Remapping placeholder for title_input\n",
            "INFO:tensorflow:Remapping placeholder for content_input\n",
            "INFO:tensorflow:Started compiling\n",
            "INFO:tensorflow:Finished compiling. Time elapsed: 39.11476922035217 secs\n",
            "57747/57747 [==============================] - 346s 6ms/sample - loss: 0.7214 - acc: 0.6999\n",
            "INFO:tensorflow:Querying Tensorflow master (grpc://10.29.117.202:8470) for TPU system metadata.\n",
            "INFO:tensorflow:Found TPU system:\n",
            "INFO:tensorflow:*** Num TPU Cores: 8\n",
            "INFO:tensorflow:*** Num TPU Workers: 1\n",
            "INFO:tensorflow:*** Num TPU Cores Per Worker: 8\n",
            "INFO:tensorflow:*** Available Device: _DeviceAttributes(/job:worker/replica:0/task:0/device:CPU:0, CPU, -1, 16833865400973248794)\n",
            "INFO:tensorflow:*** Available Device: _DeviceAttributes(/job:worker/replica:0/task:0/device:XLA_CPU:0, XLA_CPU, 17179869184, 13755240218284278158)\n",
            "INFO:tensorflow:*** Available Device: _DeviceAttributes(/job:worker/replica:0/task:0/device:TPU:0, TPU, 17179869184, 12945550925011558216)\n",
            "INFO:tensorflow:*** Available Device: _DeviceAttributes(/job:worker/replica:0/task:0/device:TPU:1, TPU, 17179869184, 2350143857022530921)\n",
            "INFO:tensorflow:*** Available Device: _DeviceAttributes(/job:worker/replica:0/task:0/device:TPU:2, TPU, 17179869184, 13627641760753111972)\n",
            "INFO:tensorflow:*** Available Device: _DeviceAttributes(/job:worker/replica:0/task:0/device:TPU:3, TPU, 17179869184, 17216974069002826136)\n",
            "INFO:tensorflow:*** Available Device: _DeviceAttributes(/job:worker/replica:0/task:0/device:TPU:4, TPU, 17179869184, 15350308176957800762)\n",
            "INFO:tensorflow:*** Available Device: _DeviceAttributes(/job:worker/replica:0/task:0/device:TPU:5, TPU, 17179869184, 5750048082783041981)\n",
            "INFO:tensorflow:*** Available Device: _DeviceAttributes(/job:worker/replica:0/task:0/device:TPU:6, TPU, 17179869184, 13891274772997751420)\n",
            "INFO:tensorflow:*** Available Device: _DeviceAttributes(/job:worker/replica:0/task:0/device:TPU:7, TPU, 17179869184, 16251816654190509085)\n",
            "INFO:tensorflow:*** Available Device: _DeviceAttributes(/job:worker/replica:0/task:0/device:TPU_SYSTEM:0, TPU_SYSTEM, 17179869184, 3002664826571791369)\n",
            "WARNING:tensorflow:tpu_model (from tensorflow.contrib.tpu.python.tpu.keras_support) is experimental and may change or be removed at any time, and without warning.\n",
            "Train on 94319 samples, validate on 40423 samples\n",
            "Epoch 1/30\n",
            "INFO:tensorflow:New input shapes; (re-)compiling: mode=train (# of cores 8), [TensorSpec(shape=(64,), dtype=tf.int32, name='core_id0'), TensorSpec(shape=(64, 13), dtype=tf.float32, name='title_input_10'), TensorSpec(shape=(64, 1598), dtype=tf.float32, name='content_input_10'), TensorSpec(shape=(64, 4), dtype=tf.float32, name='dense_2_target_30')]\n",
            "INFO:tensorflow:Overriding default placeholder.\n",
            "INFO:tensorflow:Remapping placeholder for title_input\n",
            "INFO:tensorflow:Remapping placeholder for content_input\n",
            "INFO:tensorflow:Started compiling\n",
            "INFO:tensorflow:Finished compiling. Time elapsed: 14.47035026550293 secs\n",
            "INFO:tensorflow:Setting weights on TPU model.\n",
            "93696/94319 [============================>.] - ETA: 1s - loss: 1.3834 - acc: 0.2898INFO:tensorflow:New input shapes; (re-)compiling: mode=train (# of cores 8), [TensorSpec(shape=(13,), dtype=tf.int32, name='core_id0'), TensorSpec(shape=(13, 13), dtype=tf.float32, name='title_input_10'), TensorSpec(shape=(13, 1598), dtype=tf.float32, name='content_input_10'), TensorSpec(shape=(13, 4), dtype=tf.float32, name='dense_2_target_30')]\n",
            "INFO:tensorflow:Overriding default placeholder.\n",
            "INFO:tensorflow:Remapping placeholder for title_input\n",
            "INFO:tensorflow:Remapping placeholder for content_input\n",
            "INFO:tensorflow:Started compiling\n",
            "INFO:tensorflow:Finished compiling. Time elapsed: 13.842353582382202 secs\n",
            "94208/94319 [============================>.] - ETA: 0s - loss: 1.3834 - acc: 0.2898INFO:tensorflow:New input shapes; (re-)compiling: mode=eval (# of cores 8), [TensorSpec(shape=(64,), dtype=tf.int32, name='core_id_10'), TensorSpec(shape=(64, 13), dtype=tf.float32, name='title_input_10'), TensorSpec(shape=(64, 1598), dtype=tf.float32, name='content_input_10'), TensorSpec(shape=(64, 4), dtype=tf.float32, name='dense_2_target_30')]\n",
            "INFO:tensorflow:Overriding default placeholder.\n",
            "INFO:tensorflow:Remapping placeholder for title_input\n",
            "INFO:tensorflow:Remapping placeholder for content_input\n",
            "INFO:tensorflow:Started compiling\n",
            "INFO:tensorflow:Finished compiling. Time elapsed: 21.475552082061768 secs\n",
            "INFO:tensorflow:New input shapes; (re-)compiling: mode=eval (# of cores 8), [TensorSpec(shape=(60,), dtype=tf.int32, name='core_id_10'), TensorSpec(shape=(60, 13), dtype=tf.float32, name='title_input_10'), TensorSpec(shape=(60, 1598), dtype=tf.float32, name='content_input_10'), TensorSpec(shape=(60, 4), dtype=tf.float32, name='dense_2_target_30')]\n",
            "INFO:tensorflow:Overriding default placeholder.\n",
            "INFO:tensorflow:Remapping placeholder for title_input\n",
            "INFO:tensorflow:Remapping placeholder for content_input\n",
            "INFO:tensorflow:Started compiling\n",
            "INFO:tensorflow:Finished compiling. Time elapsed: 26.123135805130005 secs\n",
            "94319/94319 [==============================] - 369s 4ms/sample - loss: 1.3834 - acc: 0.2899 - val_loss: 1.3802 - val_acc: 0.3368\n",
            "Epoch 2/30\n",
            "94319/94319 [==============================] - 236s 3ms/sample - loss: 1.3784 - acc: 0.3208 - val_loss: 1.3748 - val_acc: 0.3608\n",
            "Epoch 3/30\n",
            "94319/94319 [==============================] - 236s 3ms/sample - loss: 1.3730 - acc: 0.3416 - val_loss: 1.3686 - val_acc: 0.3810\n",
            "INFO:tensorflow:New input shapes; (re-)compiling: mode=eval (# of cores 8), [TensorSpec(shape=(4,), dtype=tf.int32, name='core_id_10'), TensorSpec(shape=(4, 13), dtype=tf.float32, name='title_input_10'), TensorSpec(shape=(4, 1598), dtype=tf.float32, name='content_input_10'), TensorSpec(shape=(4, 4), dtype=tf.float32, name='dense_2_target_30')]\n",
            "INFO:tensorflow:Overriding default placeholder.\n",
            "INFO:tensorflow:Remapping placeholder for title_input\n",
            "INFO:tensorflow:Remapping placeholder for content_input\n",
            "INFO:tensorflow:Started compiling\n",
            "INFO:tensorflow:Finished compiling. Time elapsed: 31.772037267684937 secs\n",
            "57728/57747 [============================>.] - ETA: 0s - loss: 1.3687 - acc: 0.3808INFO:tensorflow:New input shapes; (re-)compiling: mode=eval (# of cores 8), [TensorSpec(shape=(2,), dtype=tf.int32, name='core_id_10'), TensorSpec(shape=(2, 13), dtype=tf.float32, name='title_input_10'), TensorSpec(shape=(2, 1598), dtype=tf.float32, name='content_input_10'), TensorSpec(shape=(2, 4), dtype=tf.float32, name='dense_2_target_30')]\n",
            "INFO:tensorflow:Overriding default placeholder.\n",
            "INFO:tensorflow:Remapping placeholder for title_input\n",
            "INFO:tensorflow:Remapping placeholder for content_input\n",
            "INFO:tensorflow:Started compiling\n",
            "INFO:tensorflow:Finished compiling. Time elapsed: 39.764599084854126 secs\n",
            "57747/57747 [==============================] - 349s 6ms/sample - loss: 1.3687 - acc: 0.3808\n",
            "INFO:tensorflow:Querying Tensorflow master (grpc://10.29.117.202:8470) for TPU system metadata.\n",
            "INFO:tensorflow:Found TPU system:\n",
            "INFO:tensorflow:*** Num TPU Cores: 8\n",
            "INFO:tensorflow:*** Num TPU Workers: 1\n",
            "INFO:tensorflow:*** Num TPU Cores Per Worker: 8\n",
            "INFO:tensorflow:*** Available Device: _DeviceAttributes(/job:worker/replica:0/task:0/device:CPU:0, CPU, -1, 16833865400973248794)\n",
            "INFO:tensorflow:*** Available Device: _DeviceAttributes(/job:worker/replica:0/task:0/device:XLA_CPU:0, XLA_CPU, 17179869184, 13755240218284278158)\n",
            "INFO:tensorflow:*** Available Device: _DeviceAttributes(/job:worker/replica:0/task:0/device:TPU:0, TPU, 17179869184, 12945550925011558216)\n",
            "INFO:tensorflow:*** Available Device: _DeviceAttributes(/job:worker/replica:0/task:0/device:TPU:1, TPU, 17179869184, 2350143857022530921)\n",
            "INFO:tensorflow:*** Available Device: _DeviceAttributes(/job:worker/replica:0/task:0/device:TPU:2, TPU, 17179869184, 13627641760753111972)\n",
            "INFO:tensorflow:*** Available Device: _DeviceAttributes(/job:worker/replica:0/task:0/device:TPU:3, TPU, 17179869184, 17216974069002826136)\n",
            "INFO:tensorflow:*** Available Device: _DeviceAttributes(/job:worker/replica:0/task:0/device:TPU:4, TPU, 17179869184, 15350308176957800762)\n",
            "INFO:tensorflow:*** Available Device: _DeviceAttributes(/job:worker/replica:0/task:0/device:TPU:5, TPU, 17179869184, 5750048082783041981)\n",
            "INFO:tensorflow:*** Available Device: _DeviceAttributes(/job:worker/replica:0/task:0/device:TPU:6, TPU, 17179869184, 13891274772997751420)\n",
            "INFO:tensorflow:*** Available Device: _DeviceAttributes(/job:worker/replica:0/task:0/device:TPU:7, TPU, 17179869184, 16251816654190509085)\n",
            "INFO:tensorflow:*** Available Device: _DeviceAttributes(/job:worker/replica:0/task:0/device:TPU_SYSTEM:0, TPU_SYSTEM, 17179869184, 3002664826571791369)\n",
            "WARNING:tensorflow:tpu_model (from tensorflow.contrib.tpu.python.tpu.keras_support) is experimental and may change or be removed at any time, and without warning.\n",
            "Train on 94319 samples, validate on 40423 samples\n",
            "Epoch 1/30\n",
            "INFO:tensorflow:New input shapes; (re-)compiling: mode=train (# of cores 8), [TensorSpec(shape=(64,), dtype=tf.int32, name='core_id0'), TensorSpec(shape=(64, 13), dtype=tf.float32, name='title_input_10'), TensorSpec(shape=(64, 1598), dtype=tf.float32, name='content_input_10'), TensorSpec(shape=(64, 4), dtype=tf.float32, name='dense_2_target_30')]\n",
            "INFO:tensorflow:Overriding default placeholder.\n",
            "INFO:tensorflow:Remapping placeholder for title_input\n",
            "INFO:tensorflow:Remapping placeholder for content_input\n",
            "INFO:tensorflow:Started compiling\n",
            "INFO:tensorflow:Finished compiling. Time elapsed: 14.02502965927124 secs\n",
            "INFO:tensorflow:Setting weights on TPU model.\n",
            "93696/94319 [============================>.] - ETA: 1s - loss: 1.1477 - acc: 0.5019INFO:tensorflow:New input shapes; (re-)compiling: mode=train (# of cores 8), [TensorSpec(shape=(13,), dtype=tf.int32, name='core_id0'), TensorSpec(shape=(13, 13), dtype=tf.float32, name='title_input_10'), TensorSpec(shape=(13, 1598), dtype=tf.float32, name='content_input_10'), TensorSpec(shape=(13, 4), dtype=tf.float32, name='dense_2_target_30')]\n",
            "INFO:tensorflow:Overriding default placeholder.\n",
            "INFO:tensorflow:Remapping placeholder for title_input\n",
            "INFO:tensorflow:Remapping placeholder for content_input\n",
            "INFO:tensorflow:Started compiling\n",
            "INFO:tensorflow:Finished compiling. Time elapsed: 13.969852685928345 secs\n",
            "94208/94319 [============================>.] - ETA: 0s - loss: 1.1465 - acc: 0.5025INFO:tensorflow:New input shapes; (re-)compiling: mode=eval (# of cores 8), [TensorSpec(shape=(64,), dtype=tf.int32, name='core_id_10'), TensorSpec(shape=(64, 13), dtype=tf.float32, name='title_input_10'), TensorSpec(shape=(64, 1598), dtype=tf.float32, name='content_input_10'), TensorSpec(shape=(64, 4), dtype=tf.float32, name='dense_2_target_30')]\n",
            "INFO:tensorflow:Overriding default placeholder.\n",
            "INFO:tensorflow:Remapping placeholder for title_input\n",
            "INFO:tensorflow:Remapping placeholder for content_input\n",
            "INFO:tensorflow:Started compiling\n",
            "INFO:tensorflow:Finished compiling. Time elapsed: 21.54609441757202 secs\n",
            "INFO:tensorflow:New input shapes; (re-)compiling: mode=eval (# of cores 8), [TensorSpec(shape=(60,), dtype=tf.int32, name='core_id_10'), TensorSpec(shape=(60, 13), dtype=tf.float32, name='title_input_10'), TensorSpec(shape=(60, 1598), dtype=tf.float32, name='content_input_10'), TensorSpec(shape=(60, 4), dtype=tf.float32, name='dense_2_target_30')]\n",
            "INFO:tensorflow:Overriding default placeholder.\n",
            "INFO:tensorflow:Remapping placeholder for title_input\n",
            "INFO:tensorflow:Remapping placeholder for content_input\n",
            "INFO:tensorflow:Started compiling\n",
            "INFO:tensorflow:Finished compiling. Time elapsed: 26.710209369659424 secs\n",
            "94319/94319 [==============================] - 371s 4ms/sample - loss: 1.1463 - acc: 0.5027 - val_loss: 0.8766 - val_acc: 0.6516\n",
            "Epoch 2/30\n",
            "94319/94319 [==============================] - 237s 3ms/sample - loss: 0.8161 - acc: 0.6726 - val_loss: 0.7936 - val_acc: 0.6711\n",
            "Epoch 3/30\n",
            "94319/94319 [==============================] - 236s 3ms/sample - loss: 0.7255 - acc: 0.7123 - val_loss: 0.7255 - val_acc: 0.7136\n",
            "INFO:tensorflow:New input shapes; (re-)compiling: mode=eval (# of cores 8), [TensorSpec(shape=(4,), dtype=tf.int32, name='core_id_10'), TensorSpec(shape=(4, 13), dtype=tf.float32, name='title_input_10'), TensorSpec(shape=(4, 1598), dtype=tf.float32, name='content_input_10'), TensorSpec(shape=(4, 4), dtype=tf.float32, name='dense_2_target_30')]\n",
            "INFO:tensorflow:Overriding default placeholder.\n",
            "INFO:tensorflow:Remapping placeholder for title_input\n",
            "INFO:tensorflow:Remapping placeholder for content_input\n",
            "INFO:tensorflow:Started compiling\n",
            "INFO:tensorflow:Finished compiling. Time elapsed: 31.274625301361084 secs\n",
            "57728/57747 [============================>.] - ETA: 0s - loss: 0.7240 - acc: 0.7149INFO:tensorflow:New input shapes; (re-)compiling: mode=eval (# of cores 8), [TensorSpec(shape=(2,), dtype=tf.int32, name='core_id_10'), TensorSpec(shape=(2, 13), dtype=tf.float32, name='title_input_10'), TensorSpec(shape=(2, 1598), dtype=tf.float32, name='content_input_10'), TensorSpec(shape=(2, 4), dtype=tf.float32, name='dense_2_target_30')]\n",
            "INFO:tensorflow:Overriding default placeholder.\n",
            "INFO:tensorflow:Remapping placeholder for title_input\n",
            "INFO:tensorflow:Remapping placeholder for content_input\n",
            "INFO:tensorflow:Started compiling\n",
            "INFO:tensorflow:Finished compiling. Time elapsed: 38.2807240486145 secs\n",
            "57747/57747 [==============================] - 344s 6ms/sample - loss: 0.7240 - acc: 0.7148\n",
            "INFO:tensorflow:Querying Tensorflow master (grpc://10.29.117.202:8470) for TPU system metadata.\n",
            "INFO:tensorflow:Found TPU system:\n",
            "INFO:tensorflow:*** Num TPU Cores: 8\n",
            "INFO:tensorflow:*** Num TPU Workers: 1\n",
            "INFO:tensorflow:*** Num TPU Cores Per Worker: 8\n",
            "INFO:tensorflow:*** Available Device: _DeviceAttributes(/job:worker/replica:0/task:0/device:CPU:0, CPU, -1, 16833865400973248794)\n",
            "INFO:tensorflow:*** Available Device: _DeviceAttributes(/job:worker/replica:0/task:0/device:XLA_CPU:0, XLA_CPU, 17179869184, 13755240218284278158)\n",
            "INFO:tensorflow:*** Available Device: _DeviceAttributes(/job:worker/replica:0/task:0/device:TPU:0, TPU, 17179869184, 12945550925011558216)\n",
            "INFO:tensorflow:*** Available Device: _DeviceAttributes(/job:worker/replica:0/task:0/device:TPU:1, TPU, 17179869184, 2350143857022530921)\n",
            "INFO:tensorflow:*** Available Device: _DeviceAttributes(/job:worker/replica:0/task:0/device:TPU:2, TPU, 17179869184, 13627641760753111972)\n",
            "INFO:tensorflow:*** Available Device: _DeviceAttributes(/job:worker/replica:0/task:0/device:TPU:3, TPU, 17179869184, 17216974069002826136)\n",
            "INFO:tensorflow:*** Available Device: _DeviceAttributes(/job:worker/replica:0/task:0/device:TPU:4, TPU, 17179869184, 15350308176957800762)\n",
            "INFO:tensorflow:*** Available Device: _DeviceAttributes(/job:worker/replica:0/task:0/device:TPU:5, TPU, 17179869184, 5750048082783041981)\n",
            "INFO:tensorflow:*** Available Device: _DeviceAttributes(/job:worker/replica:0/task:0/device:TPU:6, TPU, 17179869184, 13891274772997751420)\n",
            "INFO:tensorflow:*** Available Device: _DeviceAttributes(/job:worker/replica:0/task:0/device:TPU:7, TPU, 17179869184, 16251816654190509085)\n",
            "INFO:tensorflow:*** Available Device: _DeviceAttributes(/job:worker/replica:0/task:0/device:TPU_SYSTEM:0, TPU_SYSTEM, 17179869184, 3002664826571791369)\n",
            "WARNING:tensorflow:tpu_model (from tensorflow.contrib.tpu.python.tpu.keras_support) is experimental and may change or be removed at any time, and without warning.\n",
            "Train on 94319 samples, validate on 40423 samples\n",
            "Epoch 1/30\n",
            "INFO:tensorflow:New input shapes; (re-)compiling: mode=train (# of cores 8), [TensorSpec(shape=(64,), dtype=tf.int32, name='core_id0'), TensorSpec(shape=(64, 13), dtype=tf.float32, name='title_input_10'), TensorSpec(shape=(64, 1598), dtype=tf.float32, name='content_input_10'), TensorSpec(shape=(64, 4), dtype=tf.float32, name='dense_2_target_30')]\n",
            "INFO:tensorflow:Overriding default placeholder.\n",
            "INFO:tensorflow:Remapping placeholder for title_input\n",
            "INFO:tensorflow:Remapping placeholder for content_input\n",
            "INFO:tensorflow:Started compiling\n",
            "INFO:tensorflow:Finished compiling. Time elapsed: 14.84759521484375 secs\n",
            "INFO:tensorflow:Setting weights on TPU model.\n",
            "93696/94319 [============================>.] - ETA: 1s - loss: 1.1095 - acc: 0.5170INFO:tensorflow:New input shapes; (re-)compiling: mode=train (# of cores 8), [TensorSpec(shape=(13,), dtype=tf.int32, name='core_id0'), TensorSpec(shape=(13, 13), dtype=tf.float32, name='title_input_10'), TensorSpec(shape=(13, 1598), dtype=tf.float32, name='content_input_10'), TensorSpec(shape=(13, 4), dtype=tf.float32, name='dense_2_target_30')]\n",
            "INFO:tensorflow:Overriding default placeholder.\n",
            "INFO:tensorflow:Remapping placeholder for title_input\n",
            "INFO:tensorflow:Remapping placeholder for content_input\n",
            "INFO:tensorflow:Started compiling\n",
            "INFO:tensorflow:Finished compiling. Time elapsed: 13.91325569152832 secs\n",
            "94208/94319 [============================>.] - ETA: 0s - loss: 1.1084 - acc: 0.5177INFO:tensorflow:New input shapes; (re-)compiling: mode=eval (# of cores 8), [TensorSpec(shape=(64,), dtype=tf.int32, name='core_id_10'), TensorSpec(shape=(64, 13), dtype=tf.float32, name='title_input_10'), TensorSpec(shape=(64, 1598), dtype=tf.float32, name='content_input_10'), TensorSpec(shape=(64, 4), dtype=tf.float32, name='dense_2_target_30')]\n",
            "INFO:tensorflow:Overriding default placeholder.\n",
            "INFO:tensorflow:Remapping placeholder for title_input\n",
            "INFO:tensorflow:Remapping placeholder for content_input\n",
            "INFO:tensorflow:Started compiling\n",
            "INFO:tensorflow:Finished compiling. Time elapsed: 21.01436948776245 secs\n",
            "INFO:tensorflow:New input shapes; (re-)compiling: mode=eval (# of cores 8), [TensorSpec(shape=(60,), dtype=tf.int32, name='core_id_10'), TensorSpec(shape=(60, 13), dtype=tf.float32, name='title_input_10'), TensorSpec(shape=(60, 1598), dtype=tf.float32, name='content_input_10'), TensorSpec(shape=(60, 4), dtype=tf.float32, name='dense_2_target_30')]\n",
            "INFO:tensorflow:Overriding default placeholder.\n",
            "INFO:tensorflow:Remapping placeholder for title_input\n",
            "INFO:tensorflow:Remapping placeholder for content_input\n",
            "INFO:tensorflow:Started compiling\n",
            "INFO:tensorflow:Finished compiling. Time elapsed: 25.732335090637207 secs\n",
            "94319/94319 [==============================] - 367s 4ms/sample - loss: 1.1083 - acc: 0.5178 - val_loss: 0.9552 - val_acc: 0.5801\n",
            "Epoch 2/30\n",
            "94319/94319 [==============================] - 236s 3ms/sample - loss: 0.7840 - acc: 0.6815 - val_loss: 0.7572 - val_acc: 0.6788\n",
            "Epoch 3/30\n",
            "94319/94319 [==============================] - 236s 3ms/sample - loss: 0.6907 - acc: 0.7237 - val_loss: 0.6540 - val_acc: 0.7424\n",
            "Epoch 4/30\n",
            "94319/94319 [==============================] - 236s 3ms/sample - loss: 0.6370 - acc: 0.7466 - val_loss: 0.6004 - val_acc: 0.7620\n",
            "Epoch 5/30\n",
            "94319/94319 [==============================] - 236s 3ms/sample - loss: 0.5960 - acc: 0.7646 - val_loss: 0.6425 - val_acc: 0.7377\n",
            "INFO:tensorflow:New input shapes; (re-)compiling: mode=eval (# of cores 8), [TensorSpec(shape=(4,), dtype=tf.int32, name='core_id_10'), TensorSpec(shape=(4, 13), dtype=tf.float32, name='title_input_10'), TensorSpec(shape=(4, 1598), dtype=tf.float32, name='content_input_10'), TensorSpec(shape=(4, 4), dtype=tf.float32, name='dense_2_target_30')]\n",
            "INFO:tensorflow:Overriding default placeholder.\n",
            "INFO:tensorflow:Remapping placeholder for title_input\n",
            "INFO:tensorflow:Remapping placeholder for content_input\n",
            "INFO:tensorflow:Started compiling\n",
            "INFO:tensorflow:Finished compiling. Time elapsed: 31.15927219390869 secs\n",
            "57728/57747 [============================>.] - ETA: 0s - loss: 0.6442 - acc: 0.7393INFO:tensorflow:New input shapes; (re-)compiling: mode=eval (# of cores 8), [TensorSpec(shape=(2,), dtype=tf.int32, name='core_id_10'), TensorSpec(shape=(2, 13), dtype=tf.float32, name='title_input_10'), TensorSpec(shape=(2, 1598), dtype=tf.float32, name='content_input_10'), TensorSpec(shape=(2, 4), dtype=tf.float32, name='dense_2_target_30')]\n",
            "INFO:tensorflow:Overriding default placeholder.\n",
            "INFO:tensorflow:Remapping placeholder for title_input\n",
            "INFO:tensorflow:Remapping placeholder for content_input\n",
            "INFO:tensorflow:Started compiling\n",
            "INFO:tensorflow:Finished compiling. Time elapsed: 40.28810358047485 secs\n",
            "57747/57747 [==============================] - 348s 6ms/sample - loss: 0.6443 - acc: 0.7392\n"
          ],
          "name": "stdout"
        }
      ]
    },
    {
      "cell_type": "code",
      "metadata": {
        "id": "DtB-v-1XHrW2",
        "colab_type": "code",
        "colab": {
          "base_uri": "https://localhost:8080/",
          "height": 34
        },
        "outputId": "04e08ffe-33d9-4fff-fcbb-810a2a576724"
      },
      "source": [
        "print(\"PARAMETERS (LR/Optimizer): {}  RESULT {}\".format(r.x, r.fun))"
      ],
      "execution_count": 32,
      "outputs": [
        {
          "output_type": "stream",
          "text": [
            "PARAMETERS (LR/Optimizer): [0.25089565306979505, 0.02947012104962393, 0.11976231360733916]  RESULT -0.7470560073852539\n"
          ],
          "name": "stdout"
        }
      ]
    },
    {
      "cell_type": "code",
      "metadata": {
        "id": "8_0dF6JnxobH",
        "colab_type": "code",
        "colab": {
          "base_uri": "https://localhost:8080/",
          "height": 711
        },
        "outputId": "31c2f6d7-719e-4cb6-b7d1-709e0e1d84aa"
      },
      "source": [
        "plot_objective(r, dimensions=space)"
      ],
      "execution_count": 33,
      "outputs": [
        {
          "output_type": "execute_result",
          "data": {
            "text/plain": [
              "array([[<matplotlib.axes._subplots.AxesSubplot object at 0x7f12d6638d68>,\n",
              "        <matplotlib.axes._subplots.AxesSubplot object at 0x7f12eac2a2e8>,\n",
              "        <matplotlib.axes._subplots.AxesSubplot object at 0x7f12df5bd828>],\n",
              "       [<matplotlib.axes._subplots.AxesSubplot object at 0x7f12e54f9e48>,\n",
              "        <matplotlib.axes._subplots.AxesSubplot object at 0x7f12de504780>,\n",
              "        <matplotlib.axes._subplots.AxesSubplot object at 0x7f12d9b1ce48>],\n",
              "       [<matplotlib.axes._subplots.AxesSubplot object at 0x7f12d9dd2438>,\n",
              "        <matplotlib.axes._subplots.AxesSubplot object at 0x7f12d9dabdd8>,\n",
              "        <matplotlib.axes._subplots.AxesSubplot object at 0x7f12df9f5748>]],\n",
              "      dtype=object)"
            ]
          },
          "metadata": {
            "tags": []
          },
          "execution_count": 33
        },
        {
          "output_type": "display_data",
          "data": {
            "image/png": "[encoded data removed]",
            "text/plain": [
              "<matplotlib.figure.Figure at 0x7f12d66381d0>"
            ]
          },
          "metadata": {
            "tags": []
          }
        }
      ]
    }
  ]
}