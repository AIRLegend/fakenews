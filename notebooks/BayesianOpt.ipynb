{
 "cells": [
  {
   "cell_type": "markdown",
   "metadata": {
    "colab_type": "text",
    "id": "N1UR88JVTQkp"
   },
   "source": [
    "# Optimización Bayesiana\n",
    "\n",
    "En este notebook se muestra la obtención de hiperparámetros óptimos para una red neuronal utilizando optimización bayesiana. Esta técnica es más eficiente que un Gridsearch o Manual tuning para casos (como el actual) en el que no se tienen recursos para realizar entrenamientos en paralelo de modelos.\n",
    "\n",
    "\n",
    "https://arxiv.org/pdf/1807.02811.pdf\n",
    "\n",
    "**NOTA:** Este notebook está ejecutado en *Google Colab*"
   ]
  },
  {
   "cell_type": "code",
   "execution_count": 2,
   "metadata": {
    "colab": {
     "base_uri": "https://localhost:8080/",
     "height": 125
    },
    "colab_type": "code",
    "executionInfo": {
     "elapsed": 9206,
     "status": "ok",
     "timestamp": 1553628045769,
     "user": {
      "displayName": "AIR Alvaro",
      "photoUrl": "https://lh6.googleusercontent.com/-rbVW-j3bCso/AAAAAAAAAAI/AAAAAAAAAlo/y0kQptazE58/s64/photo.jpg",
      "userId": "15677007241268215624"
     },
     "user_tz": -60
    },
    "id": "leag2SIuKQ6H",
    "outputId": "b741e85d-3cb6-4db4-8736-61baa09bbc34"
   },
   "outputs": [
    {
     "name": "stdout",
     "output_type": "stream",
     "text": [
      "Go to this URL in a browser: https://accounts.google.com/o/oauth2/auth?client_id=947318989803-6bn6qk8qdgf4n4g3pfee6491hc0brc4i.apps.googleusercontent.com&redirect_uri=urn%3Aietf%3Awg%3Aoauth%3A2.0%3Aoob&scope=email%20https%3A%2F%2Fwww.googleapis.com%2Fauth%2Fdocs.test%20https%3A%2F%2Fwww.googleapis.com%2Fauth%2Fdrive%20https%3A%2F%2Fwww.googleapis.com%2Fauth%2Fdrive.photos.readonly%20https%3A%2F%2Fwww.googleapis.com%2Fauth%2Fpeopleapi.readonly&response_type=code\n",
      "\n",
      "Enter your authorization code:\n",
      "··········\n",
      "Mounted at /content/drive\n"
     ]
    }
   ],
   "source": [
    "from google.colab import drive\n",
    "drive.mount('/content/drive')"
   ]
  },
  {
   "cell_type": "code",
   "execution_count": 3,
   "metadata": {
    "colab": {
     "base_uri": "https://localhost:8080/",
     "height": 890
    },
    "colab_type": "code",
    "executionInfo": {
     "elapsed": 29522,
     "status": "ok",
     "timestamp": 1553628073440,
     "user": {
      "displayName": "AIR Alvaro",
      "photoUrl": "https://lh6.googleusercontent.com/-rbVW-j3bCso/AAAAAAAAAAI/AAAAAAAAAlo/y0kQptazE58/s64/photo.jpg",
      "userId": "15677007241268215624"
     },
     "user_tz": -60
    },
    "id": "RZPgJIeHd7Ki",
    "outputId": "7c354f80-6fd3-43f9-d45a-d0029b38cd78"
   },
   "outputs": [
    {
     "name": "stdout",
     "output_type": "stream",
     "text": [
      "Collecting pandas\n",
      "\u001b[?25l  Downloading https://files.pythonhosted.org/packages/19/74/e50234bc82c553fecdbd566d8650801e3fe2d6d8c8d940638e3d8a7c5522/pandas-0.24.2-cp36-cp36m-manylinux1_x86_64.whl (10.1MB)\n",
      "\u001b[K    100% |████████████████████████████████| 10.1MB 4.3MB/s \n",
      "\u001b[?25hRequirement already satisfied, skipping upgrade: pytz>=2011k in /usr/local/lib/python3.6/dist-packages (from pandas) (2018.9)\n",
      "Requirement already satisfied, skipping upgrade: python-dateutil>=2.5.0 in /usr/local/lib/python3.6/dist-packages (from pandas) (2.5.3)\n",
      "Requirement already satisfied, skipping upgrade: numpy>=1.12.0 in /usr/local/lib/python3.6/dist-packages (from pandas) (1.14.6)\n",
      "Requirement already satisfied, skipping upgrade: six>=1.5 in /usr/local/lib/python3.6/dist-packages (from python-dateutil>=2.5.0->pandas) (1.11.0)\n",
      "\u001b[31mfastai 1.0.49 has requirement numpy>=1.15, but you'll have numpy 1.14.6 which is incompatible.\u001b[0m\n",
      "Installing collected packages: pandas\n",
      "  Found existing installation: pandas 0.22.0\n",
      "    Uninstalling pandas-0.22.0:\n",
      "      Successfully uninstalled pandas-0.22.0\n",
      "Successfully installed pandas-0.24.2\n"
     ]
    },
    {
     "data": {
      "application/vnd.colab-display-data+json": {
       "pip_warning": {
        "packages": [
         "pandas"
        ]
       }
      }
     },
     "metadata": {
      "tags": []
     },
     "output_type": "display_data"
    },
    {
     "name": "stdout",
     "output_type": "stream",
     "text": [
      "Collecting matplotlib==2.1.1\n",
      "\u001b[?25l  Downloading https://files.pythonhosted.org/packages/34/50/d1649dafaecc91e360b1ca8defebb25f865e29928a98bc7d42ba3b1350e5/matplotlib-2.1.1-cp36-cp36m-manylinux1_x86_64.whl (15.0MB)\n",
      "\u001b[K    100% |████████████████████████████████| 15.0MB 2.6MB/s \n",
      "\u001b[?25hRequirement already satisfied, skipping upgrade: cycler>=0.10 in /usr/local/lib/python3.6/dist-packages (from matplotlib==2.1.1) (0.10.0)\n",
      "Requirement already satisfied, skipping upgrade: pyparsing!=2.0.4,!=2.1.2,!=2.1.6,>=2.0.1 in /usr/local/lib/python3.6/dist-packages (from matplotlib==2.1.1) (2.3.1)\n",
      "Requirement already satisfied, skipping upgrade: six>=1.10 in /usr/local/lib/python3.6/dist-packages (from matplotlib==2.1.1) (1.11.0)\n",
      "Requirement already satisfied, skipping upgrade: pytz in /usr/local/lib/python3.6/dist-packages (from matplotlib==2.1.1) (2018.9)\n",
      "Requirement already satisfied, skipping upgrade: numpy>=1.7.1 in /usr/local/lib/python3.6/dist-packages (from matplotlib==2.1.1) (1.14.6)\n",
      "Requirement already satisfied, skipping upgrade: python-dateutil>=2.0 in /usr/local/lib/python3.6/dist-packages (from matplotlib==2.1.1) (2.5.3)\n",
      "\u001b[31mimgaug 0.2.8 has requirement numpy>=1.15.0, but you'll have numpy 1.14.6 which is incompatible.\u001b[0m\n",
      "\u001b[31mfastai 1.0.49 has requirement numpy>=1.15, but you'll have numpy 1.14.6 which is incompatible.\u001b[0m\n",
      "\u001b[31malbumentations 0.1.12 has requirement imgaug<0.2.7,>=0.2.5, but you'll have imgaug 0.2.8 which is incompatible.\u001b[0m\n",
      "Installing collected packages: matplotlib\n",
      "  Found existing installation: matplotlib 3.0.3\n",
      "    Uninstalling matplotlib-3.0.3:\n",
      "      Successfully uninstalled matplotlib-3.0.3\n",
      "Successfully installed matplotlib-2.1.1\n"
     ]
    },
    {
     "data": {
      "application/vnd.colab-display-data+json": {
       "pip_warning": {
        "packages": [
         "matplotlib",
         "mpl_toolkits"
        ]
       }
      }
     },
     "metadata": {
      "tags": []
     },
     "output_type": "display_data"
    },
    {
     "name": "stdout",
     "output_type": "stream",
     "text": [
      "Collecting scikit-optimize\n",
      "\u001b[?25l  Downloading https://files.pythonhosted.org/packages/f4/44/60f82c97d1caa98752c7da2c1681cab5c7a390a0fdd3a55fac672b321cac/scikit_optimize-0.5.2-py2.py3-none-any.whl (74kB)\n",
      "\u001b[K    100% |████████████████████████████████| 81kB 3.7MB/s \n",
      "\u001b[?25hRequirement already satisfied: numpy in /usr/local/lib/python3.6/dist-packages (from scikit-optimize) (1.14.6)\n",
      "Requirement already satisfied: scipy>=0.14.0 in /usr/local/lib/python3.6/dist-packages (from scikit-optimize) (1.1.0)\n",
      "Requirement already satisfied: scikit-learn>=0.19.1 in /usr/local/lib/python3.6/dist-packages (from scikit-optimize) (0.20.3)\n",
      "Installing collected packages: scikit-optimize\n",
      "Successfully installed scikit-optimize-0.5.2\n"
     ]
    }
   ],
   "source": [
    "!pip install --upgrade pandas\n",
    "!pip install --upgrade matplotlib==2.1.1\n",
    "!pip install scikit-optimize"
   ]
  },
  {
   "cell_type": "code",
   "execution_count": 1,
   "metadata": {
    "colab": {
     "base_uri": "https://localhost:8080/",
     "height": 52
    },
    "colab_type": "code",
    "executionInfo": {
     "elapsed": 1588,
     "status": "ok",
     "timestamp": 1553628083993,
     "user": {
      "displayName": "AIR Alvaro",
      "photoUrl": "https://lh6.googleusercontent.com/-rbVW-j3bCso/AAAAAAAAAAI/AAAAAAAAAlo/y0kQptazE58/s64/photo.jpg",
      "userId": "15677007241268215624"
     },
     "user_tz": -60
    },
    "id": "HSTFCp3TLOyY",
    "outputId": "b0361053-3f3c-4601-c2ee-221746cdc40d"
   },
   "outputs": [
    {
     "name": "stdout",
     "output_type": "stream",
     "text": [
      "data_kaggle_proc.pickle\t\t       news_proc_12_3_19.pickle\n",
      "GoogleNews-vectors-negative300.bin.gz\n"
     ]
    }
   ],
   "source": [
    "!ls \"drive/My Drive/Colab Notebooks/data\""
   ]
  },
  {
   "cell_type": "markdown",
   "metadata": {
    "colab_type": "text",
    "id": "L4ox1E4A-NIx"
   },
   "source": [
    "# Imports, loads and Train/test split\n",
    "---"
   ]
  },
  {
   "cell_type": "code",
   "execution_count": null,
   "metadata": {
    "colab": {},
    "colab_type": "code",
    "id": "Pxs1baLTJsxl"
   },
   "outputs": [],
   "source": [
    "import pandas as pd\n",
    "import numpy as np\n",
    "\n",
    "#Progress bars\n",
    "from tqdm import tqdm\n",
    "tqdm.pandas()\n",
    "\n",
    "#Paralelize pandas apply on multiple cores\n",
    "#import swifter\n",
    "\n",
    "from matplotlib import pyplot as plt\n",
    "from matplotlib import style\n",
    "#Nicer style\n",
    "style.use('seaborn')\n",
    "import seaborn as sns\n",
    "\n",
    "from tensorflow import keras as k\n",
    "\n",
    "from sklearn.model_selection import train_test_split\n",
    "\n",
    "from gensim.models import KeyedVectors\n",
    "\n",
    "from sklearn.metrics import accuracy_score, confusion_matrix, classification_report"
   ]
  },
  {
   "cell_type": "code",
   "execution_count": null,
   "metadata": {
    "colab": {},
    "colab_type": "code",
    "id": "E-i6JPxjKGaz"
   },
   "outputs": [],
   "source": [
    "data = pd.read_pickle('drive/My Drive/Colab Notebooks/data/news_proc_12_3_19.pickle')#.reset_index()\n",
    "data = data.dropna()"
   ]
  },
  {
   "cell_type": "markdown",
   "metadata": {
    "colab_type": "text",
    "id": "ytOekwMDE9Pi"
   },
   "source": [
    "Labels asignadas a los tipos"
   ]
  },
  {
   "cell_type": "code",
   "execution_count": 4,
   "metadata": {
    "colab": {
     "base_uri": "https://localhost:8080/",
     "height": 107
    },
    "colab_type": "code",
    "executionInfo": {
     "elapsed": 26730,
     "status": "ok",
     "timestamp": 1553628115013,
     "user": {
      "displayName": "AIR Alvaro",
      "photoUrl": "https://lh6.googleusercontent.com/-rbVW-j3bCso/AAAAAAAAAAI/AAAAAAAAAlo/y0kQptazE58/s64/photo.jpg",
      "userId": "15677007241268215624"
     },
     "user_tz": -60
    },
    "id": "oxDrPOrlCONc",
    "outputId": "bf7c7470-4ed6-49b9-f3ad-d7a1cc2c7388"
   },
   "outputs": [
    {
     "name": "stdout",
     "output_type": "stream",
     "text": [
      "bias - [1 0 0 0]\n",
      "click - [0 1 0 0]\n",
      "fake - [0 0 1 0]\n",
      "truth - [0 0 0 1]\n"
     ]
    }
   ],
   "source": [
    "types = data['type'].unique()\n",
    "for t in types:\n",
    "    print(\"{} - {}\".format(t, data[data['type'] == t].head(1)['one_hot_label'].iloc[0]))"
   ]
  },
  {
   "cell_type": "code",
   "execution_count": 5,
   "metadata": {
    "colab": {
     "base_uri": "https://localhost:8080/",
     "height": 72
    },
    "colab_type": "code",
    "executionInfo": {
     "elapsed": 26598,
     "status": "ok",
     "timestamp": 1553628115014,
     "user": {
      "displayName": "AIR Alvaro",
      "photoUrl": "https://lh6.googleusercontent.com/-rbVW-j3bCso/AAAAAAAAAAI/AAAAAAAAAlo/y0kQptazE58/s64/photo.jpg",
      "userId": "15677007241268215624"
     },
     "user_tz": -60
    },
    "id": "p2Rb1d_iMRo4",
    "outputId": "f1ed9695-166f-4168-92d0-ee0fd7ecb6a9"
   },
   "outputs": [
    {
     "name": "stdout",
     "output_type": "stream",
     "text": [
      "Max len content: 1598\n",
      "Max len title: 13\n"
     ]
    }
   ],
   "source": [
    "len_content = len(data['content'][0])\n",
    "len_title = len(data['title'][0])\n",
    "\n",
    "print(\"Max len content: {}\".format(len_content))\n",
    "print(\"Max len title: {}\".format(len_title))"
   ]
  },
  {
   "cell_type": "code",
   "execution_count": null,
   "metadata": {
    "colab": {},
    "colab_type": "code",
    "id": "42yvXt6pdWtl"
   },
   "outputs": [],
   "source": []
  },
  {
   "cell_type": "code",
   "execution_count": null,
   "metadata": {
    "colab": {},
    "colab_type": "code",
    "id": "obS9w_bsMeCf"
   },
   "outputs": [],
   "source": [
    "model = KeyedVectors.load_word2vec_format(\"drive/My Drive/Colab Notebooks/data/GoogleNews-vectors-negative300.bin.gz\", binary=True, limit=50000)"
   ]
  },
  {
   "cell_type": "code",
   "execution_count": null,
   "metadata": {
    "colab": {},
    "colab_type": "code",
    "id": "kq7N1l62dYve"
   },
   "outputs": [],
   "source": [
    "embed_mat = np.zeros((50000,300))\n",
    "for i, e in model.vocab.items():\n",
    "    embed_mat[e.index] = model[i]"
   ]
  },
  {
   "cell_type": "markdown",
   "metadata": {
    "colab_type": "text",
    "id": "Wbfhe0Txddio"
   },
   "source": [
    "**Tran/valid/test split**"
   ]
  },
  {
   "cell_type": "code",
   "execution_count": null,
   "metadata": {
    "colab": {},
    "colab_type": "code",
    "id": "cq-wi-x6ddtd"
   },
   "outputs": [],
   "source": [
    "#Train - test\n",
    "X_train, X_test, y_train, y_test = train_test_split(\n",
    "    data[['content', 'title']], data['one_hot_label'], test_size=0.3, random_state=1)\n",
    "\n",
    "#Train - valid\n",
    "X_train, X_valid, y_train, y_valid = train_test_split(\n",
    "    X_train, y_train, test_size=0.3, random_state=1)"
   ]
  },
  {
   "cell_type": "code",
   "execution_count": null,
   "metadata": {
    "colab": {},
    "colab_type": "code",
    "id": "WxjsZziCddwE"
   },
   "outputs": [],
   "source": [
    "X_train_title = X_train['title']\n",
    "X_train_content = X_train['content']\n",
    "\n",
    "X_valid_title = X_valid['title']\n",
    "X_valid_content = X_valid['content']\n",
    "\n",
    "X_test_title = X_test['title']\n",
    "X_test_content = X_test['content']"
   ]
  },
  {
   "cell_type": "code",
   "execution_count": null,
   "metadata": {
    "colab": {},
    "colab_type": "code",
    "id": "kOmvVOCofAl2"
   },
   "outputs": [],
   "source": [
    "train_fit = [np.asarray(X_train_title.tolist()), \n",
    "             np.asarray(X_train_content.tolist())]\n",
    "\n",
    "valid_fit = [np.asarray(X_valid_title.tolist()), \n",
    "             np.asarray(X_valid_content.tolist())]\n",
    "\n",
    "test_fit = [np.asarray(X_test_title.tolist()), \n",
    "             np.asarray(X_test_content.tolist())]"
   ]
  },
  {
   "cell_type": "code",
   "execution_count": null,
   "metadata": {
    "colab": {},
    "colab_type": "code",
    "id": "Fiv0BWnBddy0"
   },
   "outputs": [],
   "source": [
    "del data\n",
    "del X_train_title, X_train_content\n",
    "del X_valid_title, X_valid_content\n",
    "del X_test_title, X_test_content"
   ]
  },
  {
   "cell_type": "code",
   "execution_count": null,
   "metadata": {
    "colab": {},
    "colab_type": "code",
    "id": "slVgLTa1HRmG"
   },
   "outputs": [],
   "source": []
  },
  {
   "cell_type": "markdown",
   "metadata": {
    "colab_type": "text",
    "id": "OMApMHOldZty"
   },
   "source": [
    "# Buscar hiperparámetros óptimos para la CNN"
   ]
  },
  {
   "cell_type": "code",
   "execution_count": null,
   "metadata": {
    "colab": {},
    "colab_type": "code",
    "id": "lp6v7yeShqda"
   },
   "outputs": [],
   "source": [
    "import skopt\n",
    "from skopt.space import Real, Integer, Categorical\n",
    "from skopt.utils import use_named_args\n",
    "from skopt.plots import plot_objective\n",
    "\n",
    "from numpy.random import seed\n",
    "from tensorflow import set_random_seed"
   ]
  },
  {
   "cell_type": "code",
   "execution_count": null,
   "metadata": {
    "colab": {},
    "colab_type": "code",
    "id": "fTa2eG8yelaa"
   },
   "outputs": [],
   "source": [
    "space  = [Real(1e-3, 0.4, name='lr'),\n",
    "          Real(1e-3, 0.4, name='momentum')]"
   ]
  },
  {
   "cell_type": "code",
   "execution_count": null,
   "metadata": {
    "colab": {},
    "colab_type": "code",
    "id": "nWvoCxc-dgxb"
   },
   "outputs": [],
   "source": [
    "@use_named_args(space)\n",
    "def cnn_model(**params):\n",
    "    \n",
    "    x_train = train_fit\n",
    "    y_train2 = np.array(y_train.tolist())\n",
    "    \n",
    "    x_valid = valid_fit\n",
    "    y_valid2 = np.array(y_valid.tolist())\n",
    "    \n",
    "    x_test = test_fit\n",
    "    y_test2 = np.array(y_test.tolist())\n",
    "\n",
    "    #Reproducible\n",
    "    seed(50)\n",
    "    set_random_seed(50)\n",
    "    k.backend.clear_session()\n",
    "    \n",
    "    \n",
    "    \n",
    "    #input_title\n",
    "    title_input = k.layers.Input(shape=(len_title,), name='title_input')\n",
    "    inp = k.layers.Embedding(output_dim=300, input_dim=50000, \n",
    "                             weights=[embed_mat], trainable=False, name='embed_title')(title_input)\n",
    "\n",
    "    x = k.layers.Conv1D(filters = 10, kernel_size=4, strides=2, activation='relu', name='Conv1Title')(inp)\n",
    "    x = k.layers.MaxPool1D(pool_size = 2, name='Pool1Title')(x)\n",
    "    x = k.layers.Flatten()(x)\n",
    "    x = k.layers.Dense(50, activation='relu', name='Dense1Title', kernel_regularizer='l2')(x)\n",
    "\n",
    "    #input_content\n",
    "    content_input = k.layers.Input(shape=(len_content,), name='content_input')\n",
    "    inp2 = k.layers.Embedding(output_dim=300, input_dim=50000, \n",
    "                             weights=[embed_mat], trainable=False, name='embed_content')(content_input)\n",
    "    x2 = k.layers.Conv1D(filters = 60, kernel_size = 16, strides = 2, activation='relu', name='Conv1Content')(inp2)\n",
    "    x2 = k.layers.MaxPool1D(pool_size = 6, name='Pool1Content')(x2)\n",
    "    \n",
    "    x2 = k.layers.Conv1D(filters = 80, kernel_size = 8, strides = 4, activation='relu', name='Conv2Content')(inp2)\n",
    "    x2 = k.layers.MaxPool1D(pool_size = 2, name='Pool2Content')(x2)\n",
    "\n",
    "    x2 = k.layers.Flatten()(x2)\n",
    "    x2 = k.layers.Dense(100, activation='relu', kernel_regularizer='l2', name='Dense1Content')(x2)\n",
    "\n",
    "\n",
    "    #Merge\n",
    "    x = k.layers.concatenate([x, x2])\n",
    "\n",
    "    #Common part\n",
    "    x = k.layers.Dense(100, activation='relu')(x)\n",
    "    x = k.layers.Dropout(0.2)(x)\n",
    "    x = k.layers.Dense(50, activation='relu')(x)\n",
    "    x = k.layers.Dropout(0.2)(x)\n",
    "    out = k.layers.Dense(4, activation='softmax')(x)\n",
    "\n",
    "\n",
    "    #Build model\n",
    "    model = k.models.Model(inputs=[title_input, content_input], outputs=[out])\n",
    "\n",
    "    model.compile(k.optimizers.SGD(lr=params['lr'], momentum=params['momentum']), loss='categorical_crossentropy', metrics=['acc'])\n",
    "    \n",
    "    out = model.fit(x=x_train, y=y_train2, batch_size=128, epochs=20,\n",
    "          callbacks = [k.callbacks.EarlyStopping(monitor='val_acc', patience=2, min_delta = 0.1)], \n",
    "                    validation_data=(x_valid, y_valid2))\n",
    "    \n",
    "    \n",
    "    #Evaluation\n",
    "    \n",
    "    acc = model.evaluate(x=x_test, y=y_test2)\n",
    "    return -acc[1] #Maximize accuracy"
   ]
  },
  {
   "cell_type": "code",
   "execution_count": 25,
   "metadata": {
    "colab": {
     "base_uri": "https://localhost:8080/",
     "height": 727
    },
    "colab_type": "code",
    "executionInfo": {
     "elapsed": 951517,
     "status": "ok",
     "timestamp": 1553631471960,
     "user": {
      "displayName": "AIR Alvaro",
      "photoUrl": "https://lh6.googleusercontent.com/-rbVW-j3bCso/AAAAAAAAAAI/AAAAAAAAAlo/y0kQptazE58/s64/photo.jpg",
      "userId": "15677007241268215624"
     },
     "user_tz": -60
    },
    "id": "-L52abocf8AZ",
    "outputId": "4593085f-87c7-4b34-dd2b-ab1984c9b5f6"
   },
   "outputs": [
    {
     "name": "stdout",
     "output_type": "stream",
     "text": [
      "Train on 94319 samples, validate on 40423 samples\n",
      "Epoch 1/20\n",
      "94319/94319 [==============================] - 56s 597us/sample - loss: 1.0498 - acc: 0.6651 - val_loss: 0.6692 - val_acc: 0.7814\n",
      "Epoch 2/20\n",
      "94319/94319 [==============================] - 56s 590us/sample - loss: 0.6688 - acc: 0.7857 - val_loss: 0.6329 - val_acc: 0.8018\n",
      "Epoch 3/20\n",
      "94319/94319 [==============================] - 55s 588us/sample - loss: 0.6300 - acc: 0.8120 - val_loss: 0.6297 - val_acc: 0.8097\n",
      "57747/57747 [==============================] - 20s 348us/sample - loss: 0.6240 - acc: 0.8132\n",
      "Train on 94319 samples, validate on 40423 samples\n",
      "Epoch 1/20\n",
      "94319/94319 [==============================] - 56s 594us/sample - loss: 1.0701 - acc: 0.6819 - val_loss: 0.6468 - val_acc: 0.7860\n",
      "Epoch 2/20\n",
      "94319/94319 [==============================] - 56s 590us/sample - loss: 0.6474 - acc: 0.7952 - val_loss: 0.6079 - val_acc: 0.8078\n",
      "Epoch 3/20\n",
      "94319/94319 [==============================] - 56s 590us/sample - loss: 0.6033 - acc: 0.8224 - val_loss: 0.6128 - val_acc: 0.8155\n",
      "57747/57747 [==============================] - 20s 349us/sample - loss: 0.6105 - acc: 0.8178\n",
      "Train on 94319 samples, validate on 40423 samples\n",
      "Epoch 1/20\n",
      "94319/94319 [==============================] - 56s 595us/sample - loss: 1.0843 - acc: 0.6714 - val_loss: 0.6742 - val_acc: 0.7684\n",
      "Epoch 2/20\n",
      "94319/94319 [==============================] - 56s 589us/sample - loss: 0.6511 - acc: 0.7898 - val_loss: 0.6169 - val_acc: 0.8044\n",
      "Epoch 3/20\n",
      "94319/94319 [==============================] - 56s 590us/sample - loss: 0.6036 - acc: 0.8233 - val_loss: 0.6210 - val_acc: 0.8081\n",
      "57747/57747 [==============================] - 20s 348us/sample - loss: 0.6165 - acc: 0.8121\n",
      "Train on 94319 samples, validate on 40423 samples\n",
      "Epoch 1/20\n",
      "94319/94319 [==============================] - 57s 604us/sample - loss: 3.5612 - acc: 0.3072 - val_loss: 3.4672 - val_acc: 0.3644\n",
      "Epoch 2/20\n",
      "94319/94319 [==============================] - 56s 597us/sample - loss: 3.3813 - acc: 0.3583 - val_loss: 3.2919 - val_acc: 0.3895\n",
      "Epoch 3/20\n",
      "94319/94319 [==============================] - 56s 597us/sample - loss: 3.2116 - acc: 0.3789 - val_loss: 3.1230 - val_acc: 0.4068\n",
      "57747/57747 [==============================] - 20s 349us/sample - loss: 3.1211 - acc: 0.4059\n",
      "Train on 94319 samples, validate on 40423 samples\n",
      "Epoch 1/20\n",
      "94319/94319 [==============================] - 56s 597us/sample - loss: 1.0747 - acc: 0.6799 - val_loss: 0.6473 - val_acc: 0.7839\n",
      "Epoch 2/20\n",
      "94319/94319 [==============================] - 56s 592us/sample - loss: 0.6515 - acc: 0.7919 - val_loss: 0.6150 - val_acc: 0.8089\n",
      "Epoch 3/20\n",
      "94319/94319 [==============================] - 56s 592us/sample - loss: 0.6058 - acc: 0.8224 - val_loss: 0.6373 - val_acc: 0.8053\n",
      "57747/57747 [==============================] - 20s 348us/sample - loss: 0.6286 - acc: 0.8098\n"
     ]
    }
   ],
   "source": [
    "r = skopt.gp_minimize(cnn_model, n_random_starts=3, n_calls=5, dimensions=space)"
   ]
  },
  {
   "cell_type": "markdown",
   "metadata": {
    "colab_type": "text",
    "id": "VQy81eyCp1Ke"
   },
   "source": [
    "Podemos aceder a los parámetros con los que se obtiene el mínimo en la función de loss (máximo en nuestro caso)"
   ]
  },
  {
   "cell_type": "code",
   "execution_count": 27,
   "metadata": {
    "colab": {
     "base_uri": "https://localhost:8080/",
     "height": 34
    },
    "colab_type": "code",
    "executionInfo": {
     "elapsed": 712,
     "status": "ok",
     "timestamp": 1553631559147,
     "user": {
      "displayName": "AIR Alvaro",
      "photoUrl": "https://lh6.googleusercontent.com/-rbVW-j3bCso/AAAAAAAAAAI/AAAAAAAAAlo/y0kQptazE58/s64/photo.jpg",
      "userId": "15677007241268215624"
     },
     "user_tz": -60
    },
    "id": "i2IXFcoSi38U",
    "outputId": "d38e7cb9-9999-4822-ae95-1481ed65fd11"
   },
   "outputs": [
    {
     "name": "stdout",
     "output_type": "stream",
     "text": [
      "PARAMETERS (LR/Optimizer): [0.23993334664040306, 0.30361299021107185]  RESULT -0.8178433775901794\n"
     ]
    }
   ],
   "source": [
    "print(\"PARAMETERS (LR/Optimizer): {}  RESULT {}\".format(r.x, r.fun))"
   ]
  },
  {
   "cell_type": "markdown",
   "metadata": {
    "colab_type": "text",
    "id": "wSVEV59YrEgj"
   },
   "source": [
    "Como vemos, con estos parámetros se obtiene un accuracy de 0.81 en el conjunto de validación."
   ]
  },
  {
   "cell_type": "code",
   "execution_count": 30,
   "metadata": {
    "colab": {
     "base_uri": "https://localhost:8080/",
     "height": 497
    },
    "colab_type": "code",
    "executionInfo": {
     "elapsed": 1237,
     "status": "ok",
     "timestamp": 1553631860876,
     "user": {
      "displayName": "AIR Alvaro",
      "photoUrl": "https://lh6.googleusercontent.com/-rbVW-j3bCso/AAAAAAAAAAI/AAAAAAAAAlo/y0kQptazE58/s64/photo.jpg",
      "userId": "15677007241268215624"
     },
     "user_tz": -60
    },
    "id": "Z60gA0P4fM8t",
    "outputId": "74ea2729-bfcf-4922-ff70-813cb979908e"
   },
   "outputs": [
    {
     "data": {
      "text/plain": [
       "array([[<matplotlib.axes._subplots.AxesSubplot object at 0x7f1e42b9c048>,\n",
       "        <matplotlib.axes._subplots.AxesSubplot object at 0x7f1e41e7ba20>],\n",
       "       [<matplotlib.axes._subplots.AxesSubplot object at 0x7f1e42103ba8>,\n",
       "        <matplotlib.axes._subplots.AxesSubplot object at 0x7f1e420f5ba8>]],\n",
       "      dtype=object)"
      ]
     },
     "execution_count": 30,
     "metadata": {
      "tags": []
     },
     "output_type": "execute_result"
    },
    {
     "data": {
      "image/png": "[encoded data removed]",
      "text/plain": [
       "<matplotlib.figure.Figure at 0x7f1e42c26780>"
      ]
     },
     "metadata": {
      "tags": []
     },
     "output_type": "display_data"
    }
   ],
   "source": [
    "plot_objective(r, dimensions=space)"
   ]
  },
  {
   "cell_type": "code",
   "execution_count": null,
   "metadata": {
    "colab": {},
    "colab_type": "code",
    "id": "FB3fOPpF9nLS"
   },
   "outputs": [],
   "source": []
  }
 ],
 "metadata": {
  "accelerator": "GPU",
  "colab": {
   "collapsed_sections": [
    "L4ox1E4A-NIx"
   ],
   "name": "BayesianOpt.ipynb",
   "provenance": [],
   "version": "0.3.2"
  },
  "kernelspec": {
   "display_name": "Python 3",
   "language": "python",
   "name": "python3"
  },
  "language_info": {
   "codemirror_mode": {
    "name": "ipython",
    "version": 3
   },
   "file_extension": ".py",
   "mimetype": "text/x-python",
   "name": "python",
   "nbconvert_exporter": "python",
   "pygments_lexer": "ipython3",
   "version": "3.6.7"
  }
 },
 "nbformat": 4,
 "nbformat_minor": 2
}
