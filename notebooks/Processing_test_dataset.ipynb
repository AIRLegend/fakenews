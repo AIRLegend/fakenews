{
 "cells": [
  {
   "cell_type": "markdown",
   "metadata": {},
   "source": [
    "# Procesar el dataset de pruebas"
   ]
  },
  {
   "cell_type": "markdown",
   "metadata": {},
   "source": [
    "Este dataset está obtenido de [Kaggle](https://www.kaggle.com/jruvika/fake-news-detection). Contiene los titulares y cuerpos de las noticias, que son de dos posibles tipos de categorías. \"Falsa (0)\" y \"True (1)\". "
   ]
  },
  {
   "cell_type": "code",
   "execution_count": 1,
   "metadata": {},
   "outputs": [],
   "source": [
    "import pandas as pd\n",
    "\n",
    "#Progress bars\n",
    "from tqdm import tqdm\n",
    "tqdm.pandas()\n",
    "\n",
    "#Paralelize pandas apply on multiple cores\n",
    "import swifter\n",
    "\n",
    "from matplotlib import pyplot as plt\n",
    "\n",
    "import re #regexp\n",
    "from nltk.tokenize import RegexpTokenizer\n",
    "\n",
    "#word2vec\n",
    "from gensim.models import KeyedVectors"
   ]
  },
  {
   "cell_type": "markdown",
   "metadata": {},
   "source": [
    "Constantes necesarias"
   ]
  },
  {
   "cell_type": "code",
   "execution_count": 2,
   "metadata": {},
   "outputs": [],
   "source": [
    "PATH_DATASET = \"../data/Other_datasets/fake-news-detection/data.csv\"\n",
    "PATH_PROCESSED = \"../data/Other_datasets/fake-news-detection/data_kaggle_proc.pickle\"\n",
    "\n",
    "#Padding number for title and content\n",
    "MAX_LEN_TITLE = 13\n",
    "MAX_LEN_CONTENT = 1598\n",
    "\n",
    "#Convert labels\n",
    "LBL_TRUE = [0,0,0,1]\n",
    "LBL_FAKE = [0,0,1,0]"
   ]
  },
  {
   "cell_type": "code",
   "execution_count": 3,
   "metadata": {},
   "outputs": [],
   "source": [
    "df = pd.read_csv(PATH_DATASET).dropna()[['Headline', 'Body', 'Label']]"
   ]
  },
  {
   "cell_type": "code",
   "execution_count": 4,
   "metadata": {},
   "outputs": [
    {
     "data": {
      "text/html": [
       "<div>\n",
       "<style scoped>\n",
       "    .dataframe tbody tr th:only-of-type {\n",
       "        vertical-align: middle;\n",
       "    }\n",
       "\n",
       "    .dataframe tbody tr th {\n",
       "        vertical-align: top;\n",
       "    }\n",
       "\n",
       "    .dataframe thead th {\n",
       "        text-align: right;\n",
       "    }\n",
       "</style>\n",
       "<table border=\"1\" class=\"dataframe\">\n",
       "  <thead>\n",
       "    <tr style=\"text-align: right;\">\n",
       "      <th></th>\n",
       "      <th>Headline</th>\n",
       "      <th>Body</th>\n",
       "      <th>Label</th>\n",
       "    </tr>\n",
       "  </thead>\n",
       "  <tbody>\n",
       "    <tr>\n",
       "      <th>0</th>\n",
       "      <td>Four ways Bob Corker skewered Donald Trump</td>\n",
       "      <td>Image copyright Getty Images\\nOn Sunday mornin...</td>\n",
       "      <td>1</td>\n",
       "    </tr>\n",
       "    <tr>\n",
       "      <th>1</th>\n",
       "      <td>Linklater's war veteran comedy speaks to moder...</td>\n",
       "      <td>LONDON (Reuters) - “Last Flag Flying”, a comed...</td>\n",
       "      <td>1</td>\n",
       "    </tr>\n",
       "    <tr>\n",
       "      <th>2</th>\n",
       "      <td>Trump’s Fight With Corker Jeopardizes His Legi...</td>\n",
       "      <td>The feud broke into public view last week when...</td>\n",
       "      <td>1</td>\n",
       "    </tr>\n",
       "    <tr>\n",
       "      <th>3</th>\n",
       "      <td>Egypt's Cheiron wins tie-up with Pemex for Mex...</td>\n",
       "      <td>MEXICO CITY (Reuters) - Egypt’s Cheiron Holdin...</td>\n",
       "      <td>1</td>\n",
       "    </tr>\n",
       "    <tr>\n",
       "      <th>4</th>\n",
       "      <td>Jason Aldean opens 'SNL' with Vegas tribute</td>\n",
       "      <td>Country singer Jason Aldean, who was performin...</td>\n",
       "      <td>1</td>\n",
       "    </tr>\n",
       "  </tbody>\n",
       "</table>\n",
       "</div>"
      ],
      "text/plain": [
       "                                            Headline  \\\n",
       "0         Four ways Bob Corker skewered Donald Trump   \n",
       "1  Linklater's war veteran comedy speaks to moder...   \n",
       "2  Trump’s Fight With Corker Jeopardizes His Legi...   \n",
       "3  Egypt's Cheiron wins tie-up with Pemex for Mex...   \n",
       "4        Jason Aldean opens 'SNL' with Vegas tribute   \n",
       "\n",
       "                                                Body  Label  \n",
       "0  Image copyright Getty Images\\nOn Sunday mornin...      1  \n",
       "1  LONDON (Reuters) - “Last Flag Flying”, a comed...      1  \n",
       "2  The feud broke into public view last week when...      1  \n",
       "3  MEXICO CITY (Reuters) - Egypt’s Cheiron Holdin...      1  \n",
       "4  Country singer Jason Aldean, who was performin...      1  "
      ]
     },
     "execution_count": 4,
     "metadata": {},
     "output_type": "execute_result"
    }
   ],
   "source": [
    "df.head()"
   ]
  },
  {
   "cell_type": "markdown",
   "metadata": {},
   "source": [
    "Número de noticias. por tipo en el dataset."
   ]
  },
  {
   "cell_type": "code",
   "execution_count": 5,
   "metadata": {},
   "outputs": [
    {
     "data": {
      "text/plain": [
       "<matplotlib.axes._subplots.AxesSubplot at 0x1188de358>"
      ]
     },
     "execution_count": 5,
     "metadata": {},
     "output_type": "execute_result"
    },
    {
     "data": {
      "image/png": "[encoded data removed]",
      "text/plain": [
       "<Figure size 1080x504 with 1 Axes>"
      ]
     },
     "metadata": {
      "needs_background": "light"
     },
     "output_type": "display_data"
    }
   ],
   "source": [
    "plt.figure(figsize=(15,7))\n",
    "df.groupby('Label').count()['Headline'].plot.bar(title=\"Number of news per category\")"
   ]
  },
  {
   "cell_type": "markdown",
   "metadata": {},
   "source": [
    "Procesamos el dataset"
   ]
  },
  {
   "cell_type": "code",
   "execution_count": 6,
   "metadata": {},
   "outputs": [],
   "source": [
    "def clean_text(text):\n",
    "    #Remove URLs\n",
    "    text = re.sub(r\"http\\S+\", \"\", text)\n",
    "    #Tokenize\n",
    "    tokenizer = RegexpTokenizer('\\w+|\\$[\\d\\.]+|\\S+')\n",
    "    tokens = tokenizer.tokenize(text)\n",
    "    #Remove non alphanumerica characters\n",
    "    words = [word for word in tokens if word.isalpha()]    \n",
    "    return words"
   ]
  },
  {
   "cell_type": "code",
   "execution_count": 7,
   "metadata": {},
   "outputs": [],
   "source": [
    "def pad_array(array, token_len):\n",
    "    diff_token = token_len - len(array)\n",
    "    if(diff_token < 0):\n",
    "        array = array[:token_len] #Truncate\n",
    "    else:\n",
    "        #Pad\n",
    "        array += [0]*diff_token #Pad\n",
    "        \n",
    "    return array  "
   ]
  },
  {
   "cell_type": "code",
   "execution_count": 8,
   "metadata": {},
   "outputs": [
    {
     "name": "stderr",
     "output_type": "stream",
     "text": [
      "Pandas Apply: 100%|██████████| 3988/3988 [00:01<00:00, 3766.86it/s]\n",
      "Pandas Apply: 100%|██████████| 3988/3988 [00:00<00:00, 37565.96it/s]\n"
     ]
    }
   ],
   "source": [
    "#Clean content\n",
    "df['Body'] = df.swifter.apply(lambda row: clean_text(row['Body']), axis=1)\n",
    "#Clean title\n",
    "df['Headline'] = df.swifter.apply(lambda row: clean_text(row['Headline']), axis=1)"
   ]
  },
  {
   "cell_type": "markdown",
   "metadata": {},
   "source": [
    "Convertir a los indices de **word2vec**"
   ]
  },
  {
   "cell_type": "code",
   "execution_count": 9,
   "metadata": {},
   "outputs": [],
   "source": [
    "model = KeyedVectors.load_word2vec_format(\"../data/GoogleNews-vectors-negative300.bin.gz\", binary=True,\n",
    "                                          limit=50000)"
   ]
  },
  {
   "cell_type": "code",
   "execution_count": 10,
   "metadata": {},
   "outputs": [
    {
     "name": "stderr",
     "output_type": "stream",
     "text": [
      "Pandas Apply: 100%|██████████| 3988/3988 [00:00<00:00, 36786.96it/s]\n",
      "Pandas Apply: 100%|██████████| 3988/3988 [00:00<00:00, 5960.62it/s]\n"
     ]
    }
   ],
   "source": [
    "df['Headline'] = df.swifter.apply(lambda r: \n",
    "                        [model.vocab[x].index for x in r['Headline'] if x in model.vocab], axis=1)\n",
    "df['Body'] = df.swifter.apply(lambda r: \n",
    "                        [model.vocab[x].index for x in r['Body'] if x in model.vocab], axis=1)\n",
    "\n",
    "\n",
    "#Drop news with short or no title\n",
    "df = df[df['Headline'].map(len) >= 1]\n",
    "#Reset index\n",
    "df = df.reset_index().drop(\"index\", axis=1)"
   ]
  },
  {
   "cell_type": "code",
   "execution_count": 11,
   "metadata": {},
   "outputs": [],
   "source": [
    "df['Headline'] = df.apply(lambda r: pad_array(r['Headline'], MAX_LEN_TITLE) , axis=1)\n",
    "df['Body'] = df.apply(lambda r: pad_array(r['Body'], MAX_LEN_CONTENT) , axis=1)"
   ]
  },
  {
   "cell_type": "markdown",
   "metadata": {},
   "source": [
    "Convertir label"
   ]
  },
  {
   "cell_type": "code",
   "execution_count": 12,
   "metadata": {},
   "outputs": [],
   "source": [
    "df.loc[df['Label'] == 1, 'Label'] = pd.Series([LBL_TRUE] * len(df))\n",
    "df.loc[df['Label'] == 0, 'Label'] = pd.Series([LBL_FAKE] * len(df))\n",
    "#loc[df1['stream'] == 2, 'feat'] = 10"
   ]
  },
  {
   "cell_type": "code",
   "execution_count": 13,
   "metadata": {},
   "outputs": [
    {
     "data": {
      "text/html": [
       "<div>\n",
       "<style scoped>\n",
       "    .dataframe tbody tr th:only-of-type {\n",
       "        vertical-align: middle;\n",
       "    }\n",
       "\n",
       "    .dataframe tbody tr th {\n",
       "        vertical-align: top;\n",
       "    }\n",
       "\n",
       "    .dataframe thead th {\n",
       "        text-align: right;\n",
       "    }\n",
       "</style>\n",
       "<table border=\"1\" class=\"dataframe\">\n",
       "  <thead>\n",
       "    <tr style=\"text-align: right;\">\n",
       "      <th></th>\n",
       "      <th>Headline</th>\n",
       "      <th>Body</th>\n",
       "      <th>Label</th>\n",
       "    </tr>\n",
       "  </thead>\n",
       "  <tbody>\n",
       "    <tr>\n",
       "      <th>0</th>\n",
       "      <td>[2675, 1143, 2205, 48926, 6117, 13034, 0, 0, 0...</td>\n",
       "      <td>[15680, 8429, 28683, 14257, 312, 281, 565, 611...</td>\n",
       "      <td>[0, 0, 0, 1]</td>\n",
       "    </tr>\n",
       "    <tr>\n",
       "      <th>1</th>\n",
       "      <td>[556, 2168, 3912, 5042, 2360, 508, 115, 948, 0...</td>\n",
       "      <td>[4949, 20876, 17535, 3912, 46, 3610, 556, 3230...</td>\n",
       "      <td>[0, 0, 0, 1]</td>\n",
       "    </tr>\n",
       "    <tr>\n",
       "      <th>2</th>\n",
       "      <td>[13034, 12828, 316, 48926, 553, 16854, 23325, ...</td>\n",
       "      <td>[7, 14446, 1506, 69, 208, 995, 64, 116, 61, 60...</td>\n",
       "      <td>[0, 0, 0, 1]</td>\n",
       "    </tr>\n",
       "    <tr>\n",
       "      <th>3</th>\n",
       "      <td>[2905, 1469, 1930, 8, 44732, 2, 3538, 19568, 4...</td>\n",
       "      <td>[29922, 2905, 6585, 4840, 301, 11, 1080, 1428,...</td>\n",
       "      <td>[0, 0, 0, 1]</td>\n",
       "    </tr>\n",
       "    <tr>\n",
       "      <th>4</th>\n",
       "      <td>[2678, 3466, 8, 11440, 5739, 0, 0, 0, 0, 0, 0,...</td>\n",
       "      <td>[4868, 3076, 2678, 31, 10, 3246, 14, 11, 11440...</td>\n",
       "      <td>[0, 0, 0, 1]</td>\n",
       "    </tr>\n",
       "  </tbody>\n",
       "</table>\n",
       "</div>"
      ],
      "text/plain": [
       "                                            Headline  \\\n",
       "0  [2675, 1143, 2205, 48926, 6117, 13034, 0, 0, 0...   \n",
       "1  [556, 2168, 3912, 5042, 2360, 508, 115, 948, 0...   \n",
       "2  [13034, 12828, 316, 48926, 553, 16854, 23325, ...   \n",
       "3  [2905, 1469, 1930, 8, 44732, 2, 3538, 19568, 4...   \n",
       "4  [2678, 3466, 8, 11440, 5739, 0, 0, 0, 0, 0, 0,...   \n",
       "\n",
       "                                                Body         Label  \n",
       "0  [15680, 8429, 28683, 14257, 312, 281, 565, 611...  [0, 0, 0, 1]  \n",
       "1  [4949, 20876, 17535, 3912, 46, 3610, 556, 3230...  [0, 0, 0, 1]  \n",
       "2  [7, 14446, 1506, 69, 208, 995, 64, 116, 61, 60...  [0, 0, 0, 1]  \n",
       "3  [29922, 2905, 6585, 4840, 301, 11, 1080, 1428,...  [0, 0, 0, 1]  \n",
       "4  [4868, 3076, 2678, 31, 10, 3246, 14, 11, 11440...  [0, 0, 0, 1]  "
      ]
     },
     "execution_count": 13,
     "metadata": {},
     "output_type": "execute_result"
    }
   ],
   "source": [
    "df.head()"
   ]
  },
  {
   "cell_type": "code",
   "execution_count": 14,
   "metadata": {},
   "outputs": [],
   "source": [
    "df.to_pickle(PATH_PROCESSED)"
   ]
  }
 ],
 "metadata": {
  "kernelspec": {
   "display_name": "Python 3",
   "language": "python",
   "name": "python3"
  },
  "language_info": {
   "codemirror_mode": {
    "name": "ipython",
    "version": 3
   },
   "file_extension": ".py",
   "mimetype": "text/x-python",
   "name": "python",
   "nbconvert_exporter": "python",
   "pygments_lexer": "ipython3",
   "version": "3.6.7"
  }
 },
 "nbformat": 4,
 "nbformat_minor": 2
}
