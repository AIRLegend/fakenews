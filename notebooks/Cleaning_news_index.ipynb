{
 "cells": [
  {
   "cell_type": "markdown",
   "metadata": {},
   "source": [
    "# Preprocesado de las noticias"
   ]
  },
  {
   "cell_type": "markdown",
   "metadata": {},
   "source": [
    "Pre-procesado para eliminar URLS, símbolos. Es decir, cosas que no son palabras"
   ]
  },
  {
   "cell_type": "code",
   "execution_count": 1,
   "metadata": {},
   "outputs": [],
   "source": [
    "import pandas as pd\n",
    "import numpy as np\n",
    "\n",
    "from matplotlib import pyplot as plt\n",
    "from matplotlib import style\n",
    "\n",
    "#One-hot encodding\n",
    "from sklearn.preprocessing import LabelBinarizer\n",
    "\n",
    "#Progress bars\n",
    "from tqdm import tqdm\n",
    "tqdm.pandas()\n",
    "\n",
    "#Paralelize pandas apply on multiple cores\n",
    "import swifter\n",
    "\n",
    "#Nicer style\n",
    "style.use('seaborn') "
   ]
  },
  {
   "cell_type": "code",
   "execution_count": 2,
   "metadata": {},
   "outputs": [],
   "source": [
    "import re #regexp"
   ]
  },
  {
   "cell_type": "markdown",
   "metadata": {},
   "source": [
    "Tokenizer de NLTK (Natural Language Tool Kit) basado en expresiones regulares."
   ]
  },
  {
   "cell_type": "code",
   "execution_count": 3,
   "metadata": {},
   "outputs": [],
   "source": [
    "from nltk.tokenize import RegexpTokenizer"
   ]
  },
  {
   "cell_type": "markdown",
   "metadata": {},
   "source": [
    "### Limpieza del dataset\n",
    "Cargamos el dataset de noticias"
   ]
  },
  {
   "cell_type": "code",
   "execution_count": 38,
   "metadata": {},
   "outputs": [
    {
     "name": "stderr",
     "output_type": "stream",
     "text": [
      "/Users/air/miniconda3/lib/python3.6/site-packages/IPython/core/interactiveshell.py:3020: DtypeWarning: Columns (0,1) have mixed types. Specify dtype option on import or set low_memory=False.\n",
      "  interactivity=interactivity, compiler=compiler, result=result)\n"
     ]
    }
   ],
   "source": [
    "news = pd.read_csv(\"../data/news_sampled.csv\", nrows=200_000)\n",
    "\n",
    "#news = news[['type', 'content', 'title']]\n",
    "\n",
    "#Remove columns with NaNs \n",
    "#news = news.dropna()"
   ]
  },
  {
   "cell_type": "code",
   "execution_count": 39,
   "metadata": {},
   "outputs": [],
   "source": [
    "news = news[['type', 'content', 'title']]"
   ]
  },
  {
   "cell_type": "code",
   "execution_count": 40,
   "metadata": {},
   "outputs": [],
   "source": [
    "news = news.dropna()"
   ]
  },
  {
   "cell_type": "code",
   "execution_count": 41,
   "metadata": {},
   "outputs": [],
   "source": [
    "def clean_text(text):\n",
    "    #Remove URLs\n",
    "    text = re.sub(r\"http\\S+\", \"\", text)\n",
    "    #Tokenize\n",
    "    tokenizer = RegexpTokenizer('\\w+|\\$[\\d\\.]+|\\S+')\n",
    "    tokens = tokenizer.tokenize(text)\n",
    "    #Remove non alphanumerica characters\n",
    "    words = [word for word in tokens if word.isalpha()]    \n",
    "    return words"
   ]
  },
  {
   "cell_type": "markdown",
   "metadata": {},
   "source": [
    "Limpiamos los campos que usaremos: Título y contenido"
   ]
  },
  {
   "cell_type": "code",
   "execution_count": 42,
   "metadata": {},
   "outputs": [
    {
     "name": "stderr",
     "output_type": "stream",
     "text": [
      "Pandas Apply: 100%|██████████| 189794/189794 [01:15<00:00, 2500.37it/s]\n",
      "Pandas Apply: 100%|██████████| 189794/189794 [00:05<00:00, 37111.23it/s]\n"
     ]
    }
   ],
   "source": [
    "#Clean content\n",
    "news['content'] = news.swifter.apply(lambda row: clean_text(row['content']), axis=1)\n",
    "#Clean title\n",
    "news['title'] = news.swifter.apply(lambda row: clean_text(row['title']), axis=1)\n",
    "\n",
    "#Select only news with text\n",
    "news = news[news['title'].str.len() >= 1]\n",
    "news = news[news['content'].str.len() >= 1]"
   ]
  },
  {
   "cell_type": "code",
   "execution_count": 43,
   "metadata": {},
   "outputs": [
    {
     "data": {
      "text/html": [
       "<div>\n",
       "<style scoped>\n",
       "    .dataframe tbody tr th:only-of-type {\n",
       "        vertical-align: middle;\n",
       "    }\n",
       "\n",
       "    .dataframe tbody tr th {\n",
       "        vertical-align: top;\n",
       "    }\n",
       "\n",
       "    .dataframe thead th {\n",
       "        text-align: right;\n",
       "    }\n",
       "</style>\n",
       "<table border=\"1\" class=\"dataframe\">\n",
       "  <thead>\n",
       "    <tr style=\"text-align: right;\">\n",
       "      <th></th>\n",
       "      <th>type</th>\n",
       "      <th>content</th>\n",
       "      <th>title</th>\n",
       "    </tr>\n",
       "  </thead>\n",
       "  <tbody>\n",
       "    <tr>\n",
       "      <th>0</th>\n",
       "      <td>rumor</td>\n",
       "      <td>[Life, is, an, illusion, at, least, on, a, qua...</td>\n",
       "      <td>[Is, life, an, ILLUSION, Researchers, prove, d...</td>\n",
       "    </tr>\n",
       "    <tr>\n",
       "      <th>1</th>\n",
       "      <td>unreliable</td>\n",
       "      <td>[the, police, finally, left, the, campus, arou...</td>\n",
       "      <td>[Black, Agenda, Report]</td>\n",
       "    </tr>\n",
       "    <tr>\n",
       "      <th>2</th>\n",
       "      <td>conspiracy</td>\n",
       "      <td>[Speaking, Engagement, Request, Contact, Perso...</td>\n",
       "      <td>[Request, Speaking, Engagement]</td>\n",
       "    </tr>\n",
       "  </tbody>\n",
       "</table>\n",
       "</div>"
      ],
      "text/plain": [
       "         type                                            content  \\\n",
       "0       rumor  [Life, is, an, illusion, at, least, on, a, qua...   \n",
       "1  unreliable  [the, police, finally, left, the, campus, arou...   \n",
       "2  conspiracy  [Speaking, Engagement, Request, Contact, Perso...   \n",
       "\n",
       "                                               title  \n",
       "0  [Is, life, an, ILLUSION, Researchers, prove, d...  \n",
       "1                            [Black, Agenda, Report]  \n",
       "2                    [Request, Speaking, Engagement]  "
      ]
     },
     "execution_count": 43,
     "metadata": {},
     "output_type": "execute_result"
    }
   ],
   "source": [
    "news.head(3)"
   ]
  },
  {
   "cell_type": "markdown",
   "metadata": {},
   "source": [
    "Las noticias están organizadas en las siguientes categorías"
   ]
  },
  {
   "cell_type": "code",
   "execution_count": 44,
   "metadata": {
    "scrolled": false
   },
   "outputs": [
    {
     "data": {
      "text/plain": [
       "<matplotlib.axes._subplots.AxesSubplot at 0x1d736a4f98>"
      ]
     },
     "execution_count": 44,
     "metadata": {},
     "output_type": "execute_result"
    },
    {
     "data": {
      "image/png": "[encoded data removed]",
      "text/plain": [
       "<Figure size 1152x432 with 1 Axes>"
      ]
     },
     "metadata": {
      "needs_background": "light"
     },
     "output_type": "display_data"
    }
   ],
   "source": [
    "fig, ax = plt.subplots(1,1, figsize=(16,6))\n",
    "news.groupby(\"type\").count()['content'].plot.bar(title = \"Number of articles by type\", ax = ax)"
   ]
  },
  {
   "cell_type": "markdown",
   "metadata": {},
   "source": [
    "De aquí, y en base a las descripciones de [OpenSources](http://www.opensources.co) (de donde se han sacado las etiquetas del dataset) podemos agrupar varias categorías. Por ejemplo:\n",
    "   * **Fake**\n",
    "       * conspiracy\n",
    "       * junksci\n",
    "       * rumor\n",
    "       * unknown\n",
    "       * satire\n",
    "       * hate\n",
    "       * unreliable\n",
    "       * fake\n",
    "   * **Bias**\n",
    "       * bias\n",
    "   * **Truth**\n",
    "       * reliable\n",
    "       * political\n",
    "   * **Clickbait**\n",
    "       * clickbait\n",
    "\n",
    "Convertimos los grupos en los nuevos."
   ]
  },
  {
   "cell_type": "code",
   "execution_count": 45,
   "metadata": {},
   "outputs": [],
   "source": [
    "def convert_tag(tag):\n",
    "    \"\"\"Convierte un tag a uno de tres grupos (fake, truth, clickbait)\"\"\"\n",
    "    new_tag = None\n",
    "    fake = set(['conspiracy', 'junksci', 'rumor', 'unknown', 'satire', 'hate', 'unreliable', 'fake'])\n",
    "    truth = set(['reliable', 'political'])\n",
    "    click = set(['clickbait'])\n",
    "    bias = set(['bias'])\n",
    "    \n",
    "    if tag in fake:\n",
    "        new_tag = 'fake'\n",
    "    if tag in truth:\n",
    "        new_tag = 'truth'\n",
    "    if tag in click:\n",
    "        new_tag = 'click'\n",
    "    if tag in bias:\n",
    "        new_tag = 'bias'\n",
    "        \n",
    "    return new_tag"
   ]
  },
  {
   "cell_type": "code",
   "execution_count": 46,
   "metadata": {},
   "outputs": [
    {
     "name": "stderr",
     "output_type": "stream",
     "text": [
      "Pandas Apply: 100%|██████████| 189572/189572 [00:02<00:00, 69353.30it/s]\n"
     ]
    }
   ],
   "source": [
    "news['type'] = news.swifter.apply(lambda row: convert_tag(row['type']), axis=1)"
   ]
  },
  {
   "cell_type": "code",
   "execution_count": 47,
   "metadata": {
    "scrolled": false
   },
   "outputs": [
    {
     "data": {
      "text/plain": [
       "<matplotlib.axes._subplots.AxesSubplot at 0x1d750e7470>"
      ]
     },
     "execution_count": 47,
     "metadata": {},
     "output_type": "execute_result"
    },
    {
     "data": {
      "image/png": "[encoded data removed]",
      "text/plain": [
       "<Figure size 1152x432 with 1 Axes>"
      ]
     },
     "metadata": {
      "needs_background": "light"
     },
     "output_type": "display_data"
    }
   ],
   "source": [
    "fig, ax = plt.subplots(1,1, figsize=(16,6))\n",
    "news.groupby(\"type\").count()['content'].plot.bar(title = \"Number of articles by type\", ax = ax)"
   ]
  },
  {
   "cell_type": "code",
   "execution_count": 48,
   "metadata": {},
   "outputs": [],
   "source": [
    "#Save memory\n",
    "#news['type'] = news.type.astype('category')\n",
    "#news.info(memory_usage='deep')"
   ]
  },
  {
   "cell_type": "markdown",
   "metadata": {},
   "source": [
    "El dataset se encuentra bastante desbalanceado. Para poder entrenar correctamente las rededes neuronales se tienen que igualar más el número de samples por categoría.\n",
    "\n",
    "En este caso, creamos una función para seleccionar los ejemplos que queramos para cada categoría. Las que están infrarrepresentadas se oversamplearán."
   ]
  },
  {
   "cell_type": "code",
   "execution_count": 49,
   "metadata": {},
   "outputs": [],
   "source": [
    "def equalize_categories(dataframe, categories):\n",
    "    \"\"\"\n",
    "    This function takes a dataset and sets the number of samples of each\n",
    "    class to the specified in the categories param\n",
    "    :param dataframe (pandas DF)\n",
    "    :param categories (dict) dictionary with the number of samples desired per class\n",
    "    \"\"\"\n",
    "    #Copy dataframe structure\n",
    "    df = dataframe.iloc[0:0]\n",
    "    \n",
    "    for cat in categories:\n",
    "        selection = dataframe[dataframe['type'] == cat]\n",
    "        count = selection['type'].count()\n",
    "        if count >= categories[cat]:\n",
    "            df = pd.concat([df, selection.head(categories[cat])])\n",
    "        else:\n",
    "            #Add n times the block\n",
    "            block = dataframe.iloc[0:0]\n",
    "            times = int(categories[cat] / count)\n",
    "            for i in range(times):\n",
    "                block = pd.concat([block, selection])\n",
    "            #Remove the remaining\n",
    "            df = pd.concat([df, block.head(categories[cat])])\n",
    "    \n",
    "    return df"
   ]
  },
  {
   "cell_type": "code",
   "execution_count": 50,
   "metadata": {},
   "outputs": [],
   "source": [
    "cats = {\n",
    "    'bias': 20_000,\n",
    "    'click': 20_000,\n",
    "    'fake': 30_000,\n",
    "    'truth': 30_000\n",
    "}\n",
    "equalized = equalize_categories(news, cats)"
   ]
  },
  {
   "cell_type": "code",
   "execution_count": 51,
   "metadata": {},
   "outputs": [
    {
     "data": {
      "text/plain": [
       "<matplotlib.axes._subplots.AxesSubplot at 0x1d72005390>"
      ]
     },
     "execution_count": 51,
     "metadata": {},
     "output_type": "execute_result"
    },
    {
     "data": {
      "image/png": "[encoded data removed]",
      "text/plain": [
       "<Figure size 1152x432 with 1 Axes>"
      ]
     },
     "metadata": {
      "needs_background": "light"
     },
     "output_type": "display_data"
    }
   ],
   "source": [
    "fig, ax = plt.subplots(1,1, figsize=(16,6))\n",
    "equalized.groupby(\"type\").count()['content'].plot.bar(title = \"Number of articles by type\", ax = ax)"
   ]
  },
  {
   "cell_type": "code",
   "execution_count": 52,
   "metadata": {},
   "outputs": [],
   "source": [
    "#del(news)\n",
    "news = equalized.copy()\n",
    "del(equalized)"
   ]
  },
  {
   "cell_type": "code",
   "execution_count": 53,
   "metadata": {},
   "outputs": [],
   "source": []
  },
  {
   "cell_type": "code",
   "execution_count": null,
   "metadata": {},
   "outputs": [],
   "source": []
  },
  {
   "cell_type": "markdown",
   "metadata": {},
   "source": [
    "### Word2Vec"
   ]
  },
  {
   "cell_type": "code",
   "execution_count": 54,
   "metadata": {},
   "outputs": [],
   "source": [
    "from gensim.models import KeyedVectors"
   ]
  },
  {
   "cell_type": "markdown",
   "metadata": {},
   "source": [
    "Cargamos los vectores de un modelo entrenado por Google con los textos de millones de noticias"
   ]
  },
  {
   "cell_type": "code",
   "execution_count": 55,
   "metadata": {},
   "outputs": [],
   "source": [
    "model = KeyedVectors.load_word2vec_format(\"../data/GoogleNews-vectors-negative300.bin.gz\", binary=True,\n",
    "                                          limit=50000)"
   ]
  },
  {
   "cell_type": "markdown",
   "metadata": {},
   "source": [
    "Un ejemplo de predicción de palabras similares a \"Trump\""
   ]
  },
  {
   "cell_type": "code",
   "execution_count": 56,
   "metadata": {},
   "outputs": [
    {
     "data": {
      "text/plain": [
       "[('Donald_Trump', 0.8103920817375183),\n",
       " ('Apprentice', 0.47915542125701904),\n",
       " ('Paladino', 0.4655587077140808),\n",
       " ('Snooki', 0.4468839764595032),\n",
       " ('Harrah', 0.44451743364334106),\n",
       " ('MGM_Mirage', 0.44225355982780457),\n",
       " ('Vince_McMahon', 0.44097137451171875),\n",
       " ('Limbaugh', 0.4399239420890808),\n",
       " ('Palin', 0.43837088346481323),\n",
       " ('Giuliani', 0.4358449876308441)]"
      ]
     },
     "execution_count": 56,
     "metadata": {},
     "output_type": "execute_result"
    }
   ],
   "source": [
    "model.most_similar(\"Trump\")"
   ]
  },
  {
   "cell_type": "markdown",
   "metadata": {},
   "source": [
    "~~A continuación convertimos las palabras del título y contenido de las noticias en vectores numéricos para poder pasárselos a una red neuronal.~~\n",
    "\n",
    "A continuación convertimos las palabras del título y contenido de las noticias a los índices del vocabulario de Word2Vec."
   ]
  },
  {
   "cell_type": "code",
   "execution_count": 57,
   "metadata": {},
   "outputs": [
    {
     "name": "stderr",
     "output_type": "stream",
     "text": [
      "Pandas Apply: 100%|██████████| 97428/97428 [00:02<00:00, 40559.53it/s]\n"
     ]
    }
   ],
   "source": [
    "news['title'] = news.progress_apply(lambda r: \n",
    "                        [model.vocab[x].index for x in r['title'] if x in model.vocab], axis=1)"
   ]
  },
  {
   "cell_type": "code",
   "execution_count": 58,
   "metadata": {},
   "outputs": [
    {
     "name": "stderr",
     "output_type": "stream",
     "text": [
      "Pandas Apply: 100%|██████████| 97428/97428 [00:22<00:00, 4427.53it/s]\n"
     ]
    }
   ],
   "source": [
    "news['content'] = news.progress_apply(lambda r: \n",
    "                        [model.vocab[x].index for x in r['content'] if x in model.vocab], axis=1)"
   ]
  },
  {
   "cell_type": "markdown",
   "metadata": {},
   "source": [
    "Eliminar los artículos que no tengan título (Word2Vec no tenía las palabras originales)"
   ]
  },
  {
   "cell_type": "code",
   "execution_count": 59,
   "metadata": {},
   "outputs": [],
   "source": [
    "news = news[news['title'].map(len) >= 1]"
   ]
  },
  {
   "cell_type": "code",
   "execution_count": 60,
   "metadata": {},
   "outputs": [],
   "source": [
    "#Reset index\n",
    "news = news.reset_index().drop(\"index\", axis=1)"
   ]
  },
  {
   "cell_type": "markdown",
   "metadata": {},
   "source": [
    "Pero hay un **problema**: La entrada de la red no puede ser variable. Para solucionar esto, es necesario añadir padding a todas las matrices, de tal manera que todas tengan una longitud física.\n",
    "\n",
    "Si miden menos de una cierta longitud $n$ ($l < n$) entonces se le añadirán \"filas\" con ceros hasta alacanzar las dimensiones necesarias. Si mide más, se truncará de tal manera que $l = n$"
   ]
  },
  {
   "cell_type": "code",
   "execution_count": 61,
   "metadata": {},
   "outputs": [],
   "source": [
    "def pad_array(array, token_len):\n",
    "    diff_token = token_len - len(array)\n",
    "    if(diff_token < 0):\n",
    "        array = array[:token_len] #Truncate\n",
    "    else:\n",
    "        #Pad\n",
    "        array += [0]*diff_token #Pad\n",
    "        \n",
    "    return array  "
   ]
  },
  {
   "cell_type": "markdown",
   "metadata": {},
   "source": [
    "Es necesario encontrar un `token_len` que sea suficiente para que cubra, en general, la longitud de todos los artículos."
   ]
  },
  {
   "cell_type": "code",
   "execution_count": 62,
   "metadata": {},
   "outputs": [
    {
     "name": "stderr",
     "output_type": "stream",
     "text": [
      "Pandas Apply: 100%|██████████| 93597/93597 [00:01<00:00, 50705.86it/s]\n"
     ]
    },
    {
     "data": {
      "text/plain": [
       "<matplotlib.axes._subplots.AxesSubplot at 0x1d5f2610f0>"
      ]
     },
     "execution_count": 62,
     "metadata": {},
     "output_type": "execute_result"
    },
    {
     "data": {
      "image/png": "[encoded data removed]",
      "text/plain": [
       "<Figure size 1152x432 with 1 Axes>"
      ]
     },
     "metadata": {
      "needs_background": "light"
     },
     "output_type": "display_data"
    }
   ],
   "source": [
    "# Longitud en tokens de cada noticia\n",
    "tokens_numbers = news.swifter.apply(lambda row: len(row['content']), axis = 1)\n",
    "\n",
    "fig, ax = plt.subplots(1,1, figsize=(16,6))\n",
    "tokens_numbers.plot.hist(title=\"Number of tokens in the article\", bins = 70, ax=ax)"
   ]
  },
  {
   "cell_type": "code",
   "execution_count": 63,
   "metadata": {},
   "outputs": [
    {
     "name": "stdout",
     "output_type": "stream",
     "text": [
      "Número medio de tokens por artículo: 438\n",
      "Desviación estándar de tokens por artículo: 628\n",
      "Mediana de tokens por artículo: 273\n"
     ]
    }
   ],
   "source": [
    "print(\"Número medio de tokens por artículo: {}\".format(int(np.mean(tokens_numbers))))\n",
    "print(\"Desviación estándar de tokens por artículo: {}\".format(int(np.std(tokens_numbers))))\n",
    "print(\"Mediana de tokens por artículo: {}\".format(int(np.median(tokens_numbers))))"
   ]
  },
  {
   "cell_type": "markdown",
   "metadata": {},
   "source": [
    "Escogemos el número máximo como $mean + 2\\sigma$"
   ]
  },
  {
   "cell_type": "code",
   "execution_count": 64,
   "metadata": {},
   "outputs": [
    {
     "name": "stdout",
     "output_type": "stream",
     "text": [
      "Ventana de tokens escogida: 1695 - Cubre el 97.03836661431457% del dataset\n"
     ]
    }
   ],
   "source": [
    "max_tokens = np.mean(tokens_numbers) + 2 * np.std(tokens_numbers)\n",
    "max_tokens = int(max_tokens)\n",
    "\n",
    "percent_tokens = tokens_numbers[tokens_numbers <= max_tokens].count() / tokens_numbers.count()\n",
    "print(\"Ventana de tokens escogida: {} - Cubre el {}% del dataset\".format(max_tokens, percent_tokens*100))"
   ]
  },
  {
   "cell_type": "code",
   "execution_count": 65,
   "metadata": {},
   "outputs": [],
   "source": [
    "n_tokens = max_tokens"
   ]
  },
  {
   "cell_type": "code",
   "execution_count": 66,
   "metadata": {
    "scrolled": false
   },
   "outputs": [],
   "source": [
    "news['content'] = news.apply(lambda r: pad_array(r['content'], n_tokens) , axis=1) #n_tokens"
   ]
  },
  {
   "cell_type": "markdown",
   "metadata": {},
   "source": [
    "Lo mismo para los títulos"
   ]
  },
  {
   "cell_type": "code",
   "execution_count": 67,
   "metadata": {},
   "outputs": [
    {
     "name": "stdout",
     "output_type": "stream",
     "text": [
      "Número medio de tokens por título: 6\n",
      "Desviación estándar de tokens por título: 3\n",
      "Mediana de tokens por título: 6\n",
      "Ventana de tokens escogida: 13 - Cubre el 96.3246685257006% del dataset\n"
     ]
    },
    {
     "data": {
      "image/png": "[encoded data removed]",
      "text/plain": [
       "<Figure size 1152x432 with 1 Axes>"
      ]
     },
     "metadata": {
      "needs_background": "light"
     },
     "output_type": "display_data"
    }
   ],
   "source": [
    "# Longitud en tokens de cada noticia\n",
    "tokens_numbers = news.apply(lambda row: len(row['title']), axis = 1)\n",
    "\n",
    "fig, ax = plt.subplots(1,1, figsize=(16,6))\n",
    "tokens_numbers.plot.hist(title=\"Number of tokens in the article\", bins = 30, ax=ax)\n",
    "\n",
    "print(\"Número medio de tokens por título: {}\".format(int(np.mean(tokens_numbers))))\n",
    "print(\"Desviación estándar de tokens por título: {}\".format(int(np.std(tokens_numbers))))\n",
    "print(\"Mediana de tokens por título: {}\".format(int(np.median(tokens_numbers))))\n",
    "\n",
    "max_tokens = np.mean(tokens_numbers) + 2 * np.std(tokens_numbers)\n",
    "max_tokens = int(max_tokens)\n",
    "\n",
    "n_tokens = max_tokens\n",
    "\n",
    "percent_tokens = tokens_numbers[tokens_numbers <= max_tokens].count() / tokens_numbers.count()\n",
    "print(\"Ventana de tokens escogida: {} - Cubre el {}% del dataset\".format(max_tokens, percent_tokens*100))"
   ]
  },
  {
   "cell_type": "code",
   "execution_count": 68,
   "metadata": {
    "scrolled": true
   },
   "outputs": [
    {
     "name": "stderr",
     "output_type": "stream",
     "text": [
      "Pandas Apply: 100%|██████████| 93597/93597 [00:01<00:00, 52000.81it/s]\n"
     ]
    }
   ],
   "source": [
    "news['title'] = news.progress_apply(lambda r: pad_array(r['title'], n_tokens) , axis=1)"
   ]
  },
  {
   "cell_type": "markdown",
   "metadata": {},
   "source": [
    "### Convertir variable objetivo a OneHot Encodding"
   ]
  },
  {
   "cell_type": "code",
   "execution_count": 69,
   "metadata": {
    "scrolled": true
   },
   "outputs": [],
   "source": [
    "encoder = LabelBinarizer().fit(list(news['type']))\n",
    "news['one_hot_label'] = news.apply(lambda r: encoder.transform([r['type']])[0], axis=1)"
   ]
  },
  {
   "cell_type": "code",
   "execution_count": 70,
   "metadata": {
    "scrolled": true
   },
   "outputs": [
    {
     "data": {
      "text/html": [
       "<div>\n",
       "<style scoped>\n",
       "    .dataframe tbody tr th:only-of-type {\n",
       "        vertical-align: middle;\n",
       "    }\n",
       "\n",
       "    .dataframe tbody tr th {\n",
       "        vertical-align: top;\n",
       "    }\n",
       "\n",
       "    .dataframe thead th {\n",
       "        text-align: right;\n",
       "    }\n",
       "</style>\n",
       "<table border=\"1\" class=\"dataframe\">\n",
       "  <thead>\n",
       "    <tr style=\"text-align: right;\">\n",
       "      <th></th>\n",
       "      <th>type</th>\n",
       "      <th>content</th>\n",
       "      <th>title</th>\n",
       "      <th>one_hot_label</th>\n",
       "    </tr>\n",
       "  </thead>\n",
       "  <tbody>\n",
       "    <tr>\n",
       "      <th>0</th>\n",
       "      <td>bias</td>\n",
       "      <td>[7, 1077, 34953, 23, 145, 16, 264, 14, 27, 737...</td>\n",
       "      <td>[27611, 24045, 0, 0, 0, 0, 0, 0, 0, 0, 0, 0, 0]</td>\n",
       "      <td>[1, 0, 0, 0]</td>\n",
       "    </tr>\n",
       "    <tr>\n",
       "      <th>1</th>\n",
       "      <td>bias</td>\n",
       "      <td>[73, 448, 344, 24, 1044, 402, 8586, 2014, 841,...</td>\n",
       "      <td>[2795, 14194, 31675, 6329, 1607, 10844, 5, 630...</td>\n",
       "      <td>[1, 0, 0, 0]</td>\n",
       "    </tr>\n",
       "    <tr>\n",
       "      <th>2</th>\n",
       "      <td>bias</td>\n",
       "      <td>[1195, 11, 386, 121, 1074, 1539, 1154, 3398, 5...</td>\n",
       "      <td>[19329, 1557, 7748, 1244, 1307, 7104, 25628, 7...</td>\n",
       "      <td>[1, 0, 0, 0]</td>\n",
       "    </tr>\n",
       "    <tr>\n",
       "      <th>3</th>\n",
       "      <td>bias</td>\n",
       "      <td>[232, 14194, 618, 5022, 2, 11, 678, 4093, 1, 3...</td>\n",
       "      <td>[2182, 11925, 25276, 14194, 5528, 2, 27288, 21...</td>\n",
       "      <td>[1, 0, 0, 0]</td>\n",
       "    </tr>\n",
       "    <tr>\n",
       "      <th>4</th>\n",
       "      <td>bias</td>\n",
       "      <td>[73, 605, 243, 17, 2261, 3498, 12, 10164, 8936...</td>\n",
       "      <td>[7, 303, 3, 24, 27288, 5602, 1, 1898, 0, 0, 0,...</td>\n",
       "      <td>[1, 0, 0, 0]</td>\n",
       "    </tr>\n",
       "  </tbody>\n",
       "</table>\n",
       "</div>"
      ],
      "text/plain": [
       "   type                                            content  \\\n",
       "0  bias  [7, 1077, 34953, 23, 145, 16, 264, 14, 27, 737...   \n",
       "1  bias  [73, 448, 344, 24, 1044, 402, 8586, 2014, 841,...   \n",
       "2  bias  [1195, 11, 386, 121, 1074, 1539, 1154, 3398, 5...   \n",
       "3  bias  [232, 14194, 618, 5022, 2, 11, 678, 4093, 1, 3...   \n",
       "4  bias  [73, 605, 243, 17, 2261, 3498, 12, 10164, 8936...   \n",
       "\n",
       "                                               title one_hot_label  \n",
       "0    [27611, 24045, 0, 0, 0, 0, 0, 0, 0, 0, 0, 0, 0]  [1, 0, 0, 0]  \n",
       "1  [2795, 14194, 31675, 6329, 1607, 10844, 5, 630...  [1, 0, 0, 0]  \n",
       "2  [19329, 1557, 7748, 1244, 1307, 7104, 25628, 7...  [1, 0, 0, 0]  \n",
       "3  [2182, 11925, 25276, 14194, 5528, 2, 27288, 21...  [1, 0, 0, 0]  \n",
       "4  [7, 303, 3, 24, 27288, 5602, 1, 1898, 0, 0, 0,...  [1, 0, 0, 0]  "
      ]
     },
     "execution_count": 70,
     "metadata": {},
     "output_type": "execute_result"
    }
   ],
   "source": [
    "news.head()"
   ]
  },
  {
   "cell_type": "markdown",
   "metadata": {},
   "source": [
    "Guardamos el dataset procesado como `.pickle` (serializado de objetos python)."
   ]
  },
  {
   "cell_type": "code",
   "execution_count": 71,
   "metadata": {},
   "outputs": [],
   "source": [
    "news.to_pickle('../data/news_proc_9_3_19.pickle')"
   ]
  },
  {
   "cell_type": "code",
   "execution_count": null,
   "metadata": {},
   "outputs": [],
   "source": []
  },
  {
   "cell_type": "markdown",
   "metadata": {},
   "source": [
    "Guardamos el dataset procesado como `.csv`."
   ]
  },
  {
   "cell_type": "code",
   "execution_count": null,
   "metadata": {},
   "outputs": [],
   "source": [
    "news.to_csv('../data/news_proc_8_3_19.csv', sep=';')"
   ]
  },
  {
   "cell_type": "code",
   "execution_count": null,
   "metadata": {
    "collapsed": true
   },
   "outputs": [],
   "source": []
  },
  {
   "cell_type": "code",
   "execution_count": null,
   "metadata": {},
   "outputs": [],
   "source": [
    "from ast import literal_eval\n"
   ]
  },
  {
   "cell_type": "code",
   "execution_count": null,
   "metadata": {},
   "outputs": [],
   "source": [
    "news = pd.read_csv('../data/news_proc_8_3_19.csv', \n",
    "                       sep=';', converters={'content':literal_eval, \n",
    "                                       'title':literal_eval, \n",
    "                                       'one_hot_label':literal_eval})"
   ]
  },
  {
   "cell_type": "code",
   "execution_count": null,
   "metadata": {},
   "outputs": [],
   "source": [
    "#PROBAR A CARGAR Y LUEGO HACER UN APPLY PARALELIZADOb"
   ]
  },
  {
   "cell_type": "code",
   "execution_count": null,
   "metadata": {},
   "outputs": [],
   "source": [
    "news = pd.read_csv('../data/news_proc_8_3_19.csv', sep=';')"
   ]
  },
  {
   "cell_type": "code",
   "execution_count": null,
   "metadata": {},
   "outputs": [],
   "source": [
    "news['title'] = news.swifter.apply(lambda r: literal_eval(r['title']), axis= 1)\n",
    "news['content'] = news.swifter.apply(lambda r: literal_eval(r['content']), axis= 1)\n",
    "news['one_hot_label'] = news.swifter.apply(lambda r: literal_eval(r['one_hot_label']), axis= 1)"
   ]
  },
  {
   "cell_type": "code",
   "execution_count": null,
   "metadata": {},
   "outputs": [],
   "source": []
  }
 ],
 "metadata": {
  "kernelspec": {
   "display_name": "Python 3",
   "language": "python",
   "name": "python3"
  },
  "language_info": {
   "codemirror_mode": {
    "name": "ipython",
    "version": 3
   },
   "file_extension": ".py",
   "mimetype": "text/x-python",
   "name": "python",
   "nbconvert_exporter": "python",
   "pygments_lexer": "ipython3",
   "version": "3.6.7"
  }
 },
 "nbformat": 4,
 "nbformat_minor": 2
}
