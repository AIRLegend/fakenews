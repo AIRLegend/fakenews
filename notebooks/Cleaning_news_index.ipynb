{
 "cells": [
  {
   "cell_type": "markdown",
   "metadata": {},
   "source": [
    "# Preprocesado de las noticias"
   ]
  },
  {
   "cell_type": "markdown",
   "metadata": {},
   "source": [
    "Pre-procesado para eliminar URLS, símbolos. Es decir, cosas que no son palabras"
   ]
  },
  {
   "cell_type": "code",
   "execution_count": 1,
   "metadata": {},
   "outputs": [],
   "source": [
    "import pandas as pd\n",
    "import numpy as np\n",
    "\n",
    "from matplotlib import pyplot as plt\n",
    "from matplotlib import style\n",
    "\n",
    "#One-hot encodding\n",
    "from sklearn.preprocessing import LabelBinarizer\n",
    "\n",
    "#Progress bars\n",
    "from tqdm import tqdm\n",
    "tqdm.pandas()\n",
    "\n",
    "#Nicer style\n",
    "style.use('seaborn') "
   ]
  },
  {
   "cell_type": "code",
   "execution_count": 2,
   "metadata": {},
   "outputs": [],
   "source": [
    "import re #regexp"
   ]
  },
  {
   "cell_type": "markdown",
   "metadata": {},
   "source": [
    "Tokenizer de NLTK (Natural Language Tool Kit) basado en expresiones regulares."
   ]
  },
  {
   "cell_type": "code",
   "execution_count": 3,
   "metadata": {},
   "outputs": [],
   "source": [
    "from nltk.tokenize import RegexpTokenizer"
   ]
  },
  {
   "cell_type": "markdown",
   "metadata": {},
   "source": [
    "### Limpieza del dataset\n",
    "Cargamos el dataset de noticias"
   ]
  },
  {
   "cell_type": "code",
   "execution_count": 6,
   "metadata": {},
   "outputs": [
    {
     "name": "stderr",
     "output_type": "stream",
     "text": [
      "/Users/air/miniconda3/lib/python3.6/site-packages/IPython/core/interactiveshell.py:3020: DtypeWarning: Columns (0,1,2,3,4,5,6,7,8,9,10,12,13,14) have mixed types. Specify dtype option on import or set low_memory=False.\n",
      "  interactivity=interactivity, compiler=compiler, result=result)\n"
     ]
    }
   ],
   "source": [
    "news = pd.read_csv(\"../data/news_cleaned_2018_02_13.csv\", nrows=500_000)\n",
    "\n",
    "news = news[['type', 'content', 'title']]\n",
    "\n",
    "#Remove columns with NaNs \n",
    "news = news.dropna()"
   ]
  },
  {
   "cell_type": "code",
   "execution_count": 7,
   "metadata": {},
   "outputs": [],
   "source": [
    "def clean_text(text):\n",
    "    #Remove URLs\n",
    "    text = re.sub(r\"http\\S+\", \"\", text)\n",
    "    #Tokenize\n",
    "    tokenizer = RegexpTokenizer('\\w+|\\$[\\d\\.]+|\\S+')\n",
    "    tokens = tokenizer.tokenize(text)\n",
    "    #Remove non alphanumerica characters\n",
    "    words = [word for word in tokens if word.isalpha()]    \n",
    "    return words"
   ]
  },
  {
   "cell_type": "markdown",
   "metadata": {},
   "source": [
    "Limpiamos los campos que usaremos: Título y contenido"
   ]
  },
  {
   "cell_type": "code",
   "execution_count": 8,
   "metadata": {},
   "outputs": [],
   "source": [
    "#Clean content\n",
    "news['content'] = news.apply(lambda row: clean_text(row['content']), axis=1)\n",
    "#Clean title\n",
    "news['title'] = news.apply(lambda row: clean_text(row['title']), axis=1)\n",
    "\n",
    "#Select only news with text\n",
    "news = news[news['title'].str.len() >= 1]\n",
    "news = news[news['content'].str.len() >= 1]"
   ]
  },
  {
   "cell_type": "code",
   "execution_count": 9,
   "metadata": {},
   "outputs": [
    {
     "data": {
      "text/html": [
       "<div>\n",
       "<style scoped>\n",
       "    .dataframe tbody tr th:only-of-type {\n",
       "        vertical-align: middle;\n",
       "    }\n",
       "\n",
       "    .dataframe tbody tr th {\n",
       "        vertical-align: top;\n",
       "    }\n",
       "\n",
       "    .dataframe thead th {\n",
       "        text-align: right;\n",
       "    }\n",
       "</style>\n",
       "<table border=\"1\" class=\"dataframe\">\n",
       "  <thead>\n",
       "    <tr style=\"text-align: right;\">\n",
       "      <th></th>\n",
       "      <th>type</th>\n",
       "      <th>content</th>\n",
       "      <th>title</th>\n",
       "    </tr>\n",
       "  </thead>\n",
       "  <tbody>\n",
       "    <tr>\n",
       "      <th>0</th>\n",
       "      <td>rumor</td>\n",
       "      <td>[Life, is, an, illusion, at, least, on, a, qua...</td>\n",
       "      <td>[Is, life, an, ILLUSION, Researchers, prove, d...</td>\n",
       "    </tr>\n",
       "    <tr>\n",
       "      <th>1</th>\n",
       "      <td>hate</td>\n",
       "      <td>[Unfortunately, he, hasn, yet, attacked, her, ...</td>\n",
       "      <td>[Donald, Trump]</td>\n",
       "    </tr>\n",
       "    <tr>\n",
       "      <th>2</th>\n",
       "      <td>hate</td>\n",
       "      <td>[The, Los, Angeles, Police, Department, has, b...</td>\n",
       "      <td>[Donald, Trump]</td>\n",
       "    </tr>\n",
       "  </tbody>\n",
       "</table>\n",
       "</div>"
      ],
      "text/plain": [
       "    type                                            content  \\\n",
       "0  rumor  [Life, is, an, illusion, at, least, on, a, qua...   \n",
       "1   hate  [Unfortunately, he, hasn, yet, attacked, her, ...   \n",
       "2   hate  [The, Los, Angeles, Police, Department, has, b...   \n",
       "\n",
       "                                               title  \n",
       "0  [Is, life, an, ILLUSION, Researchers, prove, d...  \n",
       "1                                    [Donald, Trump]  \n",
       "2                                    [Donald, Trump]  "
      ]
     },
     "execution_count": 9,
     "metadata": {},
     "output_type": "execute_result"
    }
   ],
   "source": [
    "news.head(3)"
   ]
  },
  {
   "cell_type": "markdown",
   "metadata": {},
   "source": [
    "Las noticias están organizadas en las siguientes categorías"
   ]
  },
  {
   "cell_type": "code",
   "execution_count": 10,
   "metadata": {
    "scrolled": false
   },
   "outputs": [
    {
     "data": {
      "text/plain": [
       "<matplotlib.axes._subplots.AxesSubplot at 0x3468cecc0>"
      ]
     },
     "execution_count": 10,
     "metadata": {},
     "output_type": "execute_result"
    },
    {
     "data": {
      "image/png": "[encoded data removed]",
      "text/plain": [
       "<Figure size 1152x432 with 1 Axes>"
      ]
     },
     "metadata": {
      "needs_background": "light"
     },
     "output_type": "display_data"
    }
   ],
   "source": [
    "fig, ax = plt.subplots(1,1, figsize=(16,6))\n",
    "news.groupby(\"type\").count()['content'].plot.bar(title = \"Number of articles by type\", ax = ax)"
   ]
  },
  {
   "cell_type": "markdown",
   "metadata": {},
   "source": [
    "De aquí, y en base a las descripciones de [OpenSources](http://www.opensources.co) (de donde se han sacado las etiquetas del dataset) podemos agrupar varias categorías. Por ejemplo:\n",
    "   * **Fake**\n",
    "       * conspiracy\n",
    "       * junksci\n",
    "       * rumor\n",
    "       * unknown\n",
    "       * satire\n",
    "       * hate\n",
    "       * bias\n",
    "       * unreliable\n",
    "       * fake\n",
    "   * **Truth**\n",
    "       * reliable\n",
    "       * political\n",
    "   * **Clickbait**\n",
    "       * clickbait\n",
    "\n",
    "Convertimos los grupos en los nuevos."
   ]
  },
  {
   "cell_type": "code",
   "execution_count": 11,
   "metadata": {},
   "outputs": [],
   "source": [
    "def convert_tag(tag):\n",
    "    \"\"\"Convierte un tag a uno de tres grupos (fake, truth, clickbait)\"\"\"\n",
    "    new_tag = None\n",
    "    fake = set(['conspiracy', 'junksci', 'rumor', 'unknown', 'satire', 'hate', 'bias', 'unreliable', 'fake'])\n",
    "    truth = set(['reliable', 'political'])\n",
    "    click = set(['clickbait'])\n",
    "    \n",
    "    if tag in fake:\n",
    "        new_tag = 'fake'\n",
    "    if tag in truth:\n",
    "        new_tag = 'truth'\n",
    "    if tag in click:\n",
    "        new_tag = 'click'\n",
    "        \n",
    "    return new_tag"
   ]
  },
  {
   "cell_type": "code",
   "execution_count": 12,
   "metadata": {},
   "outputs": [],
   "source": [
    "news['type'] = news.apply(lambda row: convert_tag(row['type']), axis=1)"
   ]
  },
  {
   "cell_type": "code",
   "execution_count": 13,
   "metadata": {
    "scrolled": false
   },
   "outputs": [
    {
     "data": {
      "text/plain": [
       "<matplotlib.axes._subplots.AxesSubplot at 0x336d550b8>"
      ]
     },
     "execution_count": 13,
     "metadata": {},
     "output_type": "execute_result"
    },
    {
     "data": {
      "image/png": "[encoded data removed]",
      "text/plain": [
       "<Figure size 1152x432 with 1 Axes>"
      ]
     },
     "metadata": {
      "needs_background": "light"
     },
     "output_type": "display_data"
    }
   ],
   "source": [
    "fig, ax = plt.subplots(1,1, figsize=(16,6))\n",
    "news.groupby(\"type\").count()['content'].plot.bar(title = \"Number of articles by type\", ax = ax)"
   ]
  },
  {
   "cell_type": "code",
   "execution_count": 14,
   "metadata": {},
   "outputs": [],
   "source": [
    "#Save memory\n",
    "#news['type'] = news.type.astype('category')\n",
    "#news.info(memory_usage='deep')"
   ]
  },
  {
   "cell_type": "markdown",
   "metadata": {},
   "source": [
    "### Word2Vec"
   ]
  },
  {
   "cell_type": "code",
   "execution_count": 15,
   "metadata": {},
   "outputs": [],
   "source": [
    "from gensim.models import KeyedVectors"
   ]
  },
  {
   "cell_type": "markdown",
   "metadata": {},
   "source": [
    "Cargamos los vectores de un modelo entrenado por Google con los textos de millones de noticias"
   ]
  },
  {
   "cell_type": "code",
   "execution_count": 16,
   "metadata": {},
   "outputs": [],
   "source": [
    "model = KeyedVectors.load_word2vec_format(\"../data/GoogleNews-vectors-negative300.bin.gz\", binary=True,\n",
    "                                          limit=50000)"
   ]
  },
  {
   "cell_type": "markdown",
   "metadata": {},
   "source": [
    "Un ejemplo de predicción de palabras similares a \"Trump\""
   ]
  },
  {
   "cell_type": "code",
   "execution_count": 17,
   "metadata": {},
   "outputs": [
    {
     "data": {
      "text/plain": [
       "[('Donald_Trump', 0.8103920221328735),\n",
       " ('Apprentice', 0.47915542125701904),\n",
       " ('Paladino', 0.4655587375164032),\n",
       " ('Snooki', 0.4468839764595032),\n",
       " ('Harrah', 0.44451743364334106),\n",
       " ('MGM_Mirage', 0.4422535300254822),\n",
       " ('Vince_McMahon', 0.44097134470939636),\n",
       " ('Limbaugh', 0.4399239420890808),\n",
       " ('Palin', 0.4383709132671356),\n",
       " ('Giuliani', 0.4358449876308441)]"
      ]
     },
     "execution_count": 17,
     "metadata": {},
     "output_type": "execute_result"
    }
   ],
   "source": [
    "model.most_similar(\"Trump\")"
   ]
  },
  {
   "cell_type": "markdown",
   "metadata": {},
   "source": [
    "~~A continuación convertimos las palabras del título y contenido de las noticias en vectores numéricos para poder pasárselos a una red neuronal.~~\n",
    "\n",
    "A continuación convertimos las palabras del título y contenido de las noticias a los índices del vocabulario de Word2Vec."
   ]
  },
  {
   "cell_type": "code",
   "execution_count": 18,
   "metadata": {},
   "outputs": [
    {
     "name": "stderr",
     "output_type": "stream",
     "text": [
      "100%|██████████| 372430/372430 [00:55<00:00, 6726.44it/s] \n"
     ]
    }
   ],
   "source": [
    "news['title'] = news.progress_apply(lambda r: \n",
    "                        [model.vocab[x].index for x in r['title'] if x in model.vocab], axis=1)"
   ]
  },
  {
   "cell_type": "code",
   "execution_count": 19,
   "metadata": {},
   "outputs": [
    {
     "name": "stderr",
     "output_type": "stream",
     "text": [
      "100%|██████████| 372430/372430 [01:38<00:00, 3773.01it/s] \n"
     ]
    }
   ],
   "source": [
    "news['content'] = news.progress_apply(lambda r: \n",
    "                        [model.vocab[x].index for x in r['content'] if x in model.vocab], axis=1)"
   ]
  },
  {
   "cell_type": "code",
   "execution_count": 20,
   "metadata": {},
   "outputs": [
    {
     "data": {
      "text/html": [
       "<div>\n",
       "<style scoped>\n",
       "    .dataframe tbody tr th:only-of-type {\n",
       "        vertical-align: middle;\n",
       "    }\n",
       "\n",
       "    .dataframe tbody tr th {\n",
       "        vertical-align: top;\n",
       "    }\n",
       "\n",
       "    .dataframe thead th {\n",
       "        text-align: right;\n",
       "    }\n",
       "</style>\n",
       "<table border=\"1\" class=\"dataframe\">\n",
       "  <thead>\n",
       "    <tr style=\"text-align: right;\">\n",
       "      <th></th>\n",
       "      <th>type</th>\n",
       "      <th>content</th>\n",
       "      <th>title</th>\n",
       "    </tr>\n",
       "  </thead>\n",
       "  <tbody>\n",
       "    <tr>\n",
       "      <th>0</th>\n",
       "      <td>fake</td>\n",
       "      <td>[2458, 4, 27, 17625, 12, 328, 5, 25587, 416, 1...</td>\n",
       "      <td>[1732, 258, 27, 7196, 2154, 4192, 88, 43, 13, ...</td>\n",
       "    </tr>\n",
       "    <tr>\n",
       "      <th>1</th>\n",
       "      <td>fake</td>\n",
       "      <td>[3836, 22, 506, 3059, 67, 2, 2941, 2429, 33, 3...</td>\n",
       "      <td>[6117, 13034]</td>\n",
       "    </tr>\n",
       "    <tr>\n",
       "      <th>2</th>\n",
       "      <td>fake</td>\n",
       "      <td>[7, 37481, 39852, 483, 423, 24, 42, 1837, 81, ...</td>\n",
       "      <td>[6117, 13034]</td>\n",
       "    </tr>\n",
       "  </tbody>\n",
       "</table>\n",
       "</div>"
      ],
      "text/plain": [
       "   type                                            content  \\\n",
       "0  fake  [2458, 4, 27, 17625, 12, 328, 5, 25587, 416, 1...   \n",
       "1  fake  [3836, 22, 506, 3059, 67, 2, 2941, 2429, 33, 3...   \n",
       "2  fake  [7, 37481, 39852, 483, 423, 24, 42, 1837, 81, ...   \n",
       "\n",
       "                                               title  \n",
       "0  [1732, 258, 27, 7196, 2154, 4192, 88, 43, 13, ...  \n",
       "1                                      [6117, 13034]  \n",
       "2                                      [6117, 13034]  "
      ]
     },
     "execution_count": 20,
     "metadata": {},
     "output_type": "execute_result"
    }
   ],
   "source": [
    "news.head(3)"
   ]
  },
  {
   "cell_type": "code",
   "execution_count": 21,
   "metadata": {},
   "outputs": [
    {
     "data": {
      "text/plain": [
       "113"
      ]
     },
     "execution_count": 21,
     "metadata": {},
     "output_type": "execute_result"
    }
   ],
   "source": [
    "len(news['content'][0])"
   ]
  },
  {
   "cell_type": "markdown",
   "metadata": {},
   "source": [
    "Eliminar los artículos que no tengan título (Word2Vec no tenía las palabras originales)"
   ]
  },
  {
   "cell_type": "code",
   "execution_count": 22,
   "metadata": {},
   "outputs": [],
   "source": [
    "news = news[news['title'].map(len) >= 1]"
   ]
  },
  {
   "cell_type": "markdown",
   "metadata": {},
   "source": [
    "Pero hay un **problema**: La entrada de la red no puede ser variable. Para solucionar esto, es necesario añadir padding a todas las matrices, de tal manera que todas tengan una longitud física.\n",
    "\n",
    "Si miden menos de una cierta longitud $n$ ($l < n$) entonces se le añadirán \"filas\" con ceros hasta alacanzar las dimensiones necesarias. Si mide más, se truncará de tal manera que $l = n$"
   ]
  },
  {
   "cell_type": "code",
   "execution_count": 23,
   "metadata": {},
   "outputs": [],
   "source": [
    "def pad_array(array, token_len):\n",
    "    diff_token = token_len - len(array)\n",
    "    if(diff_token < 0):\n",
    "        array = array[:token_len] #Truncate\n",
    "    else:\n",
    "        #Pad\n",
    "        array += [0]*diff_token #Pad\n",
    "        \n",
    "    return array\n",
    "    "
   ]
  },
  {
   "cell_type": "markdown",
   "metadata": {},
   "source": [
    "Es necesario encontrar un `token_len` que sea suficiente para que cubra, en general, la longitud de todos los artículos."
   ]
  },
  {
   "cell_type": "code",
   "execution_count": 24,
   "metadata": {},
   "outputs": [
    {
     "name": "stderr",
     "output_type": "stream",
     "text": [
      "100%|██████████| 360740/360740 [00:06<00:00, 52093.22it/s]\n"
     ]
    },
    {
     "data": {
      "text/plain": [
       "<matplotlib.axes._subplots.AxesSubplot at 0x34d3edf98>"
      ]
     },
     "execution_count": 24,
     "metadata": {},
     "output_type": "execute_result"
    },
    {
     "data": {
      "image/png": "[encoded data removed]",
      "text/plain": [
       "<Figure size 1152x432 with 1 Axes>"
      ]
     },
     "metadata": {
      "needs_background": "light"
     },
     "output_type": "display_data"
    }
   ],
   "source": [
    "# Longitud en tokens de cada noticia\n",
    "tokens_numbers = news.progress_apply(lambda row: len(row['content']), axis = 1)\n",
    "\n",
    "fig, ax = plt.subplots(1,1, figsize=(16,6))\n",
    "tokens_numbers.plot.hist(title=\"Number of tokens in the article\", bins = 70, ax=ax)"
   ]
  },
  {
   "cell_type": "code",
   "execution_count": 25,
   "metadata": {},
   "outputs": [
    {
     "name": "stdout",
     "output_type": "stream",
     "text": [
      "Número medio de tokens por artículo: 379\n",
      "Desviación estándar de tokens por artículo: 633\n",
      "Mediana de tokens por artículo: 199\n"
     ]
    }
   ],
   "source": [
    "print(\"Número medio de tokens por artículo: {}\".format(int(np.mean(tokens_numbers))))\n",
    "print(\"Desviación estándar de tokens por artículo: {}\".format(int(np.std(tokens_numbers))))\n",
    "print(\"Mediana de tokens por artículo: {}\".format(int(np.median(tokens_numbers))))"
   ]
  },
  {
   "cell_type": "markdown",
   "metadata": {},
   "source": [
    "Escogemos el número máximo como $mean + 2\\sigma$"
   ]
  },
  {
   "cell_type": "code",
   "execution_count": 26,
   "metadata": {},
   "outputs": [
    {
     "name": "stdout",
     "output_type": "stream",
     "text": [
      "Ventana de tokens escogida: 1645 - Cubre el 97.02472695015801% del dataset\n"
     ]
    }
   ],
   "source": [
    "max_tokens = np.mean(tokens_numbers) + 2 * np.std(tokens_numbers)\n",
    "max_tokens = int(max_tokens)\n",
    "\n",
    "percent_tokens = tokens_numbers[tokens_numbers <= max_tokens].count() / tokens_numbers.count()\n",
    "print(\"Ventana de tokens escogida: {} - Cubre el {}% del dataset\".format(max_tokens, percent_tokens*100))"
   ]
  },
  {
   "cell_type": "code",
   "execution_count": 27,
   "metadata": {},
   "outputs": [],
   "source": [
    "n_tokens = max_tokens"
   ]
  },
  {
   "cell_type": "code",
   "execution_count": 28,
   "metadata": {
    "scrolled": true
   },
   "outputs": [
    {
     "name": "stderr",
     "output_type": "stream",
     "text": [
      "100%|██████████| 360740/360740 [00:14<00:00, 24505.94it/s]\n"
     ]
    }
   ],
   "source": [
    "news['content'] = news.progress_apply(lambda r: pad_array(r['content'], n_tokens) , axis=1)"
   ]
  },
  {
   "cell_type": "markdown",
   "metadata": {},
   "source": [
    "Lo mismo para los títulos"
   ]
  },
  {
   "cell_type": "code",
   "execution_count": 29,
   "metadata": {},
   "outputs": [
    {
     "name": "stdout",
     "output_type": "stream",
     "text": [
      "Número medio de tokens por título: 6\n",
      "Desviación estándar de tokens por título: 3\n",
      "Mediana de tokens por título: 6\n",
      "Ventana de tokens escogida: 13 - Cubre el 97.1034540111992% del dataset\n"
     ]
    },
    {
     "data": {
      "image/png": "[encoded data removed]",
      "text/plain": [
       "<Figure size 1152x432 with 1 Axes>"
      ]
     },
     "metadata": {
      "needs_background": "light"
     },
     "output_type": "display_data"
    }
   ],
   "source": [
    "# Longitud en tokens de cada noticia\n",
    "tokens_numbers = news.apply(lambda row: len(row['title']), axis = 1)\n",
    "\n",
    "fig, ax = plt.subplots(1,1, figsize=(16,6))\n",
    "tokens_numbers.plot.hist(title=\"Number of tokens in the article\", bins = 30, ax=ax)\n",
    "\n",
    "print(\"Número medio de tokens por título: {}\".format(int(np.mean(tokens_numbers))))\n",
    "print(\"Desviación estándar de tokens por título: {}\".format(int(np.std(tokens_numbers))))\n",
    "print(\"Mediana de tokens por título: {}\".format(int(np.median(tokens_numbers))))\n",
    "\n",
    "max_tokens = np.mean(tokens_numbers) + 2 * np.std(tokens_numbers)\n",
    "max_tokens = int(max_tokens)\n",
    "\n",
    "n_tokens = max_tokens\n",
    "\n",
    "percent_tokens = tokens_numbers[tokens_numbers <= max_tokens].count() / tokens_numbers.count()\n",
    "print(\"Ventana de tokens escogida: {} - Cubre el {}% del dataset\".format(max_tokens, percent_tokens*100))"
   ]
  },
  {
   "cell_type": "code",
   "execution_count": 30,
   "metadata": {},
   "outputs": [
    {
     "name": "stderr",
     "output_type": "stream",
     "text": [
      "100%|██████████| 360740/360740 [00:07<00:00, 48174.62it/s]\n"
     ]
    }
   ],
   "source": [
    "news['title'] = news.progress_apply(lambda r: pad_array(r['title'], n_tokens) , axis=1)"
   ]
  },
  {
   "cell_type": "markdown",
   "metadata": {},
   "source": [
    "### Convertir variable objetivo a OneHot Encodding"
   ]
  },
  {
   "cell_type": "code",
   "execution_count": 31,
   "metadata": {},
   "outputs": [],
   "source": [
    "encoder = LabelBinarizer().fit(list(news['type']))\n",
    "news['one_hot_label'] = news.apply(lambda r: encoder.transform([r['type']])[0], axis=1)"
   ]
  },
  {
   "cell_type": "code",
   "execution_count": 32,
   "metadata": {
    "scrolled": true
   },
   "outputs": [
    {
     "data": {
      "text/html": [
       "<div>\n",
       "<style scoped>\n",
       "    .dataframe tbody tr th:only-of-type {\n",
       "        vertical-align: middle;\n",
       "    }\n",
       "\n",
       "    .dataframe tbody tr th {\n",
       "        vertical-align: top;\n",
       "    }\n",
       "\n",
       "    .dataframe thead th {\n",
       "        text-align: right;\n",
       "    }\n",
       "</style>\n",
       "<table border=\"1\" class=\"dataframe\">\n",
       "  <thead>\n",
       "    <tr style=\"text-align: right;\">\n",
       "      <th></th>\n",
       "      <th>type</th>\n",
       "      <th>content</th>\n",
       "      <th>title</th>\n",
       "      <th>one_hot_label</th>\n",
       "    </tr>\n",
       "  </thead>\n",
       "  <tbody>\n",
       "    <tr>\n",
       "      <th>0</th>\n",
       "      <td>fake</td>\n",
       "      <td>[2458, 4, 27, 17625, 12, 328, 5, 25587, 416, 1...</td>\n",
       "      <td>[1732, 258, 27, 7196, 2154, 4192, 88, 43, 13, ...</td>\n",
       "      <td>[0, 1, 0]</td>\n",
       "    </tr>\n",
       "    <tr>\n",
       "      <th>1</th>\n",
       "      <td>fake</td>\n",
       "      <td>[3836, 22, 506, 3059, 67, 2, 2941, 2429, 33, 3...</td>\n",
       "      <td>[6117, 13034, 0, 0, 0, 0, 0, 0, 0, 0, 0, 0, 0]</td>\n",
       "      <td>[0, 1, 0]</td>\n",
       "    </tr>\n",
       "    <tr>\n",
       "      <th>2</th>\n",
       "      <td>fake</td>\n",
       "      <td>[7, 37481, 39852, 483, 423, 24, 42, 1837, 81, ...</td>\n",
       "      <td>[6117, 13034, 0, 0, 0, 0, 0, 0, 0, 0, 0, 0, 0]</td>\n",
       "      <td>[0, 1, 0]</td>\n",
       "    </tr>\n",
       "    <tr>\n",
       "      <th>3</th>\n",
       "      <td>fake</td>\n",
       "      <td>[7, 1790, 659, 24, 846, 6786, 5428, 17, 52, 44...</td>\n",
       "      <td>[13341, 1421, 1992, 1178, 8704, 11, 13034, 387...</td>\n",
       "      <td>[0, 1, 0]</td>\n",
       "    </tr>\n",
       "    <tr>\n",
       "      <th>4</th>\n",
       "      <td>fake</td>\n",
       "      <td>[59, 24, 216, 529, 104, 11, 34925, 133, 31, 24...</td>\n",
       "      <td>[13034, 43, 39049, 43, 76, 1588, 38, 23, 8158,...</td>\n",
       "      <td>[0, 1, 0]</td>\n",
       "    </tr>\n",
       "  </tbody>\n",
       "</table>\n",
       "</div>"
      ],
      "text/plain": [
       "   type                                            content  \\\n",
       "0  fake  [2458, 4, 27, 17625, 12, 328, 5, 25587, 416, 1...   \n",
       "1  fake  [3836, 22, 506, 3059, 67, 2, 2941, 2429, 33, 3...   \n",
       "2  fake  [7, 37481, 39852, 483, 423, 24, 42, 1837, 81, ...   \n",
       "3  fake  [7, 1790, 659, 24, 846, 6786, 5428, 17, 52, 44...   \n",
       "4  fake  [59, 24, 216, 529, 104, 11, 34925, 133, 31, 24...   \n",
       "\n",
       "                                               title one_hot_label  \n",
       "0  [1732, 258, 27, 7196, 2154, 4192, 88, 43, 13, ...     [0, 1, 0]  \n",
       "1     [6117, 13034, 0, 0, 0, 0, 0, 0, 0, 0, 0, 0, 0]     [0, 1, 0]  \n",
       "2     [6117, 13034, 0, 0, 0, 0, 0, 0, 0, 0, 0, 0, 0]     [0, 1, 0]  \n",
       "3  [13341, 1421, 1992, 1178, 8704, 11, 13034, 387...     [0, 1, 0]  \n",
       "4  [13034, 43, 39049, 43, 76, 1588, 38, 23, 8158,...     [0, 1, 0]  "
      ]
     },
     "execution_count": 32,
     "metadata": {},
     "output_type": "execute_result"
    }
   ],
   "source": [
    "news.head()"
   ]
  },
  {
   "cell_type": "code",
   "execution_count": 33,
   "metadata": {},
   "outputs": [],
   "source": [
    "news.to_pickle('../data/news_proc.pickle')"
   ]
  },
  {
   "cell_type": "code",
   "execution_count": null,
   "metadata": {},
   "outputs": [],
   "source": []
  },
  {
   "cell_type": "code",
   "execution_count": null,
   "metadata": {},
   "outputs": [],
   "source": []
  },
  {
   "cell_type": "code",
   "execution_count": 62,
   "metadata": {},
   "outputs": [],
   "source": [
    "news.to_csv('../data/news_proc.csv')"
   ]
  },
  {
   "cell_type": "code",
   "execution_count": 46,
   "metadata": {},
   "outputs": [
    {
     "data": {
      "text/plain": [
       "500"
      ]
     },
     "execution_count": 46,
     "metadata": {},
     "output_type": "execute_result"
    }
   ],
   "source": [
    "model.vocab['doing'].index"
   ]
  },
  {
   "cell_type": "code",
   "execution_count": 57,
   "metadata": {},
   "outputs": [
    {
     "data": {
      "text/plain": [
       "'doing'"
      ]
     },
     "execution_count": 57,
     "metadata": {},
     "output_type": "execute_result"
    }
   ],
   "source": [
    "model.index2word[500]"
   ]
  },
  {
   "cell_type": "markdown",
   "metadata": {},
   "source": [
    "Guardamos el dataset procesado como `.pickle` (serializado de objetos python)."
   ]
  },
  {
   "cell_type": "code",
   "execution_count": null,
   "metadata": {},
   "outputs": [],
   "source": [
    "news.to_pickle(\"../data/news_processed.pickle\")"
   ]
  },
  {
   "cell_type": "code",
   "execution_count": null,
   "metadata": {},
   "outputs": [],
   "source": []
  },
  {
   "cell_type": "code",
   "execution_count": null,
   "metadata": {},
   "outputs": [],
   "source": []
  }
 ],
 "metadata": {
  "kernelspec": {
   "display_name": "Python 3",
   "language": "python",
   "name": "python3"
  },
  "language_info": {
   "codemirror_mode": {
    "name": "ipython",
    "version": 3
   },
   "file_extension": ".py",
   "mimetype": "text/x-python",
   "name": "python",
   "nbconvert_exporter": "python",
   "pygments_lexer": "ipython3",
   "version": "3.6.7"
  }
 },
 "nbformat": 4,
 "nbformat_minor": 2
}
