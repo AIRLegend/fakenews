{
  "nbformat": 4,
  "nbformat_minor": 0,
  "metadata": {
    "colab": {
      "name": "Test-Colab-Categorical.ipynb",
      "version": "0.3.2",
      "provenance": [],
      "collapsed_sections": []
    },
    "kernelspec": {
      "name": "python3",
      "display_name": "Python 3"
    },
    "accelerator": "GPU"
  },
  "cells": [
    {
      "cell_type": "markdown",
      "metadata": {
        "id": "8D_Equ4vDsT7",
        "colab_type": "text"
      },
      "source": [
        "# Prueba de los modelos\n",
        "\n",
        "En este notebook se probarán los modelos entrenados (CNN y LSTM) sobre los datasets de prueba *\"Getting Real About Fake News\"* y *\"Fake news detection\"*.\n"
      ]
    },
    {
      "cell_type": "markdown",
      "metadata": {
        "id": "cM03nLDQDx50",
        "colab_type": "text"
      },
      "source": [
        "## Imports"
      ]
    },
    {
      "cell_type": "code",
      "metadata": {
        "id": "yTnhOxpiEMtP",
        "colab_type": "code",
        "colab": {
          "base_uri": "https://localhost:8080/",
          "height": 209
        },
        "outputId": "e00a7543-4089-4493-9d06-8106969ce2ec"
      },
      "source": [
        "from google.colab import drive\n",
        "drive.mount('/content/drive')"
      ],
      "execution_count": 1,
      "outputs": [
        {
          "output_type": "stream",
          "text": [
            "Go to this URL in a browser: https://accounts.google.com/o/oauth2/auth?client_id=947318989803-6bn6qk8qdgf4n4g3pfee6491hc0brc4i.apps.googleusercontent.com&redirect_uri=urn%3Aietf%3Awg%3Aoauth%3A2.0%3Aoob&scope=email%20https%3A%2F%2Fwww.googleapis.com%2Fauth%2Fdocs.test%20https%3A%2F%2Fwww.googleapis.com%2Fauth%2Fdrive%20https%3A%2F%2Fwww.googleapis.com%2Fauth%2Fdrive.photos.readonly%20https%3A%2F%2Fwww.googleapis.com%2Fauth%2Fpeopleapi.readonly&response_type=code\n",
            "\n",
            "Enter your authorization code:\n",
            "··········\n",
            "Mounted at /content/drive\n"
          ],
          "name": "stdout"
        }
      ]
    },
    {
      "cell_type": "code",
      "metadata": {
        "id": "-h0PLOjXEUGh",
        "colab_type": "code",
        "colab": {
          "base_uri": "https://localhost:8080/",
          "height": 151
        },
        "outputId": "a7a38658-cb94-4750-bfc3-8ae7c3199b12"
      },
      "source": [
        "!pip install --upgrade pandas"
      ],
      "execution_count": 2,
      "outputs": [
        {
          "output_type": "stream",
          "text": [
            "Requirement already up-to-date: pandas in /usr/local/lib/python3.6/dist-packages (0.24.2)\n",
            "Requirement already satisfied, skipping upgrade: pytz>=2011k in /usr/local/lib/python3.6/dist-packages (from pandas) (2018.9)\n",
            "Requirement already satisfied, skipping upgrade: python-dateutil>=2.5.0 in /usr/local/lib/python3.6/dist-packages (from pandas) (2.5.3)\n",
            "Requirement already satisfied, skipping upgrade: numpy>=1.12.0 in /usr/local/lib/python3.6/dist-packages (from pandas) (1.16.3)\n",
            "Requirement already satisfied, skipping upgrade: six>=1.5 in /usr/local/lib/python3.6/dist-packages (from python-dateutil>=2.5.0->pandas) (1.12.0)\n"
          ],
          "name": "stdout"
        }
      ]
    },
    {
      "cell_type": "code",
      "metadata": {
        "id": "sGymmzMYEb9y",
        "colab_type": "code",
        "colab": {
          "base_uri": "https://localhost:8080/",
          "height": 51
        },
        "outputId": "9154b81a-b7a4-418b-b6ea-7bd3a0e6bca6"
      },
      "source": [
        "!ls \"drive/My Drive/Colab Notebooks/data\""
      ],
      "execution_count": 3,
      "outputs": [
        {
          "output_type": "stream",
          "text": [
            "data_kaggle_proc.pickle\t\t       news_getting_real.pickle\n",
            "GoogleNews-vectors-negative300.bin.gz  news_proc_12_3_19.pickle\n"
          ],
          "name": "stdout"
        }
      ]
    },
    {
      "cell_type": "code",
      "metadata": {
        "id": "obqRzUUdEeRy",
        "colab_type": "code",
        "colab": {}
      },
      "source": [
        "import pandas as pd\n",
        "import numpy as np\n",
        "\n",
        "#Progress bars\n",
        "from tqdm import tqdm\n",
        "tqdm.pandas()\n",
        "\n",
        "#Paralelize pandas apply on multiple cores\n",
        "#import swifter\n",
        "\n",
        "from matplotlib import pyplot as plt\n",
        "from matplotlib import style\n",
        "#Nicer style\n",
        "style.use('seaborn')\n",
        "import seaborn as sns\n",
        "\n",
        "from tensorflow import keras as k\n",
        "\n",
        "from sklearn.model_selection import train_test_split\n",
        "\n",
        "from gensim.models import KeyedVectors\n",
        "\n",
        "from sklearn.metrics import accuracy_score, confusion_matrix, classification_report"
      ],
      "execution_count": 0,
      "outputs": []
    },
    {
      "cell_type": "code",
      "metadata": {
        "id": "Phzn0O7dEkxK",
        "colab_type": "code",
        "colab": {}
      },
      "source": [
        "LSTM_PATH = 'drive/My Drive/Colab Notebooks/weights/lstm.h5'\n",
        "CONV_PATH = 'drive/My Drive/Colab Notebooks/weights/conv.h5'"
      ],
      "execution_count": 0,
      "outputs": []
    },
    {
      "cell_type": "markdown",
      "metadata": {
        "id": "u2VhzVjJEvW4",
        "colab_type": "text"
      },
      "source": [
        "## Prepare data"
      ]
    },
    {
      "cell_type": "code",
      "metadata": {
        "id": "r6sw8lCcExJ9",
        "colab_type": "code",
        "colab": {}
      },
      "source": [
        "getting_real = pd.read_pickle('drive/My Drive/Colab Notebooks/data/news_getting_real2.pickle')\n",
        "true_or_fake = pd.read_pickle('drive/My Drive/Colab Notebooks/data/data_kaggle_proc.pickle')"
      ],
      "execution_count": 0,
      "outputs": []
    },
    {
      "cell_type": "code",
      "metadata": {
        "id": "lckZjRSZGMSB",
        "colab_type": "code",
        "colab": {
          "base_uri": "https://localhost:8080/",
          "height": 111
        },
        "outputId": "c2c3e26b-ce7e-4ff0-e4f6-467cd6fa2bb2"
      },
      "source": [
        "getting_real.head(2)"
      ],
      "execution_count": 127,
      "outputs": [
        {
          "output_type": "execute_result",
          "data": {
            "text/html": [
              "<div>\n",
              "<style scoped>\n",
              "    .dataframe tbody tr th:only-of-type {\n",
              "        vertical-align: middle;\n",
              "    }\n",
              "\n",
              "    .dataframe tbody tr th {\n",
              "        vertical-align: top;\n",
              "    }\n",
              "\n",
              "    .dataframe thead th {\n",
              "        text-align: right;\n",
              "    }\n",
              "</style>\n",
              "<table border=\"1\" class=\"dataframe\">\n",
              "  <thead>\n",
              "    <tr style=\"text-align: right;\">\n",
              "      <th></th>\n",
              "      <th>title</th>\n",
              "      <th>type</th>\n",
              "      <th>content</th>\n",
              "      <th>one_hot_label</th>\n",
              "    </tr>\n",
              "  </thead>\n",
              "  <tbody>\n",
              "    <tr>\n",
              "      <th>0</th>\n",
              "      <td>[4024, 2370, 1280, 11538, 17251, 20, 17919, 57...</td>\n",
              "      <td>fake</td>\n",
              "      <td>[4024, 2370, 1280, 11538, 17251, 20, 17919, 57...</td>\n",
              "      <td>[0, 1, 0]</td>\n",
              "    </tr>\n",
              "    <tr>\n",
              "      <th>1</th>\n",
              "      <td>[5977, 4211, 7726, 11538, 9311, 8469, 4211, 12...</td>\n",
              "      <td>fake</td>\n",
              "      <td>[5760, 5760, 0, 0, 0, 0, 0, 0, 0, 0, 0, 0, 0, ...</td>\n",
              "      <td>[0, 1, 0]</td>\n",
              "    </tr>\n",
              "  </tbody>\n",
              "</table>\n",
              "</div>"
            ],
            "text/plain": [
              "                                               title  type  \\\n",
              "0  [4024, 2370, 1280, 11538, 17251, 20, 17919, 57...  fake   \n",
              "1  [5977, 4211, 7726, 11538, 9311, 8469, 4211, 12...  fake   \n",
              "\n",
              "                                             content one_hot_label  \n",
              "0  [4024, 2370, 1280, 11538, 17251, 20, 17919, 57...     [0, 1, 0]  \n",
              "1  [5760, 5760, 0, 0, 0, 0, 0, 0, 0, 0, 0, 0, 0, ...     [0, 1, 0]  "
            ]
          },
          "metadata": {
            "tags": []
          },
          "execution_count": 127
        }
      ]
    },
    {
      "cell_type": "code",
      "metadata": {
        "id": "xtUJOJSwIwOE",
        "colab_type": "code",
        "colab": {
          "base_uri": "https://localhost:8080/",
          "height": 111
        },
        "outputId": "a958b02e-9b69-4b5f-9e57-e009f56e3117"
      },
      "source": [
        "true_or_fake.head(2)"
      ],
      "execution_count": 128,
      "outputs": [
        {
          "output_type": "execute_result",
          "data": {
            "text/html": [
              "<div>\n",
              "<style scoped>\n",
              "    .dataframe tbody tr th:only-of-type {\n",
              "        vertical-align: middle;\n",
              "    }\n",
              "\n",
              "    .dataframe tbody tr th {\n",
              "        vertical-align: top;\n",
              "    }\n",
              "\n",
              "    .dataframe thead th {\n",
              "        text-align: right;\n",
              "    }\n",
              "</style>\n",
              "<table border=\"1\" class=\"dataframe\">\n",
              "  <thead>\n",
              "    <tr style=\"text-align: right;\">\n",
              "      <th></th>\n",
              "      <th>Headline</th>\n",
              "      <th>Body</th>\n",
              "      <th>Label</th>\n",
              "    </tr>\n",
              "  </thead>\n",
              "  <tbody>\n",
              "    <tr>\n",
              "      <th>0</th>\n",
              "      <td>[2675, 1143, 2205, 48926, 6117, 13034, 0, 0, 0...</td>\n",
              "      <td>[15680, 8429, 28683, 14257, 312, 281, 565, 611...</td>\n",
              "      <td>[0, 0, 0, 1]</td>\n",
              "    </tr>\n",
              "    <tr>\n",
              "      <th>1</th>\n",
              "      <td>[556, 2168, 3912, 5042, 2360, 508, 115, 948, 0...</td>\n",
              "      <td>[4949, 20876, 17535, 3912, 46, 3610, 556, 3230...</td>\n",
              "      <td>[0, 0, 0, 1]</td>\n",
              "    </tr>\n",
              "  </tbody>\n",
              "</table>\n",
              "</div>"
            ],
            "text/plain": [
              "                                            Headline  \\\n",
              "0  [2675, 1143, 2205, 48926, 6117, 13034, 0, 0, 0...   \n",
              "1  [556, 2168, 3912, 5042, 2360, 508, 115, 948, 0...   \n",
              "\n",
              "                                                Body         Label  \n",
              "0  [15680, 8429, 28683, 14257, 312, 281, 565, 611...  [0, 0, 0, 1]  \n",
              "1  [4949, 20876, 17535, 3912, 46, 3610, 556, 3230...  [0, 0, 0, 1]  "
            ]
          },
          "metadata": {
            "tags": []
          },
          "execution_count": 128
        }
      ]
    },
    {
      "cell_type": "markdown",
      "metadata": {
        "id": "AuK3kmSMQ4i-",
        "colab_type": "text"
      },
      "source": [
        "### Reprocesar variables objetivo\n",
        "Los modelos están preparados para distinguir 4 tipos de noticia (clickbait, bias, fake y true). Sin embargo, estos datasets no cuentan con las mismas categorias.\n",
        " \n",
        " * Getting Real About FN:  *fake, bias y true*\n",
        " * Fake or True: *true y fake*\n",
        " \n",
        "**Nota:** *(ver datasets de procesado)*"
      ]
    },
    {
      "cell_type": "code",
      "metadata": {
        "id": "cFcp51Z7Fs3j",
        "colab_type": "code",
        "colab": {}
      },
      "source": [
        "fit_getting_real = [np.asarray(getting_real['title'].tolist()), np.asarray(getting_real['content'].tolist())]\n",
        "fit_true_or_fake = [np.asarray(true_or_fake['Headline'].tolist()), np.asarray(true_or_fake['Body'].tolist())]\n",
        "\n",
        "target_or_fake_tgt = np.asarray(true_or_fake['Label'].tolist())[:,2:]\n",
        "target_getting_real = np.asarray(getting_real['one_hot_label'].tolist())"
      ],
      "execution_count": 0,
      "outputs": []
    },
    {
      "cell_type": "markdown",
      "metadata": {
        "id": "ygFIAbW6F45h",
        "colab_type": "text"
      },
      "source": [
        "## Predict CNN"
      ]
    },
    {
      "cell_type": "code",
      "metadata": {
        "id": "y2mJM53VF67K",
        "colab_type": "code",
        "colab": {
          "base_uri": "https://localhost:8080/",
          "height": 210
        },
        "outputId": "b6f434fd-b9b5-4817-8b8b-c0cdb0fa1e33"
      },
      "source": [
        "cnn_model = k.models.load_model(CONV_PATH)"
      ],
      "execution_count": 11,
      "outputs": [
        {
          "output_type": "stream",
          "text": [
            "WARNING:tensorflow:From /usr/local/lib/python3.6/dist-packages/tensorflow/python/ops/resource_variable_ops.py:435: colocate_with (from tensorflow.python.framework.ops) is deprecated and will be removed in a future version.\n",
            "Instructions for updating:\n",
            "Colocations handled automatically by placer.\n",
            "WARNING:tensorflow:From /usr/local/lib/python3.6/dist-packages/tensorflow/python/keras/layers/core.py:143: calling dropout (from tensorflow.python.ops.nn_ops) with keep_prob is deprecated and will be removed in a future version.\n",
            "Instructions for updating:\n",
            "Please use `rate` instead of `keep_prob`. Rate should be set to `rate = 1 - keep_prob`.\n",
            "WARNING:tensorflow:From /usr/local/lib/python3.6/dist-packages/tensorflow/python/ops/math_ops.py:3066: to_int32 (from tensorflow.python.ops.math_ops) is deprecated and will be removed in a future version.\n",
            "Instructions for updating:\n",
            "Use tf.cast instead.\n"
          ],
          "name": "stdout"
        }
      ]
    },
    {
      "cell_type": "markdown",
      "metadata": {
        "id": "HaiJxOz8czgH",
        "colab_type": "text"
      },
      "source": [
        "#### Predicción sobre *Fake or true*"
      ]
    },
    {
      "cell_type": "code",
      "metadata": {
        "id": "vRCzMJUaF_mj",
        "colab_type": "code",
        "colab": {}
      },
      "source": [
        "pred = cnn_model.predict(fit_true_or_fake)\n",
        "\n",
        "pr = pred.round()\n",
        "#Set Bias to Fake\n",
        "mask = np.all((pred.round() == [1.,0.,0.,0.]), axis=1)\n",
        "pr[mask] = np.repeat(np.array([0.,0.,1.,0.]).reshape(-1,4), pr[mask].shape[0], axis=0)\n",
        "\n",
        "#Set Fake\n",
        "mask = np.all((pred.round() == [0.,1.,0.,0.]), axis=1)\n",
        "pr[mask] = np.repeat(np.array([0.,0.,1.,0.]).reshape(-1,4), pr[mask].shape[0], axis=0)"
      ],
      "execution_count": 0,
      "outputs": []
    },
    {
      "cell_type": "code",
      "metadata": {
        "id": "RmVc6C71WVmt",
        "colab_type": "code",
        "colab": {
          "base_uri": "https://localhost:8080/",
          "height": 34
        },
        "outputId": "db82b969-2291-4aef-c332-12f6c5dcf4c4"
      },
      "source": [
        "accuracy_score(target_or_fake_tgt, pr[:,2:])"
      ],
      "execution_count": 132,
      "outputs": [
        {
          "output_type": "execute_result",
          "data": {
            "text/plain": [
              "0.5484924623115578"
            ]
          },
          "metadata": {
            "tags": []
          },
          "execution_count": 132
        }
      ]
    },
    {
      "cell_type": "code",
      "metadata": {
        "id": "Fj2gAUk0YJEJ",
        "colab_type": "code",
        "colab": {
          "base_uri": "https://localhost:8080/",
          "height": 261
        },
        "outputId": "756f3f0a-4e23-40fa-83ec-6045182c7f39"
      },
      "source": [
        "report = classification_report(target_or_fake_tgt, pr[:,2:])\n",
        "print(report)"
      ],
      "execution_count": 133,
      "outputs": [
        {
          "output_type": "stream",
          "text": [
            "              precision    recall  f1-score   support\n",
            "\n",
            "           0       0.61      0.65      0.63      2113\n",
            "           1       0.59      0.43      0.50      1867\n",
            "\n",
            "   micro avg       0.61      0.55      0.58      3980\n",
            "   macro avg       0.60      0.54      0.57      3980\n",
            "weighted avg       0.60      0.55      0.57      3980\n",
            " samples avg       0.55      0.55      0.55      3980\n",
            "\n"
          ],
          "name": "stdout"
        },
        {
          "output_type": "stream",
          "text": [
            "/usr/local/lib/python3.6/dist-packages/sklearn/metrics/classification.py:1143: UndefinedMetricWarning: Precision and F-score are ill-defined and being set to 0.0 in samples with no predicted labels.\n",
            "  'precision', 'predicted', average, warn_for)\n"
          ],
          "name": "stderr"
        }
      ]
    },
    {
      "cell_type": "code",
      "metadata": {
        "id": "VsBjJGRCY8tV",
        "colab_type": "code",
        "colab": {
          "base_uri": "https://localhost:8080/",
          "height": 398
        },
        "outputId": "2bf1f4ed-bfc6-447c-9a8d-e67d25fa4f76"
      },
      "source": [
        "matrix = confusion_matrix(target_or_fake_tgt.argmax(axis=1), pr[:,2:].argmax(axis=1))\n",
        "print(matrix)\n",
        "\n",
        "df_cm = pd.DataFrame(matrix, columns=['true', 'fake'], index=['true', 'fake'])\n",
        "sns.heatmap(df_cm, annot=True)"
      ],
      "execution_count": 134,
      "outputs": [
        {
          "output_type": "stream",
          "text": [
            "[[1566  547]\n",
            " [1064  803]]\n"
          ],
          "name": "stdout"
        },
        {
          "output_type": "execute_result",
          "data": {
            "text/plain": [
              "<matplotlib.axes._subplots.AxesSubplot at 0x7f896073aeb8>"
            ]
          },
          "metadata": {
            "tags": []
          },
          "execution_count": 134
        },
        {
          "output_type": "display_data",
          "data": {
            "image/png": "[encoded data removed]",
            "text/plain": [
              "<Figure size 576x396 with 2 Axes>"
            ]
          },
          "metadata": {
            "tags": []
          }
        }
      ]
    },
    {
      "cell_type": "markdown",
      "metadata": {
        "id": "Xam8w_ELZcdZ",
        "colab_type": "text"
      },
      "source": [
        "#### Predicción sobre Getting Real\n"
      ]
    },
    {
      "cell_type": "code",
      "metadata": {
        "id": "_699fuOldBa0",
        "colab_type": "code",
        "colab": {}
      },
      "source": [
        "pred = cnn_model.predict(fit_getting_real)\n",
        "\n",
        "pr = pred.round()\n",
        "#Set Bias to Fake\n",
        "mask = np.all((pred.round() == [1.,0.,0.,0.]), axis=1)\n",
        "pr[mask] = np.repeat(np.array([0.,0.,1.,0.]).reshape(-1,4), pr[mask].shape[0], axis=0)\n",
        "\n",
        "\n",
        "#Set target bias to fake\n",
        "mask = np.all((target_getting_real == [1.,0.,0.]), axis=1)\n",
        "target_getting_real[mask] = np.repeat(np.array([0.,1.,0.]).reshape(-1,3), target_getting_real[mask].shape[0], axis=0)"
      ],
      "execution_count": 0,
      "outputs": []
    },
    {
      "cell_type": "code",
      "metadata": {
        "id": "H-yjOsv6e7Vd",
        "colab_type": "code",
        "colab": {
          "base_uri": "https://localhost:8080/",
          "height": 34
        },
        "outputId": "bc3e502f-f07a-4c61-bb44-f8414570b9c1"
      },
      "source": [
        "accuracy_score(target_getting_real[:,1:], pr[:,2:])"
      ],
      "execution_count": 157,
      "outputs": [
        {
          "output_type": "execute_result",
          "data": {
            "text/plain": [
              "0.4734318817419097"
            ]
          },
          "metadata": {
            "tags": []
          },
          "execution_count": 157
        }
      ]
    },
    {
      "cell_type": "code",
      "metadata": {
        "id": "_-7lOOV0fjia",
        "colab_type": "code",
        "colab": {
          "base_uri": "https://localhost:8080/",
          "height": 261
        },
        "outputId": "ca296e58-a222-4dcc-9dd8-6bc7da04fb32"
      },
      "source": [
        "report = classification_report(target_getting_real[:,1:], pr[:,2:])\n",
        "print(report)"
      ],
      "execution_count": 158,
      "outputs": [
        {
          "output_type": "stream",
          "text": [
            "              precision    recall  f1-score   support\n",
            "\n",
            "           0       0.57      0.66      0.61      1503\n",
            "           1       0.30      0.19      0.23      1000\n",
            "\n",
            "   micro avg       0.49      0.47      0.48      2503\n",
            "   macro avg       0.43      0.43      0.42      2503\n",
            "weighted avg       0.46      0.47      0.46      2503\n",
            " samples avg       0.47      0.47      0.47      2503\n",
            "\n"
          ],
          "name": "stdout"
        },
        {
          "output_type": "stream",
          "text": [
            "/usr/local/lib/python3.6/dist-packages/sklearn/metrics/classification.py:1143: UndefinedMetricWarning: Precision and F-score are ill-defined and being set to 0.0 in samples with no predicted labels.\n",
            "  'precision', 'predicted', average, warn_for)\n"
          ],
          "name": "stderr"
        }
      ]
    },
    {
      "cell_type": "code",
      "metadata": {
        "id": "c5_wJ3I3fmma",
        "colab_type": "code",
        "colab": {
          "base_uri": "https://localhost:8080/",
          "height": 398
        },
        "outputId": "203639a3-605e-4e68-99d3-2b3f47468aa5"
      },
      "source": [
        "matrix = confusion_matrix(target_getting_real[:,1:].argmax(axis=1), pr[:,2:].argmax(axis=1))\n",
        "print(matrix)\n",
        "\n",
        "df_cm = pd.DataFrame(matrix, columns=['true', 'fake'], index=['true', 'fake'])\n",
        "sns.heatmap(df_cm, annot=True)"
      ],
      "execution_count": 160,
      "outputs": [
        {
          "output_type": "stream",
          "text": [
            "[[1047  456]\n",
            " [ 808  192]]\n"
          ],
          "name": "stdout"
        },
        {
          "output_type": "execute_result",
          "data": {
            "text/plain": [
              "<matplotlib.axes._subplots.AxesSubplot at 0x7f89a7a985f8>"
            ]
          },
          "metadata": {
            "tags": []
          },
          "execution_count": 160
        },
        {
          "output_type": "display_data",
          "data": {
            "image/png": "[encoded data removed]",
            "text/plain": [
              "<Figure size 576x396 with 2 Axes>"
            ]
          },
          "metadata": {
            "tags": []
          }
        }
      ]
    },
    {
      "cell_type": "code",
      "metadata": {
        "id": "kjKxqHSMgJJb",
        "colab_type": "code",
        "colab": {}
      },
      "source": [
        ""
      ],
      "execution_count": 0,
      "outputs": []
    }
  ]
}