{
 "cells": [
  {
   "cell_type": "markdown",
   "metadata": {},
   "source": [
    "# Preprocesado de las noticias"
   ]
  },
  {
   "cell_type": "markdown",
   "metadata": {},
   "source": [
    "Pre-procesado para eliminar URLS, símbolos. Es decir, cosas que no son palabras"
   ]
  },
  {
   "cell_type": "code",
   "execution_count": 1,
   "metadata": {},
   "outputs": [],
   "source": [
    "import pandas as pd\n",
    "import numpy as np\n",
    "\n",
    "from matplotlib import pyplot as plt\n",
    "from matplotlib import style\n",
    "\n",
    "#One-hot encodding\n",
    "from sklearn.preprocessing import LabelBinarizer\n",
    "\n",
    "#Progress bars\n",
    "from tqdm import tqdm\n",
    "tqdm.pandas()\n",
    "\n",
    "#Paralelize pandas apply on multiple cores\n",
    "import swifter\n",
    "\n",
    "#Nicer style\n",
    "style.use('seaborn') "
   ]
  },
  {
   "cell_type": "code",
   "execution_count": 17,
   "metadata": {},
   "outputs": [],
   "source": [
    "import re #regexp"
   ]
  },
  {
   "cell_type": "code",
   "execution_count": 18,
   "metadata": {},
   "outputs": [],
   "source": [
    "from nltk.tokenize import RegexpTokenizer"
   ]
  },
  {
   "cell_type": "markdown",
   "metadata": {},
   "source": [
    "Cargamos el dataset de noticias"
   ]
  },
  {
   "cell_type": "code",
   "execution_count": 50,
   "metadata": {},
   "outputs": [],
   "source": [
    "news = pd.read_csv(\"../data/Other_datasets/GettingRealAboutFake/all_data_unicode.csv\", sep='\\t').drop(\"Unnamed: 0\", axis=1)"
   ]
  },
  {
   "cell_type": "code",
   "execution_count": 51,
   "metadata": {},
   "outputs": [],
   "source": [
    "news.loc[news['type']==0,\"type\"] = 'fake'\n",
    "news.loc[news['type']==1,\"type\"] = 'true'"
   ]
  },
  {
   "cell_type": "code",
   "execution_count": 52,
   "metadata": {},
   "outputs": [
    {
     "data": {
      "text/plain": [
       "<matplotlib.axes._subplots.AxesSubplot at 0x1c544bccc0>"
      ]
     },
     "execution_count": 52,
     "metadata": {},
     "output_type": "execute_result"
    },
    {
     "data": {
      "image/png": "[encoded data removed]",
      "text/plain": [
       "<matplotlib.figure.Figure at 0x1c545afac8>"
      ]
     },
     "metadata": {
      "needs_background": "light"
     },
     "output_type": "display_data"
    }
   ],
   "source": [
    "fig, ax = plt.subplots(1,1, figsize=(16,6))\n",
    "news.groupby(\"type\").count()['text'].plot.bar(title = \"Number of articles by type\", ax = ax)"
   ]
  },
  {
   "cell_type": "markdown",
   "metadata": {},
   "source": [
    "### Limpieza del dataset"
   ]
  },
  {
   "cell_type": "code",
   "execution_count": 53,
   "metadata": {},
   "outputs": [],
   "source": [
    "def clean_text(text):\n",
    "    #Remove URLs\n",
    "    text = re.sub(r\"http\\S+\", \"\", text)\n",
    "    #Tokenize\n",
    "    tokenizer = RegexpTokenizer('\\w+|\\$[\\d\\.]+|\\S+')\n",
    "    tokens = tokenizer.tokenize(text)\n",
    "    #Remove non alphanumerica characters\n",
    "    words = [word for word in tokens if word.isalpha()]    \n",
    "    return words"
   ]
  },
  {
   "cell_type": "markdown",
   "metadata": {},
   "source": [
    "Limpiamos los campos que usaremos: Título y contenido"
   ]
  },
  {
   "cell_type": "code",
   "execution_count": 54,
   "metadata": {},
   "outputs": [
    {
     "name": "stderr",
     "output_type": "stream",
     "text": [
      "\n",
      "Pandas Apply:   0%|          | 0/20015 [00:00<?, ?it/s]\u001b[A\n",
      "Pandas Apply:   1%|          | 211/20015 [00:00<00:09, 2109.66it/s]\u001b[A\n",
      "Pandas Apply:   2%|▏         | 429/20015 [00:00<00:09, 2129.62it/s]\u001b[A\n",
      "Pandas Apply:   3%|▎         | 608/20015 [00:00<00:09, 2012.96it/s]\u001b[A\n",
      "Pandas Apply:   4%|▍         | 804/20015 [00:00<00:09, 1995.13it/s]\u001b[A\n",
      "Pandas Apply:   5%|▌         | 1004/20015 [00:00<00:09, 1995.19it/s]\u001b[A\n",
      "Pandas Apply:   6%|▌         | 1223/20015 [00:00<00:09, 2049.27it/s]\u001b[A\n",
      "Pandas Apply:   7%|▋         | 1489/20015 [00:00<00:08, 2200.42it/s]\u001b[A\n",
      "Pandas Apply:   9%|▉         | 1758/20015 [00:00<00:07, 2326.98it/s]\u001b[A\n",
      "Pandas Apply:  10%|▉         | 1999/20015 [00:00<00:07, 2351.17it/s]\u001b[A\n",
      "Pandas Apply:  11%|█         | 2249/20015 [00:01<00:07, 2383.82it/s]\u001b[A\n",
      "Pandas Apply:  13%|█▎        | 2527/20015 [00:01<00:07, 2489.23it/s]\u001b[A\n",
      "Pandas Apply:  14%|█▍        | 2775/20015 [00:01<00:06, 2465.40it/s]\u001b[A\n",
      "Pandas Apply:  15%|█▌        | 3101/20015 [00:01<00:06, 2659.19it/s]\u001b[A\n",
      "Pandas Apply:  17%|█▋        | 3413/20015 [00:01<00:05, 2781.41it/s]\u001b[A\n",
      "Pandas Apply:  18%|█▊        | 3696/20015 [00:01<00:06, 2608.45it/s]\u001b[A\n",
      "Pandas Apply:  20%|█▉        | 3969/20015 [00:01<00:06, 2642.63it/s]\u001b[A\n",
      "Pandas Apply:  21%|██        | 4246/20015 [00:01<00:05, 2678.70it/s]\u001b[A\n",
      "Pandas Apply:  23%|██▎       | 4517/20015 [00:01<00:05, 2638.91it/s]\u001b[A\n",
      "Pandas Apply:  24%|██▍       | 4783/20015 [00:01<00:05, 2554.58it/s]\u001b[A\n",
      "Pandas Apply:  25%|██▌       | 5076/20015 [00:02<00:05, 2656.09it/s]\u001b[A\n",
      "Pandas Apply:  27%|██▋       | 5464/20015 [00:02<00:04, 2930.40it/s]\u001b[A\n",
      "Pandas Apply:  30%|██▉       | 5935/20015 [00:02<00:04, 3304.72it/s]\u001b[A\n",
      "Pandas Apply:  31%|███▏      | 6289/20015 [00:02<00:04, 3000.07it/s]\u001b[A\n",
      "Pandas Apply:  33%|███▎      | 6620/20015 [00:02<00:04, 3084.66it/s]\u001b[A\n",
      "Pandas Apply:  35%|███▍      | 6945/20015 [00:02<00:04, 2730.96it/s]\u001b[A\n",
      "Pandas Apply:  37%|███▋      | 7387/20015 [00:02<00:04, 3084.53it/s]\u001b[A\n",
      "Pandas Apply:  39%|███▊      | 7724/20015 [00:02<00:03, 3121.57it/s]\u001b[A\n",
      "Pandas Apply:  40%|████      | 8057/20015 [00:02<00:03, 3069.01it/s]\u001b[A\n",
      "Pandas Apply:  42%|████▏     | 8379/20015 [00:03<00:04, 2451.59it/s]\u001b[A\n",
      "Pandas Apply:  43%|████▎     | 8679/20015 [00:03<00:04, 2588.18it/s]\u001b[A\n",
      "Pandas Apply:  45%|████▍     | 8961/20015 [00:03<00:04, 2328.79it/s]\u001b[A\n",
      "Pandas Apply:  47%|████▋     | 9329/20015 [00:03<00:04, 2615.38it/s]\u001b[A\n",
      "Pandas Apply:  48%|████▊     | 9617/20015 [00:03<00:04, 2528.41it/s]\u001b[A\n",
      "Pandas Apply:  50%|████▉     | 9961/20015 [00:03<00:03, 2745.24it/s]\u001b[A\n",
      "Pandas Apply:  51%|█████     | 10255/20015 [00:03<00:03, 2788.52it/s]\u001b[A\n",
      "Pandas Apply:  53%|█████▎    | 10616/20015 [00:03<00:03, 2992.30it/s]\u001b[A\n",
      "Pandas Apply:  55%|█████▍    | 10929/20015 [00:04<00:03, 2920.61it/s]\u001b[A\n",
      "Pandas Apply:  57%|█████▋    | 11309/20015 [00:04<00:02, 3137.64it/s]\u001b[A\n",
      "Pandas Apply:  58%|█████▊    | 11651/20015 [00:04<00:02, 3217.04it/s]\u001b[A\n",
      "Pandas Apply:  60%|██████    | 12031/20015 [00:04<00:02, 3370.84it/s]\u001b[A\n",
      "Pandas Apply:  62%|██████▏   | 12376/20015 [00:04<00:02, 3260.32it/s]\u001b[A\n",
      "Pandas Apply:  63%|██████▎   | 12709/20015 [00:04<00:02, 2750.98it/s]\u001b[A\n",
      "Pandas Apply:  65%|██████▍   | 13003/20015 [00:04<00:02, 2636.87it/s]\u001b[A\n",
      "Pandas Apply:  66%|██████▋   | 13281/20015 [00:04<00:02, 2674.86it/s]\u001b[A\n",
      "Pandas Apply:  68%|██████▊   | 13559/20015 [00:05<00:02, 2234.52it/s]\u001b[A\n",
      "Pandas Apply:  69%|██████▉   | 13802/20015 [00:05<00:02, 2129.83it/s]\u001b[A\n",
      "Pandas Apply:  70%|███████   | 14030/20015 [00:05<00:03, 1953.35it/s]\u001b[A\n",
      "Pandas Apply:  72%|███████▏  | 14327/20015 [00:05<00:02, 2176.57it/s]\u001b[A\n",
      "Pandas Apply:  73%|███████▎  | 14562/20015 [00:05<00:02, 2150.99it/s]\u001b[A\n",
      "Pandas Apply:  74%|███████▍  | 14849/20015 [00:05<00:02, 2325.71it/s]\u001b[A\n",
      "Pandas Apply:  77%|███████▋  | 15320/20015 [00:05<00:01, 2741.34it/s]\u001b[A\n",
      "Pandas Apply:  78%|███████▊  | 15633/20015 [00:05<00:01, 2806.72it/s]\u001b[A\n",
      "Pandas Apply:  80%|███████▉  | 15942/20015 [00:05<00:01, 2870.35it/s]\u001b[A\n",
      "Pandas Apply:  81%|████████  | 16249/20015 [00:06<00:01, 2345.53it/s]\u001b[A\n",
      "Pandas Apply:  83%|████████▎ | 16513/20015 [00:06<00:01, 2079.08it/s]\u001b[A\n",
      "Pandas Apply:  84%|████████▍ | 16887/20015 [00:06<00:01, 2395.84it/s]\u001b[A\n",
      "Pandas Apply:  86%|████████▌ | 17163/20015 [00:06<00:01, 2288.86it/s]\u001b[A\n",
      "Pandas Apply:  87%|████████▋ | 17418/20015 [00:06<00:01, 2290.20it/s]\u001b[A\n",
      "Pandas Apply:  88%|████████▊ | 17666/20015 [00:06<00:01, 2254.69it/s]\u001b[A\n",
      "Pandas Apply:  89%|████████▉ | 17905/20015 [00:06<00:00, 2253.58it/s]\u001b[A\n",
      "Pandas Apply:  91%|█████████ | 18140/20015 [00:06<00:00, 2244.47it/s]\u001b[A\n",
      "Pandas Apply:  92%|█████████▏| 18371/20015 [00:07<00:00, 2229.90it/s]\u001b[A\n",
      "Pandas Apply:  93%|█████████▎| 18599/20015 [00:07<00:00, 2144.06it/s]\u001b[A\n",
      "Pandas Apply:  94%|█████████▍| 18826/20015 [00:07<00:00, 2167.95it/s]\u001b[A\n",
      "Pandas Apply:  95%|█████████▌| 19046/20015 [00:07<00:00, 2128.12it/s]\u001b[A\n",
      "Pandas Apply:  96%|█████████▌| 19261/20015 [00:07<00:00, 2106.98it/s]\u001b[A\n",
      "Pandas Apply:  97%|█████████▋| 19480/20015 [00:07<00:00, 2130.39it/s]\u001b[A\n",
      "Pandas Apply:  99%|█████████▊| 19718/20015 [00:07<00:00, 2188.80it/s]\u001b[A\n",
      "Pandas Apply: 100%|█████████▉| 19942/20015 [00:07<00:00, 2203.45it/s]\u001b[A\n",
      "Pandas Apply: 100%|██████████| 20015/20015 [00:07<00:00, 2568.11it/s]\u001b[A\n",
      "Pandas Apply:   0%|          | 0/20015 [00:00<?, ?it/s]\u001b[A\n",
      "Pandas Apply:  18%|█▊        | 3695/20015 [00:00<00:00, 36941.84it/s]\u001b[A\n",
      "Pandas Apply:  29%|██▉       | 5873/20015 [00:00<00:00, 30558.82it/s]\u001b[A\n",
      "Pandas Apply:  47%|████▋     | 9442/20015 [00:00<00:00, 31935.50it/s]\u001b[A\n",
      "Pandas Apply:  66%|██████▌   | 13162/20015 [00:00<00:00, 33329.07it/s]\u001b[A\n",
      "Pandas Apply:  83%|████████▎ | 16709/20015 [00:00<00:00, 33943.39it/s]\u001b[A\n",
      "Pandas Apply: 100%|██████████| 20015/20015 [00:00<00:00, 33809.46it/s]\u001b[A"
     ]
    }
   ],
   "source": [
    "#Clean content\n",
    "news['text'] = news.swifter.apply(lambda row: clean_text(row['text']), axis=1)\n",
    "#Clean title\n",
    "news['title'] = news.swifter.apply(lambda row: clean_text(row['title']), axis=1)\n",
    "\n",
    "#Select only news with text\n",
    "news = news[news['title'].str.len() >= 1]\n",
    "news = news[news['text'].str.len() >= 1]"
   ]
  },
  {
   "cell_type": "code",
   "execution_count": 55,
   "metadata": {},
   "outputs": [
    {
     "data": {
      "text/html": [
       "<div>\n",
       "<style scoped>\n",
       "    .dataframe tbody tr th:only-of-type {\n",
       "        vertical-align: middle;\n",
       "    }\n",
       "\n",
       "    .dataframe tbody tr th {\n",
       "        vertical-align: top;\n",
       "    }\n",
       "\n",
       "    .dataframe thead th {\n",
       "        text-align: right;\n",
       "    }\n",
       "</style>\n",
       "<table border=\"1\" class=\"dataframe\">\n",
       "  <thead>\n",
       "    <tr style=\"text-align: right;\">\n",
       "      <th></th>\n",
       "      <th>title</th>\n",
       "      <th>text</th>\n",
       "      <th>type</th>\n",
       "    </tr>\n",
       "  </thead>\n",
       "  <tbody>\n",
       "    <tr>\n",
       "      <th>0</th>\n",
       "      <td>[At, Donald, Trump, Properties, a, Showcase, f...</td>\n",
       "      <td>[They, stood, in, line, at, Trump, Tower, some...</td>\n",
       "      <td>true</td>\n",
       "    </tr>\n",
       "    <tr>\n",
       "      <th>1</th>\n",
       "      <td>[Trump, Foundation, Tells, New, York, It, Has,...</td>\n",
       "      <td>[Donald, J, Trump, foundation, informed, Attor...</td>\n",
       "      <td>true</td>\n",
       "    </tr>\n",
       "    <tr>\n",
       "      <th>2</th>\n",
       "      <td>[Donald, Trump, Prepares, for, White, House, M...</td>\n",
       "      <td>[President, Donald, J, Trump, won, the, White,...</td>\n",
       "      <td>true</td>\n",
       "    </tr>\n",
       "  </tbody>\n",
       "</table>\n",
       "</div>"
      ],
      "text/plain": [
       "                                               title  \\\n",
       "0  [At, Donald, Trump, Properties, a, Showcase, f...   \n",
       "1  [Trump, Foundation, Tells, New, York, It, Has,...   \n",
       "2  [Donald, Trump, Prepares, for, White, House, M...   \n",
       "\n",
       "                                                text  type  \n",
       "0  [They, stood, in, line, at, Trump, Tower, some...  true  \n",
       "1  [Donald, J, Trump, foundation, informed, Attor...  true  \n",
       "2  [President, Donald, J, Trump, won, the, White,...  true  "
      ]
     },
     "execution_count": 55,
     "metadata": {},
     "output_type": "execute_result"
    }
   ],
   "source": [
    "news.head(3)"
   ]
  },
  {
   "cell_type": "code",
   "execution_count": null,
   "metadata": {},
   "outputs": [],
   "source": []
  },
  {
   "cell_type": "markdown",
   "metadata": {},
   "source": [
    "### Word2Vec"
   ]
  },
  {
   "cell_type": "code",
   "execution_count": 56,
   "metadata": {},
   "outputs": [],
   "source": [
    "from gensim.models import KeyedVectors"
   ]
  },
  {
   "cell_type": "markdown",
   "metadata": {},
   "source": [
    "Cargamos los vectores de un modelo entrenado por Google con los textos de millones de noticias"
   ]
  },
  {
   "cell_type": "code",
   "execution_count": 57,
   "metadata": {},
   "outputs": [],
   "source": [
    "model = KeyedVectors.load_word2vec_format(\"../data/GoogleNews-vectors-negative300.bin.gz\", binary=True,\n",
    "                                          limit=60000)"
   ]
  },
  {
   "cell_type": "markdown",
   "metadata": {},
   "source": [
    "Un ejemplo de predicción de palabras similares a \"Trump\""
   ]
  },
  {
   "cell_type": "code",
   "execution_count": 58,
   "metadata": {},
   "outputs": [
    {
     "data": {
      "text/plain": [
       "[('Donald_Trump', 0.8103920817375183),\n",
       " ('Celebrity_Apprentice', 0.51996910572052),\n",
       " ('Apprentice', 0.47915542125701904),\n",
       " ('Paladino', 0.4655587077140808),\n",
       " ('Snooki', 0.4468839764595032),\n",
       " ('Harrah', 0.44451743364334106),\n",
       " ('MGM_Mirage', 0.44225355982780457),\n",
       " ('Vince_McMahon', 0.44097137451171875),\n",
       " ('Limbaugh', 0.4399239420890808),\n",
       " ('Palin', 0.43837088346481323)]"
      ]
     },
     "execution_count": 58,
     "metadata": {},
     "output_type": "execute_result"
    }
   ],
   "source": [
    "model.most_similar(\"Trump\")"
   ]
  },
  {
   "cell_type": "markdown",
   "metadata": {},
   "source": [
    "A continuación convertimos las palabras del título y contenido de las noticias a los índices del vocabulario de Word2Vec."
   ]
  },
  {
   "cell_type": "code",
   "execution_count": 59,
   "metadata": {},
   "outputs": [
    {
     "name": "stderr",
     "output_type": "stream",
     "text": [
      "\n",
      "Pandas Apply:   0%|          | 0/19805 [00:00<?, ?it/s]\u001b[A\n",
      "Pandas Apply:  17%|█▋        | 3326/19805 [00:00<00:00, 33257.02it/s]\u001b[A\n",
      "Pandas Apply:  36%|███▋      | 7200/19805 [00:00<00:00, 34730.62it/s]\u001b[A\n",
      "Pandas Apply:  56%|█████▌    | 11084/19805 [00:00<00:00, 35868.46it/s]\u001b[A\n",
      "Pandas Apply:  76%|███████▌  | 14971/19805 [00:00<00:00, 36717.41it/s]\u001b[A\n",
      "Pandas Apply:  95%|█████████▍| 18797/19805 [00:00<00:00, 37165.02it/s]\u001b[A\n",
      "Pandas Apply: 100%|██████████| 19805/19805 [00:00<00:00, 37220.10it/s]\u001b[A"
     ]
    }
   ],
   "source": [
    "news['title'] = news.progress_apply(lambda r: \n",
    "                        [model.vocab[x].index for x in r['title'] if x in model.vocab], axis=1)"
   ]
  },
  {
   "cell_type": "code",
   "execution_count": 60,
   "metadata": {},
   "outputs": [
    {
     "name": "stderr",
     "output_type": "stream",
     "text": [
      "\n",
      "Pandas Apply:   0%|          | 0/19805 [00:00<?, ?it/s]\u001b[A\n",
      "Pandas Apply:   1%|          | 240/19805 [00:00<00:08, 2394.04it/s]\u001b[A\n",
      "Pandas Apply:   3%|▎         | 506/19805 [00:00<00:07, 2467.46it/s]\u001b[A\n",
      "Pandas Apply:   4%|▍         | 815/19805 [00:00<00:07, 2626.09it/s]\u001b[A\n",
      "Pandas Apply:   6%|▌         | 1145/19805 [00:00<00:06, 2796.63it/s]\u001b[A\n",
      "Pandas Apply:   8%|▊         | 1554/19805 [00:00<00:05, 3089.36it/s]\u001b[A\n",
      "Pandas Apply:  10%|▉         | 1966/19805 [00:00<00:05, 3338.75it/s]\u001b[A\n",
      "Pandas Apply:  12%|█▏        | 2366/19805 [00:00<00:04, 3510.68it/s]\u001b[A\n",
      "Pandas Apply:  14%|█▎        | 2711/19805 [00:00<00:04, 3448.27it/s]\u001b[A\n",
      "Pandas Apply:  16%|█▋        | 3241/19805 [00:00<00:04, 3851.64it/s]\u001b[A\n",
      "Pandas Apply:  18%|█▊        | 3639/19805 [00:01<00:04, 3794.72it/s]\u001b[A\n",
      "Pandas Apply:  21%|██        | 4063/19805 [00:01<00:04, 3916.59it/s]\u001b[A\n",
      "Pandas Apply:  23%|██▎       | 4515/19805 [00:01<00:03, 4076.32it/s]\u001b[A\n",
      "Pandas Apply:  25%|██▍       | 4930/19805 [00:01<00:03, 4028.39it/s]\u001b[A\n",
      "Pandas Apply:  29%|██▊       | 5649/19805 [00:01<00:03, 4640.07it/s]\u001b[A\n",
      "Pandas Apply:  31%|███       | 6161/19805 [00:01<00:02, 4768.86it/s]\u001b[A\n",
      "Pandas Apply:  34%|███▎      | 6665/19805 [00:01<00:02, 4631.53it/s]\u001b[A\n",
      "Pandas Apply:  36%|███▌      | 7148/19805 [00:01<00:02, 4595.89it/s]\u001b[A\n",
      "Pandas Apply:  39%|███▉      | 7783/19805 [00:01<00:02, 5010.91it/s]\u001b[A\n",
      "Pandas Apply:  42%|████▏     | 8305/19805 [00:01<00:02, 4492.58it/s]\u001b[A\n",
      "Pandas Apply:  44%|████▍     | 8779/19805 [00:02<00:02, 4455.71it/s]\u001b[A\n",
      "Pandas Apply:  47%|████▋     | 9242/19805 [00:02<00:02, 4443.47it/s]\u001b[A\n",
      "Pandas Apply:  49%|████▉     | 9699/19805 [00:02<00:02, 4250.98it/s]\u001b[A\n",
      "Pandas Apply:  51%|█████▏    | 10183/19805 [00:02<00:02, 4411.42it/s]\u001b[A\n",
      "Pandas Apply:  54%|█████▎    | 10633/19805 [00:02<00:02, 4314.55it/s]\u001b[A\n",
      "Pandas Apply:  56%|█████▌    | 11105/19805 [00:02<00:01, 4427.16it/s]\u001b[A\n",
      "Pandas Apply:  59%|█████▉    | 11651/19805 [00:02<00:01, 4692.80it/s]\u001b[A\n",
      "Pandas Apply:  62%|██████▏   | 12196/19805 [00:02<00:01, 4886.53it/s]\u001b[A\n",
      "Pandas Apply:  64%|██████▍   | 12693/19805 [00:02<00:01, 4456.52it/s]\u001b[A\n",
      "Pandas Apply:  67%|██████▋   | 13238/19805 [00:03<00:01, 4713.96it/s]\u001b[A\n",
      "Pandas Apply:  69%|██████▉   | 13723/19805 [00:03<00:01, 3558.88it/s]\u001b[A\n",
      "Pandas Apply:  71%|███████▏  | 14130/19805 [00:03<00:01, 3567.57it/s]\u001b[A\n",
      "Pandas Apply:  73%|███████▎  | 14523/19805 [00:03<00:01, 3606.79it/s]\u001b[A\n",
      "Pandas Apply:  77%|███████▋  | 15195/19805 [00:03<00:01, 4188.72it/s]\u001b[A\n",
      "Pandas Apply:  79%|███████▉  | 15698/19805 [00:03<00:00, 4408.65it/s]\u001b[A\n",
      "Pandas Apply:  82%|████████▏ | 16179/19805 [00:03<00:00, 4094.53it/s]\u001b[A\n",
      "Pandas Apply:  84%|████████▍ | 16621/19805 [00:03<00:00, 3950.65it/s]\u001b[A\n",
      "Pandas Apply:  86%|████████▌ | 17040/19805 [00:04<00:00, 3850.42it/s]\u001b[A\n",
      "Pandas Apply:  88%|████████▊ | 17443/19805 [00:04<00:00, 3724.90it/s]\u001b[A\n",
      "Pandas Apply:  90%|█████████ | 17829/19805 [00:04<00:00, 3685.67it/s]\u001b[A\n",
      "Pandas Apply:  92%|█████████▏| 18207/19805 [00:04<00:00, 3371.47it/s]\u001b[A\n",
      "Pandas Apply:  94%|█████████▎| 18556/19805 [00:04<00:00, 3354.53it/s]\u001b[A\n",
      "Pandas Apply:  95%|█████████▌| 18900/19805 [00:04<00:00, 3363.07it/s]\u001b[A\n",
      "Pandas Apply:  97%|█████████▋| 19243/19805 [00:04<00:00, 3259.17it/s]\u001b[A\n",
      "Pandas Apply:  99%|█████████▉| 19597/19805 [00:04<00:00, 3338.34it/s]\u001b[A\n",
      "Pandas Apply: 100%|██████████| 19805/19805 [00:04<00:00, 4029.66it/s]\u001b[A"
     ]
    }
   ],
   "source": [
    "news['text'] = news.progress_apply(lambda r: \n",
    "                        [model.vocab[x].index for x in r['text'] if x in model.vocab], axis=1)"
   ]
  },
  {
   "cell_type": "markdown",
   "metadata": {},
   "source": [
    "Eliminar los artículos que no tengan título (Word2Vec no tenía las palabras originales)"
   ]
  },
  {
   "cell_type": "code",
   "execution_count": 61,
   "metadata": {},
   "outputs": [],
   "source": [
    "news = news[news['title'].map(len) >= 1]"
   ]
  },
  {
   "cell_type": "code",
   "execution_count": 62,
   "metadata": {},
   "outputs": [],
   "source": [
    "#Reset index\n",
    "news = news.reset_index().drop(\"index\", axis=1)"
   ]
  },
  {
   "cell_type": "markdown",
   "metadata": {},
   "source": [
    "Pero hay un **problema**: La entrada de la red no puede ser variable. Para solucionar esto, es necesario añadir padding a todos los arrays, de tal manera que todos tengan una longitud física.\n",
    "\n",
    "Si miden menos de una cierta longitud $n$ ($l < n$) entonces se le añadirán \"elementos\" con ceros hasta alcanzar las dimensiones necesarias. Si mide más, se truncará de tal manera que $l = n$"
   ]
  },
  {
   "cell_type": "code",
   "execution_count": 63,
   "metadata": {},
   "outputs": [],
   "source": [
    "def pad_array(array, token_len):\n",
    "    diff_token = token_len - len(array)\n",
    "    if(diff_token < 0):\n",
    "        array = array[:token_len] #Truncate\n",
    "    else:\n",
    "        #Pad\n",
    "        array += [0]*diff_token #Pad\n",
    "        \n",
    "    return array  "
   ]
  },
  {
   "cell_type": "markdown",
   "metadata": {},
   "source": [
    "Es necesario encontrar un `token_len` que sea suficiente para que cubra, en general, la longitud de todos los artículos."
   ]
  },
  {
   "cell_type": "code",
   "execution_count": 64,
   "metadata": {},
   "outputs": [
    {
     "name": "stderr",
     "output_type": "stream",
     "text": [
      "\n",
      "Pandas Apply:   0%|          | 0/19155 [00:00<?, ?it/s]\u001b[A\n",
      "Pandas Apply:  25%|██▌       | 4854/19155 [00:00<00:00, 48539.00it/s]\u001b[A\n",
      "Pandas Apply:  50%|█████     | 9598/19155 [00:00<00:00, 48201.52it/s]\u001b[A\n",
      "Pandas Apply:  75%|███████▌  | 14441/19155 [00:00<00:00, 48267.20it/s]\u001b[A\n",
      "Pandas Apply: 100%|██████████| 19155/19155 [00:00<00:00, 47661.92it/s]\u001b[A"
     ]
    },
    {
     "data": {
      "text/plain": [
       "<matplotlib.axes._subplots.AxesSubplot at 0x1c5faf9668>"
      ]
     },
     "execution_count": 64,
     "metadata": {},
     "output_type": "execute_result"
    },
    {
     "data": {
      "image/png": "[encoded data removed]",
      "text/plain": [
       "<matplotlib.figure.Figure at 0x1c5faf6d68>"
      ]
     },
     "metadata": {
      "needs_background": "light"
     },
     "output_type": "display_data"
    }
   ],
   "source": [
    "# Longitud en tokens de cada noticia\n",
    "tokens_numbers = news.swifter.apply(lambda row: len(row['text']), axis = 1)\n",
    "\n",
    "fig, ax = plt.subplots(1,1, figsize=(16,6))\n",
    "tokens_numbers.plot.hist(title=\"Number of tokens in the article\", bins = 70, ax=ax)"
   ]
  },
  {
   "cell_type": "code",
   "execution_count": 65,
   "metadata": {},
   "outputs": [
    {
     "name": "stdout",
     "output_type": "stream",
     "text": [
      "Número medio de tokens por artículo: 621\n",
      "Desviación estándar de tokens por artículo: 717\n",
      "Mediana de tokens por artículo: 471\n"
     ]
    }
   ],
   "source": [
    "print(\"Número medio de tokens por artículo: {}\".format(int(np.mean(tokens_numbers))))\n",
    "print(\"Desviación estándar de tokens por artículo: {}\".format(int(np.std(tokens_numbers))))\n",
    "print(\"Mediana de tokens por artículo: {}\".format(int(np.median(tokens_numbers))))"
   ]
  },
  {
   "cell_type": "code",
   "execution_count": 66,
   "metadata": {},
   "outputs": [
    {
     "name": "stdout",
     "output_type": "stream",
     "text": [
      "Ventana de tokens escogida: 2056 - Cubre el 97.44714173844949% del dataset\n"
     ]
    }
   ],
   "source": [
    "max_tokens = np.mean(tokens_numbers) + 2 * np.std(tokens_numbers)\n",
    "max_tokens = int(max_tokens)\n",
    "\n",
    "percent_tokens = tokens_numbers[tokens_numbers <= max_tokens].count() / tokens_numbers.count()\n",
    "print(\"Ventana de tokens escogida: {} - Cubre el {}% del dataset\".format(max_tokens, percent_tokens*100))"
   ]
  },
  {
   "cell_type": "code",
   "execution_count": 67,
   "metadata": {},
   "outputs": [],
   "source": [
    "n_tokens = 8045"
   ]
  },
  {
   "cell_type": "code",
   "execution_count": 68,
   "metadata": {
    "scrolled": false
   },
   "outputs": [],
   "source": [
    "news['text'] = news.apply(lambda r: pad_array(r['text'], n_tokens) , axis=1) #n_tokens"
   ]
  },
  {
   "cell_type": "code",
   "execution_count": 69,
   "metadata": {},
   "outputs": [
    {
     "name": "stdout",
     "output_type": "stream",
     "text": [
      "Número medio de tokens por título: 8\n",
      "Desviación estándar de tokens por título: 3\n",
      "Mediana de tokens por título: 8\n",
      "Ventana de tokens escogida: 15 - Cubre el 96.48655703471678% del dataset\n"
     ]
    },
    {
     "data": {
      "image/png": "[encoded data removed]",
      "text/plain": [
       "<matplotlib.figure.Figure at 0x1c546d9748>"
      ]
     },
     "metadata": {
      "needs_background": "light"
     },
     "output_type": "display_data"
    }
   ],
   "source": [
    "# Longitud en tokens de cada noticia\n",
    "tokens_numbers = news.apply(lambda row: len(row['title']), axis = 1)\n",
    "\n",
    "fig, ax = plt.subplots(1,1, figsize=(16,6))\n",
    "tokens_numbers.plot.hist(title=\"Number of tokens in the article\", bins = 30, ax=ax)\n",
    "\n",
    "print(\"Número medio de tokens por título: {}\".format(int(np.mean(tokens_numbers))))\n",
    "print(\"Desviación estándar de tokens por título: {}\".format(int(np.std(tokens_numbers))))\n",
    "print(\"Mediana de tokens por título: {}\".format(int(np.median(tokens_numbers))))\n",
    "\n",
    "max_tokens = np.mean(tokens_numbers) + 2 * np.std(tokens_numbers)\n",
    "max_tokens = int(max_tokens)\n",
    "\n",
    "n_tokens = 93\n",
    "\n",
    "percent_tokens = tokens_numbers[tokens_numbers <= max_tokens].count() / tokens_numbers.count()\n",
    "print(\"Ventana de tokens escogida: {} - Cubre el {}% del dataset\".format(max_tokens, percent_tokens*100))"
   ]
  },
  {
   "cell_type": "code",
   "execution_count": 70,
   "metadata": {
    "scrolled": true
   },
   "outputs": [
    {
     "name": "stderr",
     "output_type": "stream",
     "text": [
      "\n",
      "Pandas Apply:   0%|          | 0/19155 [00:00<?, ?it/s]\u001b[A\n",
      "Pandas Apply:  20%|██        | 3923/19155 [00:00<00:00, 39228.92it/s]\u001b[A\n",
      "Pandas Apply:  43%|████▎     | 8172/19155 [00:00<00:00, 40151.17it/s]\u001b[A\n",
      "Pandas Apply:  64%|██████▍   | 12222/19155 [00:00<00:00, 40253.63it/s]\u001b[A\n",
      "Pandas Apply:  85%|████████▍ | 16253/19155 [00:00<00:00, 40270.50it/s]\u001b[A\n",
      "Pandas Apply: 100%|██████████| 19155/19155 [00:00<00:00, 40633.95it/s]\u001b[A"
     ]
    }
   ],
   "source": [
    "news['title'] = news.progress_apply(lambda r: pad_array(r['title'], n_tokens) , axis=1)"
   ]
  },
  {
   "cell_type": "code",
   "execution_count": null,
   "metadata": {},
   "outputs": [],
   "source": []
  }
 ],
 "metadata": {
  "kernelspec": {
   "display_name": "Python 3",
   "language": "python",
   "name": "python3"
  },
  "language_info": {
   "codemirror_mode": {
    "name": "ipython",
    "version": 3
   },
   "file_extension": ".py",
   "mimetype": "text/x-python",
   "name": "python",
   "nbconvert_exporter": "python",
   "pygments_lexer": "ipython3",
   "version": "3.6.7"
  }
 },
 "nbformat": 4,
 "nbformat_minor": 2
}
