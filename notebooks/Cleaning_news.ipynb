{
 "cells": [
  {
   "cell_type": "markdown",
   "metadata": {},
   "source": [
    "# Preprocesado de las noticias"
   ]
  },
  {
   "cell_type": "code",
   "execution_count": 1,
   "metadata": {},
   "outputs": [],
   "source": [
    "import pandas as pd\n",
    "import numpy as np\n",
    "\n",
    "from matplotlib import pyplot as plt\n",
    "from matplotlib import style\n",
    "\n",
    "#One-hot encodding\n",
    "from sklearn.preprocessing import LabelBinarizer\n",
    "\n",
    "#Nicer style\n",
    "style.use('seaborn') "
   ]
  },
  {
   "cell_type": "markdown",
   "metadata": {},
   "source": [
    "Pre-procesado para eliminar URLS, símbolos. Es decir, cosas que no son palabras"
   ]
  },
  {
   "cell_type": "code",
   "execution_count": 2,
   "metadata": {},
   "outputs": [],
   "source": [
    "import re #regexp"
   ]
  },
  {
   "cell_type": "markdown",
   "metadata": {},
   "source": [
    "Tokenizer de NLTK (Natural Language Tool Kit) basado en expresiones regulares."
   ]
  },
  {
   "cell_type": "code",
   "execution_count": 3,
   "metadata": {},
   "outputs": [],
   "source": [
    "from nltk.tokenize import RegexpTokenizer"
   ]
  },
  {
   "cell_type": "markdown",
   "metadata": {},
   "source": [
    "### Limpieza del dataset\n",
    "Cargamos el dataset de noticias"
   ]
  },
  {
   "cell_type": "code",
   "execution_count": 4,
   "metadata": {},
   "outputs": [],
   "source": [
    "news = pd.read_csv(\"../../data/news_cleaned_2018_02_13.csv\", nrows=1000)\n",
    "\n",
    "news = news[['type', 'content', 'title']]\n",
    "\n",
    "#Remove columns with NaNs \n",
    "news = news.dropna()"
   ]
  },
  {
   "cell_type": "code",
   "execution_count": 5,
   "metadata": {},
   "outputs": [],
   "source": [
    "def clean_text(text):\n",
    "    #Remove URLs\n",
    "    text = re.sub(r\"http\\S+\", \"\", text)\n",
    "    #Tokenize\n",
    "    #tokens = word_tokenize(text)\n",
    "    tokenizer = RegexpTokenizer('\\w+|\\$[\\d\\.]+|\\S+')\n",
    "    tokens = tokenizer.tokenize(text)\n",
    "    #Remove non alphanumerica characters\n",
    "    words = [word for word in tokens if word.isalpha()]\n",
    "    \n",
    "    # filter out stop words\n",
    "    #stop_words = set(stopwords.words('english'))\n",
    "    #words = [w for w in words if not w in stop_words]\n",
    "    \n",
    "    return words"
   ]
  },
  {
   "cell_type": "code",
   "execution_count": 6,
   "metadata": {},
   "outputs": [],
   "source": [
    "news['content'] = news.apply(lambda row: clean_text(row['content']), axis=1)"
   ]
  },
  {
   "cell_type": "markdown",
   "metadata": {},
   "source": [
    "### Word2Vec\n",
    "\n",
    "<div class=\"alert alert-warning\">\n",
    "    **TODO:** Descripción\n",
    "</div>"
   ]
  },
  {
   "cell_type": "code",
   "execution_count": 7,
   "metadata": {},
   "outputs": [],
   "source": [
    "from gensim.models import KeyedVectors"
   ]
  },
  {
   "cell_type": "markdown",
   "metadata": {},
   "source": [
    "Cargamos los vectores de un modelo entrenado por Google con los textos de millones de noticias"
   ]
  },
  {
   "cell_type": "code",
   "execution_count": 9,
   "metadata": {},
   "outputs": [],
   "source": [
    "model = KeyedVectors.load_word2vec_format(\"../../data/GoogleNews-vectors-negative300.bin.gz\", binary=True)"
   ]
  },
  {
   "cell_type": "markdown",
   "metadata": {},
   "source": [
    "Un ejemplo de predicción de palabras similares a \"Trump\""
   ]
  },
  {
   "cell_type": "code",
   "execution_count": 10,
   "metadata": {},
   "outputs": [
    {
     "data": {
      "text/plain": [
       "[('Donald_Trump', 0.8103920817375183),\n",
       " ('impersonator_entertained', 0.5942257046699524),\n",
       " ('Ivanka_Trump', 0.5924582481384277),\n",
       " ('Ivanka', 0.560720682144165),\n",
       " ('mogul_Donald_Trump', 0.5592452883720398),\n",
       " ('Trump_Tower', 0.5485552549362183),\n",
       " ('Kepcher', 0.5468589067459106),\n",
       " ('billionaire_Donald_Trump', 0.5447269678115845),\n",
       " ('Trumpster', 0.5412819385528564),\n",
       " ('tycoon_Donald_Trump', 0.5383971929550171)]"
      ]
     },
     "execution_count": 10,
     "metadata": {},
     "output_type": "execute_result"
    }
   ],
   "source": [
    "model.most_similar(\"Trump\")"
   ]
  },
  {
   "cell_type": "markdown",
   "metadata": {},
   "source": [
    "A continuación convertimos las palabras del contenido de las noticias en vectores para poder pasárselos a una red neuronal."
   ]
  },
  {
   "cell_type": "code",
   "execution_count": 11,
   "metadata": {},
   "outputs": [],
   "source": [
    "news['embeddings'] = news.apply(lambda r: \n",
    "                        np.array([model[x] for x in r['content'] if x in model.vocab]), axis=1)"
   ]
  },
  {
   "cell_type": "markdown",
   "metadata": {},
   "source": [
    "Un ejemplo de un artículo convertido a una matriz $M$ de dimensiones $l x 300$, donde $l$ es la longitud en palabras del artículo"
   ]
  },
  {
   "cell_type": "code",
   "execution_count": 12,
   "metadata": {},
   "outputs": [
    {
     "data": {
      "text/plain": [
       "array([[-0.25195312,  0.13085938,  0.05053711, ...,  0.12695312,\n",
       "        -0.03833008,  0.08349609],\n",
       "       [ 0.00704956, -0.07324219,  0.171875  , ...,  0.01123047,\n",
       "         0.1640625 ,  0.10693359],\n",
       "       [ 0.12597656,  0.19042969,  0.06982422, ...,  0.0612793 ,\n",
       "         0.17285156, -0.07861328],\n",
       "       ...,\n",
       "       [ 0.04248047,  0.00628662,  0.00637817, ..., -0.02416992,\n",
       "         0.1640625 , -0.015625  ],\n",
       "       [ 0.08447266, -0.00035286,  0.05322266, ...,  0.01708984,\n",
       "         0.06079102, -0.10888672],\n",
       "       [ 0.11083984, -0.15820312,  0.02075195, ...,  0.15136719,\n",
       "        -0.16503906,  0.01977539]], dtype=float32)"
      ]
     },
     "execution_count": 12,
     "metadata": {},
     "output_type": "execute_result"
    }
   ],
   "source": [
    "news['embeddings'][0]"
   ]
  },
  {
   "cell_type": "code",
   "execution_count": 13,
   "metadata": {},
   "outputs": [
    {
     "data": {
      "text/plain": [
       "(113, 300)"
      ]
     },
     "execution_count": 13,
     "metadata": {},
     "output_type": "execute_result"
    }
   ],
   "source": [
    "news['embeddings'][0].shape"
   ]
  },
  {
   "cell_type": "markdown",
   "metadata": {},
   "source": [
    "Pero hay un **problema**: La entrada de la red no puede ser variable. Para solucionar esto, es necesario añadir padding a todas las matrices, de tal manera que todas tengan una longitud física.\n",
    "\n",
    "Si miden menos de una cierta longitud $n$ ($l < n$) entonces se le añadirán \"filas\" con ceros hasta alacanzar las dimensiones necesarias. Si mide más, se cortará de tal manera que $l = n$"
   ]
  },
  {
   "cell_type": "code",
   "execution_count": 14,
   "metadata": {},
   "outputs": [],
   "source": [
    "def pad_matrix(matrix, token_len):\n",
    "    \"\"\"\n",
    "    Funcion para añadir padding a una matriz hasta que tenga el número de filas \n",
    "    necesario.\n",
    "    \n",
    "    :param: token_len (int) longitud deseada en filas de la matriz\n",
    "    :return: matriz con las dimensiones necesarias. \n",
    "    \"\"\"\n",
    "    tensor_token, depth = matrix.shape\n",
    "    diff_token = token_len - tensor_token\n",
    "    if(diff_token < 0):\n",
    "        matrix = matrix[:token_len,:] #Select only part\n",
    "    else:\n",
    "        #Pad\n",
    "        matrix = np.pad(matrix, ((0,diff_token),(0,0)), mode='constant', constant_values=0)\n",
    "        \n",
    "    return matrix"
   ]
  },
  {
   "cell_type": "markdown",
   "metadata": {},
   "source": [
    "Es necesario encontrar un `token_len` que sea suficiente para que cubra, en general, la longitud de todos los artículos."
   ]
  },
  {
   "cell_type": "code",
   "execution_count": 15,
   "metadata": {},
   "outputs": [
    {
     "data": {
      "text/plain": [
       "<matplotlib.axes._subplots.AxesSubplot at 0x7fcbc6803630>"
      ]
     },
     "execution_count": 15,
     "metadata": {},
     "output_type": "execute_result"
    },
    {
     "data": {
      "image/png": "[encoded data removed]",
      "text/plain": [
       "<Figure size 1152x432 with 1 Axes>"
      ]
     },
     "metadata": {
      "needs_background": "light"
     },
     "output_type": "display_data"
    }
   ],
   "source": [
    "# Longitud en tokens de cada noticia\n",
    "tokens_numbers = news.apply(lambda row: len(row['content']), axis = 1)\n",
    "\n",
    "fig, ax = plt.subplots(1,1, figsize=(16,6))\n",
    "tokens_numbers.plot.hist(title=\"Number of tokens in the article\", bins = 70, ax=ax)"
   ]
  },
  {
   "cell_type": "code",
   "execution_count": 16,
   "metadata": {},
   "outputs": [
    {
     "name": "stdout",
     "output_type": "stream",
     "text": [
      "Número medio de tokens por artículo: 482\n",
      "Desviación estándar de tokens por artículo: 595\n",
      "Mediana de tokens por artículo: 402\n"
     ]
    }
   ],
   "source": [
    "print(\"Número medio de tokens por artículo: {}\".format(int(np.mean(tokens_numbers))))\n",
    "print(\"Desviación estándar de tokens por artículo: {}\".format(int(np.std(tokens_numbers))))\n",
    "print(\"Mediana de tokens por artículo: {}\".format(int(np.median(tokens_numbers))))"
   ]
  },
  {
   "cell_type": "markdown",
   "metadata": {},
   "source": [
    "Escogemos el número máximo como $mean + 2\\sigma$"
   ]
  },
  {
   "cell_type": "code",
   "execution_count": 17,
   "metadata": {},
   "outputs": [
    {
     "name": "stdout",
     "output_type": "stream",
     "text": [
      "Ventana de tokens escogida: 1673 - Cubre el 95.88766298896691% del dataset\n"
     ]
    }
   ],
   "source": [
    "max_tokens = np.mean(tokens_numbers) + 2 * np.std(tokens_numbers)\n",
    "max_tokens = int(max_tokens)\n",
    "\n",
    "percent_tokens = tokens_numbers[tokens_numbers <= max_tokens].count() / tokens_numbers.count()\n",
    "print(\"Ventana de tokens escogida: {} - Cubre el {}% del dataset\".format(max_tokens, percent_tokens*100))"
   ]
  },
  {
   "cell_type": "code",
   "execution_count": 18,
   "metadata": {},
   "outputs": [],
   "source": [
    "n_tokens = max_tokens"
   ]
  },
  {
   "cell_type": "code",
   "execution_count": 19,
   "metadata": {},
   "outputs": [],
   "source": [
    "news['embeddings'] = news.apply(lambda r: pad_matrix(r['embeddings'], n_tokens) , axis=1)"
   ]
  },
  {
   "cell_type": "code",
   "execution_count": 20,
   "metadata": {},
   "outputs": [
    {
     "data": {
      "text/plain": [
       "(1673, 300)"
      ]
     },
     "execution_count": 20,
     "metadata": {},
     "output_type": "execute_result"
    }
   ],
   "source": [
    "news['embeddings'][0].shape"
   ]
  },
  {
   "cell_type": "markdown",
   "metadata": {},
   "source": [
    "### Convertir variable objetivo a OneHot Encodding"
   ]
  },
  {
   "cell_type": "code",
   "execution_count": 21,
   "metadata": {},
   "outputs": [],
   "source": [
    "encoder = LabelBinarizer().fit(list(news['type']))\n",
    "news['one_hot_label'] = news.apply(lambda r: encoder.transform([r['type']])[0], axis=1)"
   ]
  },
  {
   "cell_type": "code",
   "execution_count": 22,
   "metadata": {},
   "outputs": [
    {
     "data": {
      "text/html": [
       "<div>\n",
       "<style scoped>\n",
       "    .dataframe tbody tr th:only-of-type {\n",
       "        vertical-align: middle;\n",
       "    }\n",
       "\n",
       "    .dataframe tbody tr th {\n",
       "        vertical-align: top;\n",
       "    }\n",
       "\n",
       "    .dataframe thead th {\n",
       "        text-align: right;\n",
       "    }\n",
       "</style>\n",
       "<table border=\"1\" class=\"dataframe\">\n",
       "  <thead>\n",
       "    <tr style=\"text-align: right;\">\n",
       "      <th></th>\n",
       "      <th>type</th>\n",
       "      <th>content</th>\n",
       "      <th>title</th>\n",
       "      <th>embeddings</th>\n",
       "      <th>one_hot_label</th>\n",
       "    </tr>\n",
       "  </thead>\n",
       "  <tbody>\n",
       "    <tr>\n",
       "      <th>0</th>\n",
       "      <td>rumor</td>\n",
       "      <td>[Life, is, an, illusion, at, least, on, a, qua...</td>\n",
       "      <td>Is life an ILLUSION? Researchers prove 'realit...</td>\n",
       "      <td>[[-0.25195312, 0.13085938, 0.05053711, -0.0417...</td>\n",
       "      <td>[0, 0, 0, 0, 0, 0, 0, 0, 1, 0, 0, 0]</td>\n",
       "    </tr>\n",
       "    <tr>\n",
       "      <th>1</th>\n",
       "      <td>hate</td>\n",
       "      <td>[Unfortunately, he, hasn, yet, attacked, her, ...</td>\n",
       "      <td>Donald Trump</td>\n",
       "      <td>[[-0.20800781, 0.25585938, -0.080566406, -0.01...</td>\n",
       "      <td>[0, 0, 0, 0, 1, 0, 0, 0, 0, 0, 0, 0]</td>\n",
       "    </tr>\n",
       "    <tr>\n",
       "      <th>2</th>\n",
       "      <td>hate</td>\n",
       "      <td>[The, Los, Angeles, Police, Department, has, b...</td>\n",
       "      <td>Donald Trump</td>\n",
       "      <td>[[-0.17285156, 0.27929688, 0.106933594, -0.158...</td>\n",
       "      <td>[0, 0, 0, 0, 1, 0, 0, 0, 0, 0, 0, 0]</td>\n",
       "    </tr>\n",
       "    <tr>\n",
       "      <th>3</th>\n",
       "      <td>hate</td>\n",
       "      <td>[The, White, House, has, decided, to, quietly,...</td>\n",
       "      <td>MORE WINNING! Israeli intelligence source, DEB...</td>\n",
       "      <td>[[-0.17285156, 0.27929688, 0.106933594, -0.158...</td>\n",
       "      <td>[0, 0, 0, 0, 1, 0, 0, 0, 0, 0, 0, 0]</td>\n",
       "    </tr>\n",
       "    <tr>\n",
       "      <th>4</th>\n",
       "      <td>hate</td>\n",
       "      <td>[time, has, come, to, cut, off, the, tongues, ...</td>\n",
       "      <td>“Oh, Trump, you coward, you just wait, we will...</td>\n",
       "      <td>[[-0.04736328, 0.1875, 0.0022583008, 0.1738281...</td>\n",
       "      <td>[0, 0, 0, 0, 1, 0, 0, 0, 0, 0, 0, 0]</td>\n",
       "    </tr>\n",
       "  </tbody>\n",
       "</table>\n",
       "</div>"
      ],
      "text/plain": [
       "    type                                            content  \\\n",
       "0  rumor  [Life, is, an, illusion, at, least, on, a, qua...   \n",
       "1   hate  [Unfortunately, he, hasn, yet, attacked, her, ...   \n",
       "2   hate  [The, Los, Angeles, Police, Department, has, b...   \n",
       "3   hate  [The, White, House, has, decided, to, quietly,...   \n",
       "4   hate  [time, has, come, to, cut, off, the, tongues, ...   \n",
       "\n",
       "                                               title  \\\n",
       "0  Is life an ILLUSION? Researchers prove 'realit...   \n",
       "1                                       Donald Trump   \n",
       "2                                       Donald Trump   \n",
       "3  MORE WINNING! Israeli intelligence source, DEB...   \n",
       "4  “Oh, Trump, you coward, you just wait, we will...   \n",
       "\n",
       "                                          embeddings  \\\n",
       "0  [[-0.25195312, 0.13085938, 0.05053711, -0.0417...   \n",
       "1  [[-0.20800781, 0.25585938, -0.080566406, -0.01...   \n",
       "2  [[-0.17285156, 0.27929688, 0.106933594, -0.158...   \n",
       "3  [[-0.17285156, 0.27929688, 0.106933594, -0.158...   \n",
       "4  [[-0.04736328, 0.1875, 0.0022583008, 0.1738281...   \n",
       "\n",
       "                          one_hot_label  \n",
       "0  [0, 0, 0, 0, 0, 0, 0, 0, 1, 0, 0, 0]  \n",
       "1  [0, 0, 0, 0, 1, 0, 0, 0, 0, 0, 0, 0]  \n",
       "2  [0, 0, 0, 0, 1, 0, 0, 0, 0, 0, 0, 0]  \n",
       "3  [0, 0, 0, 0, 1, 0, 0, 0, 0, 0, 0, 0]  \n",
       "4  [0, 0, 0, 0, 1, 0, 0, 0, 0, 0, 0, 0]  "
      ]
     },
     "execution_count": 22,
     "metadata": {},
     "output_type": "execute_result"
    }
   ],
   "source": [
    "news.head()"
   ]
  },
  {
   "cell_type": "markdown",
   "metadata": {},
   "source": [
    "Guardamos el dataset procesado como `.pickle` (serializado de objetos python)."
   ]
  },
  {
   "cell_type": "code",
   "execution_count": 25,
   "metadata": {},
   "outputs": [],
   "source": [
    "news.to_pickle(\"../../data/news_processed.pickle\")"
   ]
  }
 ],
 "metadata": {
  "kernelspec": {
   "display_name": "Python 3",
   "language": "python",
   "name": "python3"
  },
  "language_info": {
   "codemirror_mode": {
    "name": "ipython",
    "version": 3
   },
   "file_extension": ".py",
   "mimetype": "text/x-python",
   "name": "python",
   "nbconvert_exporter": "python",
   "pygments_lexer": "ipython3",
   "version": "3.6.7"
  }
 },
 "nbformat": 4,
 "nbformat_minor": 2
}
