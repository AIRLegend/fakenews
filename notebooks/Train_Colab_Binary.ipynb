{
  "nbformat": 4,
  "nbformat_minor": 0,
  "metadata": {
    "colab": {
      "name": "Train-Colab-Binary.ipynb",
      "version": "0.3.2",
      "provenance": [],
      "collapsed_sections": []
    },
    "kernelspec": {
      "name": "python3",
      "display_name": "Python 3"
    },
    "accelerator": "TPU"
  },
  "cells": [
    {
      "cell_type": "markdown",
      "metadata": {
        "id": "4SbZHmwZhpbb",
        "colab_type": "text"
      },
      "source": [
        "# Entrenamiento de modelos binarios.\n",
        "\n",
        "Este notebook tiene como objetivo entrenar los mismos modelos pero sólo orientados a predecir noticias de dos clases: Falsas y verdaderas (En vez de multiples clases)."
      ]
    },
    {
      "cell_type": "code",
      "metadata": {
        "id": "leag2SIuKQ6H",
        "colab_type": "code",
        "outputId": "7d753cce-6554-48ab-885d-1577a2ce6968",
        "colab": {
          "base_uri": "https://localhost:8080/",
          "height": 34
        }
      },
      "source": [
        "from google.colab import drive\n",
        "drive.mount('/content/drive')"
      ],
      "execution_count": 1,
      "outputs": [
        {
          "output_type": "stream",
          "text": [
            "Drive already mounted at /content/drive; to attempt to forcibly remount, call drive.mount(\"/content/drive\", force_remount=True).\n"
          ],
          "name": "stdout"
        }
      ]
    },
    {
      "cell_type": "code",
      "metadata": {
        "id": "RZPgJIeHd7Ki",
        "colab_type": "code",
        "outputId": "51744dbb-0301-4c1d-ebf8-a66a0501839a",
        "colab": {
          "base_uri": "https://localhost:8080/",
          "height": 131
        }
      },
      "source": [
        "!pip install --upgrade pandas\n",
        "\n",
        "#!pip install talos\n",
        "#!pip install statsmodels -U\n",
        "#!pip install --upgrade pytest"
      ],
      "execution_count": 2,
      "outputs": [
        {
          "output_type": "stream",
          "text": [
            "Requirement already up-to-date: pandas in /usr/local/lib/python3.6/dist-packages (0.24.2)\n",
            "Requirement already satisfied, skipping upgrade: python-dateutil>=2.5.0 in /usr/local/lib/python3.6/dist-packages (from pandas) (2.5.3)\n",
            "Requirement already satisfied, skipping upgrade: pytz>=2011k in /usr/local/lib/python3.6/dist-packages (from pandas) (2018.9)\n",
            "Requirement already satisfied, skipping upgrade: numpy>=1.12.0 in /usr/local/lib/python3.6/dist-packages (from pandas) (1.16.3)\n",
            "Requirement already satisfied, skipping upgrade: six>=1.5 in /usr/local/lib/python3.6/dist-packages (from python-dateutil>=2.5.0->pandas) (1.12.0)\n"
          ],
          "name": "stdout"
        }
      ]
    },
    {
      "cell_type": "code",
      "metadata": {
        "id": "HSTFCp3TLOyY",
        "colab_type": "code",
        "outputId": "1af40dc0-238b-4747-b8d3-aeb4f39e3afd",
        "colab": {
          "base_uri": "https://localhost:8080/",
          "height": 97
        }
      },
      "source": [
        "!ls \"drive/My Drive/Colab Notebooks/data\""
      ],
      "execution_count": 3,
      "outputs": [
        {
          "output_type": "stream",
          "text": [
            "data_kaggle_proc.pickle\t\t       news_getting_real.pickle\n",
            "GoogleNews-vectors-negative300.bin.gz  news_proc_12_3_19.pickle\n",
            "news_getting_real2.pickle\n"
          ],
          "name": "stdout"
        }
      ]
    },
    {
      "cell_type": "markdown",
      "metadata": {
        "id": "L4ox1E4A-NIx",
        "colab_type": "text"
      },
      "source": [
        "# Imports, loads , Train/test split and Optimum params\n",
        "---"
      ]
    },
    {
      "cell_type": "code",
      "metadata": {
        "id": "Pxs1baLTJsxl",
        "colab_type": "code",
        "colab": {}
      },
      "source": [
        "import pandas as pd\n",
        "import numpy as np\n",
        "\n",
        "#Progress bars\n",
        "from tqdm import tqdm\n",
        "tqdm.pandas()\n",
        "\n",
        "#Paralelize pandas apply on multiple cores\n",
        "#import swifter\n",
        "\n",
        "from matplotlib import pyplot as plt\n",
        "from matplotlib import style\n",
        "#Nicer style\n",
        "style.use('seaborn')\n",
        "import seaborn as sns\n",
        "\n",
        "from tensorflow import keras as k\n",
        "\n",
        "from sklearn.model_selection import train_test_split\n",
        "\n",
        "from gensim.models import KeyedVectors\n",
        "\n",
        "from sklearn.metrics import accuracy_score, confusion_matrix, classification_report"
      ],
      "execution_count": 0,
      "outputs": []
    },
    {
      "cell_type": "code",
      "metadata": {
        "id": "E-i6JPxjKGaz",
        "colab_type": "code",
        "colab": {}
      },
      "source": [
        "data = pd.read_pickle('drive/My Drive/Colab Notebooks/data/news_proc_12_3_19.pickle')#.reset_index()\n",
        "data = data.dropna()"
      ],
      "execution_count": 0,
      "outputs": []
    },
    {
      "cell_type": "markdown",
      "metadata": {
        "id": "ytOekwMDE9Pi",
        "colab_type": "text"
      },
      "source": [
        "Labels asignadas a los tipos"
      ]
    },
    {
      "cell_type": "code",
      "metadata": {
        "id": "olnSUob2iV7r",
        "colab_type": "code",
        "colab": {
          "base_uri": "https://localhost:8080/",
          "height": 85
        },
        "outputId": "ccea3ba7-3c88-4559-d39c-5e8df1037834"
      },
      "source": [
        "types = data['type'].unique()\n",
        "for t in types:\n",
        "    print(\"{} - {}\".format(t, data[data['type'] == t].head(1)['one_hot_label'].iloc[0]))"
      ],
      "execution_count": 6,
      "outputs": [
        {
          "output_type": "stream",
          "text": [
            "bias - [1 0 0 0]\n",
            "click - [0 1 0 0]\n",
            "fake - [0 0 1 0]\n",
            "truth - [0 0 0 1]\n"
          ],
          "name": "stdout"
        }
      ]
    },
    {
      "cell_type": "markdown",
      "metadata": {
        "id": "oxDrPOrlCONc",
        "colab_type": "text"
      },
      "source": [
        "Convertir a FAKE todo lo que no sea TRUE\n",
        "\n"
      ]
    },
    {
      "cell_type": "code",
      "metadata": {
        "id": "NafbqLMCidZE",
        "colab_type": "code",
        "colab": {}
      },
      "source": [
        "data['label'] = data.apply(lambda r: 1 if r['one_hot_label'][-1] == 1 else 0,axis=1)"
      ],
      "execution_count": 0,
      "outputs": []
    },
    {
      "cell_type": "code",
      "metadata": {
        "id": "p2Rb1d_iMRo4",
        "colab_type": "code",
        "outputId": "5c1f3b40-aa6d-4036-bde9-f0dd2844fcb4",
        "colab": {
          "base_uri": "https://localhost:8080/",
          "height": 51
        }
      },
      "source": [
        "len_content = len(data['content'][0])\n",
        "len_title = len(data['title'][0])\n",
        "\n",
        "print(\"Max len content: {}\".format(len_content))\n",
        "print(\"Max len title: {}\".format(len_title))"
      ],
      "execution_count": 8,
      "outputs": [
        {
          "output_type": "stream",
          "text": [
            "Max len content: 1598\n",
            "Max len title: 13\n"
          ],
          "name": "stdout"
        }
      ]
    },
    {
      "cell_type": "code",
      "metadata": {
        "id": "42yvXt6pdWtl",
        "colab_type": "code",
        "colab": {}
      },
      "source": [
        ""
      ],
      "execution_count": 0,
      "outputs": []
    },
    {
      "cell_type": "code",
      "metadata": {
        "id": "obS9w_bsMeCf",
        "colab_type": "code",
        "colab": {}
      },
      "source": [
        "model = KeyedVectors.load_word2vec_format(\"drive/My Drive/Colab Notebooks/data/GoogleNews-vectors-negative300.bin.gz\", binary=True, limit=50000)"
      ],
      "execution_count": 0,
      "outputs": []
    },
    {
      "cell_type": "code",
      "metadata": {
        "id": "kq7N1l62dYve",
        "colab_type": "code",
        "colab": {}
      },
      "source": [
        "embed_mat = np.zeros((50000,300))\n",
        "for i, e in model.vocab.items():\n",
        "    embed_mat[e.index] = model[i]"
      ],
      "execution_count": 0,
      "outputs": []
    },
    {
      "cell_type": "markdown",
      "metadata": {
        "id": "Wbfhe0Txddio",
        "colab_type": "text"
      },
      "source": [
        "**Tran/valid/test split**"
      ]
    },
    {
      "cell_type": "code",
      "metadata": {
        "id": "cq-wi-x6ddtd",
        "colab_type": "code",
        "colab": {}
      },
      "source": [
        "#Train - test\n",
        "X_train, X_test, y_train, y_test = train_test_split(\n",
        "    data[['content', 'title']], data['label'], test_size=0.3, random_state=1)\n",
        "\n",
        "#Train - valid\n",
        "X_train, X_valid, y_train, y_valid = train_test_split(\n",
        "    X_train, y_train, test_size=0.3, random_state=1)"
      ],
      "execution_count": 0,
      "outputs": []
    },
    {
      "cell_type": "code",
      "metadata": {
        "id": "WxjsZziCddwE",
        "colab_type": "code",
        "colab": {}
      },
      "source": [
        "X_train_title = X_train['title']\n",
        "X_train_content = X_train['content']\n",
        "\n",
        "X_valid_title = X_valid['title']\n",
        "X_valid_content = X_valid['content']\n",
        "\n",
        "X_test_title = X_test['title']\n",
        "X_test_content = X_test['content']"
      ],
      "execution_count": 0,
      "outputs": []
    },
    {
      "cell_type": "code",
      "metadata": {
        "id": "kOmvVOCofAl2",
        "colab_type": "code",
        "colab": {}
      },
      "source": [
        "train_fit = [np.asarray(X_train_title.tolist()), \n",
        "             np.asarray(X_train_content.tolist())]\n",
        "\n",
        "valid_fit = [np.asarray(X_valid_title.tolist()), \n",
        "             np.asarray(X_valid_content.tolist())]\n",
        "\n",
        "test_fit = [np.asarray(X_test_title.tolist()), \n",
        "             np.asarray(X_test_content.tolist())]"
      ],
      "execution_count": 0,
      "outputs": []
    },
    {
      "cell_type": "code",
      "metadata": {
        "id": "Fiv0BWnBddy0",
        "colab_type": "code",
        "colab": {}
      },
      "source": [
        "del data\n",
        "del X_train_title, X_train_content\n",
        "del X_valid_title, X_valid_content\n",
        "del X_test_title, X_test_content"
      ],
      "execution_count": 0,
      "outputs": []
    },
    {
      "cell_type": "code",
      "metadata": {
        "id": "slVgLTa1HRmG",
        "colab_type": "code",
        "colab": {}
      },
      "source": [
        ""
      ],
      "execution_count": 0,
      "outputs": []
    },
    {
      "cell_type": "markdown",
      "metadata": {
        "id": "YwYAV_H128f6",
        "colab_type": "text"
      },
      "source": [
        "## Optimum Params found with Bayesian Optimization"
      ]
    },
    {
      "cell_type": "code",
      "metadata": {
        "id": "xKsXmH1t3IkD",
        "colab_type": "code",
        "colab": {}
      },
      "source": [
        "# Optimum params for LSTM network\n",
        "params_lstm = {\n",
        "    'lr': 0.2639850638741692,\n",
        "    'momentum': 0.08255873365806747,\n",
        "    'dropout': 0.10591561319817788,\n",
        "    'dense1': 73,\n",
        "    'dense2': 24,\n",
        "    'lstmTitle': 46,\n",
        "    'lstmContent': 231\n",
        "}\n",
        "\n",
        "\n",
        "#Optimum params for CNN network\n",
        "params_cnn = {\n",
        "    'lr': 0.23993334664040306,\n",
        "    'momentum': 0.30361299021107185,\n",
        "    'dropout1': 0.10993063833594595,\n",
        "    'dropout2': 0.1586041045258562,\n",
        "    'filters1Title': 8,\n",
        "    'denseTitle': 42,\n",
        "    'filtersContent': 6,\n",
        "    'denseContent': 34\n",
        "}"
      ],
      "execution_count": 0,
      "outputs": []
    },
    {
      "cell_type": "code",
      "metadata": {
        "id": "vZEvZo6hLFG2",
        "colab_type": "code",
        "colab": {}
      },
      "source": [
        "#Some imports...\n",
        "import tensorflow as tf\n",
        "import os\n",
        "\n",
        "from numpy.random import seed\n",
        "from tensorflow import set_random_seed"
      ],
      "execution_count": 0,
      "outputs": []
    },
    {
      "cell_type": "markdown",
      "metadata": {
        "id": "zEtJ9bG1e2rI",
        "colab_type": "text"
      },
      "source": [
        "# LSTM"
      ]
    },
    {
      "cell_type": "code",
      "metadata": {
        "id": "gmGzzoGWNES6",
        "colab_type": "code",
        "colab": {}
      },
      "source": [
        "seed(50)\n",
        "set_random_seed(50)\n",
        "k.backend.clear_session()"
      ],
      "execution_count": 0,
      "outputs": []
    },
    {
      "cell_type": "code",
      "metadata": {
        "id": "EmtrvI5peiTA",
        "colab_type": "code",
        "outputId": "5fd41697-832d-4fd1-a107-15857330130d",
        "colab": {
          "base_uri": "https://localhost:8080/",
          "height": 683
        }
      },
      "source": [
        "#input_title\n",
        "title_input = k.layers.Input(shape=(len_title,), name='title_input')\n",
        "inp = k.layers.Embedding(output_dim=300, input_dim=50000, \n",
        "                         weights=[embed_mat], trainable=False)(title_input)\n",
        "x = k.layers.Bidirectional(k.layers.LSTM(params_lstm['lstmTitle']))(inp)\n",
        "#CudnnLSTM\n",
        "#x = k.layers.Bidirectional(k.layers.CuDNNLSTM(params_lstm['lstmTitle']))(inp)\n",
        "\n",
        "#input_content\n",
        "content_input = k.layers.Input(shape=(len_content,), name='content_input')\n",
        "inp2 = k.layers.Embedding(output_dim=300, input_dim=50000, \n",
        "                         weights=[embed_mat], trainable=False)(content_input)\n",
        "x2 = k.layers.Bidirectional(k.layers.LSTM(params_lstm['lstmContent']))(inp2)\n",
        "#CudnnLSTM\n",
        "#x2 = k.layers.Bidirectional(k.layers.CuDNNLSTM(params_lstm['lstmContent']))(inp2)\n",
        "\n",
        "#Merge\n",
        "x = k.layers.concatenate([x, x2])\n",
        "\n",
        "\n",
        "#Common part\n",
        "x = k.layers.Dense(params_lstm['dense1'], activation='relu')(x)\n",
        "x = k.layers.Dropout(params_lstm['dropout'])(x)\n",
        "x = k.layers.Dense(params_lstm['dense2'], activation='relu')(x)\n",
        "x = k.layers.Dropout(0.2)(x)\n",
        "\n",
        "out = k.layers.Dense(1, activation='sigmoid')(x)\n",
        "\n",
        "#Build model\n",
        "model = k.models.Model(inputs=[title_input, content_input], outputs=[out])\n",
        "\n",
        "#model.compile(k.optimizers.SGD(lr=params_lstm['lr'], \n",
        "#                               momentum=params_lstm['momentum']), \n",
        "#                               loss='categorical_crossentropy', metrics=['acc'])\n",
        "\n",
        "model.compile(tf.train.MomentumOptimizer(learning_rate=params_lstm['lr'], \n",
        "                                         momentum=params_lstm['momentum']), \n",
        "                                         loss='binary_crossentropy', metrics=['acc'])\n",
        "\n",
        "model.summary()"
      ],
      "execution_count": 18,
      "outputs": [
        {
          "output_type": "stream",
          "text": [
            "WARNING:tensorflow:From /usr/local/lib/python3.6/dist-packages/tensorflow/python/ops/resource_variable_ops.py:435: colocate_with (from tensorflow.python.framework.ops) is deprecated and will be removed in a future version.\n",
            "Instructions for updating:\n",
            "Colocations handled automatically by placer.\n",
            "WARNING:tensorflow:From /usr/local/lib/python3.6/dist-packages/tensorflow/python/keras/layers/core.py:143: calling dropout (from tensorflow.python.ops.nn_ops) with keep_prob is deprecated and will be removed in a future version.\n",
            "Instructions for updating:\n",
            "Please use `rate` instead of `keep_prob`. Rate should be set to `rate = 1 - keep_prob`.\n",
            "__________________________________________________________________________________________________\n",
            "Layer (type)                    Output Shape         Param #     Connected to                     \n",
            "==================================================================================================\n",
            "title_input (InputLayer)        (None, 13)           0                                            \n",
            "__________________________________________________________________________________________________\n",
            "content_input (InputLayer)      (None, 1598)         0                                            \n",
            "__________________________________________________________________________________________________\n",
            "embedding (Embedding)           (None, 13, 300)      15000000    title_input[0][0]                \n",
            "__________________________________________________________________________________________________\n",
            "embedding_1 (Embedding)         (None, 1598, 300)    15000000    content_input[0][0]              \n",
            "__________________________________________________________________________________________________\n",
            "bidirectional (Bidirectional)   (None, 92)           127696      embedding[0][0]                  \n",
            "__________________________________________________________________________________________________\n",
            "bidirectional_1 (Bidirectional) (None, 462)          983136      embedding_1[0][0]                \n",
            "__________________________________________________________________________________________________\n",
            "concatenate (Concatenate)       (None, 554)          0           bidirectional[0][0]              \n",
            "                                                                 bidirectional_1[0][0]            \n",
            "__________________________________________________________________________________________________\n",
            "dense (Dense)                   (None, 73)           40515       concatenate[0][0]                \n",
            "__________________________________________________________________________________________________\n",
            "dropout (Dropout)               (None, 73)           0           dense[0][0]                      \n",
            "__________________________________________________________________________________________________\n",
            "dense_1 (Dense)                 (None, 24)           1776        dropout[0][0]                    \n",
            "__________________________________________________________________________________________________\n",
            "dropout_1 (Dropout)             (None, 24)           0           dense_1[0][0]                    \n",
            "__________________________________________________________________________________________________\n",
            "dense_2 (Dense)                 (None, 1)            25          dropout_1[0][0]                  \n",
            "==================================================================================================\n",
            "Total params: 31,153,148\n",
            "Trainable params: 1,153,148\n",
            "Non-trainable params: 30,000,000\n",
            "__________________________________________________________________________________________________\n"
          ],
          "name": "stdout"
        }
      ]
    },
    {
      "cell_type": "code",
      "metadata": {
        "id": "uTXKdQRWNJnP",
        "colab_type": "code",
        "outputId": "d087dcbb-7dab-4eb8-ff1f-15e21ef4243a",
        "colab": {
          "base_uri": "https://localhost:8080/",
          "height": 465
        }
      },
      "source": [
        "#Optimize TPU\n",
        "\n",
        "# This address identifies the TPU we'll use when configuring TensorFlow.\n",
        "TPU_WORKER = 'grpc://' + os.environ['COLAB_TPU_ADDR']\n",
        "tf.logging.set_verbosity(tf.logging.INFO)\n",
        "\n",
        "tpu_model = tf.contrib.tpu.keras_to_tpu_model(\n",
        "    model,\n",
        "    strategy=tf.contrib.tpu.TPUDistributionStrategy(\n",
        "        tf.contrib.cluster_resolver.TPUClusterResolver(TPU_WORKER)))"
      ],
      "execution_count": 19,
      "outputs": [
        {
          "output_type": "stream",
          "text": [
            "\n",
            "WARNING: The TensorFlow contrib module will not be included in TensorFlow 2.0.\n",
            "For more information, please see:\n",
            "  * https://github.com/tensorflow/community/blob/master/rfcs/20180907-contrib-sunset.md\n",
            "  * https://github.com/tensorflow/addons\n",
            "If you depend on functionality not listed there, please file an issue.\n",
            "\n",
            "INFO:tensorflow:Querying Tensorflow master (grpc://10.3.242.170:8470) for TPU system metadata.\n",
            "INFO:tensorflow:Found TPU system:\n",
            "INFO:tensorflow:*** Num TPU Cores: 8\n",
            "INFO:tensorflow:*** Num TPU Workers: 1\n",
            "INFO:tensorflow:*** Num TPU Cores Per Worker: 8\n",
            "INFO:tensorflow:*** Available Device: _DeviceAttributes(/job:worker/replica:0/task:0/device:CPU:0, CPU, -1, 7183336755359095419)\n",
            "INFO:tensorflow:*** Available Device: _DeviceAttributes(/job:worker/replica:0/task:0/device:XLA_CPU:0, XLA_CPU, 17179869184, 6598351790351317433)\n",
            "INFO:tensorflow:*** Available Device: _DeviceAttributes(/job:worker/replica:0/task:0/device:TPU:0, TPU, 17179869184, 14206271102600716933)\n",
            "INFO:tensorflow:*** Available Device: _DeviceAttributes(/job:worker/replica:0/task:0/device:TPU:1, TPU, 17179869184, 3230492324167242053)\n",
            "INFO:tensorflow:*** Available Device: _DeviceAttributes(/job:worker/replica:0/task:0/device:TPU:2, TPU, 17179869184, 9889240087759841553)\n",
            "INFO:tensorflow:*** Available Device: _DeviceAttributes(/job:worker/replica:0/task:0/device:TPU:3, TPU, 17179869184, 17823410105374031186)\n",
            "INFO:tensorflow:*** Available Device: _DeviceAttributes(/job:worker/replica:0/task:0/device:TPU:4, TPU, 17179869184, 12357125665166960257)\n",
            "INFO:tensorflow:*** Available Device: _DeviceAttributes(/job:worker/replica:0/task:0/device:TPU:5, TPU, 17179869184, 10711429024434859036)\n",
            "INFO:tensorflow:*** Available Device: _DeviceAttributes(/job:worker/replica:0/task:0/device:TPU:6, TPU, 17179869184, 18130538991821944497)\n",
            "INFO:tensorflow:*** Available Device: _DeviceAttributes(/job:worker/replica:0/task:0/device:TPU:7, TPU, 17179869184, 8221408699725457357)\n",
            "INFO:tensorflow:*** Available Device: _DeviceAttributes(/job:worker/replica:0/task:0/device:TPU_SYSTEM:0, TPU_SYSTEM, 17179869184, 17484745704932292747)\n",
            "WARNING:tensorflow:tpu_model (from tensorflow.contrib.tpu.python.tpu.keras_support) is experimental and may change or be removed at any time, and without warning.\n"
          ],
          "name": "stdout"
        }
      ]
    },
    {
      "cell_type": "code",
      "metadata": {
        "id": "fJOKKYYENQX4",
        "colab_type": "code",
        "colab": {}
      },
      "source": [
        "from tensorflow.keras.callbacks import ModelCheckpoint "
      ],
      "execution_count": 0,
      "outputs": []
    },
    {
      "cell_type": "code",
      "metadata": {
        "id": "9oh9jEgw1UE_",
        "colab_type": "code",
        "colab": {}
      },
      "source": [
        "#LSTM_CHECKPOINT_PATH = 'drive/My Drive/Colab Notebooks/weights/checkpoint-lstm.h5'\n",
        "#checkpoint = ModelCheckpoint(LSTM_CHECKPOINT_PATH, monitor='val_acc', verbose=1, save_best_only=True, mode='max')\n",
        "\n",
        "model = tpu_model"
      ],
      "execution_count": 0,
      "outputs": []
    },
    {
      "cell_type": "code",
      "metadata": {
        "id": "V8cmRP_yfCcL",
        "colab_type": "code",
        "outputId": "1c39bb1c-8891-443c-bece-a7bd64a155d8",
        "colab": {
          "base_uri": "https://localhost:8080/",
          "height": 1020
        }
      },
      "source": [
        "\n",
        "hist = model.fit(x=train_fit, y=np.asarray(y_train.tolist()), batch_size=64*8, epochs=30,\n",
        "          callbacks = [k.callbacks.EarlyStopping(monitor='val_acc', patience=2, min_delta = 0.01)], \n",
        "                 validation_data=(valid_fit, np.array(y_valid.tolist())))"
      ],
      "execution_count": 21,
      "outputs": [
        {
          "output_type": "stream",
          "text": [
            "Train on 94319 samples, validate on 40423 samples\n",
            "Epoch 1/30\n",
            "INFO:tensorflow:New input shapes; (re-)compiling: mode=train (# of cores 8), [TensorSpec(shape=(64,), dtype=tf.int32, name='core_id0'), TensorSpec(shape=(64, 13), dtype=tf.float32, name='title_input_10'), TensorSpec(shape=(64, 1598), dtype=tf.float32, name='content_input_10'), TensorSpec(shape=(64, 1), dtype=tf.float32, name='dense_2_target_30')]\n",
            "INFO:tensorflow:Overriding default placeholder.\n",
            "INFO:tensorflow:Remapping placeholder for title_input\n",
            "INFO:tensorflow:Remapping placeholder for content_input\n",
            "WARNING:tensorflow:From /usr/local/lib/python3.6/dist-packages/tensorflow/contrib/tpu/python/tpu/keras_support.py:302: to_float (from tensorflow.python.ops.math_ops) is deprecated and will be removed in a future version.\n",
            "Instructions for updating:\n",
            "Use tf.cast instead.\n",
            "WARNING:tensorflow:From /usr/local/lib/python3.6/dist-packages/tensorflow/python/ops/math_ops.py:3066: to_int32 (from tensorflow.python.ops.math_ops) is deprecated and will be removed in a future version.\n",
            "Instructions for updating:\n",
            "Use tf.cast instead.\n",
            "INFO:tensorflow:Started compiling\n",
            "INFO:tensorflow:Finished compiling. Time elapsed: 10.908635139465332 secs\n",
            "INFO:tensorflow:Setting weights on TPU model.\n",
            "93696/94319 [============================>.] - ETA: 1s - loss: 0.4999 - acc: 0.7628INFO:tensorflow:New input shapes; (re-)compiling: mode=train (# of cores 8), [TensorSpec(shape=(13,), dtype=tf.int32, name='core_id0'), TensorSpec(shape=(13, 13), dtype=tf.float32, name='title_input_10'), TensorSpec(shape=(13, 1598), dtype=tf.float32, name='content_input_10'), TensorSpec(shape=(13, 1), dtype=tf.float32, name='dense_2_target_30')]\n",
            "INFO:tensorflow:Overriding default placeholder.\n",
            "INFO:tensorflow:Remapping placeholder for title_input\n",
            "INFO:tensorflow:Remapping placeholder for content_input\n",
            "INFO:tensorflow:Started compiling\n",
            "INFO:tensorflow:Finished compiling. Time elapsed: 11.853826522827148 secs\n",
            "94208/94319 [============================>.] - ETA: 0s - loss: 0.4996 - acc: 0.7630INFO:tensorflow:New input shapes; (re-)compiling: mode=eval (# of cores 8), [TensorSpec(shape=(64,), dtype=tf.int32, name='core_id_10'), TensorSpec(shape=(64, 13), dtype=tf.float32, name='title_input_10'), TensorSpec(shape=(64, 1598), dtype=tf.float32, name='content_input_10'), TensorSpec(shape=(64, 1), dtype=tf.float32, name='dense_2_target_30')]\n",
            "INFO:tensorflow:Overriding default placeholder.\n",
            "INFO:tensorflow:Remapping placeholder for title_input\n",
            "INFO:tensorflow:Remapping placeholder for content_input\n",
            "INFO:tensorflow:Started compiling\n",
            "INFO:tensorflow:Finished compiling. Time elapsed: 19.538328886032104 secs\n",
            "INFO:tensorflow:New input shapes; (re-)compiling: mode=eval (# of cores 8), [TensorSpec(shape=(60,), dtype=tf.int32, name='core_id_10'), TensorSpec(shape=(60, 13), dtype=tf.float32, name='title_input_10'), TensorSpec(shape=(60, 1598), dtype=tf.float32, name='content_input_10'), TensorSpec(shape=(60, 1), dtype=tf.float32, name='dense_2_target_30')]\n",
            "INFO:tensorflow:Overriding default placeholder.\n",
            "INFO:tensorflow:Remapping placeholder for title_input\n",
            "INFO:tensorflow:Remapping placeholder for content_input\n",
            "INFO:tensorflow:Started compiling\n",
            "INFO:tensorflow:Finished compiling. Time elapsed: 25.022522687911987 secs\n",
            "94319/94319 [==============================] - 324s 3ms/sample - loss: 0.4995 - acc: 0.7630 - val_loss: 0.4659 - val_acc: 0.7836\n",
            "Epoch 2/30\n",
            "94319/94319 [==============================] - 202s 2ms/sample - loss: 0.4099 - acc: 0.8142 - val_loss: 0.4347 - val_acc: 0.8015\n",
            "Epoch 3/30\n",
            "94319/94319 [==============================] - 201s 2ms/sample - loss: 0.3697 - acc: 0.8318 - val_loss: 0.3631 - val_acc: 0.8369\n"
          ],
          "name": "stdout"
        }
      ]
    },
    {
      "cell_type": "code",
      "metadata": {
        "id": "afWePEP1fdO1",
        "colab_type": "code",
        "outputId": "4eea0230-bf0c-41e4-8f45-f04b8182f28b",
        "colab": {
          "base_uri": "https://localhost:8080/",
          "height": 393
        }
      },
      "source": [
        "plt.figure(figsize=(16,6))\n",
        "plt.plot(hist.history['val_acc'], label='val_acc')\n",
        "plt.plot(hist.history['acc'], label='train_acc')\n",
        "plt.legend()"
      ],
      "execution_count": 22,
      "outputs": [
        {
          "output_type": "execute_result",
          "data": {
            "text/plain": [
              "<matplotlib.legend.Legend at 0x7f758185c6d8>"
            ]
          },
          "metadata": {
            "tags": []
          },
          "execution_count": 22
        },
        {
          "output_type": "display_data",
          "data": {
            "image/png": "[encoded data removed]",
            "text/plain": [
              "<Figure size 1152x432 with 1 Axes>"
            ]
          },
          "metadata": {
            "tags": []
          }
        }
      ]
    },
    {
      "cell_type": "code",
      "metadata": {
        "id": "m2tHe8rekq2T",
        "colab_type": "code",
        "outputId": "db309c6d-1d5d-427e-fb65-79d46073da4f",
        "colab": {
          "base_uri": "https://localhost:8080/",
          "height": 391
        }
      },
      "source": [
        "plt.figure(figsize=(16,6))\n",
        "plt.plot(hist.history['val_loss'], label='val_loss')\n",
        "plt.plot(hist.history['loss'], label='train_loss')\n",
        "plt.legend()"
      ],
      "execution_count": 23,
      "outputs": [
        {
          "output_type": "execute_result",
          "data": {
            "text/plain": [
              "<matplotlib.legend.Legend at 0x7f757f7908d0>"
            ]
          },
          "metadata": {
            "tags": []
          },
          "execution_count": 23
        },
        {
          "output_type": "display_data",
          "data": {
            "image/png": "[encoded data removed]",
            "text/plain": [
              "<Figure size 1152x432 with 1 Axes>"
            ]
          },
          "metadata": {
            "tags": []
          }
        }
      ]
    },
    {
      "cell_type": "code",
      "metadata": {
        "id": "JrTFC1bHksum",
        "colab_type": "code",
        "colab": {}
      },
      "source": [
        "#model = k.models.load_model(LSTM_CHECKPOINT_PATH)"
      ],
      "execution_count": 0,
      "outputs": []
    },
    {
      "cell_type": "code",
      "metadata": {
        "id": "oEdxTruQkmp0",
        "colab_type": "code",
        "outputId": "00425c09-d57e-4d8d-dcbe-0109d6ac2d7b",
        "colab": {
          "base_uri": "https://localhost:8080/",
          "height": 267
        }
      },
      "source": [
        "#For GPU\n",
        "#test_pred = model.predict(test_fit)\n",
        "\n",
        "#For TPU\n",
        "tpu_batch = [test_fit[0][:-3], test_fit[1][:-3]]\n",
        "test_pred = tpu_model.predict(tpu_batch, batch_size=32*8)"
      ],
      "execution_count": 24,
      "outputs": [
        {
          "output_type": "stream",
          "text": [
            "INFO:tensorflow:New input shapes; (re-)compiling: mode=infer (# of cores 8), [TensorSpec(shape=(32, 13), dtype=tf.float32, name='title_input_10'), TensorSpec(shape=(32, 1598), dtype=tf.float32, name='content_input_10')]\n",
            "INFO:tensorflow:Overriding default placeholder.\n",
            "INFO:tensorflow:Remapping placeholder for title_input\n",
            "INFO:tensorflow:Remapping placeholder for content_input\n",
            "INFO:tensorflow:Started compiling\n",
            "INFO:tensorflow:Finished compiling. Time elapsed: 29.88983988761902 secs\n",
            "INFO:tensorflow:New input shapes; (re-)compiling: mode=infer (# of cores 8), [TensorSpec(shape=(18, 13), dtype=tf.float32, name='title_input_10'), TensorSpec(shape=(18, 1598), dtype=tf.float32, name='content_input_10')]\n",
            "INFO:tensorflow:Overriding default placeholder.\n",
            "INFO:tensorflow:Remapping placeholder for title_input\n",
            "INFO:tensorflow:Remapping placeholder for content_input\n",
            "INFO:tensorflow:Started compiling\n",
            "INFO:tensorflow:Finished compiling. Time elapsed: 21.63938808441162 secs\n"
          ],
          "name": "stdout"
        }
      ]
    },
    {
      "cell_type": "code",
      "metadata": {
        "id": "o6J3nWEVnfB6",
        "colab_type": "code",
        "outputId": "daea8a69-bed1-415f-9301-46fd18e202ca",
        "colab": {
          "base_uri": "https://localhost:8080/",
          "height": 34
        }
      },
      "source": [
        "#accuracy_score(np.array(y_test.tolist()), test_pred.round())\n",
        "accuracy_score(np.array(y_test.tolist()[:-3]), test_pred.round())"
      ],
      "execution_count": 25,
      "outputs": [
        {
          "output_type": "execute_result",
          "data": {
            "text/plain": [
              "0.8348053477417567"
            ]
          },
          "metadata": {
            "tags": []
          },
          "execution_count": 25
        }
      ]
    },
    {
      "cell_type": "code",
      "metadata": {
        "id": "AU_g82e4k4sV",
        "colab_type": "code",
        "outputId": "ee14e7c7-fda4-45aa-a83a-d24e15ea84f4",
        "colab": {
          "base_uri": "https://localhost:8080/",
          "height": 170
        }
      },
      "source": [
        "#report = classification_report(np.array(y_test.tolist()), test_pred.round())\n",
        "report = classification_report(np.array(y_test.tolist()[:-3]), test_pred.round())\n",
        "print(report)"
      ],
      "execution_count": 26,
      "outputs": [
        {
          "output_type": "stream",
          "text": [
            "              precision    recall  f1-score   support\n",
            "\n",
            "           0       0.84      0.95      0.90     42886\n",
            "           1       0.78      0.49      0.61     14858\n",
            "\n",
            "   micro avg       0.83      0.83      0.83     57744\n",
            "   macro avg       0.81      0.72      0.75     57744\n",
            "weighted avg       0.83      0.83      0.82     57744\n",
            "\n"
          ],
          "name": "stdout"
        }
      ]
    },
    {
      "cell_type": "code",
      "metadata": {
        "id": "ITCuu9oQrXsh",
        "colab_type": "code",
        "outputId": "142c17b0-83c7-4717-c98b-682edf7b2d89",
        "colab": {
          "base_uri": "https://localhost:8080/",
          "height": 398
        }
      },
      "source": [
        "#matrix = confusion_matrix(np.array(y_test.tolist()).argmax(axis=1), test_pred.round().argmax(axis=1))\n",
        "matrix = confusion_matrix(np.array(y_test.tolist()[:-3]), test_pred.round())\n",
        "print(matrix)\n",
        "\n",
        "df_cm = pd.DataFrame(matrix, columns=['true', 'fake'], index=['true', 'fake'])\n",
        "sns.heatmap(df_cm, annot=True)"
      ],
      "execution_count": 29,
      "outputs": [
        {
          "output_type": "stream",
          "text": [
            "[[40851  2035]\n",
            " [ 7504  7354]]\n"
          ],
          "name": "stdout"
        },
        {
          "output_type": "execute_result",
          "data": {
            "text/plain": [
              "<matplotlib.axes._subplots.AxesSubplot at 0x7f757d9bf048>"
            ]
          },
          "metadata": {
            "tags": []
          },
          "execution_count": 29
        },
        {
          "output_type": "display_data",
          "data": {
            "image/png": "[encoded data removed]",
            "text/plain": [
              "<Figure size 576x396 with 2 Axes>"
            ]
          },
          "metadata": {
            "tags": []
          }
        }
      ]
    },
    {
      "cell_type": "code",
      "metadata": {
        "id": "qGK9HLMP2fmf",
        "colab_type": "code",
        "colab": {}
      },
      "source": [
        "from sklearn import metrics"
      ],
      "execution_count": 0,
      "outputs": []
    },
    {
      "cell_type": "code",
      "metadata": {
        "id": "3fYeDIHA2fbj",
        "colab_type": "code",
        "colab": {
          "base_uri": "https://localhost:8080/",
          "height": 403
        },
        "outputId": "d6c2a30c-f956-4905-a58f-0bacf75c21dd"
      },
      "source": [
        "fpr, tpr, thresholds = metrics.roc_curve(y_test[:-3], test_pred)\n",
        "auc = metrics.roc_auc_score(y_test[:-3], test_pred)\n",
        "\n",
        "fig,ax = plt.subplots()\n",
        "ax.set_title('AUC={}'.format(auc))\n",
        "fig.suptitle('Roc curve')\n",
        "ax.plot(fpr,tpr)"
      ],
      "execution_count": 33,
      "outputs": [
        {
          "output_type": "execute_result",
          "data": {
            "text/plain": [
              "[<matplotlib.lines.Line2D at 0x7f757d905e10>]"
            ]
          },
          "metadata": {
            "tags": []
          },
          "execution_count": 33
        },
        {
          "output_type": "display_data",
          "data": {
            "image/png": "[encoded data removed]",
            "text/plain": [
              "<Figure size 576x396 with 1 Axes>"
            ]
          },
          "metadata": {
            "tags": []
          }
        }
      ]
    },
    {
      "cell_type": "code",
      "metadata": {
        "id": "Y2GplJCCkpIr",
        "colab_type": "code",
        "colab": {}
      },
      "source": [
        "LSTM_PATH = 'drive/My Drive/Colab Notebooks/weights/lstm-binary.h5'"
      ],
      "execution_count": 0,
      "outputs": []
    },
    {
      "cell_type": "code",
      "metadata": {
        "id": "uJWubqazmhcF",
        "colab_type": "code",
        "outputId": "0d423fe5-0555-4efd-f068-ab9673dcd88e",
        "colab": {
          "base_uri": "https://localhost:8080/",
          "height": 72
        }
      },
      "source": [
        "model.save(LSTM_PATH)"
      ],
      "execution_count": 0,
      "outputs": [
        {
          "output_type": "stream",
          "text": [
            "INFO:tensorflow:Copying TPU weights to the CPU\n",
            "WARNING:tensorflow:TensorFlow optimizers do not make it possible to access optimizer attributes or optimizer state after instantiation. As a result, we cannot save the optimizer as part of the model save file.You will have to compile your model again after loading it. Prefer using a Keras optimizer instead (see keras.io/optimizers).\n"
          ],
          "name": "stdout"
        }
      ]
    },
    {
      "cell_type": "markdown",
      "metadata": {
        "id": "M1RK9vtpBVGd",
        "colab_type": "text"
      },
      "source": [
        "#Redes convolucionales"
      ]
    },
    {
      "cell_type": "code",
      "metadata": {
        "id": "hn15giBn6pSY",
        "colab_type": "code",
        "colab": {}
      },
      "source": [
        "seed(50)\n",
        "set_random_seed(50)\n",
        "k.backend.clear_session()"
      ],
      "execution_count": 0,
      "outputs": []
    },
    {
      "cell_type": "code",
      "metadata": {
        "id": "bRjPd9pEBaxg",
        "colab_type": "code",
        "outputId": "8a9483ed-8fe0-427c-d81f-8dca0b0802b6",
        "colab": {
          "base_uri": "https://localhost:8080/",
          "height": 907
        }
      },
      "source": [
        "#input_title\n",
        "title_input = k.layers.Input(shape=(len_title,), name='title_input')\n",
        "inp = k.layers.Embedding(output_dim=300, input_dim=50000, \n",
        "                         weights=[embed_mat], trainable=False, name='embed_title')(title_input)\n",
        "\n",
        "x = k.layers.Conv1D(filters = 5, kernel_size=4, strides=2, activation='relu', name='Conv1Title')(inp)\n",
        "x = k.layers.MaxPool1D(pool_size = 2, name='Pool1Title')(x)\n",
        "x = k.layers.Flatten()(x)\n",
        "x = k.layers.Dense(50, activation='relu', name='Dense1Title', kernel_regularizer='l2')(x)\n",
        "\n",
        "#input_content\n",
        "content_input = k.layers.Input(shape=(len_content,), name='content_input')\n",
        "inp2 = k.layers.Embedding(output_dim=300, input_dim=50000, \n",
        "                         weights=[embed_mat], trainable=False, name='embed_content')(content_input)\n",
        "x2 = k.layers.Conv1D(filters = 40, kernel_size = 16, strides = 2, activation='relu', name='Conv1Content')(inp2)\n",
        "x2 = k.layers.MaxPool1D(pool_size = 4, name='Pool1Content')(x2)\n",
        "\n",
        "#Added\n",
        "x2 = k.layers.Conv1D(filters = 80, kernel_size = 16, strides = 4, activation='relu', name='Conv2Content')(inp2)\n",
        "x2 = k.layers.MaxPool1D(pool_size = 4, name='Pool2Content')(x2)\n",
        "#\n",
        "\n",
        "x2 = k.layers.Flatten()(x2)\n",
        "x2 = k.layers.Dense(100, activation='relu', kernel_regularizer='l2', name='Dense1Content')(x2)\n",
        "\n",
        "\n",
        "#Merge\n",
        "x = k.layers.concatenate([x, x2])\n",
        "\n",
        "#Common part\n",
        "x = k.layers.Dense(50, activation='relu')(x)\n",
        "x = k.layers.Dropout(0.2)(x)\n",
        "x = k.layers.Dense(50, activation='relu')(x)\n",
        "x = k.layers.Dropout(0.2)(x)\n",
        "out = k.layers.Dense(1, activation='sigmoid')(x)\n",
        "\n",
        "\n",
        "#Build model\n",
        "model = k.models.Model(inputs=[title_input, content_input], outputs=[out])\n",
        "\n",
        "#model.compile(k.optimizers.Adam(lr=0.0001), loss='categorical_crossentropy', metrics=['acc'])\n",
        "#model.compile(k.optimizers.SGD(lr=0.1, momentum = 0.1), loss='categorical_crossentropy', metrics=['acc'])\n",
        "model.compile(k.optimizers.RMSprop(), loss='binary_crossentropy', metrics=['acc'])\n",
        "\n",
        "model.summary()"
      ],
      "execution_count": 19,
      "outputs": [
        {
          "output_type": "stream",
          "text": [
            "WARNING:tensorflow:From /usr/local/lib/python3.6/dist-packages/tensorflow/python/ops/resource_variable_ops.py:435: colocate_with (from tensorflow.python.framework.ops) is deprecated and will be removed in a future version.\n",
            "Instructions for updating:\n",
            "Colocations handled automatically by placer.\n",
            "WARNING:tensorflow:From /usr/local/lib/python3.6/dist-packages/tensorflow/python/keras/layers/core.py:143: calling dropout (from tensorflow.python.ops.nn_ops) with keep_prob is deprecated and will be removed in a future version.\n",
            "Instructions for updating:\n",
            "Please use `rate` instead of `keep_prob`. Rate should be set to `rate = 1 - keep_prob`.\n",
            "__________________________________________________________________________________________________\n",
            "Layer (type)                    Output Shape         Param #     Connected to                     \n",
            "==================================================================================================\n",
            "title_input (InputLayer)        (None, 13)           0                                            \n",
            "__________________________________________________________________________________________________\n",
            "content_input (InputLayer)      (None, 1598)         0                                            \n",
            "__________________________________________________________________________________________________\n",
            "embed_title (Embedding)         (None, 13, 300)      15000000    title_input[0][0]                \n",
            "__________________________________________________________________________________________________\n",
            "embed_content (Embedding)       (None, 1598, 300)    15000000    content_input[0][0]              \n",
            "__________________________________________________________________________________________________\n",
            "Conv1Title (Conv1D)             (None, 5, 5)         6005        embed_title[0][0]                \n",
            "__________________________________________________________________________________________________\n",
            "Conv2Content (Conv1D)           (None, 396, 80)      384080      embed_content[0][0]              \n",
            "__________________________________________________________________________________________________\n",
            "Pool1Title (MaxPooling1D)       (None, 2, 5)         0           Conv1Title[0][0]                 \n",
            "__________________________________________________________________________________________________\n",
            "Pool2Content (MaxPooling1D)     (None, 99, 80)       0           Conv2Content[0][0]               \n",
            "__________________________________________________________________________________________________\n",
            "flatten (Flatten)               (None, 10)           0           Pool1Title[0][0]                 \n",
            "__________________________________________________________________________________________________\n",
            "flatten_1 (Flatten)             (None, 7920)         0           Pool2Content[0][0]               \n",
            "__________________________________________________________________________________________________\n",
            "Dense1Title (Dense)             (None, 50)           550         flatten[0][0]                    \n",
            "__________________________________________________________________________________________________\n",
            "Dense1Content (Dense)           (None, 100)          792100      flatten_1[0][0]                  \n",
            "__________________________________________________________________________________________________\n",
            "concatenate (Concatenate)       (None, 150)          0           Dense1Title[0][0]                \n",
            "                                                                 Dense1Content[0][0]              \n",
            "__________________________________________________________________________________________________\n",
            "dense (Dense)                   (None, 50)           7550        concatenate[0][0]                \n",
            "__________________________________________________________________________________________________\n",
            "dropout (Dropout)               (None, 50)           0           dense[0][0]                      \n",
            "__________________________________________________________________________________________________\n",
            "dense_1 (Dense)                 (None, 50)           2550        dropout[0][0]                    \n",
            "__________________________________________________________________________________________________\n",
            "dropout_1 (Dropout)             (None, 50)           0           dense_1[0][0]                    \n",
            "__________________________________________________________________________________________________\n",
            "dense_2 (Dense)                 (None, 1)            51          dropout_1[0][0]                  \n",
            "==================================================================================================\n",
            "Total params: 31,192,886\n",
            "Trainable params: 1,192,886\n",
            "Non-trainable params: 30,000,000\n",
            "__________________________________________________________________________________________________\n"
          ],
          "name": "stdout"
        }
      ]
    },
    {
      "cell_type": "code",
      "metadata": {
        "id": "gOhBW9oiCDiU",
        "colab_type": "code",
        "outputId": "41c92478-ad86-4285-ef72-73539f93ecb8",
        "colab": {
          "base_uri": "https://localhost:8080/",
          "height": 279
        }
      },
      "source": [
        "hist = model.fit(x=train_fit, y=np.asarray(y_train.tolist()), batch_size=128, epochs=20,\n",
        "          callbacks = [k.callbacks.EarlyStopping(monitor='val_loss', patience=3, min_delta = 0.1)], validation_data=(valid_fit, np.array(y_valid.tolist())))"
      ],
      "execution_count": 0,
      "outputs": [
        {
          "output_type": "stream",
          "text": [
            "Train on 94319 samples, validate on 40423 samples\n",
            "WARNING:tensorflow:From /usr/local/lib/python3.6/dist-packages/tensorflow/python/ops/math_ops.py:3066: to_int32 (from tensorflow.python.ops.math_ops) is deprecated and will be removed in a future version.\n",
            "Instructions for updating:\n",
            "Use tf.cast instead.\n",
            "Epoch 1/20\n",
            "58368/94319 [=================>............] - ETA: 12:26 - loss: 0.4704 - acc: 0.8247"
          ],
          "name": "stdout"
        }
      ]
    },
    {
      "cell_type": "code",
      "metadata": {
        "id": "KAjg4jSCGWqU",
        "colab_type": "code",
        "outputId": "8abe58a9-219a-4920-98d4-c8cdd4b343c6",
        "colab": {
          "base_uri": "https://localhost:8080/",
          "height": 391
        }
      },
      "source": [
        "plt.figure(figsize=(16,6))\n",
        "plt.plot(hist.history['val_acc'], label='val_acc')\n",
        "plt.plot(hist.history['acc'], label='train_acc')\n",
        "plt.legend()"
      ],
      "execution_count": 21,
      "outputs": [
        {
          "output_type": "execute_result",
          "data": {
            "text/plain": [
              "<matplotlib.legend.Legend at 0x7f36cf58ec50>"
            ]
          },
          "metadata": {
            "tags": []
          },
          "execution_count": 21
        },
        {
          "output_type": "display_data",
          "data": {
            "image/png": "[encoded data removed]",
            "text/plain": [
              "<Figure size 1152x432 with 1 Axes>"
            ]
          },
          "metadata": {
            "tags": []
          }
        }
      ]
    },
    {
      "cell_type": "code",
      "metadata": {
        "id": "hTY9LsukoY0C",
        "colab_type": "code",
        "outputId": "1bb7fbf9-cba6-4fbb-9443-79b26af50a25",
        "colab": {
          "base_uri": "https://localhost:8080/",
          "height": 391
        }
      },
      "source": [
        "plt.figure(figsize=(16,6))\n",
        "plt.plot(hist.history['val_loss'], label='val_loss')\n",
        "plt.plot(hist.history['loss'], label='train_loss')\n",
        "plt.legend()"
      ],
      "execution_count": 22,
      "outputs": [
        {
          "output_type": "execute_result",
          "data": {
            "text/plain": [
              "<matplotlib.legend.Legend at 0x7f36cf2a0710>"
            ]
          },
          "metadata": {
            "tags": []
          },
          "execution_count": 22
        },
        {
          "output_type": "display_data",
          "data": {
            "image/png": "[encoded data removed]",
            "text/plain": [
              "<Figure size 1152x432 with 1 Axes>"
            ]
          },
          "metadata": {
            "tags": []
          }
        }
      ]
    },
    {
      "cell_type": "code",
      "metadata": {
        "id": "11xe1CLSRM3l",
        "colab_type": "code",
        "outputId": "426790a9-2034-4201-f33f-12283da7d46a",
        "colab": {
          "base_uri": "https://localhost:8080/",
          "height": 34
        }
      },
      "source": [
        "test_pred = model.predict(test_fit)\n",
        "accuracy_score(np.array(y_test.tolist()), test_pred.round())"
      ],
      "execution_count": 23,
      "outputs": [
        {
          "output_type": "execute_result",
          "data": {
            "text/plain": [
              "0.8734479713231856"
            ]
          },
          "metadata": {
            "tags": []
          },
          "execution_count": 23
        }
      ]
    },
    {
      "cell_type": "code",
      "metadata": {
        "id": "69Oqol9Jofab",
        "colab_type": "code",
        "outputId": "6ddaa0a8-9b40-4f5b-e321-70a867288916",
        "colab": {
          "base_uri": "https://localhost:8080/",
          "height": 170
        }
      },
      "source": [
        "report = classification_report(np.array(y_test.tolist()), test_pred.round())\n",
        "print(report)"
      ],
      "execution_count": 24,
      "outputs": [
        {
          "output_type": "stream",
          "text": [
            "              precision    recall  f1-score   support\n",
            "\n",
            "           0       0.95      0.88      0.91     42887\n",
            "           1       0.71      0.87      0.78     14860\n",
            "\n",
            "   micro avg       0.87      0.87      0.87     57747\n",
            "   macro avg       0.83      0.87      0.85     57747\n",
            "weighted avg       0.89      0.87      0.88     57747\n",
            "\n"
          ],
          "name": "stdout"
        }
      ]
    },
    {
      "cell_type": "code",
      "metadata": {
        "id": "2fIA4U81z7Bi",
        "colab_type": "code",
        "outputId": "32f41c7f-97b7-45e9-bbc6-8e479bc96714",
        "colab": {
          "base_uri": "https://localhost:8080/",
          "height": 398
        }
      },
      "source": [
        "matrix = confusion_matrix(np.array(y_test.tolist()), test_pred.round())\n",
        "print(matrix)\n",
        "\n",
        "#Plot\n",
        "df_cm = pd.DataFrame(matrix, columns=['fake', 'truth'], index=['fake', 'truth'])\n",
        "sns.heatmap(df_cm, annot=True)"
      ],
      "execution_count": 25,
      "outputs": [
        {
          "output_type": "stream",
          "text": [
            "[[37581  5306]\n",
            " [ 2002 12858]]\n"
          ],
          "name": "stdout"
        },
        {
          "output_type": "execute_result",
          "data": {
            "text/plain": [
              "<matplotlib.axes._subplots.AxesSubplot at 0x7f36cf31a9b0>"
            ]
          },
          "metadata": {
            "tags": []
          },
          "execution_count": 25
        },
        {
          "output_type": "display_data",
          "data": {
            "image/png": "[encoded data removed]",
            "text/plain": [
              "<Figure size 576x396 with 2 Axes>"
            ]
          },
          "metadata": {
            "tags": []
          }
        }
      ]
    },
    {
      "cell_type": "code",
      "metadata": {
        "id": "_djKeqFcon35",
        "colab_type": "code",
        "colab": {}
      },
      "source": [
        "from sklearn import metrics"
      ],
      "execution_count": 0,
      "outputs": []
    },
    {
      "cell_type": "code",
      "metadata": {
        "id": "85p8DJzUoxRx",
        "colab_type": "code",
        "colab": {
          "base_uri": "https://localhost:8080/",
          "height": 403
        },
        "outputId": "edf02257-0b07-4659-ebc4-056607b7ecde"
      },
      "source": [
        "fpr, tpr, thresholds = metrics.roc_curve(y_test, test_pred)\n",
        "auc = metrics.roc_auc_score(y_test, test_pred)\n",
        "\n",
        "fig,ax = plt.subplots()\n",
        "ax.set_title('AUC={}'.format(auc))\n",
        "fig.suptitle('Roc curve')\n",
        "ax.plot(fpr,tpr)"
      ],
      "execution_count": 38,
      "outputs": [
        {
          "output_type": "execute_result",
          "data": {
            "text/plain": [
              "[<matplotlib.lines.Line2D at 0x7f36ce7391d0>]"
            ]
          },
          "metadata": {
            "tags": []
          },
          "execution_count": 38
        },
        {
          "output_type": "display_data",
          "data": {
            "image/png": "[encoded data removed]",
            "text/plain": [
              "<Figure size 576x396 with 1 Axes>"
            ]
          },
          "metadata": {
            "tags": []
          }
        }
      ]
    },
    {
      "cell_type": "code",
      "metadata": {
        "id": "QrSoUtQnoyqT",
        "colab_type": "code",
        "colab": {}
      },
      "source": [
        "CONV_PATH = 'drive/My Drive/Colab Notebooks/weights/conv-binary.h5'\n",
        "model.save(CONV_PATH)"
      ],
      "execution_count": 0,
      "outputs": []
    },
    {
      "cell_type": "code",
      "metadata": {
        "id": "7qplnjGTp0qP",
        "colab_type": "code",
        "colab": {}
      },
      "source": [
        ""
      ],
      "execution_count": 0,
      "outputs": []
    }
  ]
}