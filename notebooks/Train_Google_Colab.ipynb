{
  "nbformat": 4,
  "nbformat_minor": 0,
  "metadata": {
    "colab": {
      "name": "Train_Google_Colab.ipynb",
      "version": "0.3.2",
      "provenance": [],
      "collapsed_sections": [
        "zEtJ9bG1e2rI",
        "OMApMHOldZty"
      ]
    },
    "kernelspec": {
      "name": "python3",
      "display_name": "Python 3"
    },
    "accelerator": "GPU"
  },
  "cells": [
    {
      "cell_type": "code",
      "metadata": {
        "id": "leag2SIuKQ6H",
        "colab_type": "code",
        "outputId": "b811cc38-4906-4918-d893-4a95ff71e55b",
        "colab": {
          "base_uri": "https://localhost:8080/",
          "height": 125
        }
      },
      "source": [
        "from google.colab import drive\n",
        "drive.mount('/content/drive')"
      ],
      "execution_count": 2,
      "outputs": [
        {
          "output_type": "stream",
          "text": [
            "Go to this URL in a browser: https://accounts.google.com/o/oauth2/auth?client_id=947318989803-6bn6qk8qdgf4n4g3pfee6491hc0brc4i.apps.googleusercontent.com&redirect_uri=urn%3Aietf%3Awg%3Aoauth%3A2.0%3Aoob&scope=email%20https%3A%2F%2Fwww.googleapis.com%2Fauth%2Fdocs.test%20https%3A%2F%2Fwww.googleapis.com%2Fauth%2Fdrive%20https%3A%2F%2Fwww.googleapis.com%2Fauth%2Fdrive.photos.readonly%20https%3A%2F%2Fwww.googleapis.com%2Fauth%2Fpeopleapi.readonly&response_type=code\n",
            "\n",
            "Enter your authorization code:\n",
            "··········\n",
            "Mounted at /content/drive\n"
          ],
          "name": "stdout"
        }
      ]
    },
    {
      "cell_type": "code",
      "metadata": {
        "id": "RZPgJIeHd7Ki",
        "colab_type": "code",
        "outputId": "0a00ad6d-a7b5-4347-9da1-2b5839678bd2",
        "colab": {
          "base_uri": "https://localhost:8080/",
          "height": 125
        }
      },
      "source": [
        "!pip install --upgrade pandas\n",
        "\n",
        "#!pip install talos\n",
        "#!pip install statsmodels -U\n",
        "#!pip install --upgrade pytest"
      ],
      "execution_count": 3,
      "outputs": [
        {
          "output_type": "stream",
          "text": [
            "Requirement already up-to-date: pandas in /usr/local/lib/python3.6/dist-packages (0.24.2)\n",
            "Requirement already satisfied, skipping upgrade: pytz>=2011k in /usr/local/lib/python3.6/dist-packages (from pandas) (2018.9)\n",
            "Requirement already satisfied, skipping upgrade: numpy>=1.12.0 in /usr/local/lib/python3.6/dist-packages (from pandas) (1.16.3)\n",
            "Requirement already satisfied, skipping upgrade: python-dateutil>=2.5.0 in /usr/local/lib/python3.6/dist-packages (from pandas) (2.5.3)\n",
            "Requirement already satisfied, skipping upgrade: six>=1.5 in /usr/local/lib/python3.6/dist-packages (from python-dateutil>=2.5.0->pandas) (1.12.0)\n"
          ],
          "name": "stdout"
        }
      ]
    },
    {
      "cell_type": "code",
      "metadata": {
        "id": "HSTFCp3TLOyY",
        "colab_type": "code",
        "outputId": "c3a064a4-2f2c-4dac-c745-0ccd3b8a36e2",
        "colab": {
          "base_uri": "https://localhost:8080/",
          "height": 52
        }
      },
      "source": [
        "!ls \"drive/My Drive/Colab Notebooks/data\""
      ],
      "execution_count": 4,
      "outputs": [
        {
          "output_type": "stream",
          "text": [
            "data_kaggle_proc.pickle\t\t       news_getting_real.pickle\n",
            "GoogleNews-vectors-negative300.bin.gz  news_proc_12_3_19.pickle\n"
          ],
          "name": "stdout"
        }
      ]
    },
    {
      "cell_type": "markdown",
      "metadata": {
        "id": "L4ox1E4A-NIx",
        "colab_type": "text"
      },
      "source": [
        "# Imports, loads , Train/test split and Optimum params\n",
        "---"
      ]
    },
    {
      "cell_type": "code",
      "metadata": {
        "id": "Pxs1baLTJsxl",
        "colab_type": "code",
        "colab": {}
      },
      "source": [
        "import pandas as pd\n",
        "import numpy as np\n",
        "\n",
        "#Progress bars\n",
        "from tqdm import tqdm\n",
        "tqdm.pandas()\n",
        "\n",
        "#Paralelize pandas apply on multiple cores\n",
        "#import swifter\n",
        "\n",
        "from matplotlib import pyplot as plt\n",
        "from matplotlib import style\n",
        "#Nicer style\n",
        "style.use('seaborn')\n",
        "import seaborn as sns\n",
        "\n",
        "from tensorflow import keras as k\n",
        "\n",
        "from sklearn.model_selection import train_test_split\n",
        "\n",
        "from gensim.models import KeyedVectors\n",
        "\n",
        "from sklearn.metrics import accuracy_score, confusion_matrix, classification_report"
      ],
      "execution_count": 0,
      "outputs": []
    },
    {
      "cell_type": "code",
      "metadata": {
        "id": "E-i6JPxjKGaz",
        "colab_type": "code",
        "colab": {}
      },
      "source": [
        "data = pd.read_pickle('drive/My Drive/Colab Notebooks/data/news_proc_12_3_19.pickle')#.reset_index()\n",
        "data = data.dropna()"
      ],
      "execution_count": 0,
      "outputs": []
    },
    {
      "cell_type": "markdown",
      "metadata": {
        "id": "ytOekwMDE9Pi",
        "colab_type": "text"
      },
      "source": [
        "Labels asignadas a los tipos"
      ]
    },
    {
      "cell_type": "code",
      "metadata": {
        "id": "oxDrPOrlCONc",
        "colab_type": "code",
        "outputId": "c06f9ab8-093c-4c0f-9932-8d7f59080489",
        "colab": {
          "base_uri": "https://localhost:8080/",
          "height": 87
        }
      },
      "source": [
        "types = data['type'].unique()\n",
        "for t in types:\n",
        "    print(\"{} - {}\".format(t, data[data['type'] == t].head(1)['one_hot_label'].iloc[0]))"
      ],
      "execution_count": 7,
      "outputs": [
        {
          "output_type": "stream",
          "text": [
            "bias - [1 0 0 0]\n",
            "click - [0 1 0 0]\n",
            "fake - [0 0 1 0]\n",
            "truth - [0 0 0 1]\n"
          ],
          "name": "stdout"
        }
      ]
    },
    {
      "cell_type": "code",
      "metadata": {
        "id": "p2Rb1d_iMRo4",
        "colab_type": "code",
        "outputId": "356c8828-2fa3-4e54-e6b2-72c183ecf1af",
        "colab": {
          "base_uri": "https://localhost:8080/",
          "height": 52
        }
      },
      "source": [
        "len_content = len(data['content'][0])\n",
        "len_title = len(data['title'][0])\n",
        "\n",
        "print(\"Max len content: {}\".format(len_content))\n",
        "print(\"Max len title: {}\".format(len_title))"
      ],
      "execution_count": 8,
      "outputs": [
        {
          "output_type": "stream",
          "text": [
            "Max len content: 1598\n",
            "Max len title: 13\n"
          ],
          "name": "stdout"
        }
      ]
    },
    {
      "cell_type": "code",
      "metadata": {
        "id": "42yvXt6pdWtl",
        "colab_type": "code",
        "colab": {}
      },
      "source": [
        ""
      ],
      "execution_count": 0,
      "outputs": []
    },
    {
      "cell_type": "code",
      "metadata": {
        "id": "obS9w_bsMeCf",
        "colab_type": "code",
        "colab": {}
      },
      "source": [
        "model = KeyedVectors.load_word2vec_format(\"drive/My Drive/Colab Notebooks/data/GoogleNews-vectors-negative300.bin.gz\", binary=True, limit=50000)"
      ],
      "execution_count": 0,
      "outputs": []
    },
    {
      "cell_type": "code",
      "metadata": {
        "id": "kq7N1l62dYve",
        "colab_type": "code",
        "colab": {}
      },
      "source": [
        "embed_mat = np.zeros((50000,300))\n",
        "for i, e in model.vocab.items():\n",
        "    embed_mat[e.index] = model[i]"
      ],
      "execution_count": 0,
      "outputs": []
    },
    {
      "cell_type": "markdown",
      "metadata": {
        "id": "Wbfhe0Txddio",
        "colab_type": "text"
      },
      "source": [
        "**Tran/valid/test split**"
      ]
    },
    {
      "cell_type": "code",
      "metadata": {
        "id": "cq-wi-x6ddtd",
        "colab_type": "code",
        "colab": {}
      },
      "source": [
        "#Train - test\n",
        "X_train, X_test, y_train, y_test = train_test_split(\n",
        "    data[['content', 'title']], data['one_hot_label'], test_size=0.3, random_state=1)\n",
        "\n",
        "#Train - valid\n",
        "X_train, X_valid, y_train, y_valid = train_test_split(\n",
        "    X_train, y_train, test_size=0.3, random_state=1)"
      ],
      "execution_count": 0,
      "outputs": []
    },
    {
      "cell_type": "code",
      "metadata": {
        "id": "WxjsZziCddwE",
        "colab_type": "code",
        "colab": {}
      },
      "source": [
        "X_train_title = X_train['title']\n",
        "X_train_content = X_train['content']\n",
        "\n",
        "X_valid_title = X_valid['title']\n",
        "X_valid_content = X_valid['content']\n",
        "\n",
        "X_test_title = X_test['title']\n",
        "X_test_content = X_test['content']"
      ],
      "execution_count": 0,
      "outputs": []
    },
    {
      "cell_type": "code",
      "metadata": {
        "id": "kOmvVOCofAl2",
        "colab_type": "code",
        "colab": {}
      },
      "source": [
        "train_fit = [np.asarray(X_train_title.tolist()), \n",
        "             np.asarray(X_train_content.tolist())]\n",
        "\n",
        "valid_fit = [np.asarray(X_valid_title.tolist()), \n",
        "             np.asarray(X_valid_content.tolist())]\n",
        "\n",
        "test_fit = [np.asarray(X_test_title.tolist()), \n",
        "             np.asarray(X_test_content.tolist())]"
      ],
      "execution_count": 0,
      "outputs": []
    },
    {
      "cell_type": "code",
      "metadata": {
        "id": "Fiv0BWnBddy0",
        "colab_type": "code",
        "colab": {}
      },
      "source": [
        "del data\n",
        "del X_train_title, X_train_content\n",
        "del X_valid_title, X_valid_content\n",
        "del X_test_title, X_test_content"
      ],
      "execution_count": 0,
      "outputs": []
    },
    {
      "cell_type": "code",
      "metadata": {
        "id": "slVgLTa1HRmG",
        "colab_type": "code",
        "colab": {}
      },
      "source": [
        ""
      ],
      "execution_count": 0,
      "outputs": []
    },
    {
      "cell_type": "markdown",
      "metadata": {
        "id": "YwYAV_H128f6",
        "colab_type": "text"
      },
      "source": [
        "## Optimum Params found with Bayesian Optimization"
      ]
    },
    {
      "cell_type": "code",
      "metadata": {
        "id": "xKsXmH1t3IkD",
        "colab_type": "code",
        "colab": {}
      },
      "source": [
        "# Optimum params for LSTM network\n",
        "params_lstm = {\n",
        "    'lr': 0.25089565306979505,\n",
        "    'momentum': 0.02947012104962393,\n",
        "    'dropout': 0.11976231360733916\n",
        "}\n",
        "\n",
        "\n",
        "#Optimum params for CNN network\n",
        "params_cnn = {\n",
        "    'lr': 0.23993334664040306,\n",
        "    'momentum': 0.30361299021107185,\n",
        "    'dropout1': 0.10993063833594595,\n",
        "    'dropout2': 0.1586041045258562,\n",
        "    'filters1Title': 8,\n",
        "    'denseTitle': 42,\n",
        "    'filtersContent': 6,\n",
        "    'denseContent': 34\n",
        "}"
      ],
      "execution_count": 0,
      "outputs": []
    },
    {
      "cell_type": "code",
      "metadata": {
        "id": "vZEvZo6hLFG2",
        "colab_type": "code",
        "colab": {}
      },
      "source": [
        "#Some imports...\n",
        "import tensorflow as tf\n",
        "import os\n",
        "\n",
        "from numpy.random import seed\n",
        "from tensorflow import set_random_seed"
      ],
      "execution_count": 0,
      "outputs": []
    },
    {
      "cell_type": "markdown",
      "metadata": {
        "id": "zEtJ9bG1e2rI",
        "colab_type": "text"
      },
      "source": [
        "# LSTM"
      ]
    },
    {
      "cell_type": "code",
      "metadata": {
        "id": "gmGzzoGWNES6",
        "colab_type": "code",
        "colab": {}
      },
      "source": [
        "seed(50)\n",
        "set_random_seed(50)\n",
        "k.backend.clear_session()"
      ],
      "execution_count": 0,
      "outputs": []
    },
    {
      "cell_type": "code",
      "metadata": {
        "id": "EmtrvI5peiTA",
        "colab_type": "code",
        "outputId": "15e4d24b-979f-4beb-fa89-c80e14a897fa",
        "colab": {
          "base_uri": "https://localhost:8080/",
          "height": 712
        }
      },
      "source": [
        "#input_title\n",
        "title_input = k.layers.Input(shape=(len_title,), name='title_input')\n",
        "inp = k.layers.Embedding(output_dim=300, input_dim=50000, \n",
        "                         weights=[embed_mat], trainable=False)(title_input)\n",
        "#x = k.layers.Bidirectional(k.layers.LSTM(100))(inp)\n",
        "#CudnnLSTM\n",
        "x = k.layers.Bidirectional(k.layers.CuDNNLSTM(100))(inp)\n",
        "\n",
        "#input_content\n",
        "content_input = k.layers.Input(shape=(len_content,), name='content_input')\n",
        "inp2 = k.layers.Embedding(output_dim=300, input_dim=50000, \n",
        "                         weights=[embed_mat], trainable=False)(content_input)\n",
        "#x2 = k.layers.Bidirectional(k.layers.LSTM(300))(inp2)\n",
        "#CudnnLSTM\n",
        "x2 = k.layers.Bidirectional(k.layers.CuDNNLSTM(300))(inp2)\n",
        "\n",
        "#Merge\n",
        "x = k.layers.concatenate([x, x2])\n",
        "\n",
        "\n",
        "#Common part\n",
        "x = k.layers.Dense(100, activation='relu')(x)\n",
        "x = k.layers.Dropout(params_lstm['dropout'])(x)\n",
        "x = k.layers.Dense(50, activation='relu')(x)\n",
        "x = k.layers.Dropout(0.2)(x)\n",
        "\n",
        "out = k.layers.Dense(4, activation='softmax')(x)\n",
        "\n",
        "#Build model\n",
        "model = k.models.Model(inputs=[title_input, content_input], outputs=[out])\n",
        "\n",
        "#model.compile(k.optimizers.SGD(), loss='categorical_crossentropy', metrics=['acc'])\n",
        "model.compile(tf.train.MomentumOptimizer(learning_rate=params_lstm['lr'], \n",
        "                                         momentum=params_lstm['momentum']), \n",
        "                                         loss='categorical_crossentropy', metrics=['acc'])\n",
        "\n",
        "model.summary()"
      ],
      "execution_count": 18,
      "outputs": [
        {
          "output_type": "stream",
          "text": [
            "WARNING:tensorflow:From /usr/local/lib/python3.6/dist-packages/tensorflow/python/ops/resource_variable_ops.py:435: colocate_with (from tensorflow.python.framework.ops) is deprecated and will be removed in a future version.\n",
            "Instructions for updating:\n",
            "Colocations handled automatically by placer.\n",
            "WARNING:tensorflow:From /usr/local/lib/python3.6/dist-packages/tensorflow/python/keras/layers/core.py:143: calling dropout (from tensorflow.python.ops.nn_ops) with keep_prob is deprecated and will be removed in a future version.\n",
            "Instructions for updating:\n",
            "Please use `rate` instead of `keep_prob`. Rate should be set to `rate = 1 - keep_prob`.\n",
            "__________________________________________________________________________________________________\n",
            "Layer (type)                    Output Shape         Param #     Connected to                     \n",
            "==================================================================================================\n",
            "title_input (InputLayer)        (None, 13)           0                                            \n",
            "__________________________________________________________________________________________________\n",
            "content_input (InputLayer)      (None, 1598)         0                                            \n",
            "__________________________________________________________________________________________________\n",
            "embedding (Embedding)           (None, 13, 300)      15000000    title_input[0][0]                \n",
            "__________________________________________________________________________________________________\n",
            "embedding_1 (Embedding)         (None, 1598, 300)    15000000    content_input[0][0]              \n",
            "__________________________________________________________________________________________________\n",
            "bidirectional (Bidirectional)   (None, 200)          321600      embedding[0][0]                  \n",
            "__________________________________________________________________________________________________\n",
            "bidirectional_1 (Bidirectional) (None, 600)          1444800     embedding_1[0][0]                \n",
            "__________________________________________________________________________________________________\n",
            "concatenate (Concatenate)       (None, 800)          0           bidirectional[0][0]              \n",
            "                                                                 bidirectional_1[0][0]            \n",
            "__________________________________________________________________________________________________\n",
            "dense (Dense)                   (None, 100)          80100       concatenate[0][0]                \n",
            "__________________________________________________________________________________________________\n",
            "dropout (Dropout)               (None, 100)          0           dense[0][0]                      \n",
            "__________________________________________________________________________________________________\n",
            "dense_1 (Dense)                 (None, 50)           5050        dropout[0][0]                    \n",
            "__________________________________________________________________________________________________\n",
            "dropout_1 (Dropout)             (None, 50)           0           dense_1[0][0]                    \n",
            "__________________________________________________________________________________________________\n",
            "dense_2 (Dense)                 (None, 4)            204         dropout_1[0][0]                  \n",
            "==================================================================================================\n",
            "Total params: 31,851,754\n",
            "Trainable params: 1,851,754\n",
            "Non-trainable params: 30,000,000\n",
            "__________________________________________________________________________________________________\n"
          ],
          "name": "stdout"
        }
      ]
    },
    {
      "cell_type": "code",
      "metadata": {
        "id": "uTXKdQRWNJnP",
        "colab_type": "code",
        "outputId": "c71324fd-70f2-40d2-a219-affac23d8566",
        "colab": {
          "base_uri": "https://localhost:8080/",
          "height": 425
        }
      },
      "source": [
        "#Optimize TPU\n",
        "\n",
        "# This address identifies the TPU we'll use when configuring TensorFlow.\n",
        "TPU_WORKER = 'grpc://' + os.environ['COLAB_TPU_ADDR']\n",
        "tf.logging.set_verbosity(tf.logging.INFO)\n",
        "\n",
        "tpu_model = tf.contrib.tpu.keras_to_tpu_model(\n",
        "    model,\n",
        "    strategy=tf.contrib.tpu.TPUDistributionStrategy(\n",
        "        tf.contrib.cluster_resolver.TPUClusterResolver(TPU_WORKER)))\n"
      ],
      "execution_count": 0,
      "outputs": [
        {
          "output_type": "stream",
          "text": [
            "\n",
            "WARNING: The TensorFlow contrib module will not be included in TensorFlow 2.0.\n",
            "For more information, please see:\n",
            "  * https://github.com/tensorflow/community/blob/master/rfcs/20180907-contrib-sunset.md\n",
            "  * https://github.com/tensorflow/addons\n",
            "If you depend on functionality not listed there, please file an issue.\n",
            "\n",
            "INFO:tensorflow:Querying Tensorflow master (grpc://10.90.38.242:8470) for TPU system metadata.\n",
            "INFO:tensorflow:Found TPU system:\n",
            "INFO:tensorflow:*** Num TPU Cores: 8\n",
            "INFO:tensorflow:*** Num TPU Workers: 1\n",
            "INFO:tensorflow:*** Num TPU Cores Per Worker: 8\n",
            "INFO:tensorflow:*** Available Device: _DeviceAttributes(/job:worker/replica:0/task:0/device:CPU:0, CPU, -1, 16769006676919830880)\n",
            "INFO:tensorflow:*** Available Device: _DeviceAttributes(/job:worker/replica:0/task:0/device:XLA_CPU:0, XLA_CPU, 17179869184, 6433662340739805021)\n",
            "INFO:tensorflow:*** Available Device: _DeviceAttributes(/job:worker/replica:0/task:0/device:TPU:0, TPU, 17179869184, 3821857194660653888)\n",
            "INFO:tensorflow:*** Available Device: _DeviceAttributes(/job:worker/replica:0/task:0/device:TPU:1, TPU, 17179869184, 17758714325384991705)\n",
            "INFO:tensorflow:*** Available Device: _DeviceAttributes(/job:worker/replica:0/task:0/device:TPU:2, TPU, 17179869184, 353903391318176176)\n",
            "INFO:tensorflow:*** Available Device: _DeviceAttributes(/job:worker/replica:0/task:0/device:TPU:3, TPU, 17179869184, 6914519152412684752)\n",
            "INFO:tensorflow:*** Available Device: _DeviceAttributes(/job:worker/replica:0/task:0/device:TPU:4, TPU, 17179869184, 3493598116385100315)\n",
            "INFO:tensorflow:*** Available Device: _DeviceAttributes(/job:worker/replica:0/task:0/device:TPU:5, TPU, 17179869184, 9494498376603184925)\n",
            "INFO:tensorflow:*** Available Device: _DeviceAttributes(/job:worker/replica:0/task:0/device:TPU:6, TPU, 17179869184, 11517690496723483170)\n",
            "INFO:tensorflow:*** Available Device: _DeviceAttributes(/job:worker/replica:0/task:0/device:TPU:7, TPU, 17179869184, 6901428951482649961)\n",
            "INFO:tensorflow:*** Available Device: _DeviceAttributes(/job:worker/replica:0/task:0/device:TPU_SYSTEM:0, TPU_SYSTEM, 17179869184, 6767651275676086287)\n",
            "WARNING:tensorflow:tpu_model (from tensorflow.contrib.tpu.python.tpu.keras_support) is experimental and may change or be removed at any time, and without warning.\n"
          ],
          "name": "stdout"
        }
      ]
    },
    {
      "cell_type": "code",
      "metadata": {
        "id": "fJOKKYYENQX4",
        "colab_type": "code",
        "colab": {}
      },
      "source": [
        ""
      ],
      "execution_count": 0,
      "outputs": []
    },
    {
      "cell_type": "code",
      "metadata": {
        "id": "V8cmRP_yfCcL",
        "colab_type": "code",
        "outputId": "550c681c-6e5b-4910-f194-2a5cbf9de1f4",
        "colab": {
          "base_uri": "https://localhost:8080/",
          "height": 285
        }
      },
      "source": [
        "hist = model.fit(x=train_fit, y=np.asarray(y_train.tolist()), batch_size=64, epochs=30,\n",
        "          callbacks = [k.callbacks.EarlyStopping(monitor='val_acc', patience=1, min_delta = 0.1)], \n",
        "                 validation_data=(valid_fit, np.array(y_valid.tolist())))"
      ],
      "execution_count": 19,
      "outputs": [
        {
          "output_type": "stream",
          "text": [
            "Train on 94319 samples, validate on 40423 samples\n",
            "WARNING:tensorflow:From /usr/local/lib/python3.6/dist-packages/tensorflow/python/ops/math_ops.py:3066: to_int32 (from tensorflow.python.ops.math_ops) is deprecated and will be removed in a future version.\n",
            "Instructions for updating:\n",
            "Use tf.cast instead.\n",
            "Epoch 1/30\n",
            "94319/94319 [==============================] - 682s 7ms/sample - loss: 1.1860 - acc: 0.4599 - val_loss: 1.0052 - val_acc: 0.5785\n",
            "Epoch 2/30\n",
            "94319/94319 [==============================] - 695s 7ms/sample - loss: 0.8728 - acc: 0.6420 - val_loss: 0.6935 - val_acc: 0.7226\n",
            "Epoch 3/30\n",
            "94319/94319 [==============================] - 687s 7ms/sample - loss: 0.7828 - acc: 0.6801 - val_loss: 1.0456 - val_acc: 0.5525\n",
            "Epoch 4/30\n",
            "94319/94319 [==============================] - 671s 7ms/sample - loss: 0.9279 - acc: 0.6143 - val_loss: 0.8676 - val_acc: 0.6432\n",
            "Epoch 5/30\n",
            "94319/94319 [==============================] - 671s 7ms/sample - loss: 0.8710 - acc: 0.6419 - val_loss: 0.8481 - val_acc: 0.6523\n"
          ],
          "name": "stdout"
        }
      ]
    },
    {
      "cell_type": "code",
      "metadata": {
        "id": "afWePEP1fdO1",
        "colab_type": "code",
        "outputId": "f5d585e4-12fb-410f-b45c-e0332502b7fe",
        "colab": {
          "base_uri": "https://localhost:8080/",
          "height": 391
        }
      },
      "source": [
        "plt.figure(figsize=(16,6))\n",
        "plt.plot(hist.history['val_acc'], label='val_acc')\n",
        "plt.plot(hist.history['acc'], label='train_acc')\n",
        "plt.legend()"
      ],
      "execution_count": 20,
      "outputs": [
        {
          "output_type": "execute_result",
          "data": {
            "text/plain": [
              "<matplotlib.legend.Legend at 0x7f90b24b5128>"
            ]
          },
          "metadata": {
            "tags": []
          },
          "execution_count": 20
        },
        {
          "output_type": "display_data",
          "data": {
            "image/png": "[encoded data removed]",
            "text/plain": [
              "<Figure size 1152x432 with 1 Axes>"
            ]
          },
          "metadata": {
            "tags": []
          }
        }
      ]
    },
    {
      "cell_type": "code",
      "metadata": {
        "id": "m2tHe8rekq2T",
        "colab_type": "code",
        "outputId": "1ab2b5be-38eb-4e1e-f0a2-5eb2d46891a1",
        "colab": {
          "base_uri": "https://localhost:8080/",
          "height": 391
        }
      },
      "source": [
        "plt.figure(figsize=(16,6))\n",
        "plt.plot(hist.history['val_loss'], label='val_loss')\n",
        "plt.plot(hist.history['loss'], label='train_loss')\n",
        "plt.legend()"
      ],
      "execution_count": 21,
      "outputs": [
        {
          "output_type": "execute_result",
          "data": {
            "text/plain": [
              "<matplotlib.legend.Legend at 0x7f90b1ec9940>"
            ]
          },
          "metadata": {
            "tags": []
          },
          "execution_count": 21
        },
        {
          "output_type": "display_data",
          "data": {
            "image/png": "[encoded data removed]",
            "text/plain": [
              "<Figure size 1152x432 with 1 Axes>"
            ]
          },
          "metadata": {
            "tags": []
          }
        }
      ]
    },
    {
      "cell_type": "code",
      "metadata": {
        "id": "JrTFC1bHksum",
        "colab_type": "code",
        "colab": {}
      },
      "source": [
        ""
      ],
      "execution_count": 0,
      "outputs": []
    },
    {
      "cell_type": "code",
      "metadata": {
        "id": "oEdxTruQkmp0",
        "colab_type": "code",
        "colab": {}
      },
      "source": [
        "#For GPU\n",
        "test_pred = model.predict(test_fit)\n",
        "\n",
        "#For TPU\n",
        "#tpu_batch = [test_fit[0][:-3], test_fit[1][:-3]]\n",
        "#test_pred = tpu_model.predict(tpu_batch, batch_size=32*8)"
      ],
      "execution_count": 0,
      "outputs": []
    },
    {
      "cell_type": "code",
      "metadata": {
        "id": "o6J3nWEVnfB6",
        "colab_type": "code",
        "outputId": "e9e1b877-ddf1-498d-9e1c-82a595964eb7",
        "colab": {
          "base_uri": "https://localhost:8080/",
          "height": 34
        }
      },
      "source": [
        "accuracy_score(np.array(y_test.tolist()), test_pred.round())"
      ],
      "execution_count": 26,
      "outputs": [
        {
          "output_type": "execute_result",
          "data": {
            "text/plain": [
              "0.46857845429199785"
            ]
          },
          "metadata": {
            "tags": []
          },
          "execution_count": 26
        }
      ]
    },
    {
      "cell_type": "code",
      "metadata": {
        "id": "AU_g82e4k4sV",
        "colab_type": "code",
        "outputId": "301a2a7e-088d-425f-abc9-7f67552443cf",
        "colab": {
          "base_uri": "https://localhost:8080/",
          "height": 285
        }
      },
      "source": [
        "report = classification_report(np.array(y_test.tolist()), test_pred.round())\n",
        "print(report)"
      ],
      "execution_count": 29,
      "outputs": [
        {
          "output_type": "stream",
          "text": [
            "              precision    recall  f1-score   support\n",
            "\n",
            "           0       0.87      0.48      0.62     13497\n",
            "           1       0.85      0.55      0.67     14960\n",
            "           2       0.73      0.55      0.63     14430\n",
            "           3       0.95      0.29      0.44     14860\n",
            "\n",
            "   micro avg       0.83      0.47      0.60     57747\n",
            "   macro avg       0.85      0.47      0.59     57747\n",
            "weighted avg       0.85      0.47      0.59     57747\n",
            " samples avg       0.47      0.47      0.47     57747\n",
            "\n"
          ],
          "name": "stdout"
        },
        {
          "output_type": "stream",
          "text": [
            "/usr/local/lib/python3.6/dist-packages/sklearn/metrics/classification.py:1143: UndefinedMetricWarning: Precision and F-score are ill-defined and being set to 0.0 in samples with no predicted labels.\n",
            "  'precision', 'predicted', average, warn_for)\n"
          ],
          "name": "stderr"
        }
      ]
    },
    {
      "cell_type": "code",
      "metadata": {
        "id": "ITCuu9oQrXsh",
        "colab_type": "code",
        "outputId": "2caffbd7-69db-4459-8b59-21fe09c60720",
        "colab": {
          "base_uri": "https://localhost:8080/",
          "height": 435
        }
      },
      "source": [
        "matrix = confusion_matrix(np.array(y_test.tolist()).argmax(axis=1), test_pred.round().argmax(axis=1))\n",
        "print(matrix)\n",
        "\n",
        "df_cm = pd.DataFrame(matrix, columns=['clickbait', 'bias', 'true', 'fake'], index=['clickbait', 'bias', 'true', 'fake'])\n",
        "sns.heatmap(df_cm, annot=True)"
      ],
      "execution_count": 30,
      "outputs": [
        {
          "output_type": "stream",
          "text": [
            "[[11748   429  1249    71]\n",
            " [ 6116  8258   532    54]\n",
            " [ 6002   364  7964   100]\n",
            " [ 8672   709  1183  4296]]\n"
          ],
          "name": "stdout"
        },
        {
          "output_type": "execute_result",
          "data": {
            "text/plain": [
              "<matplotlib.axes._subplots.AxesSubplot at 0x7f90b68a2c18>"
            ]
          },
          "metadata": {
            "tags": []
          },
          "execution_count": 30
        },
        {
          "output_type": "display_data",
          "data": {
            "image/png": "[encoded data removed]",
            "text/plain": [
              "<Figure size 576x396 with 2 Axes>"
            ]
          },
          "metadata": {
            "tags": []
          }
        }
      ]
    },
    {
      "cell_type": "code",
      "metadata": {
        "id": "Y2GplJCCkpIr",
        "colab_type": "code",
        "colab": {}
      },
      "source": [
        "LSTM_PATH = 'drive/My Drive/Colab Notebooks/weights/lstm.h5'"
      ],
      "execution_count": 0,
      "outputs": []
    },
    {
      "cell_type": "code",
      "metadata": {
        "id": "uJWubqazmhcF",
        "colab_type": "code",
        "colab": {}
      },
      "source": [
        "model.save(LSTM_PATH)"
      ],
      "execution_count": 0,
      "outputs": []
    },
    {
      "cell_type": "markdown",
      "metadata": {
        "id": "M1RK9vtpBVGd",
        "colab_type": "text"
      },
      "source": [
        "#Redes convolucionales"
      ]
    },
    {
      "cell_type": "code",
      "metadata": {
        "id": "hn15giBn6pSY",
        "colab_type": "code",
        "colab": {}
      },
      "source": [
        "seed(50)\n",
        "set_random_seed(50)\n",
        "k.backend.clear_session()"
      ],
      "execution_count": 0,
      "outputs": []
    },
    {
      "cell_type": "code",
      "metadata": {
        "id": "bRjPd9pEBaxg",
        "colab_type": "code",
        "outputId": "7ec545ce-efa3-4f8e-e8f7-15960ff73f54",
        "colab": {
          "base_uri": "https://localhost:8080/",
          "height": 925
        }
      },
      "source": [
        "#input_title\n",
        "title_input = k.layers.Input(shape=(len_title,), name='title_input')\n",
        "inp = k.layers.Embedding(output_dim=300, input_dim=50000, \n",
        "                         weights=[embed_mat], trainable=False, name='embed_title')(title_input)\n",
        "\n",
        "x = k.layers.Conv1D(filters = 5, kernel_size=4, strides=2, activation='relu', name='Conv1Title')(inp)\n",
        "x = k.layers.MaxPool1D(pool_size = 2, name='Pool1Title')(x)\n",
        "x = k.layers.Flatten()(x)\n",
        "x = k.layers.Dense(50, activation='relu', name='Dense1Title', kernel_regularizer='l2')(x)\n",
        "\n",
        "#input_content\n",
        "content_input = k.layers.Input(shape=(len_content,), name='content_input')\n",
        "inp2 = k.layers.Embedding(output_dim=300, input_dim=50000, \n",
        "                         weights=[embed_mat], trainable=False, name='embed_content')(content_input)\n",
        "x2 = k.layers.Conv1D(filters = 40, kernel_size = 16, strides = 2, activation='relu', name='Conv1Content')(inp2)\n",
        "x2 = k.layers.MaxPool1D(pool_size = 4, name='Pool1Content')(x2)\n",
        "\n",
        "#Added\n",
        "x2 = k.layers.Conv1D(filters = 80, kernel_size = 16, strides = 4, activation='relu', name='Conv2Content')(inp2)\n",
        "x2 = k.layers.MaxPool1D(pool_size = 4, name='Pool2Content')(x2)\n",
        "#\n",
        "\n",
        "x2 = k.layers.Flatten()(x2)\n",
        "x2 = k.layers.Dense(100, activation='relu', kernel_regularizer='l2', name='Dense1Content')(x2)\n",
        "\n",
        "\n",
        "#Merge\n",
        "x = k.layers.concatenate([x, x2])\n",
        "\n",
        "#Common part\n",
        "x = k.layers.Dense(50, activation='relu')(x)\n",
        "x = k.layers.Dropout(0.2)(x)\n",
        "x = k.layers.Dense(50, activation='relu')(x)\n",
        "x = k.layers.Dropout(0.2)(x)\n",
        "out = k.layers.Dense(4, activation='softmax')(x)\n",
        "\n",
        "\n",
        "#Build model\n",
        "model = k.models.Model(inputs=[title_input, content_input], outputs=[out])\n",
        "\n",
        "#model.compile(k.optimizers.Adam(lr=0.0001), loss='categorical_crossentropy', metrics=['acc'])\n",
        "#model.compile(k.optimizers.SGD(lr=0.1, momentum = 0.1), loss='categorical_crossentropy', metrics=['acc'])\n",
        "model.compile(k.optimizers.RMSprop(), loss='categorical_crossentropy', metrics=['acc'])\n",
        "\n",
        "model.summary()"
      ],
      "execution_count": 18,
      "outputs": [
        {
          "output_type": "stream",
          "text": [
            "WARNING:tensorflow:From /usr/local/lib/python3.6/dist-packages/tensorflow/python/ops/resource_variable_ops.py:435: colocate_with (from tensorflow.python.framework.ops) is deprecated and will be removed in a future version.\n",
            "Instructions for updating:\n",
            "Colocations handled automatically by placer.\n",
            "WARNING:tensorflow:From /usr/local/lib/python3.6/dist-packages/tensorflow/python/keras/layers/core.py:143: calling dropout (from tensorflow.python.ops.nn_ops) with keep_prob is deprecated and will be removed in a future version.\n",
            "Instructions for updating:\n",
            "Please use `rate` instead of `keep_prob`. Rate should be set to `rate = 1 - keep_prob`.\n",
            "__________________________________________________________________________________________________\n",
            "Layer (type)                    Output Shape         Param #     Connected to                     \n",
            "==================================================================================================\n",
            "title_input (InputLayer)        (None, 13)           0                                            \n",
            "__________________________________________________________________________________________________\n",
            "content_input (InputLayer)      (None, 1598)         0                                            \n",
            "__________________________________________________________________________________________________\n",
            "embed_title (Embedding)         (None, 13, 300)      15000000    title_input[0][0]                \n",
            "__________________________________________________________________________________________________\n",
            "embed_content (Embedding)       (None, 1598, 300)    15000000    content_input[0][0]              \n",
            "__________________________________________________________________________________________________\n",
            "Conv1Title (Conv1D)             (None, 5, 5)         6005        embed_title[0][0]                \n",
            "__________________________________________________________________________________________________\n",
            "Conv2Content (Conv1D)           (None, 396, 80)      384080      embed_content[0][0]              \n",
            "__________________________________________________________________________________________________\n",
            "Pool1Title (MaxPooling1D)       (None, 2, 5)         0           Conv1Title[0][0]                 \n",
            "__________________________________________________________________________________________________\n",
            "Pool2Content (MaxPooling1D)     (None, 99, 80)       0           Conv2Content[0][0]               \n",
            "__________________________________________________________________________________________________\n",
            "flatten (Flatten)               (None, 10)           0           Pool1Title[0][0]                 \n",
            "__________________________________________________________________________________________________\n",
            "flatten_1 (Flatten)             (None, 7920)         0           Pool2Content[0][0]               \n",
            "__________________________________________________________________________________________________\n",
            "Dense1Title (Dense)             (None, 50)           550         flatten[0][0]                    \n",
            "__________________________________________________________________________________________________\n",
            "Dense1Content (Dense)           (None, 100)          792100      flatten_1[0][0]                  \n",
            "__________________________________________________________________________________________________\n",
            "concatenate (Concatenate)       (None, 150)          0           Dense1Title[0][0]                \n",
            "                                                                 Dense1Content[0][0]              \n",
            "__________________________________________________________________________________________________\n",
            "dense (Dense)                   (None, 50)           7550        concatenate[0][0]                \n",
            "__________________________________________________________________________________________________\n",
            "dropout (Dropout)               (None, 50)           0           dense[0][0]                      \n",
            "__________________________________________________________________________________________________\n",
            "dense_1 (Dense)                 (None, 50)           2550        dropout[0][0]                    \n",
            "__________________________________________________________________________________________________\n",
            "dropout_1 (Dropout)             (None, 50)           0           dense_1[0][0]                    \n",
            "__________________________________________________________________________________________________\n",
            "dense_2 (Dense)                 (None, 4)            204         dropout_1[0][0]                  \n",
            "==================================================================================================\n",
            "Total params: 31,193,039\n",
            "Trainable params: 1,193,039\n",
            "Non-trainable params: 30,000,000\n",
            "__________________________________________________________________________________________________\n"
          ],
          "name": "stdout"
        }
      ]
    },
    {
      "cell_type": "code",
      "metadata": {
        "id": "gOhBW9oiCDiU",
        "colab_type": "code",
        "outputId": "06f1bddf-23e2-4f4f-db0d-305781e740e7",
        "colab": {
          "base_uri": "https://localhost:8080/",
          "height": 250
        }
      },
      "source": [
        "hist = model.fit(x=train_fit, y=np.asarray(y_train.tolist()), batch_size=128, epochs=20,\n",
        "          callbacks = [k.callbacks.EarlyStopping(monitor='val_loss', patience=3, min_delta = 0.1)], validation_data=(valid_fit, np.array(y_valid.tolist())))"
      ],
      "execution_count": 19,
      "outputs": [
        {
          "output_type": "stream",
          "text": [
            "Train on 94319 samples, validate on 40423 samples\n",
            "WARNING:tensorflow:From /usr/local/lib/python3.6/dist-packages/tensorflow/python/ops/math_ops.py:3066: to_int32 (from tensorflow.python.ops.math_ops) is deprecated and will be removed in a future version.\n",
            "Instructions for updating:\n",
            "Use tf.cast instead.\n",
            "Epoch 1/20\n",
            "94319/94319 [==============================] - 35s 369us/sample - loss: 0.8381 - acc: 0.7092 - val_loss: 0.6286 - val_acc: 0.7897\n",
            "Epoch 2/20\n",
            "94319/94319 [==============================] - 32s 336us/sample - loss: 0.5735 - acc: 0.8209 - val_loss: 0.5717 - val_acc: 0.8171\n",
            "Epoch 3/20\n",
            "94319/94319 [==============================] - 32s 343us/sample - loss: 0.4644 - acc: 0.8664 - val_loss: 0.5555 - val_acc: 0.8276\n",
            "Epoch 4/20\n",
            "94319/94319 [==============================] - 32s 335us/sample - loss: 0.3790 - acc: 0.8978 - val_loss: 0.5858 - val_acc: 0.8246\n"
          ],
          "name": "stdout"
        }
      ]
    },
    {
      "cell_type": "code",
      "metadata": {
        "id": "KAjg4jSCGWqU",
        "colab_type": "code",
        "outputId": "ab3bfcc3-22dc-4da7-a7a3-f12f70b98089",
        "colab": {
          "base_uri": "https://localhost:8080/",
          "height": 391
        }
      },
      "source": [
        "plt.figure(figsize=(16,6))\n",
        "plt.plot(hist.history['val_acc'], label='val_acc')\n",
        "plt.plot(hist.history['acc'], label='train_acc')\n",
        "plt.legend()"
      ],
      "execution_count": 20,
      "outputs": [
        {
          "output_type": "execute_result",
          "data": {
            "text/plain": [
              "<matplotlib.legend.Legend at 0x7f6bc4109f60>"
            ]
          },
          "metadata": {
            "tags": []
          },
          "execution_count": 20
        },
        {
          "output_type": "display_data",
          "data": {
            "image/png": "[encoded data removed]",
            "text/plain": [
              "<Figure size 1152x432 with 1 Axes>"
            ]
          },
          "metadata": {
            "tags": []
          }
        }
      ]
    },
    {
      "cell_type": "code",
      "metadata": {
        "id": "hTY9LsukoY0C",
        "colab_type": "code",
        "outputId": "ed440a6b-c4a5-476a-9de8-11a523811f8f",
        "colab": {
          "base_uri": "https://localhost:8080/",
          "height": 391
        }
      },
      "source": [
        "plt.figure(figsize=(16,6))\n",
        "plt.plot(hist.history['val_loss'], label='val_loss')\n",
        "plt.plot(hist.history['loss'], label='train_loss')\n",
        "plt.legend()"
      ],
      "execution_count": 21,
      "outputs": [
        {
          "output_type": "execute_result",
          "data": {
            "text/plain": [
              "<matplotlib.legend.Legend at 0x7f6bc3c65668>"
            ]
          },
          "metadata": {
            "tags": []
          },
          "execution_count": 21
        },
        {
          "output_type": "display_data",
          "data": {
            "image/png": "[encoded data removed]",
            "text/plain": [
              "<Figure size 1152x432 with 1 Axes>"
            ]
          },
          "metadata": {
            "tags": []
          }
        }
      ]
    },
    {
      "cell_type": "code",
      "metadata": {
        "id": "11xe1CLSRM3l",
        "colab_type": "code",
        "outputId": "f466e4fc-798d-4f2b-9f63-1d0222c3ae12",
        "colab": {
          "base_uri": "https://localhost:8080/",
          "height": 34
        }
      },
      "source": [
        "test_pred = model.predict(test_fit)\n",
        "accuracy_score(np.array(y_test.tolist()), test_pred.round())"
      ],
      "execution_count": 22,
      "outputs": [
        {
          "output_type": "execute_result",
          "data": {
            "text/plain": [
              "0.8028122673039292"
            ]
          },
          "metadata": {
            "tags": []
          },
          "execution_count": 22
        }
      ]
    },
    {
      "cell_type": "code",
      "metadata": {
        "id": "69Oqol9Jofab",
        "colab_type": "code",
        "outputId": "13c81170-82c3-48be-9611-b01d9db1977d",
        "colab": {
          "base_uri": "https://localhost:8080/",
          "height": 285
        }
      },
      "source": [
        "report = classification_report(np.array(y_test.tolist()), test_pred.round())\n",
        "print(report)"
      ],
      "execution_count": 23,
      "outputs": [
        {
          "output_type": "stream",
          "text": [
            "              precision    recall  f1-score   support\n",
            "\n",
            "           0       0.86      0.78      0.82     13497\n",
            "           1       0.91      0.85      0.88     14960\n",
            "           2       0.88      0.81      0.85     14430\n",
            "           3       0.77      0.77      0.77     14860\n",
            "\n",
            "   micro avg       0.85      0.80      0.83     57747\n",
            "   macro avg       0.86      0.80      0.83     57747\n",
            "weighted avg       0.86      0.80      0.83     57747\n",
            " samples avg       0.80      0.80      0.80     57747\n",
            "\n"
          ],
          "name": "stdout"
        },
        {
          "output_type": "stream",
          "text": [
            "/usr/local/lib/python3.6/dist-packages/sklearn/metrics/classification.py:1143: UndefinedMetricWarning: Precision and F-score are ill-defined and being set to 0.0 in samples with no predicted labels.\n",
            "  'precision', 'predicted', average, warn_for)\n"
          ],
          "name": "stderr"
        }
      ]
    },
    {
      "cell_type": "code",
      "metadata": {
        "id": "2fIA4U81z7Bi",
        "colab_type": "code",
        "outputId": "bec2d4b6-9b2e-47f3-de56-5386af9388a3",
        "colab": {
          "base_uri": "https://localhost:8080/",
          "height": 435
        }
      },
      "source": [
        "matrix = confusion_matrix(np.array(y_test.tolist()).argmax(axis=1), test_pred.round().argmax(axis=1))\n",
        "print(matrix)\n",
        "\n",
        "#Plot\n",
        "df_cm = pd.DataFrame(matrix, columns=['bias', 'click', 'fake', 'truth'], index=['bias', 'click', 'fake', 'truth'])\n",
        "sns.heatmap(df_cm, annot=True)"
      ],
      "execution_count": 24,
      "outputs": [
        {
          "output_type": "stream",
          "text": [
            "[[11350   391   433  1323]\n",
            " [  999 12700   311   950]\n",
            " [ 1336   286 11722  1086]\n",
            " [ 1950   608   832 11470]]\n"
          ],
          "name": "stdout"
        },
        {
          "output_type": "execute_result",
          "data": {
            "text/plain": [
              "<matplotlib.axes._subplots.AxesSubplot at 0x7f6bc392fe10>"
            ]
          },
          "metadata": {
            "tags": []
          },
          "execution_count": 24
        },
        {
          "output_type": "display_data",
          "data": {
            "image/png": "[encoded data removed]",
            "text/plain": [
              "<Figure size 576x396 with 2 Axes>"
            ]
          },
          "metadata": {
            "tags": []
          }
        }
      ]
    },
    {
      "cell_type": "code",
      "metadata": {
        "id": "QrSoUtQnoyqT",
        "colab_type": "code",
        "colab": {}
      },
      "source": [
        "CONV_PATH = 'drive/My Drive/Colab Notebooks/weights/conv.h5'\n",
        "model.save(CONV_PATH)"
      ],
      "execution_count": 0,
      "outputs": []
    },
    {
      "cell_type": "code",
      "metadata": {
        "id": "7qplnjGTp0qP",
        "colab_type": "code",
        "colab": {}
      },
      "source": [
        ""
      ],
      "execution_count": 0,
      "outputs": []
    },
    {
      "cell_type": "markdown",
      "metadata": {
        "id": "OMApMHOldZty",
        "colab_type": "text"
      },
      "source": [
        "# Buscar hiperparámetros óptimos para la CNN (GridSearch)\n",
        "**Nota:** *Ahora se usa Optimizacion Bayesiana. Este código es de una versión previa*"
      ]
    },
    {
      "cell_type": "code",
      "metadata": {
        "id": "lp6v7yeShqda",
        "colab_type": "code",
        "outputId": "2bf2e982-034b-4a7d-c513-ca327b5afe81",
        "colab": {
          "base_uri": "https://localhost:8080/",
          "height": 34
        }
      },
      "source": [
        "import talos as ta"
      ],
      "execution_count": 0,
      "outputs": [
        {
          "output_type": "stream",
          "text": [
            "Using TensorFlow backend.\n"
          ],
          "name": "stderr"
        }
      ]
    },
    {
      "cell_type": "code",
      "metadata": {
        "id": "fTa2eG8yelaa",
        "colab_type": "code",
        "colab": {}
      },
      "source": [
        "p = {\n",
        "    'optimizer' : [k.optimizers.Nadam, k.optimizers.Adam, k.optimizers.Adagrad],\n",
        "    'lr' : (0.001, 0.1, 0.2, 0.3),\n",
        "}"
      ],
      "execution_count": 0,
      "outputs": []
    },
    {
      "cell_type": "code",
      "metadata": {
        "id": "nWvoCxc-dgxb",
        "colab_type": "code",
        "colab": {}
      },
      "source": [
        "def cnn_model(x_train, y_train, x_val, y_val, params):\n",
        "    #input_title\n",
        "    title_input = k.layers.Input(shape=(len_title,), name='title_input')\n",
        "    inp = k.layers.Embedding(output_dim=300, input_dim=50000, \n",
        "                             weights=[embed_mat], trainable=False, name='embed_title')(title_input)\n",
        "\n",
        "    x = k.layers.Conv1D(filters = 5, kernel_size=4, strides=2, activation='relu', name='Conv1Title')(inp)\n",
        "    x = k.layers.MaxPool1D(pool_size = 2, name='Pool1Title')(x)\n",
        "    x = k.layers.Flatten()(x)\n",
        "    x = k.layers.Dense(50, activation='relu', name='Dense1Title', kernel_regularizer='l2')(x)\n",
        "\n",
        "    #input_content\n",
        "    content_input = k.layers.Input(shape=(len_content,), name='content_input')\n",
        "    inp2 = k.layers.Embedding(output_dim=300, input_dim=50000, \n",
        "                             weights=[embed_mat], trainable=False, name='embed_content')(content_input)\n",
        "    x2 = k.layers.Conv1D(filters = 40, kernel_size = 16, strides = 2, activation='relu', name='Conv1Content')(inp2)\n",
        "    x2 = k.layers.MaxPool1D(pool_size = 4, name='Pool1Content')(x2)\n",
        "\n",
        "    #Added\n",
        "    x2 = k.layers.Conv1D(filters = 80, kernel_size = 16, strides = 4, activation='relu', name='Conv2Content')(inp2)\n",
        "    x2 = k.layers.MaxPool1D(pool_size = 4, name='Pool2Content')(x2)\n",
        "    #\n",
        "\n",
        "    x2 = k.layers.Flatten()(x2)\n",
        "    x2 = k.layers.Dense(100, activation='relu', kernel_regularizer='l2', name='Dense1Content')(x2)\n",
        "\n",
        "\n",
        "    #Merge\n",
        "    x = k.layers.concatenate([x, x2])\n",
        "\n",
        "    #Common part\n",
        "    x = k.layers.Dense(50, activation='relu')(x)\n",
        "    x = k.layers.Dropout(0.2)(x)\n",
        "    x = k.layers.Dense(50, activation='relu')(x)\n",
        "    x = k.layers.Dropout(0.2)(x)\n",
        "    out = k.layers.Dense(4, activation='softmax')(x)\n",
        "\n",
        "\n",
        "    #Build model\n",
        "    model = k.models.Model(inputs=[title_input, content_input], outputs=[out])\n",
        "\n",
        "    model.compile(params['optimizer'](lr=params['lr']), loss='categorical_crossentropy', metrics=['acc'])\n",
        "    \n",
        "    out = model.fit(x=x_train, y=y_train, batch_size=128, epochs=20,\n",
        "          callbacks = [k.callbacks.EarlyStopping(monitor='val_loss', patience=3, min_delta = 0.1)], \n",
        "                    validation_data=(x_val, y_val))\n",
        "    \n",
        "    return out, model"
      ],
      "execution_count": 0,
      "outputs": []
    },
    {
      "cell_type": "code",
      "metadata": {
        "id": "-L52abocf8AZ",
        "colab_type": "code",
        "outputId": "aedfaa5b-fd21-45ca-b175-81581a184862",
        "colab": {
          "base_uri": "https://localhost:8080/",
          "height": 1020
        }
      },
      "source": [
        "t = ta.Scan(x = train_fit, \n",
        "        y=np.asarray(y_train.tolist()), \n",
        "        x_val = valid_fit, \n",
        "        y_val = np.array(y_valid.tolist()), \n",
        "        params = p, \n",
        "        model=cnn_model,\n",
        "        clear_tf_session=False)"
      ],
      "execution_count": 0,
      "outputs": [
        {
          "output_type": "stream",
          "text": [
            "\r  0%|          | 0/3 [00:00<?, ?it/s]"
          ],
          "name": "stderr"
        },
        {
          "output_type": "stream",
          "text": [
            "WARNING:tensorflow:From /usr/local/lib/python3.6/dist-packages/tensorflow/python/ops/resource_variable_ops.py:435: colocate_with (from tensorflow.python.framework.ops) is deprecated and will be removed in a future version.\n",
            "Instructions for updating:\n",
            "Colocations handled automatically by placer.\n",
            "WARNING:tensorflow:From /usr/local/lib/python3.6/dist-packages/tensorflow/python/keras/layers/core.py:143: calling dropout (from tensorflow.python.ops.nn_ops) with keep_prob is deprecated and will be removed in a future version.\n",
            "Instructions for updating:\n",
            "Please use `rate` instead of `keep_prob`. Rate should be set to `rate = 1 - keep_prob`.\n",
            "Train on 94319 samples, validate on 40423 samples\n",
            "WARNING:tensorflow:From /usr/local/lib/python3.6/dist-packages/tensorflow/python/ops/math_ops.py:3066: to_int32 (from tensorflow.python.ops.math_ops) is deprecated and will be removed in a future version.\n",
            "Instructions for updating:\n",
            "Use tf.cast instead.\n",
            "Epoch 1/20\n",
            "94319/94319 [==============================] - 93s 989us/sample - loss: 0.8582 - acc: 0.7232 - val_loss: 0.7067 - val_acc: 0.7766\n",
            "Epoch 2/20\n",
            "94319/94319 [==============================] - 92s 976us/sample - loss: 0.6154 - acc: 0.8284 - val_loss: 0.6505 - val_acc: 0.8083\n",
            "Epoch 3/20\n",
            "94319/94319 [==============================] - 92s 975us/sample - loss: 0.5234 - acc: 0.8726 - val_loss: 0.6268 - val_acc: 0.8221\n",
            "Epoch 4/20\n",
            "94319/94319 [==============================] - 92s 975us/sample - loss: 0.4389 - acc: 0.9030 - val_loss: 0.6531 - val_acc: 0.8264\n"
          ],
          "name": "stdout"
        },
        {
          "output_type": "stream",
          "text": [
            "\r 33%|███▎      | 1/3 [06:14<12:28, 374.15s/it]"
          ],
          "name": "stderr"
        },
        {
          "output_type": "stream",
          "text": [
            "Train on 94319 samples, validate on 40423 samples\n",
            "Epoch 1/20\n",
            "94319/94319 [==============================] - 93s 989us/sample - loss: 0.8565 - acc: 0.7195 - val_loss: 0.6680 - val_acc: 0.7951\n",
            "Epoch 2/20\n",
            "94319/94319 [==============================] - 93s 983us/sample - loss: 0.6070 - acc: 0.8281 - val_loss: 0.6237 - val_acc: 0.8203\n",
            "Epoch 3/20\n",
            "94319/94319 [==============================] - 92s 973us/sample - loss: 0.5242 - acc: 0.8675 - val_loss: 0.6264 - val_acc: 0.8229\n",
            "Epoch 4/20\n",
            "94319/94319 [==============================] - 91s 969us/sample - loss: 0.4439 - acc: 0.8993 - val_loss: 0.6686 - val_acc: 0.8243\n"
          ],
          "name": "stdout"
        },
        {
          "output_type": "stream",
          "text": [
            "\r 67%|██████▋   | 2/3 [12:25<06:13, 373.44s/it]"
          ],
          "name": "stderr"
        },
        {
          "output_type": "stream",
          "text": [
            "Train on 94319 samples, validate on 40423 samples\n",
            "Epoch 1/20\n",
            "94319/94319 [==============================] - 93s 990us/sample - loss: 1.3882 - acc: 0.5843 - val_loss: 1.0340 - val_acc: 0.6761\n",
            "Epoch 2/20\n",
            "94319/94319 [==============================] - 92s 977us/sample - loss: 0.9704 - acc: 0.6942 - val_loss: 0.9034 - val_acc: 0.7078\n",
            "Epoch 3/20\n",
            "94319/94319 [==============================] - 92s 977us/sample - loss: 0.8659 - acc: 0.7277 - val_loss: 0.8483 - val_acc: 0.7206\n",
            "Epoch 4/20\n",
            "94319/94319 [==============================] - 92s 976us/sample - loss: 0.8003 - acc: 0.7502 - val_loss: 0.8112 - val_acc: 0.7337\n",
            "Epoch 5/20\n",
            "94319/94319 [==============================] - 93s 981us/sample - loss: 0.7532 - acc: 0.7641 - val_loss: 0.7812 - val_acc: 0.7395\n",
            "Epoch 6/20\n",
            "94319/94319 [==============================] - 92s 980us/sample - loss: 0.7133 - acc: 0.7794 - val_loss: 0.7633 - val_acc: 0.7466\n",
            "Epoch 7/20\n",
            "94319/94319 [==============================] - 93s 982us/sample - loss: 0.6784 - acc: 0.7917 - val_loss: 0.7483 - val_acc: 0.7509\n",
            "Epoch 8/20\n",
            "94319/94319 [==============================] - 92s 979us/sample - loss: 0.6477 - acc: 0.8031 - val_loss: 0.7317 - val_acc: 0.7543\n"
          ],
          "name": "stdout"
        },
        {
          "output_type": "stream",
          "text": [
            "\r100%|██████████| 3/3 [24:50<00:00, 484.78s/it]\n"
          ],
          "name": "stderr"
        }
      ]
    },
    {
      "cell_type": "code",
      "metadata": {
        "id": "i2IXFcoSi38U",
        "colab_type": "code",
        "outputId": "2c0b6bb9-10ca-4b69-f181-355c2e332ff9",
        "colab": {
          "base_uri": "https://localhost:8080/",
          "height": 142
        }
      },
      "source": [
        "t.data"
      ],
      "execution_count": 0,
      "outputs": [
        {
          "output_type": "execute_result",
          "data": {
            "text/html": [
              "<div>\n",
              "<style scoped>\n",
              "    .dataframe tbody tr th:only-of-type {\n",
              "        vertical-align: middle;\n",
              "    }\n",
              "\n",
              "    .dataframe tbody tr th {\n",
              "        vertical-align: top;\n",
              "    }\n",
              "\n",
              "    .dataframe thead th {\n",
              "        text-align: right;\n",
              "    }\n",
              "</style>\n",
              "<table border=\"1\" class=\"dataframe\">\n",
              "  <thead>\n",
              "    <tr style=\"text-align: right;\">\n",
              "      <th></th>\n",
              "      <th>round_epochs</th>\n",
              "      <th>loss</th>\n",
              "      <th>acc</th>\n",
              "      <th>val_loss</th>\n",
              "      <th>val_acc</th>\n",
              "      <th>optimizer</th>\n",
              "      <th>lr</th>\n",
              "    </tr>\n",
              "  </thead>\n",
              "  <tbody>\n",
              "    <tr>\n",
              "      <th>0</th>\n",
              "      <td>4</td>\n",
              "      <td>0.43889144828694954</td>\n",
              "      <td>0.90301</td>\n",
              "      <td>0.626791067865452</td>\n",
              "      <td>0.82643545</td>\n",
              "      <td>&lt;class 'tensorflow.python.keras.optimizers.Nad...</td>\n",
              "      <td>0.001</td>\n",
              "    </tr>\n",
              "    <tr>\n",
              "      <th>1</th>\n",
              "      <td>4</td>\n",
              "      <td>0.44387613860525615</td>\n",
              "      <td>0.89932036</td>\n",
              "      <td>0.623676198536764</td>\n",
              "      <td>0.82425845</td>\n",
              "      <td>&lt;class 'tensorflow.python.keras.optimizers.Adam'&gt;</td>\n",
              "      <td>0.001</td>\n",
              "    </tr>\n",
              "    <tr>\n",
              "      <th>2</th>\n",
              "      <td>8</td>\n",
              "      <td>0.6476933200893289</td>\n",
              "      <td>0.8030726</td>\n",
              "      <td>0.7316609426794308</td>\n",
              "      <td>0.754323</td>\n",
              "      <td>&lt;class 'tensorflow.python.keras.optimizers.Ada...</td>\n",
              "      <td>0.001</td>\n",
              "    </tr>\n",
              "  </tbody>\n",
              "</table>\n",
              "</div>"
            ],
            "text/plain": [
              "  round_epochs                 loss         acc            val_loss  \\\n",
              "0            4  0.43889144828694954     0.90301   0.626791067865452   \n",
              "1            4  0.44387613860525615  0.89932036   0.623676198536764   \n",
              "2            8   0.6476933200893289   0.8030726  0.7316609426794308   \n",
              "\n",
              "      val_acc                                          optimizer     lr  \n",
              "0  0.82643545  <class 'tensorflow.python.keras.optimizers.Nad...  0.001  \n",
              "1  0.82425845  <class 'tensorflow.python.keras.optimizers.Adam'>  0.001  \n",
              "2    0.754323  <class 'tensorflow.python.keras.optimizers.Ada...  0.001  "
            ]
          },
          "metadata": {
            "tags": []
          },
          "execution_count": 21
        }
      ]
    },
    {
      "cell_type": "code",
      "metadata": {
        "id": "Z60gA0P4fM8t",
        "colab_type": "code",
        "outputId": "56699667-70ba-44dc-80ca-47b84378351b",
        "colab": {
          "base_uri": "https://localhost:8080/",
          "height": 153
        }
      },
      "source": [
        "t.data.loc[0]"
      ],
      "execution_count": 0,
      "outputs": [
        {
          "output_type": "execute_result",
          "data": {
            "text/plain": [
              "round_epochs                                                    4\n",
              "loss                                          0.43889144828694954\n",
              "acc                                                       0.90301\n",
              "val_loss                                        0.626791067865452\n",
              "val_acc                                                0.82643545\n",
              "optimizer       <class 'tensorflow.python.keras.optimizers.Nad...\n",
              "lr                                                          0.001\n",
              "Name: 0, dtype: object"
            ]
          },
          "metadata": {
            "tags": []
          },
          "execution_count": 22
        }
      ]
    },
    {
      "cell_type": "code",
      "metadata": {
        "id": "FB3fOPpF9nLS",
        "colab_type": "code",
        "colab": {}
      },
      "source": [
        ""
      ],
      "execution_count": 0,
      "outputs": []
    }
  ]
}