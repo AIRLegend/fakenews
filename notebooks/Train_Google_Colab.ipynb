{
  "nbformat": 4,
  "nbformat_minor": 0,
  "metadata": {
    "colab": {
      "name": "Train_Google_Colab.ipynb",
      "version": "0.3.2",
      "provenance": [],
      "collapsed_sections": []
    },
    "kernelspec": {
      "name": "python3",
      "display_name": "Python 3"
    },
    "accelerator": "GPU"
  },
  "cells": [
    {
      "metadata": {
        "id": "leag2SIuKQ6H",
        "colab_type": "code",
        "outputId": "67e1b553-c860-427b-f8df-5eed8f7903cc",
        "colab": {
          "base_uri": "https://localhost:8080/",
          "height": 843
        }
      },
      "cell_type": "code",
      "source": [
        "from google.colab import drive\n",
        "drive.mount('/content/drive')"
      ],
      "execution_count": 4,
      "outputs": [
        {
          "output_type": "stream",
          "text": [
            "Go to this URL in a browser: https://accounts.google.com/o/oauth2/auth?client_id=947318989803-6bn6qk8qdgf4n4g3pfee6491hc0brc4i.apps.googleusercontent.com&redirect_uri=urn%3Aietf%3Awg%3Aoauth%3A2.0%3Aoob&scope=email%20https%3A%2F%2Fwww.googleapis.com%2Fauth%2Fdocs.test%20https%3A%2F%2Fwww.googleapis.com%2Fauth%2Fdrive%20https%3A%2F%2Fwww.googleapis.com%2Fauth%2Fdrive.photos.readonly%20https%3A%2F%2Fwww.googleapis.com%2Fauth%2Fpeopleapi.readonly&response_type=code\n",
            "\n",
            "Enter your authorization code:\n",
            "··········\n",
            "Mounted at /content/drive\n"
          ],
          "name": "stdout"
        }
      ]
    },
    {
      "metadata": {
        "id": "RZPgJIeHd7Ki",
        "colab_type": "code",
        "outputId": "4c56e175-66b2-46b5-9630-22d4a6bd3e33",
        "colab": {
          "base_uri": "https://localhost:8080/",
          "height": 730
        }
      },
      "cell_type": "code",
      "source": [
        "!pip install --upgrade pandas"
      ],
      "execution_count": 3,
      "outputs": [
        {
          "output_type": "stream",
          "text": [
            "Collecting pandas\n",
            "\u001b[?25l  Downloading https://files.pythonhosted.org/packages/e6/de/a0d3defd8f338eaf53ef716e40ef6d6c277c35d50e09b586e170169cdf0d/pandas-0.24.1-cp36-cp36m-manylinux1_x86_64.whl (10.1MB)\n",
            "\u001b[K    100% |████████████████████████████████| 10.1MB 5.0MB/s \n",
            "\u001b[?25hRequirement already satisfied, skipping upgrade: numpy>=1.12.0 in /usr/local/lib/python3.6/dist-packages (from pandas) (1.14.6)\n",
            "Requirement already satisfied, skipping upgrade: pytz>=2011k in /usr/local/lib/python3.6/dist-packages (from pandas) (2018.9)\n",
            "Requirement already satisfied, skipping upgrade: python-dateutil>=2.5.0 in /usr/local/lib/python3.6/dist-packages (from pandas) (2.5.3)\n",
            "Requirement already satisfied, skipping upgrade: six>=1.5 in /usr/local/lib/python3.6/dist-packages (from python-dateutil>=2.5.0->pandas) (1.11.0)\n",
            "\u001b[31mpymc3 3.6 has requirement joblib<0.13.0, but you'll have joblib 0.13.2 which is incompatible.\u001b[0m\n",
            "\u001b[31mfastai 1.0.46 has requirement numpy>=1.15, but you'll have numpy 1.14.6 which is incompatible.\u001b[0m\n",
            "Installing collected packages: pandas\n",
            "  Found existing installation: pandas 0.22.0\n",
            "    Uninstalling pandas-0.22.0:\n",
            "      Successfully uninstalled pandas-0.22.0\n",
            "Successfully installed pandas-0.24.1\n"
          ],
          "name": "stdout"
        },
        {
          "output_type": "display_data",
          "data": {
            "application/vnd.colab-display-data+json": {
              "pip_warning": {
                "packages": [
                  "pandas"
                ]
              }
            }
          },
          "metadata": {
            "tags": []
          }
        }
      ]
    },
    {
      "metadata": {
        "id": "HSTFCp3TLOyY",
        "colab_type": "code",
        "outputId": "0f5fde71-e49a-4bb6-a3d8-4ed46f855c4c",
        "colab": {
          "base_uri": "https://localhost:8080/",
          "height": 56
        }
      },
      "cell_type": "code",
      "source": [
        "!ls \"drive/My Drive/Colab Notebooks/data\""
      ],
      "execution_count": 1,
      "outputs": [
        {
          "output_type": "stream",
          "text": [
            "ls: cannot access 'drive/My Drive/Colab Notebooks/data': No such file or directory\n"
          ],
          "name": "stdout"
        }
      ]
    },
    {
      "metadata": {
        "id": "L4ox1E4A-NIx",
        "colab_type": "text"
      },
      "cell_type": "markdown",
      "source": [
        "---"
      ]
    },
    {
      "metadata": {
        "id": "Pxs1baLTJsxl",
        "colab_type": "code",
        "colab": {}
      },
      "cell_type": "code",
      "source": [
        "import pandas as pd\n",
        "import numpy as np\n",
        "\n",
        "from matplotlib import pyplot as plt\n",
        "from matplotlib import style\n",
        "#Nicer style\n",
        "style.use('seaborn')\n",
        "import seaborn as sns\n",
        "\n",
        "from tensorflow import keras as k\n",
        "\n",
        "from sklearn.model_selection import train_test_split\n",
        "\n",
        "from gensim.models import KeyedVectors"
      ],
      "execution_count": 0,
      "outputs": []
    },
    {
      "metadata": {
        "id": "E-i6JPxjKGaz",
        "colab_type": "code",
        "colab": {}
      },
      "cell_type": "code",
      "source": [
        "data = pd.read_pickle('drive/My Drive/Colab Notebooks/data/news_proc.pickle').head(20_000)"
      ],
      "execution_count": 0,
      "outputs": []
    },
    {
      "metadata": {
        "id": "DeB-ZUYIKHDD",
        "colab_type": "code",
        "outputId": "17bf2897-fb83-42e6-82fb-b65fadf6961b",
        "colab": {
          "base_uri": "https://localhost:8080/",
          "height": 201
        }
      },
      "cell_type": "code",
      "source": [
        "data.head()"
      ],
      "execution_count": 10,
      "outputs": [
        {
          "output_type": "execute_result",
          "data": {
            "text/html": [
              "<div>\n",
              "<style scoped>\n",
              "    .dataframe tbody tr th:only-of-type {\n",
              "        vertical-align: middle;\n",
              "    }\n",
              "\n",
              "    .dataframe tbody tr th {\n",
              "        vertical-align: top;\n",
              "    }\n",
              "\n",
              "    .dataframe thead th {\n",
              "        text-align: right;\n",
              "    }\n",
              "</style>\n",
              "<table border=\"1\" class=\"dataframe\">\n",
              "  <thead>\n",
              "    <tr style=\"text-align: right;\">\n",
              "      <th></th>\n",
              "      <th>type</th>\n",
              "      <th>content</th>\n",
              "      <th>title</th>\n",
              "      <th>one_hot_label</th>\n",
              "    </tr>\n",
              "  </thead>\n",
              "  <tbody>\n",
              "    <tr>\n",
              "      <th>0</th>\n",
              "      <td>fake</td>\n",
              "      <td>[2458, 4, 27, 17625, 12, 328, 5, 25587, 416, 1...</td>\n",
              "      <td>[1732, 258, 27, 7196, 2154, 4192, 88, 43, 13, ...</td>\n",
              "      <td>[0, 1, 0]</td>\n",
              "    </tr>\n",
              "    <tr>\n",
              "      <th>1</th>\n",
              "      <td>fake</td>\n",
              "      <td>[3836, 22, 506, 3059, 67, 2, 2941, 2429, 33, 3...</td>\n",
              "      <td>[6117, 13034, 0, 0, 0, 0, 0, 0, 0, 0, 0, 0, 0]</td>\n",
              "      <td>[0, 1, 0]</td>\n",
              "    </tr>\n",
              "    <tr>\n",
              "      <th>2</th>\n",
              "      <td>fake</td>\n",
              "      <td>[7, 37481, 39852, 483, 423, 24, 42, 1837, 81, ...</td>\n",
              "      <td>[6117, 13034, 0, 0, 0, 0, 0, 0, 0, 0, 0, 0, 0]</td>\n",
              "      <td>[0, 1, 0]</td>\n",
              "    </tr>\n",
              "    <tr>\n",
              "      <th>3</th>\n",
              "      <td>fake</td>\n",
              "      <td>[7, 1790, 659, 24, 846, 6786, 5428, 17, 52, 44...</td>\n",
              "      <td>[13341, 1421, 1992, 1178, 8704, 11, 13034, 387...</td>\n",
              "      <td>[0, 1, 0]</td>\n",
              "    </tr>\n",
              "    <tr>\n",
              "      <th>4</th>\n",
              "      <td>fake</td>\n",
              "      <td>[59, 24, 216, 529, 104, 11, 34925, 133, 31, 24...</td>\n",
              "      <td>[13034, 43, 39049, 43, 76, 1588, 38, 23, 8158,...</td>\n",
              "      <td>[0, 1, 0]</td>\n",
              "    </tr>\n",
              "  </tbody>\n",
              "</table>\n",
              "</div>"
            ],
            "text/plain": [
              "   type                                            content  \\\n",
              "0  fake  [2458, 4, 27, 17625, 12, 328, 5, 25587, 416, 1...   \n",
              "1  fake  [3836, 22, 506, 3059, 67, 2, 2941, 2429, 33, 3...   \n",
              "2  fake  [7, 37481, 39852, 483, 423, 24, 42, 1837, 81, ...   \n",
              "3  fake  [7, 1790, 659, 24, 846, 6786, 5428, 17, 52, 44...   \n",
              "4  fake  [59, 24, 216, 529, 104, 11, 34925, 133, 31, 24...   \n",
              "\n",
              "                                               title one_hot_label  \n",
              "0  [1732, 258, 27, 7196, 2154, 4192, 88, 43, 13, ...     [0, 1, 0]  \n",
              "1     [6117, 13034, 0, 0, 0, 0, 0, 0, 0, 0, 0, 0, 0]     [0, 1, 0]  \n",
              "2     [6117, 13034, 0, 0, 0, 0, 0, 0, 0, 0, 0, 0, 0]     [0, 1, 0]  \n",
              "3  [13341, 1421, 1992, 1178, 8704, 11, 13034, 387...     [0, 1, 0]  \n",
              "4  [13034, 43, 39049, 43, 76, 1588, 38, 23, 8158,...     [0, 1, 0]  "
            ]
          },
          "metadata": {
            "tags": []
          },
          "execution_count": 10
        }
      ]
    },
    {
      "metadata": {
        "id": "GN4wC0gJJ_WB",
        "colab_type": "code",
        "colab": {}
      },
      "cell_type": "code",
      "source": [
        "dfake = data[data['type'] == 'fake']\n",
        "dtrue = data[data['type'] == 'truth']\n",
        "dclic = data[data['type'] == 'click']\n",
        "\n",
        "data = pd.concat([dfake.head(10000), dtrue, dclic])\n",
        "\n",
        "del dfake, dtrue, dclic"
      ],
      "execution_count": 0,
      "outputs": []
    },
    {
      "metadata": {
        "id": "p2Rb1d_iMRo4",
        "colab_type": "code",
        "outputId": "5d113c3b-4b60-43ea-c73a-cf1e60e072d9",
        "colab": {
          "base_uri": "https://localhost:8080/",
          "height": 49
        }
      },
      "cell_type": "code",
      "source": [
        "len_content = len(data['content'][0])\n",
        "len_title = len(data['title'][0])\n",
        "\n",
        "print(\"Max len content: {}\".format(len_content))\n",
        "print(\"Max len title: {}\".format(len_title))"
      ],
      "execution_count": 11,
      "outputs": [
        {
          "output_type": "stream",
          "text": [
            "Max len content: 1645\n",
            "Max len title: 13\n"
          ],
          "name": "stdout"
        }
      ]
    },
    {
      "metadata": {
        "id": "obS9w_bsMeCf",
        "colab_type": "code",
        "colab": {}
      },
      "cell_type": "code",
      "source": [
        "model = KeyedVectors.load_word2vec_format(\"drive/My Drive/Colab Notebooks/data/GoogleNews-vectors-negative300.bin.gz\", binary=True, limit=50000)"
      ],
      "execution_count": 0,
      "outputs": []
    },
    {
      "metadata": {
        "id": "kq7N1l62dYve",
        "colab_type": "code",
        "colab": {}
      },
      "cell_type": "code",
      "source": [
        "embed_mat = np.zeros((50000,300))\n",
        "for i, e in model.vocab.items():\n",
        "    embed_mat[e.index] = model[i]"
      ],
      "execution_count": 0,
      "outputs": []
    },
    {
      "metadata": {
        "id": "Wbfhe0Txddio",
        "colab_type": "text"
      },
      "cell_type": "markdown",
      "source": [
        "**Tran/test split**"
      ]
    },
    {
      "metadata": {
        "id": "cq-wi-x6ddtd",
        "colab_type": "code",
        "colab": {}
      },
      "cell_type": "code",
      "source": [
        "X_train, X_test, y_train, y_test = train_test_split(\n",
        "    data[['content', 'title']], data['one_hot_label'], test_size=0.5, random_state=1)"
      ],
      "execution_count": 0,
      "outputs": []
    },
    {
      "metadata": {
        "id": "WxjsZziCddwE",
        "colab_type": "code",
        "colab": {}
      },
      "cell_type": "code",
      "source": [
        "X_train_title = X_train['title']\n",
        "X_train_content = X_train['content']\n",
        "\n",
        "X_test_title = X_test['title']\n",
        "X_test_content = X_test['content']"
      ],
      "execution_count": 0,
      "outputs": []
    },
    {
      "metadata": {
        "id": "kOmvVOCofAl2",
        "colab_type": "code",
        "colab": {}
      },
      "cell_type": "code",
      "source": [
        "train_fit = [np.asarray(X_train_title.tolist()), \n",
        "             np.asarray(X_train_content.tolist())]"
      ],
      "execution_count": 0,
      "outputs": []
    },
    {
      "metadata": {
        "id": "Fiv0BWnBddy0",
        "colab_type": "code",
        "colab": {}
      },
      "cell_type": "code",
      "source": [
        "del data\n",
        "del X_train_title, X_train_content"
      ],
      "execution_count": 0,
      "outputs": []
    },
    {
      "metadata": {
        "id": "zEtJ9bG1e2rI",
        "colab_type": "text"
      },
      "cell_type": "markdown",
      "source": [
        "# LSTM"
      ]
    },
    {
      "metadata": {
        "id": "EmtrvI5peiTA",
        "colab_type": "code",
        "colab": {}
      },
      "cell_type": "code",
      "source": [
        "#input_title\n",
        "title_input = k.layers.Input(shape=(len_title,), name='title_input')\n",
        "inp = k.layers.Embedding(output_dim=300, input_dim=50000, \n",
        "                         weights=[embed_mat], trainable=False)(title_input)\n",
        "x = k.layers.LSTM(200)(inp)\n",
        "\n",
        "\n",
        "#input_content\n",
        "content_input = k.layers.Input(shape=(len_content,), name='content_input')\n",
        "inp2 = k.layers.Embedding(output_dim=300, input_dim=50000, \n",
        "                         weights=[embed_mat], trainable=False)(content_input)\n",
        "x2 = k.layers.LSTM(200)(inp2)\n",
        "\n",
        "\n",
        "#Merge\n",
        "x = k.layers.concatenate([x, x2])\n",
        "\n",
        "#Common part\n",
        "x = k.layers.Dense(50, activation='relu')(x)\n",
        "x = k.layers.Dropout(0.3)(x)\n",
        "\n",
        "out = k.layers.Dense(3, activation='softmax')(x)\n",
        "\n",
        "model = k.models.Model(inputs=[title_input, content_input], outputs=[out])"
      ],
      "execution_count": 0,
      "outputs": []
    },
    {
      "metadata": {
        "id": "Ew0mgtPGe2Yf",
        "colab_type": "code",
        "colab": {}
      },
      "cell_type": "code",
      "source": [
        "model.compile(k.optimizers.Adam(), loss='categorical_crossentropy', metrics=['acc'])"
      ],
      "execution_count": 0,
      "outputs": []
    },
    {
      "metadata": {
        "id": "VXCSotBhe_ei",
        "colab_type": "code",
        "outputId": "0b316b1c-340c-4254-ff82-a2f170036fda",
        "colab": {
          "base_uri": "https://localhost:8080/",
          "height": 477
        }
      },
      "cell_type": "code",
      "source": [
        "model.summary()"
      ],
      "execution_count": 45,
      "outputs": [
        {
          "output_type": "stream",
          "text": [
            "__________________________________________________________________________________________________\n",
            "Layer (type)                    Output Shape         Param #     Connected to                     \n",
            "==================================================================================================\n",
            "title_input (InputLayer)        (None, 13)           0                                            \n",
            "__________________________________________________________________________________________________\n",
            "content_input (InputLayer)      (None, 1645)         0                                            \n",
            "__________________________________________________________________________________________________\n",
            "embedding_6 (Embedding)         (None, 13, 300)      15000000    title_input[0][0]                \n",
            "__________________________________________________________________________________________________\n",
            "embedding_7 (Embedding)         (None, 1645, 300)    15000000    content_input[0][0]              \n",
            "__________________________________________________________________________________________________\n",
            "lstm_6 (LSTM)                   (None, 200)          400800      embedding_6[0][0]                \n",
            "__________________________________________________________________________________________________\n",
            "lstm_7 (LSTM)                   (None, 200)          400800      embedding_7[0][0]                \n",
            "__________________________________________________________________________________________________\n",
            "concatenate_4 (Concatenate)     (None, 400)          0           lstm_6[0][0]                     \n",
            "                                                                 lstm_7[0][0]                     \n",
            "__________________________________________________________________________________________________\n",
            "dense_6 (Dense)                 (None, 50)           20050       concatenate_4[0][0]              \n",
            "__________________________________________________________________________________________________\n",
            "dropout (Dropout)               (None, 50)           0           dense_6[0][0]                    \n",
            "__________________________________________________________________________________________________\n",
            "dense_7 (Dense)                 (None, 3)            153         dropout[0][0]                    \n",
            "==================================================================================================\n",
            "Total params: 30,821,803\n",
            "Trainable params: 821,803\n",
            "Non-trainable params: 30,000,000\n",
            "__________________________________________________________________________________________________\n"
          ],
          "name": "stdout"
        }
      ]
    },
    {
      "metadata": {
        "id": "V8cmRP_yfCcL",
        "colab_type": "code",
        "outputId": "8d99a7c7-501b-45d8-dfda-8277c9e3c5ec",
        "colab": {
          "base_uri": "https://localhost:8080/",
          "height": 131
        }
      },
      "cell_type": "code",
      "source": [
        "hist = model.fit(x=train_fit, y=np.asarray(y_train.tolist()), batch_size=64, epochs=30,\n",
        "          callbacks = [k.callbacks.EarlyStopping(monitor='val_loss', patience=2, min_delta = 0.1)], validation_split=0.3)"
      ],
      "execution_count": 46,
      "outputs": [
        {
          "output_type": "stream",
          "text": [
            "Train on 7000 samples, validate on 3000 samples\n",
            "Epoch 1/30\n",
            "7000/7000 [==============================] - 439s 63ms/sample - loss: 0.4465 - acc: 0.8653 - val_loss: 0.3166 - val_acc: 0.8973\n",
            "Epoch 2/30\n",
            "7000/7000 [==============================] - 427s 61ms/sample - loss: 0.3142 - acc: 0.9047 - val_loss: 0.2884 - val_acc: 0.9093\n",
            "Epoch 3/30\n",
            "7000/7000 [==============================] - 422s 60ms/sample - loss: 0.2902 - acc: 0.9120 - val_loss: 0.2854 - val_acc: 0.9110\n"
          ],
          "name": "stdout"
        }
      ]
    },
    {
      "metadata": {
        "id": "afWePEP1fdO1",
        "colab_type": "code",
        "colab": {
          "base_uri": "https://localhost:8080/",
          "height": 389
        },
        "outputId": "66badfe5-43b3-49c3-acbd-6d35d752aec8"
      },
      "cell_type": "code",
      "source": [
        "plt.figure(figsize=(16,6))\n",
        "plt.plot(hist.history['val_acc'], label='val_acc')\n",
        "plt.plot(hist.history['acc'], label='train_acc')\n",
        "plt.legend()"
      ],
      "execution_count": 47,
      "outputs": [
        {
          "output_type": "execute_result",
          "data": {
            "text/plain": [
              "<matplotlib.legend.Legend at 0x7f551dcb7a20>"
            ]
          },
          "metadata": {
            "tags": []
          },
          "execution_count": 47
        },
        {
          "output_type": "display_data",
          "data": {
            "image/png": "[encoded data removed]",
            "text/plain": [
              "<Figure size 1152x432 with 1 Axes>"
            ]
          },
          "metadata": {
            "tags": []
          }
        }
      ]
    },
    {
      "metadata": {
        "id": "m2tHe8rekq2T",
        "colab_type": "code",
        "colab": {
          "base_uri": "https://localhost:8080/",
          "height": 389
        },
        "outputId": "7bffd068-28a7-4053-dd4b-984021721054"
      },
      "cell_type": "code",
      "source": [
        "plt.figure(figsize=(16,6))\n",
        "plt.plot(hist.history['val_loss'], label='val_loss')\n",
        "plt.plot(hist.history['loss'], label='train_loss')\n",
        "plt.legend()"
      ],
      "execution_count": 48,
      "outputs": [
        {
          "output_type": "execute_result",
          "data": {
            "text/plain": [
              "<matplotlib.legend.Legend at 0x7f551dc21f60>"
            ]
          },
          "metadata": {
            "tags": []
          },
          "execution_count": 48
        },
        {
          "output_type": "display_data",
          "data": {
            "image/png": "[encoded data removed]",
            "text/plain": [
              "<Figure size 1152x432 with 1 Axes>"
            ]
          },
          "metadata": {
            "tags": []
          }
        }
      ]
    },
    {
      "metadata": {
        "id": "LUnHtGkBkiuw",
        "colab_type": "code",
        "colab": {}
      },
      "cell_type": "code",
      "source": [
        "from sklearn.metrics import accuracy_score, confusion_matrix, classification_report"
      ],
      "execution_count": 0,
      "outputs": []
    },
    {
      "metadata": {
        "id": "JrTFC1bHksum",
        "colab_type": "code",
        "colab": {}
      },
      "cell_type": "code",
      "source": [
        "test_fit = [np.asarray(X_test_title.tolist()), \n",
        "             np.asarray(X_test_content.tolist())]"
      ],
      "execution_count": 0,
      "outputs": []
    },
    {
      "metadata": {
        "id": "oEdxTruQkmp0",
        "colab_type": "code",
        "colab": {
          "base_uri": "https://localhost:8080/",
          "height": 32
        },
        "outputId": "7a5ad0a7-8f29-4ed8-fd04-99f42085ee13"
      },
      "cell_type": "code",
      "source": [
        "test_pred = model.predict(test_fit)\n",
        "accuracy_score(np.array(y_test.tolist()), test_pred.round())"
      ],
      "execution_count": 51,
      "outputs": [
        {
          "output_type": "execute_result",
          "data": {
            "text/plain": [
              "0.9074"
            ]
          },
          "metadata": {
            "tags": []
          },
          "execution_count": 51
        }
      ]
    },
    {
      "metadata": {
        "id": "AU_g82e4k4sV",
        "colab_type": "code",
        "colab": {
          "base_uri": "https://localhost:8080/",
          "height": 303
        },
        "outputId": "0f2c136b-8b8f-4398-df4d-77e56ca66855"
      },
      "cell_type": "code",
      "source": [
        "report = classification_report(np.array(y_test.tolist()), test_pred.round())\n",
        "print(report)"
      ],
      "execution_count": 52,
      "outputs": [
        {
          "output_type": "stream",
          "text": [
            "              precision    recall  f1-score   support\n",
            "\n",
            "           0       0.00      0.00      0.00        90\n",
            "           1       0.92      0.98      0.95      8444\n",
            "           2       0.84      0.54      0.66      1466\n",
            "\n",
            "   micro avg       0.91      0.91      0.91     10000\n",
            "   macro avg       0.59      0.51      0.54     10000\n",
            "weighted avg       0.90      0.91      0.90     10000\n",
            " samples avg       0.91      0.91      0.91     10000\n",
            "\n"
          ],
          "name": "stdout"
        },
        {
          "output_type": "stream",
          "text": [
            "/usr/local/lib/python3.6/dist-packages/sklearn/metrics/classification.py:1143: UndefinedMetricWarning: Precision and F-score are ill-defined and being set to 0.0 in labels with no predicted samples.\n",
            "  'precision', 'predicted', average, warn_for)\n",
            "/usr/local/lib/python3.6/dist-packages/sklearn/metrics/classification.py:1143: UndefinedMetricWarning: Precision and F-score are ill-defined and being set to 0.0 in samples with no predicted labels.\n",
            "  'precision', 'predicted', average, warn_for)\n"
          ],
          "name": "stderr"
        }
      ]
    },
    {
      "metadata": {
        "id": "ITCuu9oQrXsh",
        "colab_type": "code",
        "colab": {
          "base_uri": "https://localhost:8080/",
          "height": 411
        },
        "outputId": "be9d398a-68d5-4742-f2ec-aee0dd9d112f"
      },
      "cell_type": "code",
      "source": [
        "matrix = confusion_matrix(np.array(y_test.tolist()).argmax(axis=1), test_pred.round().argmax(axis=1))\n",
        "print(matrix)\n",
        "\n",
        "#Plot\n",
        "df_cm = pd.DataFrame(matrix, columns=['clickbait', 'true', 'fake'], index=['clickbait', 'true', 'fake'])\n",
        "sns.heatmap(df_cm, annot=True)"
      ],
      "execution_count": 59,
      "outputs": [
        {
          "output_type": "stream",
          "text": [
            "[[   3   85    2]\n",
            " [  12 8281  151]\n",
            " [   6  667  793]]\n"
          ],
          "name": "stdout"
        },
        {
          "output_type": "execute_result",
          "data": {
            "text/plain": [
              "<matplotlib.axes._subplots.AxesSubplot at 0x7f551dbe0d68>"
            ]
          },
          "metadata": {
            "tags": []
          },
          "execution_count": 59
        },
        {
          "output_type": "display_data",
          "data": {
            "image/png": "[encoded data removed]",
            "text/plain": [
              "<Figure size 576x396 with 2 Axes>"
            ]
          },
          "metadata": {
            "tags": []
          }
        }
      ]
    },
    {
      "metadata": {
        "id": "Y2GplJCCkpIr",
        "colab_type": "code",
        "colab": {}
      },
      "cell_type": "code",
      "source": [
        "LSTM_PATH = 'drive/My Drive/Colab Notebooks/weights/lstm.h5'"
      ],
      "execution_count": 0,
      "outputs": []
    },
    {
      "metadata": {
        "id": "uJWubqazmhcF",
        "colab_type": "code",
        "colab": {}
      },
      "cell_type": "code",
      "source": [
        "model.save(LSTM_PATH)"
      ],
      "execution_count": 0,
      "outputs": []
    },
    {
      "metadata": {
        "id": "M1RK9vtpBVGd",
        "colab_type": "text"
      },
      "cell_type": "markdown",
      "source": [
        "#Redes convolucionales"
      ]
    },
    {
      "metadata": {
        "id": "Vsuk5QhLRBHs",
        "colab_type": "text"
      },
      "cell_type": "markdown",
      "source": [
        ""
      ]
    },
    {
      "metadata": {
        "id": "bRjPd9pEBaxg",
        "colab_type": "code",
        "outputId": "550645df-c530-4e74-a4f2-48fbf5112222",
        "colab": {
          "base_uri": "https://localhost:8080/",
          "height": 642
        }
      },
      "cell_type": "code",
      "source": [
        "#input_title\n",
        "title_input = k.layers.Input(shape=(len_title,), name='title_input')\n",
        "inp = k.layers.Embedding(output_dim=300, input_dim=50000, \n",
        "                         weights=[embed_mat], trainable=False, name='embed_title')(title_input)\n",
        "\n",
        "x = k.layers.Conv1D(filters = 5, kernel_size=4, strides=2, activation='relu')(inp)\n",
        "x = k.layers.MaxPool1D(pool_size = 4)(x)\n",
        "x = k.layers.Flatten()(x)\n",
        "x = k.layers.Dense(50, activation='relu')(x)\n",
        "\n",
        "#input_content\n",
        "content_input = k.layers.Input(shape=(len_content,), name='content_input')\n",
        "inp2 = k.layers.Embedding(output_dim=300, input_dim=50000, \n",
        "                         weights=[embed_mat], trainable=False, name='embed_content')(content_input)\n",
        "x2 = k.layers.Conv1D(filters = 10, kernel_size = 10, strides = 5, activation='relu')(inp2)\n",
        "x2 = k.layers.MaxPool1D(pool_size = 4)(x2)\n",
        "x2 = k.layers.Flatten()(x2)\n",
        "x2 = k.layers.Dense(100, activation='relu')(x2)\n",
        "\n",
        "\n",
        "#Merge\n",
        "x = k.layers.concatenate([x, x2])\n",
        "\n",
        "#Common part\n",
        "x = k.layers.Dense(50, activation='relu')(x)\n",
        "out = k.layers.Dense(3, activation='softmax')(x)\n",
        "\n",
        "\n",
        "\n",
        "model = k.models.Model(inputs=[title_input, content_input], outputs=[out])\n",
        "\n",
        "model.compile(k.optimizers.Nadam(), loss='categorical_crossentropy', metrics=['acc'])\n",
        "\n",
        "model.summary()\n",
        "\n"
      ],
      "execution_count": 70,
      "outputs": [
        {
          "output_type": "stream",
          "text": [
            "__________________________________________________________________________________________________\n",
            "Layer (type)                    Output Shape         Param #     Connected to                     \n",
            "==================================================================================================\n",
            "title_input (InputLayer)        (None, 13)           0                                            \n",
            "__________________________________________________________________________________________________\n",
            "content_input (InputLayer)      (None, 1645)         0                                            \n",
            "__________________________________________________________________________________________________\n",
            "embed_title (Embedding)         (None, 13, 300)      15000000    title_input[0][0]                \n",
            "__________________________________________________________________________________________________\n",
            "embed_content (Embedding)       (None, 1645, 300)    15000000    content_input[0][0]              \n",
            "__________________________________________________________________________________________________\n",
            "conv1d_7 (Conv1D)               (None, 5, 5)         6005        embed_title[0][0]                \n",
            "__________________________________________________________________________________________________\n",
            "conv1d_8 (Conv1D)               (None, 328, 10)      30010       embed_content[0][0]              \n",
            "__________________________________________________________________________________________________\n",
            "max_pooling1d_6 (MaxPooling1D)  (None, 1, 5)         0           conv1d_7[0][0]                   \n",
            "__________________________________________________________________________________________________\n",
            "max_pooling1d_7 (MaxPooling1D)  (None, 82, 10)       0           conv1d_8[0][0]                   \n",
            "__________________________________________________________________________________________________\n",
            "flatten_6 (Flatten)             (None, 5)            0           max_pooling1d_6[0][0]            \n",
            "__________________________________________________________________________________________________\n",
            "flatten_7 (Flatten)             (None, 820)          0           max_pooling1d_7[0][0]            \n",
            "__________________________________________________________________________________________________\n",
            "dense_16 (Dense)                (None, 50)           300         flatten_6[0][0]                  \n",
            "__________________________________________________________________________________________________\n",
            "dense_17 (Dense)                (None, 100)          82100       flatten_7[0][0]                  \n",
            "__________________________________________________________________________________________________\n",
            "concatenate_7 (Concatenate)     (None, 150)          0           dense_16[0][0]                   \n",
            "                                                                 dense_17[0][0]                   \n",
            "__________________________________________________________________________________________________\n",
            "dense_18 (Dense)                (None, 50)           7550        concatenate_7[0][0]              \n",
            "__________________________________________________________________________________________________\n",
            "dense_19 (Dense)                (None, 3)            153         dense_18[0][0]                   \n",
            "==================================================================================================\n",
            "Total params: 30,126,118\n",
            "Trainable params: 126,118\n",
            "Non-trainable params: 30,000,000\n",
            "__________________________________________________________________________________________________\n"
          ],
          "name": "stdout"
        }
      ]
    },
    {
      "metadata": {
        "id": "gOhBW9oiCDiU",
        "colab_type": "code",
        "outputId": "2324e9bf-31c2-43e1-8fb9-3194caa8055d",
        "colab": {
          "base_uri": "https://localhost:8080/",
          "height": 131
        }
      },
      "cell_type": "code",
      "source": [
        "hist = model.fit(x=train_fit, y=np.asarray(y_train.tolist()), batch_size=120, epochs=20,\n",
        "          callbacks = [k.callbacks.EarlyStopping(monitor='val_loss', patience=2, min_delta = 0.1)], validation_split=0.3)"
      ],
      "execution_count": 71,
      "outputs": [
        {
          "output_type": "stream",
          "text": [
            "Train on 7000 samples, validate on 3000 samples\n",
            "Epoch 1/20\n",
            "7000/7000 [==============================] - 3s 423us/sample - loss: 0.3369 - acc: 0.8681 - val_loss: 0.2124 - val_acc: 0.9157\n",
            "Epoch 2/20\n",
            "7000/7000 [==============================] - 2s 327us/sample - loss: 0.1590 - acc: 0.9377 - val_loss: 0.2220 - val_acc: 0.9163\n",
            "Epoch 3/20\n",
            "7000/7000 [==============================] - 2s 328us/sample - loss: 0.0713 - acc: 0.9751 - val_loss: 0.2586 - val_acc: 0.9037\n"
          ],
          "name": "stdout"
        }
      ]
    },
    {
      "metadata": {
        "id": "KAjg4jSCGWqU",
        "colab_type": "code",
        "outputId": "35f0229e-ee33-41e5-c809-4186224a1f58",
        "colab": {
          "base_uri": "https://localhost:8080/",
          "height": 392
        }
      },
      "cell_type": "code",
      "source": [
        "plt.figure(figsize=(16,6))\n",
        "plt.plot(hist.history['val_acc'], label='val_acc')\n",
        "plt.plot(hist.history['acc'], label='train_acc')\n",
        "plt.legend()"
      ],
      "execution_count": 72,
      "outputs": [
        {
          "output_type": "execute_result",
          "data": {
            "text/plain": [
              "<matplotlib.legend.Legend at 0x7f551a4e62b0>"
            ]
          },
          "metadata": {
            "tags": []
          },
          "execution_count": 72
        },
        {
          "output_type": "display_data",
          "data": {
            "image/png": "[encoded data removed]",
            "text/plain": [
              "<Figure size 1152x432 with 1 Axes>"
            ]
          },
          "metadata": {
            "tags": []
          }
        }
      ]
    },
    {
      "metadata": {
        "id": "hTY9LsukoY0C",
        "colab_type": "code",
        "colab": {
          "base_uri": "https://localhost:8080/",
          "height": 392
        },
        "outputId": "a2ee779f-650b-4798-b215-abf19b475677"
      },
      "cell_type": "code",
      "source": [
        "plt.figure(figsize=(16,6))\n",
        "plt.plot(hist.history['val_loss'], label='val_loss')\n",
        "plt.plot(hist.history['loss'], label='train_loss')\n",
        "plt.legend()"
      ],
      "execution_count": 73,
      "outputs": [
        {
          "output_type": "execute_result",
          "data": {
            "text/plain": [
              "<matplotlib.legend.Legend at 0x7f551a44ed30>"
            ]
          },
          "metadata": {
            "tags": []
          },
          "execution_count": 73
        },
        {
          "output_type": "display_data",
          "data": {
            "image/png": "[encoded data removed]",
            "text/plain": [
              "<Figure size 1152x432 with 1 Axes>"
            ]
          },
          "metadata": {
            "tags": []
          }
        }
      ]
    },
    {
      "metadata": {
        "id": "11xe1CLSRM3l",
        "colab_type": "code",
        "outputId": "867d8bec-aa0e-4c40-d16c-9c6c43b45b3a",
        "colab": {
          "base_uri": "https://localhost:8080/",
          "height": 32
        }
      },
      "cell_type": "code",
      "source": [
        "test_pred = model.predict(test_fit)\n",
        "accuracy_score(np.array(y_test.tolist()), test_pred.round())"
      ],
      "execution_count": 74,
      "outputs": [
        {
          "output_type": "execute_result",
          "data": {
            "text/plain": [
              "0.8884"
            ]
          },
          "metadata": {
            "tags": []
          },
          "execution_count": 74
        }
      ]
    },
    {
      "metadata": {
        "id": "69Oqol9Jofab",
        "colab_type": "code",
        "colab": {
          "base_uri": "https://localhost:8080/",
          "height": 270
        },
        "outputId": "d67be289-48cc-4678-a6c9-3a5e7a6d68c3"
      },
      "cell_type": "code",
      "source": [
        "report = classification_report(np.array(y_test.tolist()), test_pred.round())\n",
        "print(report)"
      ],
      "execution_count": 75,
      "outputs": [
        {
          "output_type": "stream",
          "text": [
            "              precision    recall  f1-score   support\n",
            "\n",
            "           0       0.13      0.39      0.20        90\n",
            "           1       0.98      0.91      0.94      8444\n",
            "           2       0.76      0.77      0.77      1466\n",
            "\n",
            "   micro avg       0.92      0.89      0.90     10000\n",
            "   macro avg       0.62      0.69      0.64     10000\n",
            "weighted avg       0.94      0.89      0.91     10000\n",
            " samples avg       0.89      0.89      0.89     10000\n",
            "\n"
          ],
          "name": "stdout"
        },
        {
          "output_type": "stream",
          "text": [
            "/usr/local/lib/python3.6/dist-packages/sklearn/metrics/classification.py:1143: UndefinedMetricWarning: Precision and F-score are ill-defined and being set to 0.0 in samples with no predicted labels.\n",
            "  'precision', 'predicted', average, warn_for)\n"
          ],
          "name": "stderr"
        }
      ]
    },
    {
      "metadata": {
        "id": "2fIA4U81z7Bi",
        "colab_type": "code",
        "colab": {
          "base_uri": "https://localhost:8080/",
          "height": 411
        },
        "outputId": "28cad773-5133-4bd5-abcd-8953a6557f88"
      },
      "cell_type": "code",
      "source": [
        "matrix = confusion_matrix(np.array(y_test.tolist()).argmax(axis=1), test_pred.round().argmax(axis=1))\n",
        "print(matrix)\n",
        "\n",
        "#Plot\n",
        "df_cm = pd.DataFrame(matrix, columns=['clickbait', 'true', 'fake'], index=['clickbait', 'true', 'fake'])\n",
        "sns.heatmap(df_cm, annot=True)"
      ],
      "execution_count": 76,
      "outputs": [
        {
          "output_type": "stream",
          "text": [
            "[[  52   20   18]\n",
            " [ 391 7721  332]\n",
            " [ 169  169 1128]]\n"
          ],
          "name": "stdout"
        },
        {
          "output_type": "execute_result",
          "data": {
            "text/plain": [
              "<matplotlib.axes._subplots.AxesSubplot at 0x7f551a46e3c8>"
            ]
          },
          "metadata": {
            "tags": []
          },
          "execution_count": 76
        },
        {
          "output_type": "display_data",
          "data": {
            "image/png": "[encoded data removed]",
            "text/plain": [
              "<Figure size 576x396 with 2 Axes>"
            ]
          },
          "metadata": {
            "tags": []
          }
        }
      ]
    },
    {
      "metadata": {
        "id": "QrSoUtQnoyqT",
        "colab_type": "code",
        "colab": {}
      },
      "cell_type": "code",
      "source": [
        "CONV_PATH = 'drive/My Drive/Colab Notebooks/weights/conv.h5'\n",
        "model.save(CONV_PATH)"
      ],
      "execution_count": 0,
      "outputs": []
    },
    {
      "metadata": {
        "id": "7qplnjGTp0qP",
        "colab_type": "code",
        "colab": {}
      },
      "cell_type": "code",
      "source": [
        ""
      ],
      "execution_count": 0,
      "outputs": []
    },
    {
      "metadata": {
        "id": "OlZyF1fW0tY5",
        "colab_type": "text"
      },
      "cell_type": "markdown",
      "source": [
        "Las noticias de clickbait se clasifican peor que las otras dos. Es normal ya que está infrarrepesentado en el dataset."
      ]
    },
    {
      "metadata": {
        "id": "zYzW_Kde08Md",
        "colab_type": "code",
        "colab": {}
      },
      "cell_type": "code",
      "source": [
        ""
      ],
      "execution_count": 0,
      "outputs": []
    }
  ]
}