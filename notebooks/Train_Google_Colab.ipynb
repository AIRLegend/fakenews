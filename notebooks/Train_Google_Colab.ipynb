{
  "nbformat": 4,
  "nbformat_minor": 0,
  "metadata": {
    "colab": {
      "name": "Neural-net.ipynb",
      "version": "0.3.2",
      "provenance": [],
      "collapsed_sections": []
    },
    "kernelspec": {
      "name": "python3",
      "display_name": "Python 3"
    },
    "accelerator": "TPU"
  },
  "cells": [
    {
      "metadata": {
        "id": "leag2SIuKQ6H",
        "colab_type": "code",
        "outputId": "10048057-3ab4-4e99-8f46-74246cd416cd",
        "colab": {
          "base_uri": "https://localhost:8080/",
          "height": 32
        }
      },
      "cell_type": "code",
      "source": [
        "from google.colab import drive\n",
        "drive.mount('/content/drive')"
      ],
      "execution_count": 0,
      "outputs": [
        {
          "output_type": "stream",
          "text": [
            "Drive already mounted at /content/drive; to attempt to forcibly remount, call drive.mount(\"/content/drive\", force_remount=True).\n"
          ],
          "name": "stdout"
        }
      ]
    },
    {
      "metadata": {
        "id": "RZPgJIeHd7Ki",
        "colab_type": "code",
        "colab": {}
      },
      "cell_type": "code",
      "source": [
        "#!pip install --upgrade pandas"
      ],
      "execution_count": 0,
      "outputs": []
    },
    {
      "metadata": {
        "id": "HSTFCp3TLOyY",
        "colab_type": "code",
        "outputId": "475977d9-eba0-4774-ea2c-3b7893edd0c3",
        "colab": {
          "base_uri": "https://localhost:8080/",
          "height": 56
        }
      },
      "cell_type": "code",
      "source": [
        "!ls \"drive/My Drive/Colab Notebooks/data\""
      ],
      "execution_count": 0,
      "outputs": [
        {
          "output_type": "stream",
          "text": [
            "GoogleNews-vectors-negative300.bin.gz  news_proc.pickle\n"
          ],
          "name": "stdout"
        }
      ]
    },
    {
      "metadata": {
        "id": "L4ox1E4A-NIx",
        "colab_type": "text"
      },
      "cell_type": "markdown",
      "source": [
        "---"
      ]
    },
    {
      "metadata": {
        "id": "Pxs1baLTJsxl",
        "colab_type": "code",
        "colab": {}
      },
      "cell_type": "code",
      "source": [
        "import pandas as pd\n",
        "import numpy as np\n",
        "\n",
        "from matplotlib import pyplot as plt\n",
        "from matplotlib import style\n",
        "#Nicer style\n",
        "style.use('seaborn') \n",
        "\n",
        "from tensorflow import keras as k\n",
        "\n",
        "from sklearn.model_selection import train_test_split\n",
        "\n",
        "from gensim.models import KeyedVectors"
      ],
      "execution_count": 0,
      "outputs": []
    },
    {
      "metadata": {
        "id": "E-i6JPxjKGaz",
        "colab_type": "code",
        "colab": {}
      },
      "cell_type": "code",
      "source": [
        "data = pd.read_pickle('drive/My Drive/Colab Notebooks/data/news_proc.pickle').head(200_000)"
      ],
      "execution_count": 0,
      "outputs": []
    },
    {
      "metadata": {
        "id": "DeB-ZUYIKHDD",
        "colab_type": "code",
        "outputId": "600df962-d387-4dfb-c2b8-70708023d790",
        "colab": {
          "base_uri": "https://localhost:8080/",
          "height": 201
        }
      },
      "cell_type": "code",
      "source": [
        "data.head()"
      ],
      "execution_count": 0,
      "outputs": [
        {
          "output_type": "execute_result",
          "data": {
            "text/html": [
              "<div>\n",
              "<style scoped>\n",
              "    .dataframe tbody tr th:only-of-type {\n",
              "        vertical-align: middle;\n",
              "    }\n",
              "\n",
              "    .dataframe tbody tr th {\n",
              "        vertical-align: top;\n",
              "    }\n",
              "\n",
              "    .dataframe thead th {\n",
              "        text-align: right;\n",
              "    }\n",
              "</style>\n",
              "<table border=\"1\" class=\"dataframe\">\n",
              "  <thead>\n",
              "    <tr style=\"text-align: right;\">\n",
              "      <th></th>\n",
              "      <th>type</th>\n",
              "      <th>content</th>\n",
              "      <th>title</th>\n",
              "      <th>one_hot_label</th>\n",
              "    </tr>\n",
              "  </thead>\n",
              "  <tbody>\n",
              "    <tr>\n",
              "      <th>0</th>\n",
              "      <td>fake</td>\n",
              "      <td>[2458, 4, 27, 17625, 12, 328, 5, 25587, 416, 1...</td>\n",
              "      <td>[1732, 258, 27, 7196, 2154, 4192, 88, 43, 13, ...</td>\n",
              "      <td>[0, 1, 0]</td>\n",
              "    </tr>\n",
              "    <tr>\n",
              "      <th>1</th>\n",
              "      <td>fake</td>\n",
              "      <td>[3836, 22, 506, 3059, 67, 2, 2941, 2429, 33, 3...</td>\n",
              "      <td>[6117, 13034, 0, 0, 0, 0, 0, 0, 0, 0, 0, 0, 0]</td>\n",
              "      <td>[0, 1, 0]</td>\n",
              "    </tr>\n",
              "    <tr>\n",
              "      <th>2</th>\n",
              "      <td>fake</td>\n",
              "      <td>[7, 37481, 39852, 483, 423, 24, 42, 1837, 81, ...</td>\n",
              "      <td>[6117, 13034, 0, 0, 0, 0, 0, 0, 0, 0, 0, 0, 0]</td>\n",
              "      <td>[0, 1, 0]</td>\n",
              "    </tr>\n",
              "    <tr>\n",
              "      <th>3</th>\n",
              "      <td>fake</td>\n",
              "      <td>[7, 1790, 659, 24, 846, 6786, 5428, 17, 52, 44...</td>\n",
              "      <td>[13341, 1421, 1992, 1178, 8704, 11, 13034, 387...</td>\n",
              "      <td>[0, 1, 0]</td>\n",
              "    </tr>\n",
              "    <tr>\n",
              "      <th>4</th>\n",
              "      <td>fake</td>\n",
              "      <td>[59, 24, 216, 529, 104, 11, 34925, 133, 31, 24...</td>\n",
              "      <td>[13034, 43, 39049, 43, 76, 1588, 38, 23, 8158,...</td>\n",
              "      <td>[0, 1, 0]</td>\n",
              "    </tr>\n",
              "  </tbody>\n",
              "</table>\n",
              "</div>"
            ],
            "text/plain": [
              "   type                                            content  \\\n",
              "0  fake  [2458, 4, 27, 17625, 12, 328, 5, 25587, 416, 1...   \n",
              "1  fake  [3836, 22, 506, 3059, 67, 2, 2941, 2429, 33, 3...   \n",
              "2  fake  [7, 37481, 39852, 483, 423, 24, 42, 1837, 81, ...   \n",
              "3  fake  [7, 1790, 659, 24, 846, 6786, 5428, 17, 52, 44...   \n",
              "4  fake  [59, 24, 216, 529, 104, 11, 34925, 133, 31, 24...   \n",
              "\n",
              "                                               title one_hot_label  \n",
              "0  [1732, 258, 27, 7196, 2154, 4192, 88, 43, 13, ...     [0, 1, 0]  \n",
              "1     [6117, 13034, 0, 0, 0, 0, 0, 0, 0, 0, 0, 0, 0]     [0, 1, 0]  \n",
              "2     [6117, 13034, 0, 0, 0, 0, 0, 0, 0, 0, 0, 0, 0]     [0, 1, 0]  \n",
              "3  [13341, 1421, 1992, 1178, 8704, 11, 13034, 387...     [0, 1, 0]  \n",
              "4  [13034, 43, 39049, 43, 76, 1588, 38, 23, 8158,...     [0, 1, 0]  "
            ]
          },
          "metadata": {
            "tags": []
          },
          "execution_count": 8
        }
      ]
    },
    {
      "metadata": {
        "id": "GN4wC0gJJ_WB",
        "colab_type": "code",
        "colab": {}
      },
      "cell_type": "code",
      "source": [
        "dfake = data[data['type'] == 'fake']\n",
        "dtrue = data[data['type'] == 'truth']\n",
        "dclic = data[data['type'] == 'click']\n",
        "\n",
        "data = pd.concat([dfake.head(10000), dtrue, dclic])\n",
        "\n",
        "del dfake, dtrue, dclic\n"
      ],
      "execution_count": 0,
      "outputs": []
    },
    {
      "metadata": {
        "id": "p2Rb1d_iMRo4",
        "colab_type": "code",
        "outputId": "34029b92-7b79-4ebc-99bc-f8fd9802aa43",
        "colab": {
          "base_uri": "https://localhost:8080/",
          "height": 49
        }
      },
      "cell_type": "code",
      "source": [
        "len_content = len(data['content'][0])\n",
        "len_title = len(data['title'][0])\n",
        "\n",
        "print(\"Max len content: {}\".format(len_content))\n",
        "print(\"Max len title: {}\".format(len_title))"
      ],
      "execution_count": 0,
      "outputs": [
        {
          "output_type": "stream",
          "text": [
            "Max len content: 1645\n",
            "Max len title: 13\n"
          ],
          "name": "stdout"
        }
      ]
    },
    {
      "metadata": {
        "id": "obS9w_bsMeCf",
        "colab_type": "code",
        "colab": {}
      },
      "cell_type": "code",
      "source": [
        "model = KeyedVectors.load_word2vec_format(\"drive/My Drive/Colab Notebooks/data/GoogleNews-vectors-negative300.bin.gz\", binary=True, limit=50000)"
      ],
      "execution_count": 0,
      "outputs": []
    },
    {
      "metadata": {
        "id": "kq7N1l62dYve",
        "colab_type": "code",
        "colab": {}
      },
      "cell_type": "code",
      "source": [
        "embed_mat = np.zeros((50000,300))\n",
        "for i, e in model.vocab.items():\n",
        "    embed_mat[e.index] = model[i]"
      ],
      "execution_count": 0,
      "outputs": []
    },
    {
      "metadata": {
        "id": "Wbfhe0Txddio",
        "colab_type": "text"
      },
      "cell_type": "markdown",
      "source": [
        "**Tran/test split**"
      ]
    },
    {
      "metadata": {
        "id": "cq-wi-x6ddtd",
        "colab_type": "code",
        "colab": {}
      },
      "cell_type": "code",
      "source": [
        "X_train, X_test, y_train, y_test = train_test_split(\n",
        "    data[['content', 'title']], data['one_hot_label'], test_size=0.4, random_state=1)"
      ],
      "execution_count": 0,
      "outputs": []
    },
    {
      "metadata": {
        "id": "WxjsZziCddwE",
        "colab_type": "code",
        "colab": {}
      },
      "cell_type": "code",
      "source": [
        "X_train_title = X_train['title']\n",
        "X_train_content = X_train['content']\n",
        "\n",
        "X_test_title = X_test['title']\n",
        "X_test_content = X_test['content']"
      ],
      "execution_count": 0,
      "outputs": []
    },
    {
      "metadata": {
        "id": "kOmvVOCofAl2",
        "colab_type": "code",
        "colab": {}
      },
      "cell_type": "code",
      "source": [
        "train_fit = [np.asarray(X_train_title.tolist()), \n",
        "             np.asarray(X_train_content.tolist())]"
      ],
      "execution_count": 0,
      "outputs": []
    },
    {
      "metadata": {
        "id": "Fiv0BWnBddy0",
        "colab_type": "code",
        "colab": {}
      },
      "cell_type": "code",
      "source": [
        "del data\n",
        "del X_train_title, X_train_content"
      ],
      "execution_count": 0,
      "outputs": []
    },
    {
      "metadata": {
        "id": "zEtJ9bG1e2rI",
        "colab_type": "text"
      },
      "cell_type": "markdown",
      "source": [
        "# LSTM"
      ]
    },
    {
      "metadata": {
        "id": "EmtrvI5peiTA",
        "colab_type": "code",
        "colab": {}
      },
      "cell_type": "code",
      "source": [
        "#input_title\n",
        "title_input = k.layers.Input(shape=(len_title,), name='title_input')\n",
        "inp = k.layers.Embedding(output_dim=300, input_dim=50000, \n",
        "                         weights=[embed_mat], trainable=False)(title_input)\n",
        "x = k.layers.LSTM(300)(inp)\n",
        "\n",
        "\n",
        "#input_content\n",
        "content_input = k.layers.Input(shape=(len_content,), name='content_input')\n",
        "inp2 = k.layers.Embedding(output_dim=300, input_dim=50000, \n",
        "                         weights=[embed_mat], trainable=False)(content_input)\n",
        "x2 = k.layers.LSTM(300, return_sequences=True)(inp2)\n",
        "x2 = k.layers.LSTM(100)(x2)\n",
        "\n",
        "\n",
        "#Merge\n",
        "x = k.layers.concatenate([x, x2])\n",
        "\n",
        "#Common part\n",
        "x = k.layers.Dense(50, activation='relu')(x)\n",
        "\n",
        "out = k.layers.Dense(3, activation='softmax')(x)\n",
        "\n",
        "model = k.models.Model(inputs=[title_input, content_input], outputs=[out])"
      ],
      "execution_count": 0,
      "outputs": []
    },
    {
      "metadata": {
        "id": "Ew0mgtPGe2Yf",
        "colab_type": "code",
        "colab": {}
      },
      "cell_type": "code",
      "source": [
        "model.compile(k.optimizers.Nadam(), loss='categorical_crossentropy', metrics=['acc'])"
      ],
      "execution_count": 0,
      "outputs": []
    },
    {
      "metadata": {
        "id": "VXCSotBhe_ei",
        "colab_type": "code",
        "outputId": "9846fbff-eaf7-45fb-d606-134638ae923d",
        "colab": {
          "base_uri": "https://localhost:8080/",
          "height": 477
        }
      },
      "cell_type": "code",
      "source": [
        "model.summary()\n"
      ],
      "execution_count": 0,
      "outputs": [
        {
          "output_type": "stream",
          "text": [
            "__________________________________________________________________________________________________\n",
            "Layer (type)                    Output Shape         Param #     Connected to                     \n",
            "==================================================================================================\n",
            "content_input (InputLayer)      (None, 1527)         0                                            \n",
            "__________________________________________________________________________________________________\n",
            "title_input (InputLayer)        (None, 16)           0                                            \n",
            "__________________________________________________________________________________________________\n",
            "embedding_26 (Embedding)        (None, 1527, 300)    15000000    content_input[0][0]              \n",
            "__________________________________________________________________________________________________\n",
            "embedding_25 (Embedding)        (None, 16, 300)      15000000    title_input[0][0]                \n",
            "__________________________________________________________________________________________________\n",
            "lstm_23 (LSTM)                  (None, 1527, 300)    721200      embedding_26[0][0]               \n",
            "__________________________________________________________________________________________________\n",
            "lstm_22 (LSTM)                  (None, 300)          721200      embedding_25[0][0]               \n",
            "__________________________________________________________________________________________________\n",
            "lstm_24 (LSTM)                  (None, 100)          160400      lstm_23[0][0]                    \n",
            "__________________________________________________________________________________________________\n",
            "concatenate_16 (Concatenate)    (None, 400)          0           lstm_22[0][0]                    \n",
            "                                                                 lstm_24[0][0]                    \n",
            "__________________________________________________________________________________________________\n",
            "dense_36 (Dense)                (None, 50)           20050       concatenate_16[0][0]             \n",
            "__________________________________________________________________________________________________\n",
            "dense_37 (Dense)                (None, 3)            153         dense_36[0][0]                   \n",
            "==================================================================================================\n",
            "Total params: 31,623,003\n",
            "Trainable params: 1,623,003\n",
            "Non-trainable params: 30,000,000\n",
            "__________________________________________________________________________________________________\n"
          ],
          "name": "stdout"
        }
      ]
    },
    {
      "metadata": {
        "id": "V8cmRP_yfCcL",
        "colab_type": "code",
        "outputId": "4ae45fc7-9525-40d1-9af2-549a520d5b88",
        "colab": {
          "base_uri": "https://localhost:8080/",
          "height": 49
        }
      },
      "cell_type": "code",
      "source": [
        "hist = model.fit(x=train_fit, y=np.asarray(y_train.tolist()), batch_size=64, epochs=15,\n",
        "          callbacks = [k.callbacks.EarlyStopping(monitor='val_acc', patience=2)], validation_split=0.3)"
      ],
      "execution_count": 0,
      "outputs": [
        {
          "output_type": "stream",
          "text": [
            "Train on 1248 samples, validate on 535 samples\n",
            "Epoch 1/15\n"
          ],
          "name": "stdout"
        }
      ]
    },
    {
      "metadata": {
        "id": "afWePEP1fdO1",
        "colab_type": "code",
        "colab": {}
      },
      "cell_type": "code",
      "source": [
        "plt.figure(figsize=(16,6))\n",
        "plt.plot(hist.history['val_acc'], label='val_acc')\n",
        "plt.plot(hist.history['acc'], label='train_acc')\n",
        "plt.legend()"
      ],
      "execution_count": 0,
      "outputs": []
    },
    {
      "metadata": {
        "id": "LUnHtGkBkiuw",
        "colab_type": "code",
        "colab": {}
      },
      "cell_type": "code",
      "source": [
        "from sklearn.metrics import accuracy_score, f1_score"
      ],
      "execution_count": 0,
      "outputs": []
    },
    {
      "metadata": {
        "id": "JrTFC1bHksum",
        "colab_type": "code",
        "colab": {}
      },
      "cell_type": "code",
      "source": [
        "test_fit = [np.asarray(X_test_title.tolist()), \n",
        "             np.asarray(X_test_content.tolist())]"
      ],
      "execution_count": 0,
      "outputs": []
    },
    {
      "metadata": {
        "id": "oEdxTruQkmp0",
        "colab_type": "code",
        "colab": {}
      },
      "cell_type": "code",
      "source": [
        "test_pred = model.predict(test_fit)\n",
        "accuracy_score(np.array(y_test.tolist()), test_pred.round())"
      ],
      "execution_count": 0,
      "outputs": []
    },
    {
      "metadata": {
        "id": "Y2GplJCCkpIr",
        "colab_type": "code",
        "outputId": "b6a40078-9c80-413b-fd0d-8d8bf2d4eb12",
        "colab": {
          "base_uri": "https://localhost:8080/",
          "height": 32
        }
      },
      "cell_type": "code",
      "source": [
        ""
      ],
      "execution_count": 0,
      "outputs": [
        {
          "output_type": "execute_result",
          "data": {
            "text/plain": [
              "0.8023549201009251"
            ]
          },
          "metadata": {
            "tags": []
          },
          "execution_count": 50
        }
      ]
    },
    {
      "metadata": {
        "id": "uJWubqazmhcF",
        "colab_type": "code",
        "colab": {}
      },
      "cell_type": "code",
      "source": [
        ""
      ],
      "execution_count": 0,
      "outputs": []
    },
    {
      "metadata": {
        "id": "M1RK9vtpBVGd",
        "colab_type": "text"
      },
      "cell_type": "markdown",
      "source": [
        "#Redes convolucionales"
      ]
    },
    {
      "metadata": {
        "id": "bRjPd9pEBaxg",
        "colab_type": "code",
        "outputId": "070871bb-e585-4fd9-d42a-f4c011449834",
        "colab": {
          "base_uri": "https://localhost:8080/",
          "height": 730
        }
      },
      "cell_type": "code",
      "source": [
        "#input_title\n",
        "title_input = k.layers.Input(shape=(len_title,), name='title_input')\n",
        "inp = k.layers.Embedding(output_dim=300, input_dim=50000, \n",
        "                         weights=[embed_mat], trainable=False, name='embed_title')(title_input)\n",
        "\n",
        "x = k.layers.Conv1D(filters = 5, kernel_size=3, strides=2, activation='relu')(inp)\n",
        "x = k.layers.MaxPool1D(pool_size = 4)(x)\n",
        "x = k.layers.Flatten()(x)\n",
        "x = k.layers.Dense(50, activation='sigmoid')(x)\n",
        "\n",
        "#input_content\n",
        "content_input = k.layers.Input(shape=(len_content,), name='content_input')\n",
        "inp2 = k.layers.Embedding(output_dim=300, input_dim=50000, \n",
        "                         weights=[embed_mat], trainable=False, name='embed_content')(content_input)\n",
        "x2 = k.layers.Conv1D(filters = 10, kernel_size = 10, strides = 8, activation='relu')(inp2)\n",
        "x2 = k.layers.MaxPool1D(pool_size = 4)(x2)\n",
        "x2 = k.layers.Flatten()(x2)\n",
        "x2 = k.layers.Dense(100, activation='sigmoid')(x2)\n",
        "\n",
        "\n",
        "#Merge\n",
        "x = k.layers.concatenate([x, x2])\n",
        "\n",
        "#Common part\n",
        "x = k.layers.Dense(50, activation='relu')(x)\n",
        "out = k.layers.Dense(3, activation='softmax')(x)\n",
        "\n",
        "\n",
        "\n",
        "model = k.models.Model(inputs=[title_input, content_input], outputs=[out])\n",
        "\n",
        "model.compile(k.optimizers.Nadam(), loss='categorical_crossentropy', metrics=['acc'])\n",
        "\n",
        "model.summary()\n",
        "\n"
      ],
      "execution_count": 0,
      "outputs": [
        {
          "output_type": "stream",
          "text": [
            "WARNING:tensorflow:From /usr/local/lib/python3.6/dist-packages/tensorflow/python/ops/resource_variable_ops.py:435: colocate_with (from tensorflow.python.framework.ops) is deprecated and will be removed in a future version.\n",
            "Instructions for updating:\n",
            "Colocations handled automatically by placer.\n",
            "__________________________________________________________________________________________________\n",
            "Layer (type)                    Output Shape         Param #     Connected to                     \n",
            "==================================================================================================\n",
            "title_input (InputLayer)        (None, 13)           0                                            \n",
            "__________________________________________________________________________________________________\n",
            "content_input (InputLayer)      (None, 1645)         0                                            \n",
            "__________________________________________________________________________________________________\n",
            "embed_title (Embedding)         (None, 13, 300)      15000000    title_input[0][0]                \n",
            "__________________________________________________________________________________________________\n",
            "embed_content (Embedding)       (None, 1645, 300)    15000000    content_input[0][0]              \n",
            "__________________________________________________________________________________________________\n",
            "conv1d (Conv1D)                 (None, 6, 5)         4505        embed_title[0][0]                \n",
            "__________________________________________________________________________________________________\n",
            "conv1d_1 (Conv1D)               (None, 205, 10)      30010       embed_content[0][0]              \n",
            "__________________________________________________________________________________________________\n",
            "max_pooling1d (MaxPooling1D)    (None, 1, 5)         0           conv1d[0][0]                     \n",
            "__________________________________________________________________________________________________\n",
            "max_pooling1d_1 (MaxPooling1D)  (None, 51, 10)       0           conv1d_1[0][0]                   \n",
            "__________________________________________________________________________________________________\n",
            "flatten (Flatten)               (None, 5)            0           max_pooling1d[0][0]              \n",
            "__________________________________________________________________________________________________\n",
            "flatten_1 (Flatten)             (None, 510)          0           max_pooling1d_1[0][0]            \n",
            "__________________________________________________________________________________________________\n",
            "dense (Dense)                   (None, 50)           300         flatten[0][0]                    \n",
            "__________________________________________________________________________________________________\n",
            "dense_1 (Dense)                 (None, 100)          51100       flatten_1[0][0]                  \n",
            "__________________________________________________________________________________________________\n",
            "concatenate (Concatenate)       (None, 150)          0           dense[0][0]                      \n",
            "                                                                 dense_1[0][0]                    \n",
            "__________________________________________________________________________________________________\n",
            "dense_2 (Dense)                 (None, 50)           7550        concatenate[0][0]                \n",
            "__________________________________________________________________________________________________\n",
            "dense_3 (Dense)                 (None, 3)            153         dense_2[0][0]                    \n",
            "==================================================================================================\n",
            "Total params: 30,093,618\n",
            "Trainable params: 93,618\n",
            "Non-trainable params: 30,000,000\n",
            "__________________________________________________________________________________________________\n"
          ],
          "name": "stdout"
        }
      ]
    },
    {
      "metadata": {
        "id": "gOhBW9oiCDiU",
        "colab_type": "code",
        "outputId": "c6c006cf-d2a3-4ab8-c377-fcf00b8e2986",
        "colab": {
          "base_uri": "https://localhost:8080/",
          "height": 1019
        }
      },
      "cell_type": "code",
      "source": [
        "hist = model.fit(x=train_fit, y=np.asarray(y_train.tolist()), batch_size=120, epochs=15,\n",
        "          callbacks = [k.callbacks.EarlyStopping(monitor='val_acc', patience=2)], validation_split=0.3)"
      ],
      "execution_count": 0,
      "outputs": [
        {
          "output_type": "stream",
          "text": [
            "Train on 84000 samples, validate on 36000 samples\n",
            "WARNING:tensorflow:From /usr/local/lib/python3.6/dist-packages/tensorflow/python/ops/math_ops.py:3066: to_int32 (from tensorflow.python.ops.math_ops) is deprecated and will be removed in a future version.\n",
            "Instructions for updating:\n",
            "Use tf.cast instead.\n",
            "Epoch 1/15\n",
            "10680/84000 [==>...........................] - ETA: 5:26 - loss: 0.5427 - acc: 0.7546"
          ],
          "name": "stdout"
        }
      ]
    },
    {
      "metadata": {
        "id": "KAjg4jSCGWqU",
        "colab_type": "code",
        "outputId": "5b458efd-2d48-4b24-89ba-39cb2ade75e1",
        "colab": {
          "base_uri": "https://localhost:8080/",
          "height": 389
        }
      },
      "cell_type": "code",
      "source": [
        "plt.figure(figsize=(16,6))\n",
        "plt.plot(hist.history['val_acc'], label='val_acc')\n",
        "plt.plot(hist.history['acc'], label='train_acc')\n",
        "plt.legend()"
      ],
      "execution_count": 0,
      "outputs": [
        {
          "output_type": "execute_result",
          "data": {
            "text/plain": [
              "<matplotlib.legend.Legend at 0x7f3a5f76ac88>"
            ]
          },
          "metadata": {
            "tags": []
          },
          "execution_count": 81
        },
        {
          "output_type": "display_data",
          "data": {
            "image/png": "[encoded data removed]",
            "text/plain": [
              "<Figure size 1152x432 with 1 Axes>"
            ]
          },
          "metadata": {
            "tags": []
          }
        }
      ]
    },
    {
      "metadata": {
        "id": "11xe1CLSRM3l",
        "colab_type": "code",
        "outputId": "5530e9e4-3169-4b80-d1d0-e93262727c77",
        "colab": {
          "base_uri": "https://localhost:8080/",
          "height": 32
        }
      },
      "cell_type": "code",
      "source": [
        "test_pred = model.predict(test_fit)\n",
        "accuracy_score(np.array(y_test.tolist()), test_pred.round())"
      ],
      "execution_count": 0,
      "outputs": [
        {
          "output_type": "execute_result",
          "data": {
            "text/plain": [
              "0.9150546677880572"
            ]
          },
          "metadata": {
            "tags": []
          },
          "execution_count": 82
        }
      ]
    }
  ]
}