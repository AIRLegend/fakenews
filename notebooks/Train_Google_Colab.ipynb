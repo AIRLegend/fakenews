{
  "nbformat": 4,
  "nbformat_minor": 0,
  "metadata": {
    "colab": {
      "name": "Train_Google_Colab.ipynb",
      "version": "0.3.2",
      "provenance": [],
      "collapsed_sections": [
        "M1RK9vtpBVGd",
        "OMApMHOldZty"
      ]
    },
    "kernelspec": {
      "name": "python3",
      "display_name": "Python 3"
    },
    "accelerator": "TPU"
  },
  "cells": [
    {
      "metadata": {
        "id": "leag2SIuKQ6H",
        "colab_type": "code",
        "outputId": "317a7358-28b6-4305-bfa6-a84c3216db7e",
        "colab": {
          "base_uri": "https://localhost:8080/",
          "height": 125
        }
      },
      "cell_type": "code",
      "source": [
        "from google.colab import drive\n",
        "drive.mount('/content/drive')"
      ],
      "execution_count": 3,
      "outputs": [
        {
          "output_type": "stream",
          "text": [
            "Go to this URL in a browser: https://accounts.google.com/o/oauth2/auth?client_id=947318989803-6bn6qk8qdgf4n4g3pfee6491hc0brc4i.apps.googleusercontent.com&redirect_uri=urn%3Aietf%3Awg%3Aoauth%3A2.0%3Aoob&scope=email%20https%3A%2F%2Fwww.googleapis.com%2Fauth%2Fdocs.test%20https%3A%2F%2Fwww.googleapis.com%2Fauth%2Fdrive%20https%3A%2F%2Fwww.googleapis.com%2Fauth%2Fdrive.photos.readonly%20https%3A%2F%2Fwww.googleapis.com%2Fauth%2Fpeopleapi.readonly&response_type=code\n",
            "\n",
            "Enter your authorization code:\n",
            "··········\n",
            "Mounted at /content/drive\n"
          ],
          "name": "stdout"
        }
      ]
    },
    {
      "metadata": {
        "id": "RZPgJIeHd7Ki",
        "colab_type": "code",
        "outputId": "f36fba64-e7ac-49f5-ee7c-10e41e2927bf",
        "colab": {
          "base_uri": "https://localhost:8080/",
          "height": 356
        }
      },
      "cell_type": "code",
      "source": [
        "!pip install --upgrade pandas\n",
        "\n",
        "#!pip install talos\n",
        "#!pip install statsmodels -U\n",
        "#!pip install --upgrade pytest"
      ],
      "execution_count": 1,
      "outputs": [
        {
          "output_type": "stream",
          "text": [
            "Collecting pandas\n",
            "\u001b[?25l  Downloading https://files.pythonhosted.org/packages/19/74/e50234bc82c553fecdbd566d8650801e3fe2d6d8c8d940638e3d8a7c5522/pandas-0.24.2-cp36-cp36m-manylinux1_x86_64.whl (10.1MB)\n",
            "\u001b[K    100% |████████████████████████████████| 10.1MB 3.3MB/s \n",
            "\u001b[?25hRequirement already satisfied, skipping upgrade: numpy>=1.12.0 in /usr/local/lib/python3.6/dist-packages (from pandas) (1.14.6)\n",
            "Requirement already satisfied, skipping upgrade: python-dateutil>=2.5.0 in /usr/local/lib/python3.6/dist-packages (from pandas) (2.5.3)\n",
            "Requirement already satisfied, skipping upgrade: pytz>=2011k in /usr/local/lib/python3.6/dist-packages (from pandas) (2018.9)\n",
            "Requirement already satisfied, skipping upgrade: six>=1.5 in /usr/local/lib/python3.6/dist-packages (from python-dateutil>=2.5.0->pandas) (1.11.0)\n",
            "\u001b[31mfastai 1.0.49 has requirement numpy>=1.15, but you'll have numpy 1.14.6 which is incompatible.\u001b[0m\n",
            "Installing collected packages: pandas\n",
            "  Found existing installation: pandas 0.22.0\n",
            "    Uninstalling pandas-0.22.0:\n",
            "      Successfully uninstalled pandas-0.22.0\n",
            "Successfully installed pandas-0.24.2\n"
          ],
          "name": "stdout"
        },
        {
          "output_type": "display_data",
          "data": {
            "application/vnd.colab-display-data+json": {
              "pip_warning": {
                "packages": [
                  "pandas"
                ]
              }
            }
          },
          "metadata": {
            "tags": []
          }
        }
      ]
    },
    {
      "metadata": {
        "id": "HSTFCp3TLOyY",
        "colab_type": "code",
        "outputId": "ba95ce85-3703-45d8-9c76-18843a7fc9e2",
        "colab": {
          "base_uri": "https://localhost:8080/",
          "height": 52
        }
      },
      "cell_type": "code",
      "source": [
        "!ls \"drive/My Drive/Colab Notebooks/data\""
      ],
      "execution_count": 4,
      "outputs": [
        {
          "output_type": "stream",
          "text": [
            "data_kaggle_proc.pickle\t\t       news_proc_12_3_19.pickle\n",
            "GoogleNews-vectors-negative300.bin.gz\n"
          ],
          "name": "stdout"
        }
      ]
    },
    {
      "metadata": {
        "id": "L4ox1E4A-NIx",
        "colab_type": "text"
      },
      "cell_type": "markdown",
      "source": [
        "# Imports, loads and Train/test split\n",
        "---"
      ]
    },
    {
      "metadata": {
        "id": "Pxs1baLTJsxl",
        "colab_type": "code",
        "colab": {}
      },
      "cell_type": "code",
      "source": [
        "import pandas as pd\n",
        "import numpy as np\n",
        "\n",
        "#Progress bars\n",
        "from tqdm import tqdm\n",
        "tqdm.pandas()\n",
        "\n",
        "#Paralelize pandas apply on multiple cores\n",
        "#import swifter\n",
        "\n",
        "from matplotlib import pyplot as plt\n",
        "from matplotlib import style\n",
        "#Nicer style\n",
        "style.use('seaborn')\n",
        "import seaborn as sns\n",
        "\n",
        "from tensorflow import keras as k\n",
        "\n",
        "from sklearn.model_selection import train_test_split\n",
        "\n",
        "from gensim.models import KeyedVectors\n",
        "\n",
        "from sklearn.metrics import accuracy_score, confusion_matrix, classification_report"
      ],
      "execution_count": 0,
      "outputs": []
    },
    {
      "metadata": {
        "id": "E-i6JPxjKGaz",
        "colab_type": "code",
        "colab": {}
      },
      "cell_type": "code",
      "source": [
        "data = pd.read_pickle('drive/My Drive/Colab Notebooks/data/news_proc_12_3_19.pickle')#.reset_index()\n",
        "data = data.dropna()"
      ],
      "execution_count": 0,
      "outputs": []
    },
    {
      "metadata": {
        "id": "ytOekwMDE9Pi",
        "colab_type": "text"
      },
      "cell_type": "markdown",
      "source": [
        "Labels asignadas a los tipos"
      ]
    },
    {
      "metadata": {
        "id": "oxDrPOrlCONc",
        "colab_type": "code",
        "outputId": "a08d87b7-0b23-488e-adef-a64ce94e8c2e",
        "colab": {
          "base_uri": "https://localhost:8080/",
          "height": 87
        }
      },
      "cell_type": "code",
      "source": [
        "types = data['type'].unique()\n",
        "for t in types:\n",
        "    print(\"{} - {}\".format(t, data[data['type'] == t].head(1)['one_hot_label'].iloc[0]))"
      ],
      "execution_count": 3,
      "outputs": [
        {
          "output_type": "stream",
          "text": [
            "bias - [1 0 0 0]\n",
            "click - [0 1 0 0]\n",
            "fake - [0 0 1 0]\n",
            "truth - [0 0 0 1]\n"
          ],
          "name": "stdout"
        }
      ]
    },
    {
      "metadata": {
        "id": "p2Rb1d_iMRo4",
        "colab_type": "code",
        "outputId": "f930cfc2-9253-4879-edcf-c091e1f65182",
        "colab": {
          "base_uri": "https://localhost:8080/",
          "height": 52
        }
      },
      "cell_type": "code",
      "source": [
        "len_content = len(data['content'][0])\n",
        "len_title = len(data['title'][0])\n",
        "\n",
        "print(\"Max len content: {}\".format(len_content))\n",
        "print(\"Max len title: {}\".format(len_title))"
      ],
      "execution_count": 4,
      "outputs": [
        {
          "output_type": "stream",
          "text": [
            "Max len content: 1598\n",
            "Max len title: 13\n"
          ],
          "name": "stdout"
        }
      ]
    },
    {
      "metadata": {
        "id": "42yvXt6pdWtl",
        "colab_type": "code",
        "colab": {}
      },
      "cell_type": "code",
      "source": [
        ""
      ],
      "execution_count": 0,
      "outputs": []
    },
    {
      "metadata": {
        "id": "obS9w_bsMeCf",
        "colab_type": "code",
        "colab": {}
      },
      "cell_type": "code",
      "source": [
        "model = KeyedVectors.load_word2vec_format(\"drive/My Drive/Colab Notebooks/data/GoogleNews-vectors-negative300.bin.gz\", binary=True, limit=50000)"
      ],
      "execution_count": 0,
      "outputs": []
    },
    {
      "metadata": {
        "id": "kq7N1l62dYve",
        "colab_type": "code",
        "colab": {}
      },
      "cell_type": "code",
      "source": [
        "embed_mat = np.zeros((50000,300))\n",
        "for i, e in model.vocab.items():\n",
        "    embed_mat[e.index] = model[i]"
      ],
      "execution_count": 0,
      "outputs": []
    },
    {
      "metadata": {
        "id": "Wbfhe0Txddio",
        "colab_type": "text"
      },
      "cell_type": "markdown",
      "source": [
        "**Tran/valid/test split**"
      ]
    },
    {
      "metadata": {
        "id": "cq-wi-x6ddtd",
        "colab_type": "code",
        "colab": {}
      },
      "cell_type": "code",
      "source": [
        "#Train - test\n",
        "X_train, X_test, y_train, y_test = train_test_split(\n",
        "    data[['content', 'title']], data['one_hot_label'], test_size=0.3, random_state=1)\n",
        "\n",
        "#Train - valid\n",
        "X_train, X_valid, y_train, y_valid = train_test_split(\n",
        "    X_train, y_train, test_size=0.3, random_state=1)"
      ],
      "execution_count": 0,
      "outputs": []
    },
    {
      "metadata": {
        "id": "WxjsZziCddwE",
        "colab_type": "code",
        "colab": {}
      },
      "cell_type": "code",
      "source": [
        "X_train_title = X_train['title']\n",
        "X_train_content = X_train['content']\n",
        "\n",
        "X_valid_title = X_valid['title']\n",
        "X_valid_content = X_valid['content']\n",
        "\n",
        "X_test_title = X_test['title']\n",
        "X_test_content = X_test['content']"
      ],
      "execution_count": 0,
      "outputs": []
    },
    {
      "metadata": {
        "id": "kOmvVOCofAl2",
        "colab_type": "code",
        "colab": {}
      },
      "cell_type": "code",
      "source": [
        "train_fit = [np.asarray(X_train_title.tolist()), \n",
        "             np.asarray(X_train_content.tolist())]\n",
        "\n",
        "valid_fit = [np.asarray(X_valid_title.tolist()), \n",
        "             np.asarray(X_valid_content.tolist())]\n",
        "\n",
        "test_fit = [np.asarray(X_test_title.tolist()), \n",
        "             np.asarray(X_test_content.tolist())]"
      ],
      "execution_count": 0,
      "outputs": []
    },
    {
      "metadata": {
        "id": "Fiv0BWnBddy0",
        "colab_type": "code",
        "colab": {}
      },
      "cell_type": "code",
      "source": [
        "del data\n",
        "del X_train_title, X_train_content\n",
        "del X_valid_title, X_valid_content\n",
        "del X_test_title, X_test_content"
      ],
      "execution_count": 0,
      "outputs": []
    },
    {
      "metadata": {
        "id": "slVgLTa1HRmG",
        "colab_type": "code",
        "colab": {}
      },
      "cell_type": "code",
      "source": [
        ""
      ],
      "execution_count": 0,
      "outputs": []
    },
    {
      "metadata": {
        "id": "vZEvZo6hLFG2",
        "colab_type": "code",
        "colab": {}
      },
      "cell_type": "code",
      "source": [
        "import tensorflow as tf\n",
        "import os"
      ],
      "execution_count": 0,
      "outputs": []
    },
    {
      "metadata": {
        "id": "zEtJ9bG1e2rI",
        "colab_type": "text"
      },
      "cell_type": "markdown",
      "source": [
        "# LSTM"
      ]
    },
    {
      "metadata": {
        "id": "gmGzzoGWNES6",
        "colab_type": "code",
        "colab": {}
      },
      "cell_type": "code",
      "source": [
        "k.backend.clear_session()"
      ],
      "execution_count": 0,
      "outputs": []
    },
    {
      "metadata": {
        "id": "EmtrvI5peiTA",
        "colab_type": "code",
        "colab": {
          "base_uri": "https://localhost:8080/",
          "height": 658
        },
        "outputId": "cf8c9ecb-a9ae-406f-f085-44a53ffe16bb"
      },
      "cell_type": "code",
      "source": [
        "#input_title\n",
        "title_input = k.layers.Input(shape=(len_title,), name='title_input')\n",
        "inp = k.layers.Embedding(output_dim=300, input_dim=50000, \n",
        "                         weights=[embed_mat], trainable=False)(title_input)\n",
        "x = k.layers.Bidirectional(k.layers.LSTM(100))(inp)\n",
        "#CudnnLSTM\n",
        "\n",
        "#input_content\n",
        "content_input = k.layers.Input(shape=(len_content,), name='content_input')\n",
        "inp2 = k.layers.Embedding(output_dim=300, input_dim=50000, \n",
        "                         weights=[embed_mat], trainable=False)(content_input)\n",
        "x2 = k.layers.Bidirectional(k.layers.LSTM(300))(inp2)\n",
        "#CudnnLSTM\n",
        "\n",
        "#Merge\n",
        "x = k.layers.concatenate([x, x2])\n",
        "\n",
        "#Common part\n",
        "x = k.layers.Dense(100, activation='relu')(x)\n",
        "x = k.layers.Dropout(0.2)(x)\n",
        "x = k.layers.Dense(50, activation='relu')(x)\n",
        "x = k.layers.Dropout(0.2)(x)\n",
        "\n",
        "out = k.layers.Dense(4, activation='softmax')(x)\n",
        "\n",
        "#Build model\n",
        "model = k.models.Model(inputs=[title_input, content_input], outputs=[out])\n",
        "\n",
        "#model.compile(k.optimizers.SGD(), loss='categorical_crossentropy', metrics=['acc'])\n",
        "model.compile(tf.train.MomentumOptimizer(learning_rate=0.01, momentum=0.0), loss='categorical_crossentropy', metrics=['acc'])\n",
        "\n",
        "model.summary()"
      ],
      "execution_count": 16,
      "outputs": [
        {
          "output_type": "stream",
          "text": [
            "WARNING:tensorflow:From /usr/local/lib/python3.6/dist-packages/tensorflow/python/keras/layers/core.py:143: calling dropout (from tensorflow.python.ops.nn_ops) with keep_prob is deprecated and will be removed in a future version.\n",
            "Instructions for updating:\n",
            "Please use `rate` instead of `keep_prob`. Rate should be set to `rate = 1 - keep_prob`.\n",
            "__________________________________________________________________________________________________\n",
            "Layer (type)                    Output Shape         Param #     Connected to                     \n",
            "==================================================================================================\n",
            "title_input (InputLayer)        (None, 13)           0                                            \n",
            "__________________________________________________________________________________________________\n",
            "content_input (InputLayer)      (None, 1598)         0                                            \n",
            "__________________________________________________________________________________________________\n",
            "embedding (Embedding)           (None, 13, 300)      15000000    title_input[0][0]                \n",
            "__________________________________________________________________________________________________\n",
            "embedding_1 (Embedding)         (None, 1598, 300)    15000000    content_input[0][0]              \n",
            "__________________________________________________________________________________________________\n",
            "bidirectional (Bidirectional)   (None, 200)          320800      embedding[0][0]                  \n",
            "__________________________________________________________________________________________________\n",
            "bidirectional_1 (Bidirectional) (None, 600)          1442400     embedding_1[0][0]                \n",
            "__________________________________________________________________________________________________\n",
            "concatenate (Concatenate)       (None, 800)          0           bidirectional[0][0]              \n",
            "                                                                 bidirectional_1[0][0]            \n",
            "__________________________________________________________________________________________________\n",
            "dense (Dense)                   (None, 100)          80100       concatenate[0][0]                \n",
            "__________________________________________________________________________________________________\n",
            "dropout (Dropout)               (None, 100)          0           dense[0][0]                      \n",
            "__________________________________________________________________________________________________\n",
            "dense_1 (Dense)                 (None, 50)           5050        dropout[0][0]                    \n",
            "__________________________________________________________________________________________________\n",
            "dropout_1 (Dropout)             (None, 50)           0           dense_1[0][0]                    \n",
            "__________________________________________________________________________________________________\n",
            "dense_2 (Dense)                 (None, 4)            204         dropout_1[0][0]                  \n",
            "==================================================================================================\n",
            "Total params: 31,848,554\n",
            "Trainable params: 1,848,554\n",
            "Non-trainable params: 30,000,000\n",
            "__________________________________________________________________________________________________\n"
          ],
          "name": "stdout"
        }
      ]
    },
    {
      "metadata": {
        "id": "uTXKdQRWNJnP",
        "colab_type": "code",
        "colab": {
          "base_uri": "https://localhost:8080/",
          "height": 443
        },
        "outputId": "69b7d825-cc56-454c-c787-2ce4383bd7cd"
      },
      "cell_type": "code",
      "source": [
        "#Optimize TPU\n",
        "\n",
        "# This address identifies the TPU we'll use when configuring TensorFlow.\n",
        "TPU_WORKER = 'grpc://' + os.environ['COLAB_TPU_ADDR']\n",
        "tf.logging.set_verbosity(tf.logging.INFO)\n",
        "\n",
        "tpu_model = tf.contrib.tpu.keras_to_tpu_model(\n",
        "    model,\n",
        "    strategy=tf.contrib.tpu.TPUDistributionStrategy(\n",
        "        tf.contrib.cluster_resolver.TPUClusterResolver(TPU_WORKER)))\n"
      ],
      "execution_count": 17,
      "outputs": [
        {
          "output_type": "stream",
          "text": [
            "\n",
            "WARNING: The TensorFlow contrib module will not be included in TensorFlow 2.0.\n",
            "For more information, please see:\n",
            "  * https://github.com/tensorflow/community/blob/master/rfcs/20180907-contrib-sunset.md\n",
            "  * https://github.com/tensorflow/addons\n",
            "If you depend on functionality not listed there, please file an issue.\n",
            "\n",
            "INFO:tensorflow:Querying Tensorflow master (grpc://10.87.194.66:8470) for TPU system metadata.\n",
            "INFO:tensorflow:Found TPU system:\n",
            "INFO:tensorflow:*** Num TPU Cores: 8\n",
            "INFO:tensorflow:*** Num TPU Workers: 1\n",
            "INFO:tensorflow:*** Num TPU Cores Per Worker: 8\n",
            "INFO:tensorflow:*** Available Device: _DeviceAttributes(/job:worker/replica:0/task:0/device:CPU:0, CPU, -1, 12655858018529574345)\n",
            "INFO:tensorflow:*** Available Device: _DeviceAttributes(/job:worker/replica:0/task:0/device:XLA_CPU:0, XLA_CPU, 17179869184, 280032913784368905)\n",
            "INFO:tensorflow:*** Available Device: _DeviceAttributes(/job:worker/replica:0/task:0/device:TPU:0, TPU, 17179869184, 14194209281381235087)\n",
            "INFO:tensorflow:*** Available Device: _DeviceAttributes(/job:worker/replica:0/task:0/device:TPU:1, TPU, 17179869184, 12017287755999154195)\n",
            "INFO:tensorflow:*** Available Device: _DeviceAttributes(/job:worker/replica:0/task:0/device:TPU:2, TPU, 17179869184, 16977612644446815667)\n",
            "INFO:tensorflow:*** Available Device: _DeviceAttributes(/job:worker/replica:0/task:0/device:TPU:3, TPU, 17179869184, 5571907508217286351)\n",
            "INFO:tensorflow:*** Available Device: _DeviceAttributes(/job:worker/replica:0/task:0/device:TPU:4, TPU, 17179869184, 12541426591356547095)\n",
            "INFO:tensorflow:*** Available Device: _DeviceAttributes(/job:worker/replica:0/task:0/device:TPU:5, TPU, 17179869184, 6212801420500585221)\n",
            "INFO:tensorflow:*** Available Device: _DeviceAttributes(/job:worker/replica:0/task:0/device:TPU:6, TPU, 17179869184, 15711492623708518669)\n",
            "INFO:tensorflow:*** Available Device: _DeviceAttributes(/job:worker/replica:0/task:0/device:TPU:7, TPU, 17179869184, 12908969253924408841)\n",
            "INFO:tensorflow:*** Available Device: _DeviceAttributes(/job:worker/replica:0/task:0/device:TPU_SYSTEM:0, TPU_SYSTEM, 17179869184, 15053071161697640691)\n",
            "WARNING:tensorflow:tpu_model (from tensorflow.contrib.tpu.python.tpu.keras_support) is experimental and may change or be removed at any time, and without warning.\n"
          ],
          "name": "stdout"
        }
      ]
    },
    {
      "metadata": {
        "id": "fJOKKYYENQX4",
        "colab_type": "code",
        "colab": {}
      },
      "cell_type": "code",
      "source": [
        ""
      ],
      "execution_count": 0,
      "outputs": []
    },
    {
      "metadata": {
        "id": "V8cmRP_yfCcL",
        "colab_type": "code",
        "outputId": "6266bc0e-87f4-4b52-947f-df46921f7246",
        "colab": {
          "base_uri": "https://localhost:8080/",
          "height": 961
        }
      },
      "cell_type": "code",
      "source": [
        "hist = tpu_model.fit(x=train_fit, y=np.asarray(y_train.tolist()), batch_size=32*8, epochs=30,\n",
        "          callbacks = [k.callbacks.EarlyStopping(monitor='val_loss', patience=3, min_delta = 0.1)], validation_data=(valid_fit, np.array(y_valid.tolist())))"
      ],
      "execution_count": 34,
      "outputs": [
        {
          "output_type": "stream",
          "text": [
            "Train on 94319 samples, validate on 40423 samples\n",
            "Epoch 1/30\n",
            "INFO:tensorflow:New input shapes; (re-)compiling: mode=train (# of cores 8), [TensorSpec(shape=(32,), dtype=tf.int32, name='core_id0'), TensorSpec(shape=(32, 13), dtype=tf.float32, name='title_input_10'), TensorSpec(shape=(32, 1598), dtype=tf.float32, name='content_input_10'), TensorSpec(shape=(32, 4), dtype=tf.float32, name='dense_2_target_30')]\n",
            "INFO:tensorflow:Overriding default placeholder.\n",
            "INFO:tensorflow:Remapping placeholder for title_input\n",
            "INFO:tensorflow:Remapping placeholder for content_input\n",
            "INFO:tensorflow:Started compiling\n",
            "INFO:tensorflow:Finished compiling. Time elapsed: 14.50269889831543 secs\n",
            "INFO:tensorflow:Setting weights on TPU model.\n",
            "93952/94319 [============================>.] - ETA: 1s - loss: 1.3804 - acc: 0.2982INFO:tensorflow:New input shapes; (re-)compiling: mode=train (# of cores 8), [TensorSpec(shape=(13,), dtype=tf.int32, name='core_id0'), TensorSpec(shape=(13, 13), dtype=tf.float32, name='title_input_10'), TensorSpec(shape=(13, 1598), dtype=tf.float32, name='content_input_10'), TensorSpec(shape=(13, 4), dtype=tf.float32, name='dense_2_target_30')]\n",
            "INFO:tensorflow:Overriding default placeholder.\n",
            "INFO:tensorflow:Remapping placeholder for title_input\n",
            "INFO:tensorflow:Remapping placeholder for content_input\n",
            "INFO:tensorflow:Started compiling\n",
            "INFO:tensorflow:Finished compiling. Time elapsed: 18.70241355895996 secs\n",
            "94208/94319 [============================>.] - ETA: 0s - loss: 1.3803 - acc: 0.2983INFO:tensorflow:New input shapes; (re-)compiling: mode=eval (# of cores 8), [TensorSpec(shape=(32,), dtype=tf.int32, name='core_id_10'), TensorSpec(shape=(32, 13), dtype=tf.float32, name='title_input_10'), TensorSpec(shape=(32, 1598), dtype=tf.float32, name='content_input_10'), TensorSpec(shape=(32, 4), dtype=tf.float32, name='dense_2_target_30')]\n",
            "INFO:tensorflow:Overriding default placeholder.\n",
            "INFO:tensorflow:Remapping placeholder for title_input\n",
            "INFO:tensorflow:Remapping placeholder for content_input\n",
            "INFO:tensorflow:Started compiling\n",
            "INFO:tensorflow:Finished compiling. Time elapsed: 28.640827417373657 secs\n",
            "INFO:tensorflow:New input shapes; (re-)compiling: mode=eval (# of cores 8), [TensorSpec(shape=(28,), dtype=tf.int32, name='core_id_10'), TensorSpec(shape=(28, 13), dtype=tf.float32, name='title_input_10'), TensorSpec(shape=(28, 1598), dtype=tf.float32, name='content_input_10'), TensorSpec(shape=(28, 4), dtype=tf.float32, name='dense_2_target_30')]\n",
            "INFO:tensorflow:Overriding default placeholder.\n",
            "INFO:tensorflow:Remapping placeholder for title_input\n",
            "INFO:tensorflow:Remapping placeholder for content_input\n",
            "INFO:tensorflow:Started compiling\n",
            "INFO:tensorflow:Finished compiling. Time elapsed: 33.4976270198822 secs\n",
            "94319/94319 [==============================] - 500s 5ms/sample - loss: 1.3803 - acc: 0.2983 - val_loss: 1.3709 - val_acc: 0.3726\n",
            "Epoch 2/30\n",
            "94319/94319 [==============================] - 340s 4ms/sample - loss: 1.3597 - acc: 0.3791 - val_loss: 1.3384 - val_acc: 0.4802\n",
            "Epoch 3/30\n",
            "94319/94319 [==============================] - 340s 4ms/sample - loss: 1.3173 - acc: 0.4510 - val_loss: 1.2728 - val_acc: 0.5260\n",
            "Epoch 4/30\n",
            "94319/94319 [==============================] - 340s 4ms/sample - loss: 1.2290 - acc: 0.5051 - val_loss: 1.1469 - val_acc: 0.5541\n",
            "Epoch 5/30\n",
            "94319/94319 [==============================] - 340s 4ms/sample - loss: 1.1178 - acc: 0.5486 - val_loss: 1.0316 - val_acc: 0.6002\n",
            "Epoch 6/30\n",
            "94319/94319 [==============================] - 340s 4ms/sample - loss: 1.0179 - acc: 0.5943 - val_loss: 0.9436 - val_acc: 0.6366\n",
            "Epoch 7/30\n",
            "94319/94319 [==============================] - 340s 4ms/sample - loss: 0.9460 - acc: 0.6272 - val_loss: 0.9172 - val_acc: 0.6299\n",
            "Epoch 8/30\n",
            "94319/94319 [==============================] - 340s 4ms/sample - loss: 0.8925 - acc: 0.6506 - val_loss: 0.8717 - val_acc: 0.6485\n",
            "Epoch 9/30\n",
            "94319/94319 [==============================] - 340s 4ms/sample - loss: 0.8538 - acc: 0.6690 - val_loss: 0.8188 - val_acc: 0.6758\n",
            "Epoch 10/30\n",
            "94319/94319 [==============================] - 339s 4ms/sample - loss: 0.8244 - acc: 0.6817 - val_loss: 0.7968 - val_acc: 0.6823\n",
            "Epoch 11/30\n",
            "94319/94319 [==============================] - 339s 4ms/sample - loss: 0.8023 - acc: 0.6879 - val_loss: 0.7795 - val_acc: 0.6896\n",
            "Epoch 12/30\n",
            "94319/94319 [==============================] - 340s 4ms/sample - loss: 0.7842 - acc: 0.6959 - val_loss: 0.7896 - val_acc: 0.6819\n",
            "Epoch 13/30\n",
            "94319/94319 [==============================] - 340s 4ms/sample - loss: 0.7684 - acc: 0.7018 - val_loss: 0.7501 - val_acc: 0.7003\n"
          ],
          "name": "stdout"
        }
      ]
    },
    {
      "metadata": {
        "id": "afWePEP1fdO1",
        "colab_type": "code",
        "outputId": "d852a3f8-2fef-46d2-f7ef-daa3d2dafa53",
        "colab": {
          "base_uri": "https://localhost:8080/",
          "height": 391
        }
      },
      "cell_type": "code",
      "source": [
        "plt.figure(figsize=(16,6))\n",
        "plt.plot(hist.history['val_acc'], label='val_acc')\n",
        "plt.plot(hist.history['acc'], label='train_acc')\n",
        "plt.legend()"
      ],
      "execution_count": 35,
      "outputs": [
        {
          "output_type": "execute_result",
          "data": {
            "text/plain": [
              "<matplotlib.legend.Legend at 0x7f44b6c7cf60>"
            ]
          },
          "metadata": {
            "tags": []
          },
          "execution_count": 35
        },
        {
          "output_type": "display_data",
          "data": {
            "image/png": "[encoded data removed]",
            "text/plain": [
              "<Figure size 1152x432 with 1 Axes>"
            ]
          },
          "metadata": {
            "tags": []
          }
        }
      ]
    },
    {
      "metadata": {
        "id": "m2tHe8rekq2T",
        "colab_type": "code",
        "outputId": "e7155252-ed51-4698-f87a-15bfa07f70b6",
        "colab": {
          "base_uri": "https://localhost:8080/",
          "height": 391
        }
      },
      "cell_type": "code",
      "source": [
        "plt.figure(figsize=(16,6))\n",
        "plt.plot(hist.history['val_loss'], label='val_loss')\n",
        "plt.plot(hist.history['loss'], label='train_loss')\n",
        "plt.legend()"
      ],
      "execution_count": 36,
      "outputs": [
        {
          "output_type": "execute_result",
          "data": {
            "text/plain": [
              "<matplotlib.legend.Legend at 0x7f44b442c0b8>"
            ]
          },
          "metadata": {
            "tags": []
          },
          "execution_count": 36
        },
        {
          "output_type": "display_data",
          "data": {
            "image/png": "[encoded data removed]",
            "text/plain": [
              "<Figure size 1152x432 with 1 Axes>"
            ]
          },
          "metadata": {
            "tags": []
          }
        }
      ]
    },
    {
      "metadata": {
        "id": "JrTFC1bHksum",
        "colab_type": "code",
        "colab": {}
      },
      "cell_type": "code",
      "source": [
        "tpu_batch = [test_fit[0][:-3], test_fit[1][:-3]]"
      ],
      "execution_count": 0,
      "outputs": []
    },
    {
      "metadata": {
        "id": "oEdxTruQkmp0",
        "colab_type": "code",
        "colab": {}
      },
      "cell_type": "code",
      "source": [
        "#test_pred = tpu_model.predict(test_fit, batch_size=32*8)\n",
        "test_pred = tpu_model.predict(tpu_batch, batch_size=32*8)"
      ],
      "execution_count": 0,
      "outputs": []
    },
    {
      "metadata": {
        "id": "o6J3nWEVnfB6",
        "colab_type": "code",
        "colab": {
          "base_uri": "https://localhost:8080/",
          "height": 34
        },
        "outputId": "3cecb8f8-e245-438e-ef90-64455a2551ec"
      },
      "cell_type": "code",
      "source": [
        "accuracy_score(np.array(y_test.tolist()[:-3]), test_pred.round())"
      ],
      "execution_count": 52,
      "outputs": [
        {
          "output_type": "execute_result",
          "data": {
            "text/plain": [
              "0.6059504017733445"
            ]
          },
          "metadata": {
            "tags": []
          },
          "execution_count": 52
        }
      ]
    },
    {
      "metadata": {
        "id": "AU_g82e4k4sV",
        "colab_type": "code",
        "outputId": "df2b1898-2aec-47b0-c612-ecc0ddb6be5e",
        "colab": {
          "base_uri": "https://localhost:8080/",
          "height": 285
        }
      },
      "cell_type": "code",
      "source": [
        "report = classification_report(np.array(y_test.tolist()[:-3]), test_pred.round())\n",
        "print(report)"
      ],
      "execution_count": 54,
      "outputs": [
        {
          "output_type": "stream",
          "text": [
            "              precision    recall  f1-score   support\n",
            "\n",
            "           0       0.84      0.51      0.64     13497\n",
            "           1       0.82      0.67      0.74     14960\n",
            "           2       0.80      0.71      0.76     14429\n",
            "           3       0.73      0.52      0.61     14858\n",
            "\n",
            "   micro avg       0.80      0.61      0.69     57744\n",
            "   macro avg       0.80      0.60      0.68     57744\n",
            "weighted avg       0.80      0.61      0.69     57744\n",
            " samples avg       0.61      0.61      0.61     57744\n",
            "\n"
          ],
          "name": "stdout"
        },
        {
          "output_type": "stream",
          "text": [
            "/usr/local/lib/python3.6/dist-packages/sklearn/metrics/classification.py:1143: UndefinedMetricWarning: Precision and F-score are ill-defined and being set to 0.0 in samples with no predicted labels.\n",
            "  'precision', 'predicted', average, warn_for)\n"
          ],
          "name": "stderr"
        }
      ]
    },
    {
      "metadata": {
        "id": "ITCuu9oQrXsh",
        "colab_type": "code",
        "outputId": "82174c64-ae35-4639-bdc5-f172f92b8dee",
        "colab": {
          "base_uri": "https://localhost:8080/",
          "height": 435
        }
      },
      "cell_type": "code",
      "source": [
        "matrix = confusion_matrix(np.array(y_test.tolist()[:-3]).argmax(axis=1), test_pred.round().argmax(axis=1))\n",
        "print(matrix)\n",
        "\n",
        "df_cm = pd.DataFrame(matrix, columns=['clickbait', 'bias', 'true', 'fake'], index=['clickbait', 'bias', 'true', 'fake'])\n",
        "sns.heatmap(df_cm, annot=True)"
      ],
      "execution_count": 55,
      "outputs": [
        {
          "output_type": "stream",
          "text": [
            "[[10646   552   915  1384]\n",
            " [ 3529 10032   686   713]\n",
            " [ 2894   530 10294   711]\n",
            " [ 5089  1094   933  7742]]\n"
          ],
          "name": "stdout"
        },
        {
          "output_type": "execute_result",
          "data": {
            "text/plain": [
              "<matplotlib.axes._subplots.AxesSubplot at 0x7f44b1921e10>"
            ]
          },
          "metadata": {
            "tags": []
          },
          "execution_count": 55
        },
        {
          "output_type": "display_data",
          "data": {
            "image/png": "[encoded data removed]",
            "text/plain": [
              "<Figure size 576x396 with 2 Axes>"
            ]
          },
          "metadata": {
            "tags": []
          }
        }
      ]
    },
    {
      "metadata": {
        "id": "Y2GplJCCkpIr",
        "colab_type": "code",
        "colab": {}
      },
      "cell_type": "code",
      "source": [
        "LSTM_PATH = 'drive/My Drive/Colab Notebooks/weights/lstm.h5'"
      ],
      "execution_count": 0,
      "outputs": []
    },
    {
      "metadata": {
        "id": "uJWubqazmhcF",
        "colab_type": "code",
        "colab": {
          "base_uri": "https://localhost:8080/",
          "height": 72
        },
        "outputId": "e69678ad-5e77-47e8-89f4-c86f7061a6d3"
      },
      "cell_type": "code",
      "source": [
        "tpu_model.save(LSTM_PATH)"
      ],
      "execution_count": 57,
      "outputs": [
        {
          "output_type": "stream",
          "text": [
            "INFO:tensorflow:Copying TPU weights to the CPU\n",
            "WARNING:tensorflow:TensorFlow optimizers do not make it possible to access optimizer attributes or optimizer state after instantiation. As a result, we cannot save the optimizer as part of the model save file.You will have to compile your model again after loading it. Prefer using a Keras optimizer instead (see keras.io/optimizers).\n"
          ],
          "name": "stdout"
        }
      ]
    },
    {
      "metadata": {
        "id": "M1RK9vtpBVGd",
        "colab_type": "text"
      },
      "cell_type": "markdown",
      "source": [
        "#Redes convolucionales"
      ]
    },
    {
      "metadata": {
        "id": "bRjPd9pEBaxg",
        "colab_type": "code",
        "outputId": "c2b8b269-8f91-4bf4-aad9-56b8138436b3",
        "colab": {
          "base_uri": "https://localhost:8080/",
          "height": 987
        }
      },
      "cell_type": "code",
      "source": [
        "#input_title\n",
        "title_input = k.layers.Input(shape=(len_title,), name='title_input')\n",
        "inp = k.layers.Embedding(output_dim=300, input_dim=50000, \n",
        "                         weights=[embed_mat], trainable=False, name='embed_title')(title_input)\n",
        "\n",
        "x = k.layers.Conv1D(filters = 5, kernel_size=4, strides=2, activation='relu', name='Conv1Title')(inp)\n",
        "x = k.layers.MaxPool1D(pool_size = 2, name='Pool1Title')(x)\n",
        "x = k.layers.Flatten()(x)\n",
        "x = k.layers.Dense(50, activation='relu', name='Dense1Title', kernel_regularizer='l2')(x)\n",
        "\n",
        "#input_content\n",
        "content_input = k.layers.Input(shape=(len_content,), name='content_input')\n",
        "inp2 = k.layers.Embedding(output_dim=300, input_dim=50000, \n",
        "                         weights=[embed_mat], trainable=False, name='embed_content')(content_input)\n",
        "x2 = k.layers.Conv1D(filters = 40, kernel_size = 16, strides = 2, activation='relu', name='Conv1Content')(inp2)\n",
        "x2 = k.layers.MaxPool1D(pool_size = 4, name='Pool1Content')(x2)\n",
        "\n",
        "#Added\n",
        "x2 = k.layers.Conv1D(filters = 80, kernel_size = 16, strides = 4, activation='relu', name='Conv2Content')(inp2)\n",
        "x2 = k.layers.MaxPool1D(pool_size = 4, name='Pool2Content')(x2)\n",
        "#\n",
        "\n",
        "x2 = k.layers.Flatten()(x2)\n",
        "x2 = k.layers.Dense(100, activation='relu', kernel_regularizer='l2', name='Dense1Content')(x2)\n",
        "\n",
        "\n",
        "#Merge\n",
        "x = k.layers.concatenate([x, x2])\n",
        "\n",
        "#Common part\n",
        "x = k.layers.Dense(50, activation='relu')(x)\n",
        "x = k.layers.Dropout(0.2)(x)\n",
        "x = k.layers.Dense(50, activation='relu')(x)\n",
        "x = k.layers.Dropout(0.2)(x)\n",
        "out = k.layers.Dense(4, activation='softmax')(x)\n",
        "\n",
        "\n",
        "#Build model\n",
        "model = k.models.Model(inputs=[title_input, content_input], outputs=[out])\n",
        "\n",
        "#model.compile(k.optimizers.Adam(lr=0.0001), loss='categorical_crossentropy', metrics=['acc'])\n",
        "#model.compile(k.optimizers.SGD(lr=0.1, momentum = 0.1), loss='categorical_crossentropy', metrics=['acc'])\n",
        "model.compile(k.optimizers.RMSprop(), loss='categorical_crossentropy', metrics=['acc'])\n",
        "\n",
        "model.summary()"
      ],
      "execution_count": 0,
      "outputs": [
        {
          "output_type": "stream",
          "text": [
            "WARNING:tensorflow:From /usr/local/lib/python3.6/dist-packages/tensorflow/python/ops/resource_variable_ops.py:435: colocate_with (from tensorflow.python.framework.ops) is deprecated and will be removed in a future version.\n",
            "Instructions for updating:\n",
            "Colocations handled automatically by placer.\n",
            "WARNING:tensorflow:From /usr/local/lib/python3.6/dist-packages/tensorflow/python/keras/layers/core.py:143: calling dropout (from tensorflow.python.ops.nn_ops) with keep_prob is deprecated and will be removed in a future version.\n",
            "Instructions for updating:\n",
            "Please use `rate` instead of `keep_prob`. Rate should be set to `rate = 1 - keep_prob`.\n",
            "__________________________________________________________________________________________________\n",
            "Layer (type)                    Output Shape         Param #     Connected to                     \n",
            "==================================================================================================\n",
            "title_input (InputLayer)        (None, 13)           0                                            \n",
            "__________________________________________________________________________________________________\n",
            "content_input (InputLayer)      (None, 1598)         0                                            \n",
            "__________________________________________________________________________________________________\n",
            "embed_title (Embedding)         (None, 13, 300)      15000000    title_input[0][0]                \n",
            "__________________________________________________________________________________________________\n",
            "embed_content (Embedding)       (None, 1598, 300)    15000000    content_input[0][0]              \n",
            "__________________________________________________________________________________________________\n",
            "Conv1Title (Conv1D)             (None, 5, 5)         6005        embed_title[0][0]                \n",
            "__________________________________________________________________________________________________\n",
            "Conv2Content (Conv1D)           (None, 396, 80)      384080      embed_content[0][0]              \n",
            "__________________________________________________________________________________________________\n",
            "Pool1Title (MaxPooling1D)       (None, 2, 5)         0           Conv1Title[0][0]                 \n",
            "__________________________________________________________________________________________________\n",
            "Pool2Content (MaxPooling1D)     (None, 99, 80)       0           Conv2Content[0][0]               \n",
            "__________________________________________________________________________________________________\n",
            "flatten (Flatten)               (None, 10)           0           Pool1Title[0][0]                 \n",
            "__________________________________________________________________________________________________\n",
            "flatten_1 (Flatten)             (None, 7920)         0           Pool2Content[0][0]               \n",
            "__________________________________________________________________________________________________\n",
            "Dense1Title (Dense)             (None, 50)           550         flatten[0][0]                    \n",
            "__________________________________________________________________________________________________\n",
            "Dense1Content (Dense)           (None, 100)          792100      flatten_1[0][0]                  \n",
            "__________________________________________________________________________________________________\n",
            "concatenate (Concatenate)       (None, 150)          0           Dense1Title[0][0]                \n",
            "                                                                 Dense1Content[0][0]              \n",
            "__________________________________________________________________________________________________\n",
            "dense (Dense)                   (None, 50)           7550        concatenate[0][0]                \n",
            "__________________________________________________________________________________________________\n",
            "dropout (Dropout)               (None, 50)           0           dense[0][0]                      \n",
            "__________________________________________________________________________________________________\n",
            "dense_1 (Dense)                 (None, 50)           2550        dropout[0][0]                    \n",
            "__________________________________________________________________________________________________\n",
            "dropout_1 (Dropout)             (None, 50)           0           dense_1[0][0]                    \n",
            "__________________________________________________________________________________________________\n",
            "dense_2 (Dense)                 (None, 4)            204         dropout_1[0][0]                  \n",
            "==================================================================================================\n",
            "Total params: 31,193,039\n",
            "Trainable params: 1,193,039\n",
            "Non-trainable params: 30,000,000\n",
            "__________________________________________________________________________________________________\n"
          ],
          "name": "stdout"
        }
      ]
    },
    {
      "metadata": {
        "id": "gOhBW9oiCDiU",
        "colab_type": "code",
        "outputId": "3eee66da-8cbc-4f58-fede-cf08a216f17a",
        "colab": {
          "base_uri": "https://localhost:8080/",
          "height": 1020
        }
      },
      "cell_type": "code",
      "source": [
        "hist = model.fit(x=train_fit, y=np.asarray(y_train.tolist()), batch_size=128, epochs=20,\n",
        "          callbacks = [k.callbacks.EarlyStopping(monitor='val_loss', patience=3, min_delta = 0.1)], validation_data=(valid_fit, np.array(y_valid.tolist())))"
      ],
      "execution_count": 0,
      "outputs": [
        {
          "output_type": "stream",
          "text": [
            "Train on 94319 samples, validate on 40423 samples\n",
            "WARNING:tensorflow:From /usr/local/lib/python3.6/dist-packages/tensorflow/python/ops/math_ops.py:3066: to_int32 (from tensorflow.python.ops.math_ops) is deprecated and will be removed in a future version.\n",
            "Instructions for updating:\n",
            "Use tf.cast instead.\n",
            "Epoch 1/20\n",
            "94319/94319 [==============================] - 100s 1ms/sample - loss: 0.8362 - acc: 0.7146 - val_loss: 0.6419 - val_acc: 0.7858\n",
            "Epoch 2/20\n",
            "94319/94319 [==============================] - 97s 1ms/sample - loss: 0.5684 - acc: 0.8246 - val_loss: 0.5803 - val_acc: 0.8119\n",
            "Epoch 3/20\n",
            "94319/94319 [==============================] - 97s 1ms/sample - loss: 0.4604 - acc: 0.8673 - val_loss: 0.5588 - val_acc: 0.8243\n",
            "Epoch 4/20\n",
            "94319/94319 [==============================] - 97s 1ms/sample - loss: 0.3750 - acc: 0.8982 - val_loss: 0.6024 - val_acc: 0.8224\n"
          ],
          "name": "stdout"
        }
      ]
    },
    {
      "metadata": {
        "id": "KAjg4jSCGWqU",
        "colab_type": "code",
        "outputId": "939e6eab-4c30-4be8-83f4-16b1c2aa7be7",
        "colab": {
          "base_uri": "https://localhost:8080/",
          "height": 391
        }
      },
      "cell_type": "code",
      "source": [
        "plt.figure(figsize=(16,6))\n",
        "plt.plot(hist.history['val_acc'], label='val_acc')\n",
        "plt.plot(hist.history['acc'], label='train_acc')\n",
        "plt.legend()"
      ],
      "execution_count": 0,
      "outputs": [
        {
          "output_type": "execute_result",
          "data": {
            "text/plain": [
              "<matplotlib.legend.Legend at 0x7fddbfb96f98>"
            ]
          },
          "metadata": {
            "tags": []
          },
          "execution_count": 27
        },
        {
          "output_type": "display_data",
          "data": {
            "image/png": "[encoded data removed]",
            "text/plain": [
              "<Figure size 1152x432 with 1 Axes>"
            ]
          },
          "metadata": {
            "tags": []
          }
        }
      ]
    },
    {
      "metadata": {
        "id": "hTY9LsukoY0C",
        "colab_type": "code",
        "outputId": "52cf0f9e-9ecd-4c25-eeed-4ed3b11b0a40",
        "colab": {
          "base_uri": "https://localhost:8080/",
          "height": 391
        }
      },
      "cell_type": "code",
      "source": [
        "plt.figure(figsize=(16,6))\n",
        "plt.plot(hist.history['val_loss'], label='val_loss')\n",
        "plt.plot(hist.history['loss'], label='train_loss')\n",
        "plt.legend()"
      ],
      "execution_count": 0,
      "outputs": [
        {
          "output_type": "execute_result",
          "data": {
            "text/plain": [
              "<matplotlib.legend.Legend at 0x7fddbfa417b8>"
            ]
          },
          "metadata": {
            "tags": []
          },
          "execution_count": 28
        },
        {
          "output_type": "display_data",
          "data": {
            "image/png": "[encoded data removed]",
            "text/plain": [
              "<Figure size 1152x432 with 1 Axes>"
            ]
          },
          "metadata": {
            "tags": []
          }
        }
      ]
    },
    {
      "metadata": {
        "id": "11xe1CLSRM3l",
        "colab_type": "code",
        "outputId": "4b7c638b-1405-464a-af55-2e80050b8fa5",
        "colab": {
          "base_uri": "https://localhost:8080/",
          "height": 34
        }
      },
      "cell_type": "code",
      "source": [
        "test_pred = model.predict(test_fit)\n",
        "accuracy_score(np.array(y_test.tolist()), test_pred.round())"
      ],
      "execution_count": 0,
      "outputs": [
        {
          "output_type": "execute_result",
          "data": {
            "text/plain": [
              "0.8018425199577467"
            ]
          },
          "metadata": {
            "tags": []
          },
          "execution_count": 26
        }
      ]
    },
    {
      "metadata": {
        "id": "69Oqol9Jofab",
        "colab_type": "code",
        "outputId": "25a0c3b3-603f-4b6d-a6f2-9f568e7585bd",
        "colab": {
          "base_uri": "https://localhost:8080/",
          "height": 375
        }
      },
      "cell_type": "code",
      "source": [
        "report = classification_report(np.array(y_test.tolist()), test_pred.round())\n",
        "print(report)"
      ],
      "execution_count": 0,
      "outputs": [
        {
          "output_type": "stream",
          "text": [
            "              precision    recall  f1-score   support\n",
            "\n",
            "           0       0.82      0.77      0.80     22455\n",
            "           1       0.92      0.76      0.83     24936\n",
            "           2       0.90      0.78      0.83     24291\n",
            "           3       0.70      0.82      0.76     24563\n",
            "\n",
            "   micro avg       0.82      0.78      0.80     96245\n",
            "   macro avg       0.84      0.78      0.80     96245\n",
            "weighted avg       0.84      0.78      0.80     96245\n",
            " samples avg       0.78      0.78      0.78     96245\n",
            "\n"
          ],
          "name": "stdout"
        },
        {
          "output_type": "stream",
          "text": [
            "/usr/local/lib/python3.6/dist-packages/sklearn/metrics/classification.py:1143: UndefinedMetricWarning: Precision and F-score are ill-defined and being set to 0.0 in samples with no predicted labels.\n",
            "  'precision', 'predicted', average, warn_for)\n"
          ],
          "name": "stderr"
        }
      ]
    },
    {
      "metadata": {
        "id": "2fIA4U81z7Bi",
        "colab_type": "code",
        "outputId": "cd1834c4-87c8-47fa-c5a9-76f56e69e2fb",
        "colab": {
          "base_uri": "https://localhost:8080/",
          "height": 435
        }
      },
      "cell_type": "code",
      "source": [
        "matrix = confusion_matrix(np.array(y_test.tolist()).argmax(axis=1), test_pred.round().argmax(axis=1))\n",
        "print(matrix)\n",
        "\n",
        "#Plot\n",
        "df_cm = pd.DataFrame(matrix, columns=['bias', 'click', 'fake', 'truth'], index=['bias', 'click', 'fake', 'truth'])\n",
        "sns.heatmap(df_cm, annot=True)"
      ],
      "execution_count": 0,
      "outputs": [
        {
          "output_type": "stream",
          "text": [
            "[[18480   497   541  2937]\n",
            " [ 2610 18862   602  2862]\n",
            " [ 2341   413 18829  2708]\n",
            " [ 2786   744   959 20074]]\n"
          ],
          "name": "stdout"
        },
        {
          "output_type": "execute_result",
          "data": {
            "text/plain": [
              "<matplotlib.axes._subplots.AxesSubplot at 0x7fddbf937748>"
            ]
          },
          "metadata": {
            "tags": []
          },
          "execution_count": 31
        },
        {
          "output_type": "display_data",
          "data": {
            "image/png": "[encoded data removed]",
            "text/plain": [
              "<Figure size 576x396 with 2 Axes>"
            ]
          },
          "metadata": {
            "tags": []
          }
        }
      ]
    },
    {
      "metadata": {
        "id": "QrSoUtQnoyqT",
        "colab_type": "code",
        "colab": {}
      },
      "cell_type": "code",
      "source": [
        "CONV_PATH = 'drive/My Drive/Colab Notebooks/weights/conv.h5'\n",
        "model.save(CONV_PATH)"
      ],
      "execution_count": 0,
      "outputs": []
    },
    {
      "metadata": {
        "id": "7qplnjGTp0qP",
        "colab_type": "code",
        "colab": {}
      },
      "cell_type": "code",
      "source": [
        ""
      ],
      "execution_count": 0,
      "outputs": []
    },
    {
      "metadata": {
        "id": "OMApMHOldZty",
        "colab_type": "text"
      },
      "cell_type": "markdown",
      "source": [
        "# Buscar hiperparámetros óptimos para la CNN"
      ]
    },
    {
      "metadata": {
        "id": "lp6v7yeShqda",
        "colab_type": "code",
        "outputId": "2bf2e982-034b-4a7d-c513-ca327b5afe81",
        "colab": {
          "base_uri": "https://localhost:8080/",
          "height": 34
        }
      },
      "cell_type": "code",
      "source": [
        "import talos as ta"
      ],
      "execution_count": 0,
      "outputs": [
        {
          "output_type": "stream",
          "text": [
            "Using TensorFlow backend.\n"
          ],
          "name": "stderr"
        }
      ]
    },
    {
      "metadata": {
        "id": "fTa2eG8yelaa",
        "colab_type": "code",
        "colab": {}
      },
      "cell_type": "code",
      "source": [
        "p = {\n",
        "    'optimizer' : [k.optimizers.Nadam, k.optimizers.Adam, k.optimizers.Adagrad],\n",
        "    'lr' : (0.001, 0.1, 0.2, 0.3),\n",
        "}"
      ],
      "execution_count": 0,
      "outputs": []
    },
    {
      "metadata": {
        "id": "nWvoCxc-dgxb",
        "colab_type": "code",
        "colab": {}
      },
      "cell_type": "code",
      "source": [
        "def cnn_model(x_train, y_train, x_val, y_val, params):\n",
        "    #input_title\n",
        "    title_input = k.layers.Input(shape=(len_title,), name='title_input')\n",
        "    inp = k.layers.Embedding(output_dim=300, input_dim=50000, \n",
        "                             weights=[embed_mat], trainable=False, name='embed_title')(title_input)\n",
        "\n",
        "    x = k.layers.Conv1D(filters = 5, kernel_size=4, strides=2, activation='relu', name='Conv1Title')(inp)\n",
        "    x = k.layers.MaxPool1D(pool_size = 2, name='Pool1Title')(x)\n",
        "    x = k.layers.Flatten()(x)\n",
        "    x = k.layers.Dense(50, activation='relu', name='Dense1Title', kernel_regularizer='l2')(x)\n",
        "\n",
        "    #input_content\n",
        "    content_input = k.layers.Input(shape=(len_content,), name='content_input')\n",
        "    inp2 = k.layers.Embedding(output_dim=300, input_dim=50000, \n",
        "                             weights=[embed_mat], trainable=False, name='embed_content')(content_input)\n",
        "    x2 = k.layers.Conv1D(filters = 40, kernel_size = 16, strides = 2, activation='relu', name='Conv1Content')(inp2)\n",
        "    x2 = k.layers.MaxPool1D(pool_size = 4, name='Pool1Content')(x2)\n",
        "\n",
        "    #Added\n",
        "    x2 = k.layers.Conv1D(filters = 80, kernel_size = 16, strides = 4, activation='relu', name='Conv2Content')(inp2)\n",
        "    x2 = k.layers.MaxPool1D(pool_size = 4, name='Pool2Content')(x2)\n",
        "    #\n",
        "\n",
        "    x2 = k.layers.Flatten()(x2)\n",
        "    x2 = k.layers.Dense(100, activation='relu', kernel_regularizer='l2', name='Dense1Content')(x2)\n",
        "\n",
        "\n",
        "    #Merge\n",
        "    x = k.layers.concatenate([x, x2])\n",
        "\n",
        "    #Common part\n",
        "    x = k.layers.Dense(50, activation='relu')(x)\n",
        "    x = k.layers.Dropout(0.2)(x)\n",
        "    x = k.layers.Dense(50, activation='relu')(x)\n",
        "    x = k.layers.Dropout(0.2)(x)\n",
        "    out = k.layers.Dense(4, activation='softmax')(x)\n",
        "\n",
        "\n",
        "    #Build model\n",
        "    model = k.models.Model(inputs=[title_input, content_input], outputs=[out])\n",
        "\n",
        "    model.compile(params['optimizer'](lr=params['lr']), loss='categorical_crossentropy', metrics=['acc'])\n",
        "    \n",
        "    out = model.fit(x=x_train, y=y_train, batch_size=128, epochs=20,\n",
        "          callbacks = [k.callbacks.EarlyStopping(monitor='val_loss', patience=3, min_delta = 0.1)], \n",
        "                    validation_data=(x_val, y_val))\n",
        "    \n",
        "    return out, model"
      ],
      "execution_count": 0,
      "outputs": []
    },
    {
      "metadata": {
        "id": "-L52abocf8AZ",
        "colab_type": "code",
        "outputId": "aedfaa5b-fd21-45ca-b175-81581a184862",
        "colab": {
          "base_uri": "https://localhost:8080/",
          "height": 1020
        }
      },
      "cell_type": "code",
      "source": [
        "t = ta.Scan(x = train_fit, \n",
        "        y=np.asarray(y_train.tolist()), \n",
        "        x_val = valid_fit, \n",
        "        y_val = np.array(y_valid.tolist()), \n",
        "        params = p, \n",
        "        model=cnn_model,\n",
        "        clear_tf_session=False)"
      ],
      "execution_count": 0,
      "outputs": [
        {
          "output_type": "stream",
          "text": [
            "\r  0%|          | 0/3 [00:00<?, ?it/s]"
          ],
          "name": "stderr"
        },
        {
          "output_type": "stream",
          "text": [
            "WARNING:tensorflow:From /usr/local/lib/python3.6/dist-packages/tensorflow/python/ops/resource_variable_ops.py:435: colocate_with (from tensorflow.python.framework.ops) is deprecated and will be removed in a future version.\n",
            "Instructions for updating:\n",
            "Colocations handled automatically by placer.\n",
            "WARNING:tensorflow:From /usr/local/lib/python3.6/dist-packages/tensorflow/python/keras/layers/core.py:143: calling dropout (from tensorflow.python.ops.nn_ops) with keep_prob is deprecated and will be removed in a future version.\n",
            "Instructions for updating:\n",
            "Please use `rate` instead of `keep_prob`. Rate should be set to `rate = 1 - keep_prob`.\n",
            "Train on 94319 samples, validate on 40423 samples\n",
            "WARNING:tensorflow:From /usr/local/lib/python3.6/dist-packages/tensorflow/python/ops/math_ops.py:3066: to_int32 (from tensorflow.python.ops.math_ops) is deprecated and will be removed in a future version.\n",
            "Instructions for updating:\n",
            "Use tf.cast instead.\n",
            "Epoch 1/20\n",
            "94319/94319 [==============================] - 93s 989us/sample - loss: 0.8582 - acc: 0.7232 - val_loss: 0.7067 - val_acc: 0.7766\n",
            "Epoch 2/20\n",
            "94319/94319 [==============================] - 92s 976us/sample - loss: 0.6154 - acc: 0.8284 - val_loss: 0.6505 - val_acc: 0.8083\n",
            "Epoch 3/20\n",
            "94319/94319 [==============================] - 92s 975us/sample - loss: 0.5234 - acc: 0.8726 - val_loss: 0.6268 - val_acc: 0.8221\n",
            "Epoch 4/20\n",
            "94319/94319 [==============================] - 92s 975us/sample - loss: 0.4389 - acc: 0.9030 - val_loss: 0.6531 - val_acc: 0.8264\n"
          ],
          "name": "stdout"
        },
        {
          "output_type": "stream",
          "text": [
            "\r 33%|███▎      | 1/3 [06:14<12:28, 374.15s/it]"
          ],
          "name": "stderr"
        },
        {
          "output_type": "stream",
          "text": [
            "Train on 94319 samples, validate on 40423 samples\n",
            "Epoch 1/20\n",
            "94319/94319 [==============================] - 93s 989us/sample - loss: 0.8565 - acc: 0.7195 - val_loss: 0.6680 - val_acc: 0.7951\n",
            "Epoch 2/20\n",
            "94319/94319 [==============================] - 93s 983us/sample - loss: 0.6070 - acc: 0.8281 - val_loss: 0.6237 - val_acc: 0.8203\n",
            "Epoch 3/20\n",
            "94319/94319 [==============================] - 92s 973us/sample - loss: 0.5242 - acc: 0.8675 - val_loss: 0.6264 - val_acc: 0.8229\n",
            "Epoch 4/20\n",
            "94319/94319 [==============================] - 91s 969us/sample - loss: 0.4439 - acc: 0.8993 - val_loss: 0.6686 - val_acc: 0.8243\n"
          ],
          "name": "stdout"
        },
        {
          "output_type": "stream",
          "text": [
            "\r 67%|██████▋   | 2/3 [12:25<06:13, 373.44s/it]"
          ],
          "name": "stderr"
        },
        {
          "output_type": "stream",
          "text": [
            "Train on 94319 samples, validate on 40423 samples\n",
            "Epoch 1/20\n",
            "94319/94319 [==============================] - 93s 990us/sample - loss: 1.3882 - acc: 0.5843 - val_loss: 1.0340 - val_acc: 0.6761\n",
            "Epoch 2/20\n",
            "94319/94319 [==============================] - 92s 977us/sample - loss: 0.9704 - acc: 0.6942 - val_loss: 0.9034 - val_acc: 0.7078\n",
            "Epoch 3/20\n",
            "94319/94319 [==============================] - 92s 977us/sample - loss: 0.8659 - acc: 0.7277 - val_loss: 0.8483 - val_acc: 0.7206\n",
            "Epoch 4/20\n",
            "94319/94319 [==============================] - 92s 976us/sample - loss: 0.8003 - acc: 0.7502 - val_loss: 0.8112 - val_acc: 0.7337\n",
            "Epoch 5/20\n",
            "94319/94319 [==============================] - 93s 981us/sample - loss: 0.7532 - acc: 0.7641 - val_loss: 0.7812 - val_acc: 0.7395\n",
            "Epoch 6/20\n",
            "94319/94319 [==============================] - 92s 980us/sample - loss: 0.7133 - acc: 0.7794 - val_loss: 0.7633 - val_acc: 0.7466\n",
            "Epoch 7/20\n",
            "94319/94319 [==============================] - 93s 982us/sample - loss: 0.6784 - acc: 0.7917 - val_loss: 0.7483 - val_acc: 0.7509\n",
            "Epoch 8/20\n",
            "94319/94319 [==============================] - 92s 979us/sample - loss: 0.6477 - acc: 0.8031 - val_loss: 0.7317 - val_acc: 0.7543\n"
          ],
          "name": "stdout"
        },
        {
          "output_type": "stream",
          "text": [
            "\r100%|██████████| 3/3 [24:50<00:00, 484.78s/it]\n"
          ],
          "name": "stderr"
        }
      ]
    },
    {
      "metadata": {
        "id": "i2IXFcoSi38U",
        "colab_type": "code",
        "outputId": "2c0b6bb9-10ca-4b69-f181-355c2e332ff9",
        "colab": {
          "base_uri": "https://localhost:8080/",
          "height": 142
        }
      },
      "cell_type": "code",
      "source": [
        "t.data"
      ],
      "execution_count": 0,
      "outputs": [
        {
          "output_type": "execute_result",
          "data": {
            "text/html": [
              "<div>\n",
              "<style scoped>\n",
              "    .dataframe tbody tr th:only-of-type {\n",
              "        vertical-align: middle;\n",
              "    }\n",
              "\n",
              "    .dataframe tbody tr th {\n",
              "        vertical-align: top;\n",
              "    }\n",
              "\n",
              "    .dataframe thead th {\n",
              "        text-align: right;\n",
              "    }\n",
              "</style>\n",
              "<table border=\"1\" class=\"dataframe\">\n",
              "  <thead>\n",
              "    <tr style=\"text-align: right;\">\n",
              "      <th></th>\n",
              "      <th>round_epochs</th>\n",
              "      <th>loss</th>\n",
              "      <th>acc</th>\n",
              "      <th>val_loss</th>\n",
              "      <th>val_acc</th>\n",
              "      <th>optimizer</th>\n",
              "      <th>lr</th>\n",
              "    </tr>\n",
              "  </thead>\n",
              "  <tbody>\n",
              "    <tr>\n",
              "      <th>0</th>\n",
              "      <td>4</td>\n",
              "      <td>0.43889144828694954</td>\n",
              "      <td>0.90301</td>\n",
              "      <td>0.626791067865452</td>\n",
              "      <td>0.82643545</td>\n",
              "      <td>&lt;class 'tensorflow.python.keras.optimizers.Nad...</td>\n",
              "      <td>0.001</td>\n",
              "    </tr>\n",
              "    <tr>\n",
              "      <th>1</th>\n",
              "      <td>4</td>\n",
              "      <td>0.44387613860525615</td>\n",
              "      <td>0.89932036</td>\n",
              "      <td>0.623676198536764</td>\n",
              "      <td>0.82425845</td>\n",
              "      <td>&lt;class 'tensorflow.python.keras.optimizers.Adam'&gt;</td>\n",
              "      <td>0.001</td>\n",
              "    </tr>\n",
              "    <tr>\n",
              "      <th>2</th>\n",
              "      <td>8</td>\n",
              "      <td>0.6476933200893289</td>\n",
              "      <td>0.8030726</td>\n",
              "      <td>0.7316609426794308</td>\n",
              "      <td>0.754323</td>\n",
              "      <td>&lt;class 'tensorflow.python.keras.optimizers.Ada...</td>\n",
              "      <td>0.001</td>\n",
              "    </tr>\n",
              "  </tbody>\n",
              "</table>\n",
              "</div>"
            ],
            "text/plain": [
              "  round_epochs                 loss         acc            val_loss  \\\n",
              "0            4  0.43889144828694954     0.90301   0.626791067865452   \n",
              "1            4  0.44387613860525615  0.89932036   0.623676198536764   \n",
              "2            8   0.6476933200893289   0.8030726  0.7316609426794308   \n",
              "\n",
              "      val_acc                                          optimizer     lr  \n",
              "0  0.82643545  <class 'tensorflow.python.keras.optimizers.Nad...  0.001  \n",
              "1  0.82425845  <class 'tensorflow.python.keras.optimizers.Adam'>  0.001  \n",
              "2    0.754323  <class 'tensorflow.python.keras.optimizers.Ada...  0.001  "
            ]
          },
          "metadata": {
            "tags": []
          },
          "execution_count": 21
        }
      ]
    },
    {
      "metadata": {
        "id": "Z60gA0P4fM8t",
        "colab_type": "code",
        "outputId": "56699667-70ba-44dc-80ca-47b84378351b",
        "colab": {
          "base_uri": "https://localhost:8080/",
          "height": 153
        }
      },
      "cell_type": "code",
      "source": [
        "t.data.loc[0]"
      ],
      "execution_count": 0,
      "outputs": [
        {
          "output_type": "execute_result",
          "data": {
            "text/plain": [
              "round_epochs                                                    4\n",
              "loss                                          0.43889144828694954\n",
              "acc                                                       0.90301\n",
              "val_loss                                        0.626791067865452\n",
              "val_acc                                                0.82643545\n",
              "optimizer       <class 'tensorflow.python.keras.optimizers.Nad...\n",
              "lr                                                          0.001\n",
              "Name: 0, dtype: object"
            ]
          },
          "metadata": {
            "tags": []
          },
          "execution_count": 22
        }
      ]
    },
    {
      "metadata": {
        "id": "FB3fOPpF9nLS",
        "colab_type": "code",
        "colab": {}
      },
      "cell_type": "code",
      "source": [
        ""
      ],
      "execution_count": 0,
      "outputs": []
    }
  ]
}