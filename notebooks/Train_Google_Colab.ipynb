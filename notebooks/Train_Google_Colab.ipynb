{
  "nbformat": 4,
  "nbformat_minor": 0,
  "metadata": {
    "colab": {
      "name": "Train_Google_Colab.ipynb",
      "version": "0.3.2",
      "provenance": [],
      "collapsed_sections": [
        "M1RK9vtpBVGd",
        "OMApMHOldZty"
      ]
    },
    "kernelspec": {
      "name": "python3",
      "display_name": "Python 3"
    },
    "accelerator": "TPU"
  },
  "cells": [
    {
      "cell_type": "code",
      "metadata": {
        "id": "leag2SIuKQ6H",
        "colab_type": "code",
        "outputId": "ca500a9c-6c2b-47b1-8c45-ca6e649f9add",
        "colab": {
          "base_uri": "https://localhost:8080/",
          "height": 125
        }
      },
      "source": [
        "from google.colab import drive\n",
        "drive.mount('/content/drive')"
      ],
      "execution_count": 3,
      "outputs": [
        {
          "output_type": "stream",
          "text": [
            "Go to this URL in a browser: https://accounts.google.com/o/oauth2/auth?client_id=947318989803-6bn6qk8qdgf4n4g3pfee6491hc0brc4i.apps.googleusercontent.com&redirect_uri=urn%3Aietf%3Awg%3Aoauth%3A2.0%3Aoob&scope=email%20https%3A%2F%2Fwww.googleapis.com%2Fauth%2Fdocs.test%20https%3A%2F%2Fwww.googleapis.com%2Fauth%2Fdrive%20https%3A%2F%2Fwww.googleapis.com%2Fauth%2Fdrive.photos.readonly%20https%3A%2F%2Fwww.googleapis.com%2Fauth%2Fpeopleapi.readonly&response_type=code\n",
            "\n",
            "Enter your authorization code:\n",
            "··········\n",
            "Mounted at /content/drive\n"
          ],
          "name": "stdout"
        }
      ]
    },
    {
      "cell_type": "code",
      "metadata": {
        "id": "RZPgJIeHd7Ki",
        "colab_type": "code",
        "outputId": "c8cd8bfc-eb4b-45bc-b471-818c961de21b",
        "colab": {
          "base_uri": "https://localhost:8080/",
          "height": 125
        }
      },
      "source": [
        "!pip install --upgrade pandas\n",
        "\n",
        "#!pip install talos\n",
        "#!pip install statsmodels -U\n",
        "#!pip install --upgrade pytest"
      ],
      "execution_count": 4,
      "outputs": [
        {
          "output_type": "stream",
          "text": [
            "Requirement already up-to-date: pandas in /usr/local/lib/python3.6/dist-packages (0.24.2)\n",
            "Requirement already satisfied, skipping upgrade: numpy>=1.12.0 in /usr/local/lib/python3.6/dist-packages (from pandas) (1.16.3)\n",
            "Requirement already satisfied, skipping upgrade: python-dateutil>=2.5.0 in /usr/local/lib/python3.6/dist-packages (from pandas) (2.5.3)\n",
            "Requirement already satisfied, skipping upgrade: pytz>=2011k in /usr/local/lib/python3.6/dist-packages (from pandas) (2018.9)\n",
            "Requirement already satisfied, skipping upgrade: six>=1.5 in /usr/local/lib/python3.6/dist-packages (from python-dateutil>=2.5.0->pandas) (1.12.0)\n"
          ],
          "name": "stdout"
        }
      ]
    },
    {
      "cell_type": "code",
      "metadata": {
        "id": "HSTFCp3TLOyY",
        "colab_type": "code",
        "outputId": "d776f3e7-af32-471b-9302-0b9c42b8f4c7",
        "colab": {
          "base_uri": "https://localhost:8080/",
          "height": 52
        }
      },
      "source": [
        "!ls \"drive/My Drive/Colab Notebooks/data\""
      ],
      "execution_count": 5,
      "outputs": [
        {
          "output_type": "stream",
          "text": [
            "data_kaggle_proc.pickle\t\t       news_getting_real.pickle\n",
            "GoogleNews-vectors-negative300.bin.gz  news_proc_12_3_19.pickle\n"
          ],
          "name": "stdout"
        }
      ]
    },
    {
      "cell_type": "markdown",
      "metadata": {
        "id": "L4ox1E4A-NIx",
        "colab_type": "text"
      },
      "source": [
        "# Imports, loads , Train/test split and Optimum params\n",
        "---"
      ]
    },
    {
      "cell_type": "code",
      "metadata": {
        "id": "Pxs1baLTJsxl",
        "colab_type": "code",
        "colab": {}
      },
      "source": [
        "import pandas as pd\n",
        "import numpy as np\n",
        "\n",
        "#Progress bars\n",
        "from tqdm import tqdm\n",
        "tqdm.pandas()\n",
        "\n",
        "#Paralelize pandas apply on multiple cores\n",
        "#import swifter\n",
        "\n",
        "from matplotlib import pyplot as plt\n",
        "from matplotlib import style\n",
        "#Nicer style\n",
        "style.use('seaborn')\n",
        "import seaborn as sns\n",
        "\n",
        "from tensorflow import keras as k\n",
        "\n",
        "from sklearn.model_selection import train_test_split\n",
        "\n",
        "from gensim.models import KeyedVectors\n",
        "\n",
        "from sklearn.metrics import accuracy_score, confusion_matrix, classification_report"
      ],
      "execution_count": 0,
      "outputs": []
    },
    {
      "cell_type": "code",
      "metadata": {
        "id": "E-i6JPxjKGaz",
        "colab_type": "code",
        "colab": {}
      },
      "source": [
        "data = pd.read_pickle('drive/My Drive/Colab Notebooks/data/news_proc_12_3_19.pickle')#.reset_index()\n",
        "data = data.dropna()"
      ],
      "execution_count": 0,
      "outputs": []
    },
    {
      "cell_type": "markdown",
      "metadata": {
        "id": "ytOekwMDE9Pi",
        "colab_type": "text"
      },
      "source": [
        "Labels asignadas a los tipos"
      ]
    },
    {
      "cell_type": "code",
      "metadata": {
        "id": "oxDrPOrlCONc",
        "colab_type": "code",
        "outputId": "004da2bf-160e-466a-c365-541c4635b402",
        "colab": {
          "base_uri": "https://localhost:8080/",
          "height": 87
        }
      },
      "source": [
        "types = data['type'].unique()\n",
        "for t in types:\n",
        "    print(\"{} - {}\".format(t, data[data['type'] == t].head(1)['one_hot_label'].iloc[0]))"
      ],
      "execution_count": 8,
      "outputs": [
        {
          "output_type": "stream",
          "text": [
            "bias - [1 0 0 0]\n",
            "click - [0 1 0 0]\n",
            "fake - [0 0 1 0]\n",
            "truth - [0 0 0 1]\n"
          ],
          "name": "stdout"
        }
      ]
    },
    {
      "cell_type": "code",
      "metadata": {
        "id": "p2Rb1d_iMRo4",
        "colab_type": "code",
        "outputId": "4cb68493-84f0-4468-ef8a-114a0fa275bf",
        "colab": {
          "base_uri": "https://localhost:8080/",
          "height": 52
        }
      },
      "source": [
        "len_content = len(data['content'][0])\n",
        "len_title = len(data['title'][0])\n",
        "\n",
        "print(\"Max len content: {}\".format(len_content))\n",
        "print(\"Max len title: {}\".format(len_title))"
      ],
      "execution_count": 9,
      "outputs": [
        {
          "output_type": "stream",
          "text": [
            "Max len content: 1598\n",
            "Max len title: 13\n"
          ],
          "name": "stdout"
        }
      ]
    },
    {
      "cell_type": "code",
      "metadata": {
        "id": "42yvXt6pdWtl",
        "colab_type": "code",
        "colab": {}
      },
      "source": [
        ""
      ],
      "execution_count": 0,
      "outputs": []
    },
    {
      "cell_type": "code",
      "metadata": {
        "id": "obS9w_bsMeCf",
        "colab_type": "code",
        "colab": {}
      },
      "source": [
        "model = KeyedVectors.load_word2vec_format(\"drive/My Drive/Colab Notebooks/data/GoogleNews-vectors-negative300.bin.gz\", binary=True, limit=50000)"
      ],
      "execution_count": 0,
      "outputs": []
    },
    {
      "cell_type": "code",
      "metadata": {
        "id": "kq7N1l62dYve",
        "colab_type": "code",
        "colab": {}
      },
      "source": [
        "embed_mat = np.zeros((50000,300))\n",
        "for i, e in model.vocab.items():\n",
        "    embed_mat[e.index] = model[i]"
      ],
      "execution_count": 0,
      "outputs": []
    },
    {
      "cell_type": "markdown",
      "metadata": {
        "id": "Wbfhe0Txddio",
        "colab_type": "text"
      },
      "source": [
        "**Tran/valid/test split**"
      ]
    },
    {
      "cell_type": "code",
      "metadata": {
        "id": "cq-wi-x6ddtd",
        "colab_type": "code",
        "colab": {}
      },
      "source": [
        "#Train - test\n",
        "X_train, X_test, y_train, y_test = train_test_split(\n",
        "    data[['content', 'title']], data['one_hot_label'], test_size=0.3, random_state=1)\n",
        "\n",
        "#Train - valid\n",
        "X_train, X_valid, y_train, y_valid = train_test_split(\n",
        "    X_train, y_train, test_size=0.3, random_state=1)"
      ],
      "execution_count": 0,
      "outputs": []
    },
    {
      "cell_type": "code",
      "metadata": {
        "id": "WxjsZziCddwE",
        "colab_type": "code",
        "colab": {}
      },
      "source": [
        "X_train_title = X_train['title']\n",
        "X_train_content = X_train['content']\n",
        "\n",
        "X_valid_title = X_valid['title']\n",
        "X_valid_content = X_valid['content']\n",
        "\n",
        "X_test_title = X_test['title']\n",
        "X_test_content = X_test['content']"
      ],
      "execution_count": 0,
      "outputs": []
    },
    {
      "cell_type": "code",
      "metadata": {
        "id": "kOmvVOCofAl2",
        "colab_type": "code",
        "colab": {}
      },
      "source": [
        "train_fit = [np.asarray(X_train_title.tolist()), \n",
        "             np.asarray(X_train_content.tolist())]\n",
        "\n",
        "valid_fit = [np.asarray(X_valid_title.tolist()), \n",
        "             np.asarray(X_valid_content.tolist())]\n",
        "\n",
        "test_fit = [np.asarray(X_test_title.tolist()), \n",
        "             np.asarray(X_test_content.tolist())]"
      ],
      "execution_count": 0,
      "outputs": []
    },
    {
      "cell_type": "code",
      "metadata": {
        "id": "Fiv0BWnBddy0",
        "colab_type": "code",
        "colab": {}
      },
      "source": [
        "del data\n",
        "del X_train_title, X_train_content\n",
        "del X_valid_title, X_valid_content\n",
        "del X_test_title, X_test_content"
      ],
      "execution_count": 0,
      "outputs": []
    },
    {
      "cell_type": "code",
      "metadata": {
        "id": "slVgLTa1HRmG",
        "colab_type": "code",
        "colab": {}
      },
      "source": [
        ""
      ],
      "execution_count": 0,
      "outputs": []
    },
    {
      "cell_type": "markdown",
      "metadata": {
        "id": "YwYAV_H128f6",
        "colab_type": "text"
      },
      "source": [
        "## Optimum Params found with Bayesian Optimization"
      ]
    },
    {
      "cell_type": "code",
      "metadata": {
        "id": "xKsXmH1t3IkD",
        "colab_type": "code",
        "colab": {}
      },
      "source": [
        "# Optimum params for LSTM network\n",
        "params_lstm = {\n",
        "    'lr': 0.2639850638741692,\n",
        "    'momentum': 0.08255873365806747,\n",
        "    'dropout': 0.10591561319817788,\n",
        "    'dense1': 73,\n",
        "    'dense2': 24,\n",
        "    'lstmTitle': 46,\n",
        "    'lstmContent': 231\n",
        "}\n",
        "\n",
        "\n",
        "#Optimum params for CNN network\n",
        "params_cnn = {\n",
        "    'lr': 0.23993334664040306,\n",
        "    'momentum': 0.30361299021107185,\n",
        "    'dropout1': 0.10993063833594595,\n",
        "    'dropout2': 0.1586041045258562,\n",
        "    'filters1Title': 8,\n",
        "    'denseTitle': 42,\n",
        "    'filtersContent': 6,\n",
        "    'denseContent': 34\n",
        "}"
      ],
      "execution_count": 0,
      "outputs": []
    },
    {
      "cell_type": "code",
      "metadata": {
        "id": "vZEvZo6hLFG2",
        "colab_type": "code",
        "colab": {}
      },
      "source": [
        "#Some imports...\n",
        "import tensorflow as tf\n",
        "import os\n",
        "\n",
        "from numpy.random import seed\n",
        "from tensorflow import set_random_seed"
      ],
      "execution_count": 0,
      "outputs": []
    },
    {
      "cell_type": "markdown",
      "metadata": {
        "id": "zEtJ9bG1e2rI",
        "colab_type": "text"
      },
      "source": [
        "# LSTM"
      ]
    },
    {
      "cell_type": "code",
      "metadata": {
        "id": "gmGzzoGWNES6",
        "colab_type": "code",
        "colab": {}
      },
      "source": [
        "seed(50)\n",
        "set_random_seed(50)\n",
        "k.backend.clear_session()"
      ],
      "execution_count": 0,
      "outputs": []
    },
    {
      "cell_type": "code",
      "metadata": {
        "id": "EmtrvI5peiTA",
        "colab_type": "code",
        "outputId": "ffd62414-d214-4a7f-a861-1948a791dc80",
        "colab": {
          "base_uri": "https://localhost:8080/",
          "height": 585
        }
      },
      "source": [
        "#input_title\n",
        "title_input = k.layers.Input(shape=(len_title,), name='title_input')\n",
        "inp = k.layers.Embedding(output_dim=300, input_dim=50000, \n",
        "                         weights=[embed_mat], trainable=False)(title_input)\n",
        "x = k.layers.Bidirectional(k.layers.LSTM(params_lstm['lstmTitle']))(inp)\n",
        "#CudnnLSTM\n",
        "#x = k.layers.Bidirectional(k.layers.CuDNNLSTM(params_lstm['lstmTitle']))(inp)\n",
        "\n",
        "#input_content\n",
        "content_input = k.layers.Input(shape=(len_content,), name='content_input')\n",
        "inp2 = k.layers.Embedding(output_dim=300, input_dim=50000, \n",
        "                         weights=[embed_mat], trainable=False)(content_input)\n",
        "x2 = k.layers.Bidirectional(k.layers.LSTM(params_lstm['lstmContent']))(inp2)\n",
        "#CudnnLSTM\n",
        "#x2 = k.layers.Bidirectional(k.layers.CuDNNLSTM(params_lstm['lstmContent']))(inp2)\n",
        "\n",
        "#Merge\n",
        "x = k.layers.concatenate([x, x2])\n",
        "\n",
        "\n",
        "#Common part\n",
        "x = k.layers.Dense(params_lstm['dense1'], activation='relu')(x)\n",
        "x = k.layers.Dropout(params_lstm['dropout'])(x)\n",
        "x = k.layers.Dense(params_lstm['dense2'], activation='relu')(x)\n",
        "x = k.layers.Dropout(0.2)(x)\n",
        "\n",
        "out = k.layers.Dense(4, activation='softmax')(x)\n",
        "\n",
        "#Build model\n",
        "model = k.models.Model(inputs=[title_input, content_input], outputs=[out])\n",
        "\n",
        "#model.compile(k.optimizers.SGD(lr=params_lstm['lr'], \n",
        "#                               momentum=params_lstm['momentum']), \n",
        "#                               loss='categorical_crossentropy', metrics=['acc'])\n",
        "\n",
        "model.compile(tf.train.MomentumOptimizer(learning_rate=params_lstm['lr'], \n",
        "                                         momentum=params_lstm['momentum']), \n",
        "                                         loss='categorical_crossentropy', metrics=['acc'])\n",
        "\n",
        "model.summary()"
      ],
      "execution_count": 27,
      "outputs": [
        {
          "output_type": "stream",
          "text": [
            "__________________________________________________________________________________________________\n",
            "Layer (type)                    Output Shape         Param #     Connected to                     \n",
            "==================================================================================================\n",
            "title_input (InputLayer)        (None, 13)           0                                            \n",
            "__________________________________________________________________________________________________\n",
            "content_input (InputLayer)      (None, 1598)         0                                            \n",
            "__________________________________________________________________________________________________\n",
            "embedding (Embedding)           (None, 13, 300)      15000000    title_input[0][0]                \n",
            "__________________________________________________________________________________________________\n",
            "embedding_1 (Embedding)         (None, 1598, 300)    15000000    content_input[0][0]              \n",
            "__________________________________________________________________________________________________\n",
            "bidirectional (Bidirectional)   (None, 92)           127696      embedding[0][0]                  \n",
            "__________________________________________________________________________________________________\n",
            "bidirectional_1 (Bidirectional) (None, 462)          983136      embedding_1[0][0]                \n",
            "__________________________________________________________________________________________________\n",
            "concatenate (Concatenate)       (None, 554)          0           bidirectional[0][0]              \n",
            "                                                                 bidirectional_1[0][0]            \n",
            "__________________________________________________________________________________________________\n",
            "dense (Dense)                   (None, 73)           40515       concatenate[0][0]                \n",
            "__________________________________________________________________________________________________\n",
            "dropout (Dropout)               (None, 73)           0           dense[0][0]                      \n",
            "__________________________________________________________________________________________________\n",
            "dense_1 (Dense)                 (None, 24)           1776        dropout[0][0]                    \n",
            "__________________________________________________________________________________________________\n",
            "dropout_1 (Dropout)             (None, 24)           0           dense_1[0][0]                    \n",
            "__________________________________________________________________________________________________\n",
            "dense_2 (Dense)                 (None, 4)            100         dropout_1[0][0]                  \n",
            "==================================================================================================\n",
            "Total params: 31,153,223\n",
            "Trainable params: 1,153,223\n",
            "Non-trainable params: 30,000,000\n",
            "__________________________________________________________________________________________________\n"
          ],
          "name": "stdout"
        }
      ]
    },
    {
      "cell_type": "code",
      "metadata": {
        "id": "uTXKdQRWNJnP",
        "colab_type": "code",
        "outputId": "bec3b256-5574-4ecd-c3b7-113629400dd9",
        "colab": {
          "base_uri": "https://localhost:8080/",
          "height": 338
        }
      },
      "source": [
        "#Optimize TPU\n",
        "\n",
        "# This address identifies the TPU we'll use when configuring TensorFlow.\n",
        "TPU_WORKER = 'grpc://' + os.environ['COLAB_TPU_ADDR']\n",
        "tf.logging.set_verbosity(tf.logging.INFO)\n",
        "\n",
        "tpu_model = tf.contrib.tpu.keras_to_tpu_model(\n",
        "    model,\n",
        "    strategy=tf.contrib.tpu.TPUDistributionStrategy(\n",
        "        tf.contrib.cluster_resolver.TPUClusterResolver(TPU_WORKER)))"
      ],
      "execution_count": 28,
      "outputs": [
        {
          "output_type": "stream",
          "text": [
            "INFO:tensorflow:Querying Tensorflow master (grpc://10.76.19.42:8470) for TPU system metadata.\n",
            "INFO:tensorflow:Found TPU system:\n",
            "INFO:tensorflow:*** Num TPU Cores: 8\n",
            "INFO:tensorflow:*** Num TPU Workers: 1\n",
            "INFO:tensorflow:*** Num TPU Cores Per Worker: 8\n",
            "INFO:tensorflow:*** Available Device: _DeviceAttributes(/job:worker/replica:0/task:0/device:CPU:0, CPU, -1, 5058697947999746764)\n",
            "INFO:tensorflow:*** Available Device: _DeviceAttributes(/job:worker/replica:0/task:0/device:XLA_CPU:0, XLA_CPU, 17179869184, 5397014236453939044)\n",
            "INFO:tensorflow:*** Available Device: _DeviceAttributes(/job:worker/replica:0/task:0/device:TPU:0, TPU, 17179869184, 4296788964555081811)\n",
            "INFO:tensorflow:*** Available Device: _DeviceAttributes(/job:worker/replica:0/task:0/device:TPU:1, TPU, 17179869184, 2734136418576734237)\n",
            "INFO:tensorflow:*** Available Device: _DeviceAttributes(/job:worker/replica:0/task:0/device:TPU:2, TPU, 17179869184, 3982772744589886510)\n",
            "INFO:tensorflow:*** Available Device: _DeviceAttributes(/job:worker/replica:0/task:0/device:TPU:3, TPU, 17179869184, 8095993573722723823)\n",
            "INFO:tensorflow:*** Available Device: _DeviceAttributes(/job:worker/replica:0/task:0/device:TPU:4, TPU, 17179869184, 13100623034547854841)\n",
            "INFO:tensorflow:*** Available Device: _DeviceAttributes(/job:worker/replica:0/task:0/device:TPU:5, TPU, 17179869184, 17612894728483013363)\n",
            "INFO:tensorflow:*** Available Device: _DeviceAttributes(/job:worker/replica:0/task:0/device:TPU:6, TPU, 17179869184, 17352649356081433189)\n",
            "INFO:tensorflow:*** Available Device: _DeviceAttributes(/job:worker/replica:0/task:0/device:TPU:7, TPU, 17179869184, 3310072508525013227)\n",
            "INFO:tensorflow:*** Available Device: _DeviceAttributes(/job:worker/replica:0/task:0/device:TPU_SYSTEM:0, TPU_SYSTEM, 17179869184, 7166493154858951579)\n",
            "WARNING:tensorflow:tpu_model (from tensorflow.contrib.tpu.python.tpu.keras_support) is experimental and may change or be removed at any time, and without warning.\n"
          ],
          "name": "stdout"
        }
      ]
    },
    {
      "cell_type": "code",
      "metadata": {
        "id": "fJOKKYYENQX4",
        "colab_type": "code",
        "colab": {}
      },
      "source": [
        "from tensorflow.keras.callbacks import ModelCheckpoint "
      ],
      "execution_count": 0,
      "outputs": []
    },
    {
      "cell_type": "code",
      "metadata": {
        "id": "9oh9jEgw1UE_",
        "colab_type": "code",
        "colab": {}
      },
      "source": [
        "#LSTM_CHECKPOINT_PATH = 'drive/My Drive/Colab Notebooks/weights/checkpoint-lstm.h5'\n",
        "#checkpoint = ModelCheckpoint(LSTM_CHECKPOINT_PATH, monitor='val_acc', verbose=1, save_best_only=True, mode='max')\n",
        "\n",
        "model = tpu_model"
      ],
      "execution_count": 0,
      "outputs": []
    },
    {
      "cell_type": "code",
      "metadata": {
        "id": "V8cmRP_yfCcL",
        "colab_type": "code",
        "outputId": "130e17fd-bdbb-4bac-e2cc-9d2f9c80799a",
        "colab": {
          "base_uri": "https://localhost:8080/",
          "height": 925
        }
      },
      "source": [
        "\n",
        "hist = model.fit(x=train_fit, y=np.asarray(y_train.tolist()), batch_size=64*8, epochs=30,\n",
        "          callbacks = [k.callbacks.EarlyStopping(monitor='val_acc', patience=2, min_delta = 0.01)], \n",
        "                 validation_data=(valid_fit, np.array(y_valid.tolist())))"
      ],
      "execution_count": 32,
      "outputs": [
        {
          "output_type": "stream",
          "text": [
            "Train on 94319 samples, validate on 40423 samples\n",
            "Epoch 1/30\n",
            "INFO:tensorflow:New input shapes; (re-)compiling: mode=train (# of cores 8), [TensorSpec(shape=(64,), dtype=tf.int32, name='core_id0'), TensorSpec(shape=(64, 13), dtype=tf.float32, name='title_input_10'), TensorSpec(shape=(64, 1598), dtype=tf.float32, name='content_input_10'), TensorSpec(shape=(64, 4), dtype=tf.float32, name='dense_2_target_30')]\n",
            "INFO:tensorflow:Overriding default placeholder.\n",
            "INFO:tensorflow:Remapping placeholder for title_input\n",
            "INFO:tensorflow:Remapping placeholder for content_input\n",
            "INFO:tensorflow:Started compiling\n",
            "INFO:tensorflow:Finished compiling. Time elapsed: 16.95206880569458 secs\n",
            "INFO:tensorflow:Setting weights on TPU model.\n",
            "93696/94319 [============================>.] - ETA: 1s - loss: 1.1538 - acc: 0.4937INFO:tensorflow:New input shapes; (re-)compiling: mode=train (# of cores 8), [TensorSpec(shape=(13,), dtype=tf.int32, name='core_id0'), TensorSpec(shape=(13, 13), dtype=tf.float32, name='title_input_10'), TensorSpec(shape=(13, 1598), dtype=tf.float32, name='content_input_10'), TensorSpec(shape=(13, 4), dtype=tf.float32, name='dense_2_target_30')]\n",
            "INFO:tensorflow:Overriding default placeholder.\n",
            "INFO:tensorflow:Remapping placeholder for title_input\n",
            "INFO:tensorflow:Remapping placeholder for content_input\n",
            "INFO:tensorflow:Started compiling\n",
            "INFO:tensorflow:Finished compiling. Time elapsed: 20.86259412765503 secs\n",
            "94208/94319 [============================>.] - ETA: 0s - loss: 1.1528 - acc: 0.4942INFO:tensorflow:New input shapes; (re-)compiling: mode=eval (# of cores 8), [TensorSpec(shape=(64,), dtype=tf.int32, name='core_id_10'), TensorSpec(shape=(64, 13), dtype=tf.float32, name='title_input_10'), TensorSpec(shape=(64, 1598), dtype=tf.float32, name='content_input_10'), TensorSpec(shape=(64, 4), dtype=tf.float32, name='dense_2_target_30')]\n",
            "INFO:tensorflow:Overriding default placeholder.\n",
            "INFO:tensorflow:Remapping placeholder for title_input\n",
            "INFO:tensorflow:Remapping placeholder for content_input\n",
            "INFO:tensorflow:Started compiling\n",
            "INFO:tensorflow:Finished compiling. Time elapsed: 34.31662559509277 secs\n",
            "INFO:tensorflow:New input shapes; (re-)compiling: mode=eval (# of cores 8), [TensorSpec(shape=(60,), dtype=tf.int32, name='core_id_10'), TensorSpec(shape=(60, 13), dtype=tf.float32, name='title_input_10'), TensorSpec(shape=(60, 1598), dtype=tf.float32, name='content_input_10'), TensorSpec(shape=(60, 4), dtype=tf.float32, name='dense_2_target_30')]\n",
            "INFO:tensorflow:Overriding default placeholder.\n",
            "INFO:tensorflow:Remapping placeholder for title_input\n",
            "INFO:tensorflow:Remapping placeholder for content_input\n",
            "INFO:tensorflow:Started compiling\n",
            "INFO:tensorflow:Finished compiling. Time elapsed: 45.47811484336853 secs\n",
            "94319/94319 [==============================] - 393s 4ms/sample - loss: 1.1526 - acc: 0.4943 - val_loss: 0.9237 - val_acc: 0.6234\n",
            "Epoch 2/30\n",
            "94319/94319 [==============================] - 205s 2ms/sample - loss: 0.8325 - acc: 0.6643 - val_loss: 0.8324 - val_acc: 0.6861\n",
            "Epoch 3/30\n",
            "94319/94319 [==============================] - 205s 2ms/sample - loss: 0.7569 - acc: 0.6983 - val_loss: 0.8213 - val_acc: 0.6739\n",
            "Epoch 4/30\n",
            "94319/94319 [==============================] - 205s 2ms/sample - loss: 0.6897 - acc: 0.7284 - val_loss: 0.6921 - val_acc: 0.7180\n",
            "Epoch 5/30\n",
            "94319/94319 [==============================] - 206s 2ms/sample - loss: 0.6882 - acc: 0.7272 - val_loss: 0.6454 - val_acc: 0.7405\n",
            "Epoch 6/30\n",
            "94319/94319 [==============================] - 205s 2ms/sample - loss: 0.6225 - acc: 0.7569 - val_loss: 0.6129 - val_acc: 0.7533\n",
            "Epoch 7/30\n",
            "94319/94319 [==============================] - 205s 2ms/sample - loss: 0.5980 - acc: 0.7677 - val_loss: 0.6567 - val_acc: 0.7350\n",
            "Epoch 8/30\n",
            "94319/94319 [==============================] - 205s 2ms/sample - loss: 0.5748 - acc: 0.7766 - val_loss: 0.5861 - val_acc: 0.7697\n",
            "Epoch 9/30\n",
            "94319/94319 [==============================] - 206s 2ms/sample - loss: 0.5565 - acc: 0.7841 - val_loss: 0.5729 - val_acc: 0.7733\n",
            "Epoch 10/30\n",
            "94319/94319 [==============================] - 205s 2ms/sample - loss: 0.5405 - acc: 0.7912 - val_loss: 0.5503 - val_acc: 0.7835\n",
            "Epoch 11/30\n",
            "94319/94319 [==============================] - 206s 2ms/sample - loss: 0.5285 - acc: 0.7953 - val_loss: 0.5361 - val_acc: 0.7880\n",
            "Epoch 12/30\n",
            "94319/94319 [==============================] - 206s 2ms/sample - loss: 0.5158 - acc: 0.8011 - val_loss: 0.6020 - val_acc: 0.7677\n"
          ],
          "name": "stdout"
        }
      ]
    },
    {
      "cell_type": "code",
      "metadata": {
        "id": "afWePEP1fdO1",
        "colab_type": "code",
        "outputId": "d6611a18-0b94-4758-893f-2b905f06e549",
        "colab": {
          "base_uri": "https://localhost:8080/",
          "height": 391
        }
      },
      "source": [
        "plt.figure(figsize=(16,6))\n",
        "plt.plot(hist.history['val_acc'], label='val_acc')\n",
        "plt.plot(hist.history['acc'], label='train_acc')\n",
        "plt.legend()"
      ],
      "execution_count": 33,
      "outputs": [
        {
          "output_type": "execute_result",
          "data": {
            "text/plain": [
              "<matplotlib.legend.Legend at 0x7f8f33dd7198>"
            ]
          },
          "metadata": {
            "tags": []
          },
          "execution_count": 33
        },
        {
          "output_type": "display_data",
          "data": {
            "image/png": "[encoded data removed]",
            "text/plain": [
              "<Figure size 1152x432 with 1 Axes>"
            ]
          },
          "metadata": {
            "tags": []
          }
        }
      ]
    },
    {
      "cell_type": "code",
      "metadata": {
        "id": "m2tHe8rekq2T",
        "colab_type": "code",
        "outputId": "c5d5f24a-7db1-4db2-e622-0e2caaa3341e",
        "colab": {
          "base_uri": "https://localhost:8080/",
          "height": 391
        }
      },
      "source": [
        "plt.figure(figsize=(16,6))\n",
        "plt.plot(hist.history['val_loss'], label='val_loss')\n",
        "plt.plot(hist.history['loss'], label='train_loss')\n",
        "plt.legend()"
      ],
      "execution_count": 34,
      "outputs": [
        {
          "output_type": "execute_result",
          "data": {
            "text/plain": [
              "<matplotlib.legend.Legend at 0x7f8f346126a0>"
            ]
          },
          "metadata": {
            "tags": []
          },
          "execution_count": 34
        },
        {
          "output_type": "display_data",
          "data": {
            "image/png": "[encoded data removed]",
            "text/plain": [
              "<Figure size 1152x432 with 1 Axes>"
            ]
          },
          "metadata": {
            "tags": []
          }
        }
      ]
    },
    {
      "cell_type": "code",
      "metadata": {
        "id": "JrTFC1bHksum",
        "colab_type": "code",
        "colab": {}
      },
      "source": [
        "#model = k.models.load_model(LSTM_CHECKPOINT_PATH)"
      ],
      "execution_count": 0,
      "outputs": []
    },
    {
      "cell_type": "code",
      "metadata": {
        "id": "oEdxTruQkmp0",
        "colab_type": "code",
        "colab": {
          "base_uri": "https://localhost:8080/",
          "height": 250
        },
        "outputId": "4ca42a2b-b381-45b0-8781-8850cd72a236"
      },
      "source": [
        "#For GPU\n",
        "#test_pred = model.predict(test_fit)\n",
        "\n",
        "#For TPU\n",
        "tpu_batch = [test_fit[0][:-3], test_fit[1][:-3]]\n",
        "test_pred = tpu_model.predict(tpu_batch, batch_size=32*8)"
      ],
      "execution_count": 36,
      "outputs": [
        {
          "output_type": "stream",
          "text": [
            "INFO:tensorflow:New input shapes; (re-)compiling: mode=infer (# of cores 8), [TensorSpec(shape=(32, 13), dtype=tf.float32, name='title_input_10'), TensorSpec(shape=(32, 1598), dtype=tf.float32, name='content_input_10')]\n",
            "INFO:tensorflow:Overriding default placeholder.\n",
            "INFO:tensorflow:Remapping placeholder for title_input\n",
            "INFO:tensorflow:Remapping placeholder for content_input\n",
            "INFO:tensorflow:Started compiling\n",
            "INFO:tensorflow:Finished compiling. Time elapsed: 36.83480477333069 secs\n",
            "INFO:tensorflow:New input shapes; (re-)compiling: mode=infer (# of cores 8), [TensorSpec(shape=(18, 13), dtype=tf.float32, name='title_input_10'), TensorSpec(shape=(18, 1598), dtype=tf.float32, name='content_input_10')]\n",
            "INFO:tensorflow:Overriding default placeholder.\n",
            "INFO:tensorflow:Remapping placeholder for title_input\n",
            "INFO:tensorflow:Remapping placeholder for content_input\n",
            "INFO:tensorflow:Started compiling\n",
            "INFO:tensorflow:Finished compiling. Time elapsed: 38.06903123855591 secs\n"
          ],
          "name": "stdout"
        }
      ]
    },
    {
      "cell_type": "code",
      "metadata": {
        "id": "o6J3nWEVnfB6",
        "colab_type": "code",
        "outputId": "560427f1-3ea9-4897-c4c7-f1c124dd54ce",
        "colab": {
          "base_uri": "https://localhost:8080/",
          "height": 34
        }
      },
      "source": [
        "#accuracy_score(np.array(y_test.tolist()), test_pred.round())\n",
        "accuracy_score(np.array(y_test.tolist()[:-3]), test_pred.round())"
      ],
      "execution_count": 39,
      "outputs": [
        {
          "output_type": "execute_result",
          "data": {
            "text/plain": [
              "0.7278851482405099"
            ]
          },
          "metadata": {
            "tags": []
          },
          "execution_count": 39
        }
      ]
    },
    {
      "cell_type": "code",
      "metadata": {
        "id": "AU_g82e4k4sV",
        "colab_type": "code",
        "outputId": "1dd8f68b-9bc2-4b7f-de5b-864186942a2f",
        "colab": {
          "base_uri": "https://localhost:8080/",
          "height": 285
        }
      },
      "source": [
        "#report = classification_report(np.array(y_test.tolist()), test_pred.round())\n",
        "report = classification_report(np.array(y_test.tolist()[:-3]), test_pred.round())\n",
        "print(report)"
      ],
      "execution_count": 40,
      "outputs": [
        {
          "output_type": "stream",
          "text": [
            "              precision    recall  f1-score   support\n",
            "\n",
            "           0       0.88      0.69      0.77     13497\n",
            "           1       0.84      0.80      0.82     14960\n",
            "           2       0.93      0.67      0.78     14429\n",
            "           3       0.71      0.75      0.73     14858\n",
            "\n",
            "   micro avg       0.83      0.73      0.78     57744\n",
            "   macro avg       0.84      0.73      0.78     57744\n",
            "weighted avg       0.84      0.73      0.78     57744\n",
            " samples avg       0.73      0.73      0.73     57744\n",
            "\n"
          ],
          "name": "stdout"
        },
        {
          "output_type": "stream",
          "text": [
            "/usr/local/lib/python3.6/dist-packages/sklearn/metrics/classification.py:1143: UndefinedMetricWarning: Precision and F-score are ill-defined and being set to 0.0 in samples with no predicted labels.\n",
            "  'precision', 'predicted', average, warn_for)\n"
          ],
          "name": "stderr"
        }
      ]
    },
    {
      "cell_type": "code",
      "metadata": {
        "id": "ITCuu9oQrXsh",
        "colab_type": "code",
        "outputId": "06b2460c-318d-4286-8cad-49f3c1eafcfd",
        "colab": {
          "base_uri": "https://localhost:8080/",
          "height": 438
        }
      },
      "source": [
        "#matrix = confusion_matrix(np.array(y_test.tolist()).argmax(axis=1), test_pred.round().argmax(axis=1))\n",
        "matrix = confusion_matrix(np.array(y_test.tolist()[:-3]).argmax(axis=1), test_pred.round().argmax(axis=1))\n",
        "print(matrix)\n",
        "\n",
        "df_cm = pd.DataFrame(matrix, columns=['clickbait', 'bias', 'true', 'fake'], index=['clickbait', 'bias', 'true', 'fake'])\n",
        "sns.heatmap(df_cm, annot=True)"
      ],
      "execution_count": 42,
      "outputs": [
        {
          "output_type": "stream",
          "text": [
            "[[11069   578   288  1562]\n",
            " [ 1599 12040    87  1234]\n",
            " [ 2437   694  9644  1654]\n",
            " [ 2442   989   330 11097]]\n"
          ],
          "name": "stdout"
        },
        {
          "output_type": "execute_result",
          "data": {
            "text/plain": [
              "<matplotlib.axes._subplots.AxesSubplot at 0x7f8f237a34a8>"
            ]
          },
          "metadata": {
            "tags": []
          },
          "execution_count": 42
        },
        {
          "output_type": "display_data",
          "data": {
            "image/png": "[encoded data removed]",
            "text/plain": [
              "<Figure size 576x396 with 2 Axes>"
            ]
          },
          "metadata": {
            "tags": []
          }
        }
      ]
    },
    {
      "cell_type": "code",
      "metadata": {
        "id": "Y2GplJCCkpIr",
        "colab_type": "code",
        "colab": {}
      },
      "source": [
        "LSTM_PATH = 'drive/My Drive/Colab Notebooks/weights/lstm.h5'"
      ],
      "execution_count": 0,
      "outputs": []
    },
    {
      "cell_type": "code",
      "metadata": {
        "id": "uJWubqazmhcF",
        "colab_type": "code",
        "colab": {
          "base_uri": "https://localhost:8080/",
          "height": 72
        },
        "outputId": "0d423fe5-0555-4efd-f068-ab9673dcd88e"
      },
      "source": [
        "model.save(LSTM_PATH)"
      ],
      "execution_count": 44,
      "outputs": [
        {
          "output_type": "stream",
          "text": [
            "INFO:tensorflow:Copying TPU weights to the CPU\n",
            "WARNING:tensorflow:TensorFlow optimizers do not make it possible to access optimizer attributes or optimizer state after instantiation. As a result, we cannot save the optimizer as part of the model save file.You will have to compile your model again after loading it. Prefer using a Keras optimizer instead (see keras.io/optimizers).\n"
          ],
          "name": "stdout"
        }
      ]
    },
    {
      "cell_type": "markdown",
      "metadata": {
        "id": "4FYWY3ctU2mS",
        "colab_type": "text"
      },
      "source": [
        "Ahora podemos predecir con un modelo que funcione de manera no distribuida. El ```batch_size``` puede ser de 1 otra vez, en vez de tener que ser múltiplo de 8."
      ]
    },
    {
      "cell_type": "code",
      "metadata": {
        "id": "T8ttO3YsVyhv",
        "colab_type": "code",
        "colab": {}
      },
      "source": [
        "m = tf.keras.models.load_model(LSTM_PATH)\n",
        "m.compile(tf.keras.optimizers.Adam(), loss='categorical_crossentropy')\n",
        "test_pred = m.predict(test_fit)\n",
        "matrix = confusion_matrix(np.array(y_test.tolist()).argmax(axis=1), test_pred.round().argmax(axis=1))\n",
        "print(matrix)\n",
        "\n",
        "df_cm = pd.DataFrame(matrix, columns=['clickbait', 'bias', 'true', 'fake'], index=['clickbait', 'bias', 'true', 'fake'])\n",
        "sns.heatmap(df_cm, annot=True)"
      ],
      "execution_count": 0,
      "outputs": []
    },
    {
      "cell_type": "code",
      "metadata": {
        "id": "0aORz-UiVezv",
        "colab_type": "code",
        "colab": {}
      },
      "source": [
        ""
      ],
      "execution_count": 0,
      "outputs": []
    },
    {
      "cell_type": "code",
      "metadata": {
        "id": "K87YDtJqeGk1",
        "colab_type": "code",
        "colab": {
          "base_uri": "https://localhost:8080/",
          "height": 440
        },
        "outputId": "a4c4838b-1ecd-4937-b31a-7a449740850c"
      },
      "source": [
        ""
      ],
      "execution_count": 52,
      "outputs": [
        {
          "output_type": "stream",
          "text": [
            "[[11117   544   303  1533]\n",
            " [ 1664 11983    89  1224]\n",
            " [ 2470   693  9664  1603]\n",
            " [ 2511   999   364 10986]]\n"
          ],
          "name": "stdout"
        },
        {
          "output_type": "execute_result",
          "data": {
            "text/plain": [
              "<matplotlib.axes._subplots.AxesSubplot at 0x7f8f239285c0>"
            ]
          },
          "metadata": {
            "tags": []
          },
          "execution_count": 52
        },
        {
          "output_type": "display_data",
          "data": {
            "image/png": "[encoded data removed]",
            "text/plain": [
              "<Figure size 576x396 with 2 Axes>"
            ]
          },
          "metadata": {
            "tags": []
          }
        }
      ]
    },
    {
      "cell_type": "markdown",
      "metadata": {
        "id": "M1RK9vtpBVGd",
        "colab_type": "text"
      },
      "source": [
        "#Redes convolucionales"
      ]
    },
    {
      "cell_type": "code",
      "metadata": {
        "id": "hn15giBn6pSY",
        "colab_type": "code",
        "colab": {}
      },
      "source": [
        "seed(50)\n",
        "set_random_seed(50)\n",
        "k.backend.clear_session()"
      ],
      "execution_count": 0,
      "outputs": []
    },
    {
      "cell_type": "code",
      "metadata": {
        "id": "bRjPd9pEBaxg",
        "colab_type": "code",
        "outputId": "7ec545ce-efa3-4f8e-e8f7-15960ff73f54",
        "colab": {
          "base_uri": "https://localhost:8080/",
          "height": 925
        }
      },
      "source": [
        "#input_title\n",
        "title_input = k.layers.Input(shape=(len_title,), name='title_input')\n",
        "inp = k.layers.Embedding(output_dim=300, input_dim=50000, \n",
        "                         weights=[embed_mat], trainable=False, name='embed_title')(title_input)\n",
        "\n",
        "x = k.layers.Conv1D(filters = 5, kernel_size=4, strides=2, activation='relu', name='Conv1Title')(inp)\n",
        "x = k.layers.MaxPool1D(pool_size = 2, name='Pool1Title')(x)\n",
        "x = k.layers.Flatten()(x)\n",
        "x = k.layers.Dense(50, activation='relu', name='Dense1Title', kernel_regularizer='l2')(x)\n",
        "\n",
        "#input_content\n",
        "content_input = k.layers.Input(shape=(len_content,), name='content_input')\n",
        "inp2 = k.layers.Embedding(output_dim=300, input_dim=50000, \n",
        "                         weights=[embed_mat], trainable=False, name='embed_content')(content_input)\n",
        "x2 = k.layers.Conv1D(filters = 40, kernel_size = 16, strides = 2, activation='relu', name='Conv1Content')(inp2)\n",
        "x2 = k.layers.MaxPool1D(pool_size = 4, name='Pool1Content')(x2)\n",
        "\n",
        "#Added\n",
        "x2 = k.layers.Conv1D(filters = 80, kernel_size = 16, strides = 4, activation='relu', name='Conv2Content')(inp2)\n",
        "x2 = k.layers.MaxPool1D(pool_size = 4, name='Pool2Content')(x2)\n",
        "#\n",
        "\n",
        "x2 = k.layers.Flatten()(x2)\n",
        "x2 = k.layers.Dense(100, activation='relu', kernel_regularizer='l2', name='Dense1Content')(x2)\n",
        "\n",
        "\n",
        "#Merge\n",
        "x = k.layers.concatenate([x, x2])\n",
        "\n",
        "#Common part\n",
        "x = k.layers.Dense(50, activation='relu')(x)\n",
        "x = k.layers.Dropout(0.2)(x)\n",
        "x = k.layers.Dense(50, activation='relu')(x)\n",
        "x = k.layers.Dropout(0.2)(x)\n",
        "out = k.layers.Dense(4, activation='softmax')(x)\n",
        "\n",
        "\n",
        "#Build model\n",
        "model = k.models.Model(inputs=[title_input, content_input], outputs=[out])\n",
        "\n",
        "#model.compile(k.optimizers.Adam(lr=0.0001), loss='categorical_crossentropy', metrics=['acc'])\n",
        "#model.compile(k.optimizers.SGD(lr=0.1, momentum = 0.1), loss='categorical_crossentropy', metrics=['acc'])\n",
        "model.compile(k.optimizers.RMSprop(), loss='categorical_crossentropy', metrics=['acc'])\n",
        "\n",
        "model.summary()"
      ],
      "execution_count": 0,
      "outputs": [
        {
          "output_type": "stream",
          "text": [
            "WARNING:tensorflow:From /usr/local/lib/python3.6/dist-packages/tensorflow/python/ops/resource_variable_ops.py:435: colocate_with (from tensorflow.python.framework.ops) is deprecated and will be removed in a future version.\n",
            "Instructions for updating:\n",
            "Colocations handled automatically by placer.\n",
            "WARNING:tensorflow:From /usr/local/lib/python3.6/dist-packages/tensorflow/python/keras/layers/core.py:143: calling dropout (from tensorflow.python.ops.nn_ops) with keep_prob is deprecated and will be removed in a future version.\n",
            "Instructions for updating:\n",
            "Please use `rate` instead of `keep_prob`. Rate should be set to `rate = 1 - keep_prob`.\n",
            "__________________________________________________________________________________________________\n",
            "Layer (type)                    Output Shape         Param #     Connected to                     \n",
            "==================================================================================================\n",
            "title_input (InputLayer)        (None, 13)           0                                            \n",
            "__________________________________________________________________________________________________\n",
            "content_input (InputLayer)      (None, 1598)         0                                            \n",
            "__________________________________________________________________________________________________\n",
            "embed_title (Embedding)         (None, 13, 300)      15000000    title_input[0][0]                \n",
            "__________________________________________________________________________________________________\n",
            "embed_content (Embedding)       (None, 1598, 300)    15000000    content_input[0][0]              \n",
            "__________________________________________________________________________________________________\n",
            "Conv1Title (Conv1D)             (None, 5, 5)         6005        embed_title[0][0]                \n",
            "__________________________________________________________________________________________________\n",
            "Conv2Content (Conv1D)           (None, 396, 80)      384080      embed_content[0][0]              \n",
            "__________________________________________________________________________________________________\n",
            "Pool1Title (MaxPooling1D)       (None, 2, 5)         0           Conv1Title[0][0]                 \n",
            "__________________________________________________________________________________________________\n",
            "Pool2Content (MaxPooling1D)     (None, 99, 80)       0           Conv2Content[0][0]               \n",
            "__________________________________________________________________________________________________\n",
            "flatten (Flatten)               (None, 10)           0           Pool1Title[0][0]                 \n",
            "__________________________________________________________________________________________________\n",
            "flatten_1 (Flatten)             (None, 7920)         0           Pool2Content[0][0]               \n",
            "__________________________________________________________________________________________________\n",
            "Dense1Title (Dense)             (None, 50)           550         flatten[0][0]                    \n",
            "__________________________________________________________________________________________________\n",
            "Dense1Content (Dense)           (None, 100)          792100      flatten_1[0][0]                  \n",
            "__________________________________________________________________________________________________\n",
            "concatenate (Concatenate)       (None, 150)          0           Dense1Title[0][0]                \n",
            "                                                                 Dense1Content[0][0]              \n",
            "__________________________________________________________________________________________________\n",
            "dense (Dense)                   (None, 50)           7550        concatenate[0][0]                \n",
            "__________________________________________________________________________________________________\n",
            "dropout (Dropout)               (None, 50)           0           dense[0][0]                      \n",
            "__________________________________________________________________________________________________\n",
            "dense_1 (Dense)                 (None, 50)           2550        dropout[0][0]                    \n",
            "__________________________________________________________________________________________________\n",
            "dropout_1 (Dropout)             (None, 50)           0           dense_1[0][0]                    \n",
            "__________________________________________________________________________________________________\n",
            "dense_2 (Dense)                 (None, 4)            204         dropout_1[0][0]                  \n",
            "==================================================================================================\n",
            "Total params: 31,193,039\n",
            "Trainable params: 1,193,039\n",
            "Non-trainable params: 30,000,000\n",
            "__________________________________________________________________________________________________\n"
          ],
          "name": "stdout"
        }
      ]
    },
    {
      "cell_type": "code",
      "metadata": {
        "id": "gOhBW9oiCDiU",
        "colab_type": "code",
        "outputId": "06f1bddf-23e2-4f4f-db0d-305781e740e7",
        "colab": {
          "base_uri": "https://localhost:8080/",
          "height": 250
        }
      },
      "source": [
        "hist = model.fit(x=train_fit, y=np.asarray(y_train.tolist()), batch_size=128, epochs=20,\n",
        "          callbacks = [k.callbacks.EarlyStopping(monitor='val_loss', patience=3, min_delta = 0.1)], validation_data=(valid_fit, np.array(y_valid.tolist())))"
      ],
      "execution_count": 0,
      "outputs": [
        {
          "output_type": "stream",
          "text": [
            "Train on 94319 samples, validate on 40423 samples\n",
            "WARNING:tensorflow:From /usr/local/lib/python3.6/dist-packages/tensorflow/python/ops/math_ops.py:3066: to_int32 (from tensorflow.python.ops.math_ops) is deprecated and will be removed in a future version.\n",
            "Instructions for updating:\n",
            "Use tf.cast instead.\n",
            "Epoch 1/20\n",
            "94319/94319 [==============================] - 35s 369us/sample - loss: 0.8381 - acc: 0.7092 - val_loss: 0.6286 - val_acc: 0.7897\n",
            "Epoch 2/20\n",
            "94319/94319 [==============================] - 32s 336us/sample - loss: 0.5735 - acc: 0.8209 - val_loss: 0.5717 - val_acc: 0.8171\n",
            "Epoch 3/20\n",
            "94319/94319 [==============================] - 32s 343us/sample - loss: 0.4644 - acc: 0.8664 - val_loss: 0.5555 - val_acc: 0.8276\n",
            "Epoch 4/20\n",
            "94319/94319 [==============================] - 32s 335us/sample - loss: 0.3790 - acc: 0.8978 - val_loss: 0.5858 - val_acc: 0.8246\n"
          ],
          "name": "stdout"
        }
      ]
    },
    {
      "cell_type": "code",
      "metadata": {
        "id": "KAjg4jSCGWqU",
        "colab_type": "code",
        "outputId": "ab3bfcc3-22dc-4da7-a7a3-f12f70b98089",
        "colab": {
          "base_uri": "https://localhost:8080/",
          "height": 391
        }
      },
      "source": [
        "plt.figure(figsize=(16,6))\n",
        "plt.plot(hist.history['val_acc'], label='val_acc')\n",
        "plt.plot(hist.history['acc'], label='train_acc')\n",
        "plt.legend()"
      ],
      "execution_count": 0,
      "outputs": [
        {
          "output_type": "execute_result",
          "data": {
            "text/plain": [
              "<matplotlib.legend.Legend at 0x7f6bc4109f60>"
            ]
          },
          "metadata": {
            "tags": []
          },
          "execution_count": 20
        },
        {
          "output_type": "display_data",
          "data": {
            "image/png": "[encoded data removed]",
            "text/plain": [
              "<Figure size 1152x432 with 1 Axes>"
            ]
          },
          "metadata": {
            "tags": []
          }
        }
      ]
    },
    {
      "cell_type": "code",
      "metadata": {
        "id": "hTY9LsukoY0C",
        "colab_type": "code",
        "outputId": "ed440a6b-c4a5-476a-9de8-11a523811f8f",
        "colab": {
          "base_uri": "https://localhost:8080/",
          "height": 391
        }
      },
      "source": [
        "plt.figure(figsize=(16,6))\n",
        "plt.plot(hist.history['val_loss'], label='val_loss')\n",
        "plt.plot(hist.history['loss'], label='train_loss')\n",
        "plt.legend()"
      ],
      "execution_count": 0,
      "outputs": [
        {
          "output_type": "execute_result",
          "data": {
            "text/plain": [
              "<matplotlib.legend.Legend at 0x7f6bc3c65668>"
            ]
          },
          "metadata": {
            "tags": []
          },
          "execution_count": 21
        },
        {
          "output_type": "display_data",
          "data": {
            "image/png": "[encoded data removed]",
            "text/plain": [
              "<Figure size 1152x432 with 1 Axes>"
            ]
          },
          "metadata": {
            "tags": []
          }
        }
      ]
    },
    {
      "cell_type": "code",
      "metadata": {
        "id": "11xe1CLSRM3l",
        "colab_type": "code",
        "outputId": "f466e4fc-798d-4f2b-9f63-1d0222c3ae12",
        "colab": {
          "base_uri": "https://localhost:8080/",
          "height": 34
        }
      },
      "source": [
        "test_pred = model.predict(test_fit)\n",
        "accuracy_score(np.array(y_test.tolist()), test_pred.round())"
      ],
      "execution_count": 0,
      "outputs": [
        {
          "output_type": "execute_result",
          "data": {
            "text/plain": [
              "0.8028122673039292"
            ]
          },
          "metadata": {
            "tags": []
          },
          "execution_count": 22
        }
      ]
    },
    {
      "cell_type": "code",
      "metadata": {
        "id": "69Oqol9Jofab",
        "colab_type": "code",
        "outputId": "13c81170-82c3-48be-9611-b01d9db1977d",
        "colab": {
          "base_uri": "https://localhost:8080/",
          "height": 285
        }
      },
      "source": [
        "report = classification_report(np.array(y_test.tolist()), test_pred.round())\n",
        "print(report)"
      ],
      "execution_count": 0,
      "outputs": [
        {
          "output_type": "stream",
          "text": [
            "              precision    recall  f1-score   support\n",
            "\n",
            "           0       0.86      0.78      0.82     13497\n",
            "           1       0.91      0.85      0.88     14960\n",
            "           2       0.88      0.81      0.85     14430\n",
            "           3       0.77      0.77      0.77     14860\n",
            "\n",
            "   micro avg       0.85      0.80      0.83     57747\n",
            "   macro avg       0.86      0.80      0.83     57747\n",
            "weighted avg       0.86      0.80      0.83     57747\n",
            " samples avg       0.80      0.80      0.80     57747\n",
            "\n"
          ],
          "name": "stdout"
        },
        {
          "output_type": "stream",
          "text": [
            "/usr/local/lib/python3.6/dist-packages/sklearn/metrics/classification.py:1143: UndefinedMetricWarning: Precision and F-score are ill-defined and being set to 0.0 in samples with no predicted labels.\n",
            "  'precision', 'predicted', average, warn_for)\n"
          ],
          "name": "stderr"
        }
      ]
    },
    {
      "cell_type": "code",
      "metadata": {
        "id": "2fIA4U81z7Bi",
        "colab_type": "code",
        "outputId": "bec2d4b6-9b2e-47f3-de56-5386af9388a3",
        "colab": {
          "base_uri": "https://localhost:8080/",
          "height": 435
        }
      },
      "source": [
        "matrix = confusion_matrix(np.array(y_test.tolist()).argmax(axis=1), test_pred.round().argmax(axis=1))\n",
        "print(matrix)\n",
        "\n",
        "#Plot\n",
        "df_cm = pd.DataFrame(matrix, columns=['bias', 'click', 'fake', 'truth'], index=['bias', 'click', 'fake', 'truth'])\n",
        "sns.heatmap(df_cm, annot=True)"
      ],
      "execution_count": 0,
      "outputs": [
        {
          "output_type": "stream",
          "text": [
            "[[11350   391   433  1323]\n",
            " [  999 12700   311   950]\n",
            " [ 1336   286 11722  1086]\n",
            " [ 1950   608   832 11470]]\n"
          ],
          "name": "stdout"
        },
        {
          "output_type": "execute_result",
          "data": {
            "text/plain": [
              "<matplotlib.axes._subplots.AxesSubplot at 0x7f6bc392fe10>"
            ]
          },
          "metadata": {
            "tags": []
          },
          "execution_count": 24
        },
        {
          "output_type": "display_data",
          "data": {
            "image/png": "[encoded data removed]",
            "text/plain": [
              "<Figure size 576x396 with 2 Axes>"
            ]
          },
          "metadata": {
            "tags": []
          }
        }
      ]
    },
    {
      "cell_type": "code",
      "metadata": {
        "id": "QrSoUtQnoyqT",
        "colab_type": "code",
        "colab": {}
      },
      "source": [
        "CONV_PATH = 'drive/My Drive/Colab Notebooks/weights/conv.h5'\n",
        "model.save(CONV_PATH)"
      ],
      "execution_count": 0,
      "outputs": []
    },
    {
      "cell_type": "code",
      "metadata": {
        "id": "7qplnjGTp0qP",
        "colab_type": "code",
        "colab": {}
      },
      "source": [
        ""
      ],
      "execution_count": 0,
      "outputs": []
    },
    {
      "cell_type": "markdown",
      "metadata": {
        "id": "OMApMHOldZty",
        "colab_type": "text"
      },
      "source": [
        "# Buscar hiperparámetros óptimos para la CNN (GridSearch)\n",
        "**Nota:** *Ahora se usa Optimizacion Bayesiana. Este código es de una versión previa*"
      ]
    },
    {
      "cell_type": "code",
      "metadata": {
        "id": "lp6v7yeShqda",
        "colab_type": "code",
        "outputId": "2bf2e982-034b-4a7d-c513-ca327b5afe81",
        "colab": {
          "base_uri": "https://localhost:8080/",
          "height": 34
        }
      },
      "source": [
        "import talos as ta"
      ],
      "execution_count": 0,
      "outputs": [
        {
          "output_type": "stream",
          "text": [
            "Using TensorFlow backend.\n"
          ],
          "name": "stderr"
        }
      ]
    },
    {
      "cell_type": "code",
      "metadata": {
        "id": "fTa2eG8yelaa",
        "colab_type": "code",
        "colab": {}
      },
      "source": [
        "p = {\n",
        "    'optimizer' : [k.optimizers.Nadam, k.optimizers.Adam, k.optimizers.Adagrad],\n",
        "    'lr' : (0.001, 0.1, 0.2, 0.3),\n",
        "}"
      ],
      "execution_count": 0,
      "outputs": []
    },
    {
      "cell_type": "code",
      "metadata": {
        "id": "nWvoCxc-dgxb",
        "colab_type": "code",
        "colab": {}
      },
      "source": [
        "def cnn_model(x_train, y_train, x_val, y_val, params):\n",
        "    #input_title\n",
        "    title_input = k.layers.Input(shape=(len_title,), name='title_input')\n",
        "    inp = k.layers.Embedding(output_dim=300, input_dim=50000, \n",
        "                             weights=[embed_mat], trainable=False, name='embed_title')(title_input)\n",
        "\n",
        "    x = k.layers.Conv1D(filters = 5, kernel_size=4, strides=2, activation='relu', name='Conv1Title')(inp)\n",
        "    x = k.layers.MaxPool1D(pool_size = 2, name='Pool1Title')(x)\n",
        "    x = k.layers.Flatten()(x)\n",
        "    x = k.layers.Dense(50, activation='relu', name='Dense1Title', kernel_regularizer='l2')(x)\n",
        "\n",
        "    #input_content\n",
        "    content_input = k.layers.Input(shape=(len_content,), name='content_input')\n",
        "    inp2 = k.layers.Embedding(output_dim=300, input_dim=50000, \n",
        "                             weights=[embed_mat], trainable=False, name='embed_content')(content_input)\n",
        "    x2 = k.layers.Conv1D(filters = 40, kernel_size = 16, strides = 2, activation='relu', name='Conv1Content')(inp2)\n",
        "    x2 = k.layers.MaxPool1D(pool_size = 4, name='Pool1Content')(x2)\n",
        "\n",
        "    #Added\n",
        "    x2 = k.layers.Conv1D(filters = 80, kernel_size = 16, strides = 4, activation='relu', name='Conv2Content')(inp2)\n",
        "    x2 = k.layers.MaxPool1D(pool_size = 4, name='Pool2Content')(x2)\n",
        "    #\n",
        "\n",
        "    x2 = k.layers.Flatten()(x2)\n",
        "    x2 = k.layers.Dense(100, activation='relu', kernel_regularizer='l2', name='Dense1Content')(x2)\n",
        "\n",
        "\n",
        "    #Merge\n",
        "    x = k.layers.concatenate([x, x2])\n",
        "\n",
        "    #Common part\n",
        "    x = k.layers.Dense(50, activation='relu')(x)\n",
        "    x = k.layers.Dropout(0.2)(x)\n",
        "    x = k.layers.Dense(50, activation='relu')(x)\n",
        "    x = k.layers.Dropout(0.2)(x)\n",
        "    out = k.layers.Dense(4, activation='softmax')(x)\n",
        "\n",
        "\n",
        "    #Build model\n",
        "    model = k.models.Model(inputs=[title_input, content_input], outputs=[out])\n",
        "\n",
        "    model.compile(params['optimizer'](lr=params['lr']), loss='categorical_crossentropy', metrics=['acc'])\n",
        "    \n",
        "    out = model.fit(x=x_train, y=y_train, batch_size=128, epochs=20,\n",
        "          callbacks = [k.callbacks.EarlyStopping(monitor='val_loss', patience=3, min_delta = 0.1)], \n",
        "                    validation_data=(x_val, y_val))\n",
        "    \n",
        "    return out, model"
      ],
      "execution_count": 0,
      "outputs": []
    },
    {
      "cell_type": "code",
      "metadata": {
        "id": "-L52abocf8AZ",
        "colab_type": "code",
        "outputId": "aedfaa5b-fd21-45ca-b175-81581a184862",
        "colab": {
          "base_uri": "https://localhost:8080/",
          "height": 1020
        }
      },
      "source": [
        "t = ta.Scan(x = train_fit, \n",
        "        y=np.asarray(y_train.tolist()), \n",
        "        x_val = valid_fit, \n",
        "        y_val = np.array(y_valid.tolist()), \n",
        "        params = p, \n",
        "        model=cnn_model,\n",
        "        clear_tf_session=False)"
      ],
      "execution_count": 0,
      "outputs": [
        {
          "output_type": "stream",
          "text": [
            "\r  0%|          | 0/3 [00:00<?, ?it/s]"
          ],
          "name": "stderr"
        },
        {
          "output_type": "stream",
          "text": [
            "WARNING:tensorflow:From /usr/local/lib/python3.6/dist-packages/tensorflow/python/ops/resource_variable_ops.py:435: colocate_with (from tensorflow.python.framework.ops) is deprecated and will be removed in a future version.\n",
            "Instructions for updating:\n",
            "Colocations handled automatically by placer.\n",
            "WARNING:tensorflow:From /usr/local/lib/python3.6/dist-packages/tensorflow/python/keras/layers/core.py:143: calling dropout (from tensorflow.python.ops.nn_ops) with keep_prob is deprecated and will be removed in a future version.\n",
            "Instructions for updating:\n",
            "Please use `rate` instead of `keep_prob`. Rate should be set to `rate = 1 - keep_prob`.\n",
            "Train on 94319 samples, validate on 40423 samples\n",
            "WARNING:tensorflow:From /usr/local/lib/python3.6/dist-packages/tensorflow/python/ops/math_ops.py:3066: to_int32 (from tensorflow.python.ops.math_ops) is deprecated and will be removed in a future version.\n",
            "Instructions for updating:\n",
            "Use tf.cast instead.\n",
            "Epoch 1/20\n",
            "94319/94319 [==============================] - 93s 989us/sample - loss: 0.8582 - acc: 0.7232 - val_loss: 0.7067 - val_acc: 0.7766\n",
            "Epoch 2/20\n",
            "94319/94319 [==============================] - 92s 976us/sample - loss: 0.6154 - acc: 0.8284 - val_loss: 0.6505 - val_acc: 0.8083\n",
            "Epoch 3/20\n",
            "94319/94319 [==============================] - 92s 975us/sample - loss: 0.5234 - acc: 0.8726 - val_loss: 0.6268 - val_acc: 0.8221\n",
            "Epoch 4/20\n",
            "94319/94319 [==============================] - 92s 975us/sample - loss: 0.4389 - acc: 0.9030 - val_loss: 0.6531 - val_acc: 0.8264\n"
          ],
          "name": "stdout"
        },
        {
          "output_type": "stream",
          "text": [
            "\r 33%|███▎      | 1/3 [06:14<12:28, 374.15s/it]"
          ],
          "name": "stderr"
        },
        {
          "output_type": "stream",
          "text": [
            "Train on 94319 samples, validate on 40423 samples\n",
            "Epoch 1/20\n",
            "94319/94319 [==============================] - 93s 989us/sample - loss: 0.8565 - acc: 0.7195 - val_loss: 0.6680 - val_acc: 0.7951\n",
            "Epoch 2/20\n",
            "94319/94319 [==============================] - 93s 983us/sample - loss: 0.6070 - acc: 0.8281 - val_loss: 0.6237 - val_acc: 0.8203\n",
            "Epoch 3/20\n",
            "94319/94319 [==============================] - 92s 973us/sample - loss: 0.5242 - acc: 0.8675 - val_loss: 0.6264 - val_acc: 0.8229\n",
            "Epoch 4/20\n",
            "94319/94319 [==============================] - 91s 969us/sample - loss: 0.4439 - acc: 0.8993 - val_loss: 0.6686 - val_acc: 0.8243\n"
          ],
          "name": "stdout"
        },
        {
          "output_type": "stream",
          "text": [
            "\r 67%|██████▋   | 2/3 [12:25<06:13, 373.44s/it]"
          ],
          "name": "stderr"
        },
        {
          "output_type": "stream",
          "text": [
            "Train on 94319 samples, validate on 40423 samples\n",
            "Epoch 1/20\n",
            "94319/94319 [==============================] - 93s 990us/sample - loss: 1.3882 - acc: 0.5843 - val_loss: 1.0340 - val_acc: 0.6761\n",
            "Epoch 2/20\n",
            "94319/94319 [==============================] - 92s 977us/sample - loss: 0.9704 - acc: 0.6942 - val_loss: 0.9034 - val_acc: 0.7078\n",
            "Epoch 3/20\n",
            "94319/94319 [==============================] - 92s 977us/sample - loss: 0.8659 - acc: 0.7277 - val_loss: 0.8483 - val_acc: 0.7206\n",
            "Epoch 4/20\n",
            "94319/94319 [==============================] - 92s 976us/sample - loss: 0.8003 - acc: 0.7502 - val_loss: 0.8112 - val_acc: 0.7337\n",
            "Epoch 5/20\n",
            "94319/94319 [==============================] - 93s 981us/sample - loss: 0.7532 - acc: 0.7641 - val_loss: 0.7812 - val_acc: 0.7395\n",
            "Epoch 6/20\n",
            "94319/94319 [==============================] - 92s 980us/sample - loss: 0.7133 - acc: 0.7794 - val_loss: 0.7633 - val_acc: 0.7466\n",
            "Epoch 7/20\n",
            "94319/94319 [==============================] - 93s 982us/sample - loss: 0.6784 - acc: 0.7917 - val_loss: 0.7483 - val_acc: 0.7509\n",
            "Epoch 8/20\n",
            "94319/94319 [==============================] - 92s 979us/sample - loss: 0.6477 - acc: 0.8031 - val_loss: 0.7317 - val_acc: 0.7543\n"
          ],
          "name": "stdout"
        },
        {
          "output_type": "stream",
          "text": [
            "\r100%|██████████| 3/3 [24:50<00:00, 484.78s/it]\n"
          ],
          "name": "stderr"
        }
      ]
    },
    {
      "cell_type": "code",
      "metadata": {
        "id": "i2IXFcoSi38U",
        "colab_type": "code",
        "outputId": "2c0b6bb9-10ca-4b69-f181-355c2e332ff9",
        "colab": {
          "base_uri": "https://localhost:8080/",
          "height": 142
        }
      },
      "source": [
        "t.data"
      ],
      "execution_count": 0,
      "outputs": [
        {
          "output_type": "execute_result",
          "data": {
            "text/html": [
              "<div>\n",
              "<style scoped>\n",
              "    .dataframe tbody tr th:only-of-type {\n",
              "        vertical-align: middle;\n",
              "    }\n",
              "\n",
              "    .dataframe tbody tr th {\n",
              "        vertical-align: top;\n",
              "    }\n",
              "\n",
              "    .dataframe thead th {\n",
              "        text-align: right;\n",
              "    }\n",
              "</style>\n",
              "<table border=\"1\" class=\"dataframe\">\n",
              "  <thead>\n",
              "    <tr style=\"text-align: right;\">\n",
              "      <th></th>\n",
              "      <th>round_epochs</th>\n",
              "      <th>loss</th>\n",
              "      <th>acc</th>\n",
              "      <th>val_loss</th>\n",
              "      <th>val_acc</th>\n",
              "      <th>optimizer</th>\n",
              "      <th>lr</th>\n",
              "    </tr>\n",
              "  </thead>\n",
              "  <tbody>\n",
              "    <tr>\n",
              "      <th>0</th>\n",
              "      <td>4</td>\n",
              "      <td>0.43889144828694954</td>\n",
              "      <td>0.90301</td>\n",
              "      <td>0.626791067865452</td>\n",
              "      <td>0.82643545</td>\n",
              "      <td>&lt;class 'tensorflow.python.keras.optimizers.Nad...</td>\n",
              "      <td>0.001</td>\n",
              "    </tr>\n",
              "    <tr>\n",
              "      <th>1</th>\n",
              "      <td>4</td>\n",
              "      <td>0.44387613860525615</td>\n",
              "      <td>0.89932036</td>\n",
              "      <td>0.623676198536764</td>\n",
              "      <td>0.82425845</td>\n",
              "      <td>&lt;class 'tensorflow.python.keras.optimizers.Adam'&gt;</td>\n",
              "      <td>0.001</td>\n",
              "    </tr>\n",
              "    <tr>\n",
              "      <th>2</th>\n",
              "      <td>8</td>\n",
              "      <td>0.6476933200893289</td>\n",
              "      <td>0.8030726</td>\n",
              "      <td>0.7316609426794308</td>\n",
              "      <td>0.754323</td>\n",
              "      <td>&lt;class 'tensorflow.python.keras.optimizers.Ada...</td>\n",
              "      <td>0.001</td>\n",
              "    </tr>\n",
              "  </tbody>\n",
              "</table>\n",
              "</div>"
            ],
            "text/plain": [
              "  round_epochs                 loss         acc            val_loss  \\\n",
              "0            4  0.43889144828694954     0.90301   0.626791067865452   \n",
              "1            4  0.44387613860525615  0.89932036   0.623676198536764   \n",
              "2            8   0.6476933200893289   0.8030726  0.7316609426794308   \n",
              "\n",
              "      val_acc                                          optimizer     lr  \n",
              "0  0.82643545  <class 'tensorflow.python.keras.optimizers.Nad...  0.001  \n",
              "1  0.82425845  <class 'tensorflow.python.keras.optimizers.Adam'>  0.001  \n",
              "2    0.754323  <class 'tensorflow.python.keras.optimizers.Ada...  0.001  "
            ]
          },
          "metadata": {
            "tags": []
          },
          "execution_count": 21
        }
      ]
    },
    {
      "cell_type": "code",
      "metadata": {
        "id": "Z60gA0P4fM8t",
        "colab_type": "code",
        "outputId": "56699667-70ba-44dc-80ca-47b84378351b",
        "colab": {
          "base_uri": "https://localhost:8080/",
          "height": 153
        }
      },
      "source": [
        "t.data.loc[0]"
      ],
      "execution_count": 0,
      "outputs": [
        {
          "output_type": "execute_result",
          "data": {
            "text/plain": [
              "round_epochs                                                    4\n",
              "loss                                          0.43889144828694954\n",
              "acc                                                       0.90301\n",
              "val_loss                                        0.626791067865452\n",
              "val_acc                                                0.82643545\n",
              "optimizer       <class 'tensorflow.python.keras.optimizers.Nad...\n",
              "lr                                                          0.001\n",
              "Name: 0, dtype: object"
            ]
          },
          "metadata": {
            "tags": []
          },
          "execution_count": 22
        }
      ]
    },
    {
      "cell_type": "code",
      "metadata": {
        "id": "FB3fOPpF9nLS",
        "colab_type": "code",
        "colab": {}
      },
      "source": [
        ""
      ],
      "execution_count": 0,
      "outputs": []
    }
  ]
}