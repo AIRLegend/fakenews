{
  "nbformat": 4,
  "nbformat_minor": 0,
  "metadata": {
    "colab": {
      "name": "PredictKaggle.ipynb",
      "version": "0.3.2",
      "provenance": [],
      "collapsed_sections": []
    },
    "kernelspec": {
      "name": "python3",
      "display_name": "Python 3"
    }
  },
  "cells": [
    {
      "metadata": {
        "id": "hh6JrsRm94re",
        "colab_type": "text"
      },
      "cell_type": "markdown",
      "source": [
        "# Predecir con el dataset de [Kaggle](https://www.kaggle.com/jruvika/fake-news-detection) (true_or_fake)\n",
        "\n",
        "Este notebook es la continuación de: `Processing_test_dataset.ipynb`"
      ]
    },
    {
      "metadata": {
        "id": "pK4NJzRl-ChN",
        "colab_type": "code",
        "colab": {}
      },
      "cell_type": "code",
      "source": [
        "from google.colab import drive\n",
        "drive.mount('/content/drive')"
      ],
      "execution_count": 0,
      "outputs": []
    },
    {
      "metadata": {
        "id": "pZaM5jTb-tsZ",
        "colab_type": "code",
        "colab": {
          "base_uri": "https://localhost:8080/",
          "height": 364
        },
        "outputId": "517f76f1-de9e-4c4a-98c3-7ed4c76dab1f"
      },
      "cell_type": "code",
      "source": [
        "!pip install --upgrade pandas"
      ],
      "execution_count": 6,
      "outputs": [
        {
          "output_type": "stream",
          "text": [
            "Collecting pandas\n",
            "\u001b[?25l  Downloading https://files.pythonhosted.org/packages/19/74/e50234bc82c553fecdbd566d8650801e3fe2d6d8c8d940638e3d8a7c5522/pandas-0.24.2-cp36-cp36m-manylinux1_x86_64.whl (10.1MB)\n",
            "\u001b[K    100% |████████████████████████████████| 10.1MB 3.5MB/s \n",
            "\u001b[?25hRequirement already satisfied, skipping upgrade: numpy>=1.12.0 in /usr/local/lib/python3.6/dist-packages (from pandas) (1.14.6)\n",
            "Requirement already satisfied, skipping upgrade: pytz>=2011k in /usr/local/lib/python3.6/dist-packages (from pandas) (2018.9)\n",
            "Requirement already satisfied, skipping upgrade: python-dateutil>=2.5.0 in /usr/local/lib/python3.6/dist-packages (from pandas) (2.5.3)\n",
            "Requirement already satisfied, skipping upgrade: six>=1.5 in /usr/local/lib/python3.6/dist-packages (from python-dateutil>=2.5.0->pandas) (1.11.0)\n",
            "\u001b[31mfastai 1.0.46 has requirement numpy>=1.15, but you'll have numpy 1.14.6 which is incompatible.\u001b[0m\n",
            "Installing collected packages: pandas\n",
            "  Found existing installation: pandas 0.22.0\n",
            "    Uninstalling pandas-0.22.0:\n",
            "      Successfully uninstalled pandas-0.22.0\n",
            "Successfully installed pandas-0.24.2\n"
          ],
          "name": "stdout"
        },
        {
          "output_type": "display_data",
          "data": {
            "application/vnd.colab-display-data+json": {
              "pip_warning": {
                "packages": [
                  "pandas"
                ]
              }
            }
          },
          "metadata": {
            "tags": []
          }
        }
      ]
    },
    {
      "metadata": {
        "id": "3rNI8gRd-JK-",
        "colab_type": "code",
        "colab": {
          "base_uri": "https://localhost:8080/",
          "height": 80
        },
        "outputId": "e4e2370e-b6c7-448c-d995-34db8fc5e87e"
      },
      "cell_type": "code",
      "source": [
        "!ls \"drive/My Drive/Colab Notebooks/data\""
      ],
      "execution_count": 2,
      "outputs": [
        {
          "output_type": "stream",
          "text": [
            "data_kaggle_proc.pickle\t\t       news_proc_12_3_19.pickle\n",
            "GoogleNews-vectors-negative300.bin.gz\n"
          ],
          "name": "stdout"
        }
      ]
    },
    {
      "metadata": {
        "id": "KM8I_ir0-S8a",
        "colab_type": "code",
        "colab": {}
      },
      "cell_type": "code",
      "source": [
        "import pandas as pd\n",
        "import numpy as np\n",
        "import seaborn as sns\n",
        "\n",
        "from tensorflow import keras as k\n",
        "from matplotlib import pyplot as plt\n",
        "\n",
        "\n",
        "from gensim.models import KeyedVectors\n",
        "\n",
        "from sklearn.metrics import accuracy_score, confusion_matrix, classification_report"
      ],
      "execution_count": 0,
      "outputs": []
    },
    {
      "metadata": {
        "id": "SjGIDnm--aQg",
        "colab_type": "code",
        "colab": {}
      },
      "cell_type": "code",
      "source": [
        "data = pd.read_pickle('drive/My Drive/Colab Notebooks/data/data_kaggle_proc.pickle')\n",
        "data = data.dropna()"
      ],
      "execution_count": 0,
      "outputs": []
    },
    {
      "metadata": {
        "id": "QwSNVgBz-p2-",
        "colab_type": "code",
        "colab": {
          "base_uri": "https://localhost:8080/",
          "height": 204
        },
        "outputId": "60e1ad37-8e14-4044-f8fd-dd05922e02f3"
      },
      "cell_type": "code",
      "source": [
        "data.head()"
      ],
      "execution_count": 3,
      "outputs": [
        {
          "output_type": "execute_result",
          "data": {
            "text/html": [
              "<div>\n",
              "<style scoped>\n",
              "    .dataframe tbody tr th:only-of-type {\n",
              "        vertical-align: middle;\n",
              "    }\n",
              "\n",
              "    .dataframe tbody tr th {\n",
              "        vertical-align: top;\n",
              "    }\n",
              "\n",
              "    .dataframe thead th {\n",
              "        text-align: right;\n",
              "    }\n",
              "</style>\n",
              "<table border=\"1\" class=\"dataframe\">\n",
              "  <thead>\n",
              "    <tr style=\"text-align: right;\">\n",
              "      <th></th>\n",
              "      <th>Headline</th>\n",
              "      <th>Body</th>\n",
              "      <th>Label</th>\n",
              "    </tr>\n",
              "  </thead>\n",
              "  <tbody>\n",
              "    <tr>\n",
              "      <th>0</th>\n",
              "      <td>[2675, 1143, 2205, 48926, 6117, 13034, 0, 0, 0...</td>\n",
              "      <td>[15680, 8429, 28683, 14257, 312, 281, 565, 611...</td>\n",
              "      <td>[0, 0, 0, 1]</td>\n",
              "    </tr>\n",
              "    <tr>\n",
              "      <th>1</th>\n",
              "      <td>[556, 2168, 3912, 5042, 2360, 508, 115, 948, 0...</td>\n",
              "      <td>[4949, 20876, 17535, 3912, 46, 3610, 556, 3230...</td>\n",
              "      <td>[0, 0, 0, 1]</td>\n",
              "    </tr>\n",
              "    <tr>\n",
              "      <th>2</th>\n",
              "      <td>[13034, 12828, 316, 48926, 553, 16854, 23325, ...</td>\n",
              "      <td>[7, 14446, 1506, 69, 208, 995, 64, 116, 61, 60...</td>\n",
              "      <td>[0, 0, 0, 1]</td>\n",
              "    </tr>\n",
              "    <tr>\n",
              "      <th>3</th>\n",
              "      <td>[2905, 1469, 1930, 8, 44732, 2, 3538, 19568, 4...</td>\n",
              "      <td>[29922, 2905, 6585, 4840, 301, 11, 1080, 1428,...</td>\n",
              "      <td>[0, 0, 0, 1]</td>\n",
              "    </tr>\n",
              "    <tr>\n",
              "      <th>4</th>\n",
              "      <td>[2678, 3466, 8, 11440, 5739, 0, 0, 0, 0, 0, 0,...</td>\n",
              "      <td>[4868, 3076, 2678, 31, 10, 3246, 14, 11, 11440...</td>\n",
              "      <td>[0, 0, 0, 1]</td>\n",
              "    </tr>\n",
              "  </tbody>\n",
              "</table>\n",
              "</div>"
            ],
            "text/plain": [
              "                                            Headline  \\\n",
              "0  [2675, 1143, 2205, 48926, 6117, 13034, 0, 0, 0...   \n",
              "1  [556, 2168, 3912, 5042, 2360, 508, 115, 948, 0...   \n",
              "2  [13034, 12828, 316, 48926, 553, 16854, 23325, ...   \n",
              "3  [2905, 1469, 1930, 8, 44732, 2, 3538, 19568, 4...   \n",
              "4  [2678, 3466, 8, 11440, 5739, 0, 0, 0, 0, 0, 0,...   \n",
              "\n",
              "                                                Body         Label  \n",
              "0  [15680, 8429, 28683, 14257, 312, 281, 565, 611...  [0, 0, 0, 1]  \n",
              "1  [4949, 20876, 17535, 3912, 46, 3610, 556, 3230...  [0, 0, 0, 1]  \n",
              "2  [7, 14446, 1506, 69, 208, 995, 64, 116, 61, 60...  [0, 0, 0, 1]  \n",
              "3  [29922, 2905, 6585, 4840, 301, 11, 1080, 1428,...  [0, 0, 0, 1]  \n",
              "4  [4868, 3076, 2678, 31, 10, 3246, 14, 11, 11440...  [0, 0, 0, 1]  "
            ]
          },
          "metadata": {
            "tags": []
          },
          "execution_count": 3
        }
      ]
    },
    {
      "metadata": {
        "id": "wpsdauFa_fSX",
        "colab_type": "code",
        "colab": {}
      },
      "cell_type": "code",
      "source": [
        "X_data = [np.asarray(data['Headline'].tolist()), \n",
        "             np.asarray(data['Body'].tolist())]\n",
        "\n",
        "Y_data = np.array(data['Label'].tolist())"
      ],
      "execution_count": 0,
      "outputs": []
    },
    {
      "metadata": {
        "id": "z6sDlu0L-6I3",
        "colab_type": "code",
        "colab": {}
      },
      "cell_type": "code",
      "source": [
        "#model = KeyedVectors.load_word2vec_format(\"drive/My Drive/Colab Notebooks/data/GoogleNews-vectors-negative300.bin.gz\", binary=True, limit=50000)"
      ],
      "execution_count": 0,
      "outputs": []
    },
    {
      "metadata": {
        "id": "cpykVAFO_DHK",
        "colab_type": "code",
        "colab": {
          "base_uri": "https://localhost:8080/",
          "height": 210
        },
        "outputId": "78f255bf-c568-4067-8360-6955e9076598"
      },
      "cell_type": "code",
      "source": [
        "model = k.models.load_model('drive/My Drive/Colab Notebooks/weights/conv.h5')"
      ],
      "execution_count": 5,
      "outputs": [
        {
          "output_type": "stream",
          "text": [
            "WARNING:tensorflow:From /usr/local/lib/python3.6/dist-packages/tensorflow/python/ops/resource_variable_ops.py:435: colocate_with (from tensorflow.python.framework.ops) is deprecated and will be removed in a future version.\n",
            "Instructions for updating:\n",
            "Colocations handled automatically by placer.\n",
            "WARNING:tensorflow:From /usr/local/lib/python3.6/dist-packages/tensorflow/python/keras/layers/core.py:143: calling dropout (from tensorflow.python.ops.nn_ops) with keep_prob is deprecated and will be removed in a future version.\n",
            "Instructions for updating:\n",
            "Please use `rate` instead of `keep_prob`. Rate should be set to `rate = 1 - keep_prob`.\n",
            "WARNING:tensorflow:From /usr/local/lib/python3.6/dist-packages/tensorflow/python/ops/math_ops.py:3066: to_int32 (from tensorflow.python.ops.math_ops) is deprecated and will be removed in a future version.\n",
            "Instructions for updating:\n",
            "Use tf.cast instead.\n"
          ],
          "name": "stdout"
        }
      ]
    },
    {
      "metadata": {
        "id": "sqyReNXqAFPy",
        "colab_type": "text"
      },
      "cell_type": "markdown",
      "source": [
        "### Predecir con los datos de entrada"
      ]
    },
    {
      "metadata": {
        "id": "K-nQgnpKAJB7",
        "colab_type": "code",
        "colab": {}
      },
      "cell_type": "code",
      "source": [
        "prediction = model.predict(X_data)"
      ],
      "execution_count": 0,
      "outputs": []
    },
    {
      "metadata": {
        "id": "B9QGYL7SAjoP",
        "colab_type": "code",
        "colab": {}
      },
      "cell_type": "code",
      "source": [
        "pred_conversion = prediction.argmax(axis=1)\n",
        "target_conversion = Y_data.argmax(axis=1)"
      ],
      "execution_count": 0,
      "outputs": []
    },
    {
      "metadata": {
        "id": "WEQRbUk4A0TR",
        "colab_type": "code",
        "colab": {}
      },
      "cell_type": "code",
      "source": [
        "pred_conversion"
      ],
      "execution_count": 0,
      "outputs": []
    },
    {
      "metadata": {
        "id": "MQ7drgdkCDN7",
        "colab_type": "text"
      },
      "cell_type": "markdown",
      "source": [
        "### Métricas de precisión"
      ]
    },
    {
      "metadata": {
        "id": "bN5sMvuUA-B4",
        "colab_type": "code",
        "colab": {
          "base_uri": "https://localhost:8080/",
          "height": 34
        },
        "outputId": "81a42526-205a-45ce-96bf-1c71308a7e33"
      },
      "cell_type": "code",
      "source": [
        "accuracy_score(pred_conversion, target_conversion)"
      ],
      "execution_count": 19,
      "outputs": [
        {
          "output_type": "execute_result",
          "data": {
            "text/plain": [
              "0.5223618090452261"
            ]
          },
          "metadata": {
            "tags": []
          },
          "execution_count": 19
        }
      ]
    },
    {
      "metadata": {
        "id": "dXRvf4pZBLTR",
        "colab_type": "code",
        "colab": {
          "base_uri": "https://localhost:8080/",
          "height": 278
        },
        "outputId": "1e5a4712-ca0b-4a45-86cf-08b33976377a"
      },
      "cell_type": "code",
      "source": [
        "print(classification_report(pred_conversion, target_conversion))"
      ],
      "execution_count": 22,
      "outputs": [
        {
          "output_type": "stream",
          "text": [
            "              precision    recall  f1-score   support\n",
            "\n",
            "           0       0.00      0.00      0.00       791\n",
            "           1       0.00      0.00      0.00       210\n",
            "           2       0.55      0.70      0.62      1666\n",
            "           3       0.49      0.69      0.57      1313\n",
            "\n",
            "   micro avg       0.52      0.52      0.52      3980\n",
            "   macro avg       0.26      0.35      0.30      3980\n",
            "weighted avg       0.39      0.52      0.45      3980\n",
            "\n"
          ],
          "name": "stdout"
        },
        {
          "output_type": "stream",
          "text": [
            "/usr/local/lib/python3.6/dist-packages/sklearn/metrics/classification.py:1143: UndefinedMetricWarning: Precision and F-score are ill-defined and being set to 0.0 in labels with no predicted samples.\n",
            "  'precision', 'predicted', average, warn_for)\n"
          ],
          "name": "stderr"
        }
      ]
    },
    {
      "metadata": {
        "id": "7EDHTSoMBPYI",
        "colab_type": "code",
        "colab": {
          "base_uri": "https://localhost:8080/",
          "height": 432
        },
        "outputId": "b0aa706d-fdf0-4c20-eee6-044bb43a2931"
      },
      "cell_type": "code",
      "source": [
        "matrix = confusion_matrix(pred_conversion, target_conversion)\n",
        "print(matrix)\n",
        "\n",
        "#Plot\n",
        "df_cm = pd.DataFrame(matrix, columns=['bias', 'click', 'fake', 'truth'], index=['bias', 'click', 'fake', 'truth'])\n",
        "sns.heatmap(df_cm, annot=True)"
      ],
      "execution_count": 25,
      "outputs": [
        {
          "output_type": "stream",
          "text": [
            "[[   0    0  407  384]\n",
            " [   0    0  138   72]\n",
            " [   0    0 1167  499]\n",
            " [   0    0  401  912]]\n"
          ],
          "name": "stdout"
        },
        {
          "output_type": "execute_result",
          "data": {
            "text/plain": [
              "<matplotlib.axes._subplots.AxesSubplot at 0x7fae7bc8e2e8>"
            ]
          },
          "metadata": {
            "tags": []
          },
          "execution_count": 25
        },
        {
          "output_type": "display_data",
          "data": {
            "image/png": "[encoded data removed]",
            "text/plain": [
              "<Figure size 576x396 with 2 Axes>"
            ]
          },
          "metadata": {
            "tags": []
          }
        }
      ]
    },
    {
      "metadata": {
        "id": "fFXYjQAnBxhV",
        "colab_type": "code",
        "colab": {}
      },
      "cell_type": "code",
      "source": [
        ""
      ],
      "execution_count": 0,
      "outputs": []
    }
  ]
}