{
 "cells": [
  {
   "cell_type": "markdown",
   "metadata": {},
   "source": [
    "# Procesado del dataset: Getting Real About Fake News\n",
    "## Fuente: Kaggle. https://www.kaggle.com/mrisdal/fake-news"
   ]
  },
  {
   "cell_type": "code",
   "execution_count": 1,
   "metadata": {},
   "outputs": [],
   "source": [
    "import pandas as pd\n",
    "import numpy as np\n",
    "\n",
    "from matplotlib import pyplot as plt\n",
    "from matplotlib import style\n",
    "\n",
    "#One-hot encodding\n",
    "from sklearn.preprocessing import LabelBinarizer\n",
    "\n",
    "#Progress bars\n",
    "from tqdm import tqdm\n",
    "tqdm.pandas()\n",
    "\n",
    "#Paralelize pandas apply on multiple cores\n",
    "import swifter\n",
    "\n",
    "#Nicer style\n",
    "style.use('seaborn') \n",
    "\n",
    "import re #regexp\n",
    "\n",
    "from nltk.tokenize import RegexpTokenizer"
   ]
  },
  {
   "cell_type": "code",
   "execution_count": 2,
   "metadata": {},
   "outputs": [],
   "source": [
    "news = pd.read_csv(\"../data/Other_datasets/GettingRealAboutFake/fake.csv\")"
   ]
  },
  {
   "cell_type": "markdown",
   "metadata": {},
   "source": [
    "Longitudes necesarias de los artículos"
   ]
  },
  {
   "cell_type": "code",
   "execution_count": 3,
   "metadata": {},
   "outputs": [],
   "source": [
    "#Padding number for title and content\n",
    "MAX_LEN_TITLE = 13\n",
    "MAX_LEN_CONTENT = 1598"
   ]
  },
  {
   "cell_type": "markdown",
   "metadata": {},
   "source": [
    "### Limpieza del dataset.\n",
    "\n",
    "Nos quedamos con:\n",
    " * title\n",
    " * language == english\n",
    " * text\n",
    " * type\n",
    " * type != bs $^*$\n",
    " \n",
    "$^*$ *Data sources that were missing a label were simply assigned a label of \"bs\". There are (ostensibly) no genuine, reliable, or trustworthy news sources represented in this dataset (so far), so don't trust anything you read.*"
   ]
  },
  {
   "cell_type": "code",
   "execution_count": 4,
   "metadata": {},
   "outputs": [],
   "source": [
    "news = news[news['language'] == 'english']\n",
    "news = news[news['type'] != 'bs']\n",
    "news = news[['title', 'text', 'type']]"
   ]
  },
  {
   "cell_type": "code",
   "execution_count": 5,
   "metadata": {},
   "outputs": [
    {
     "data": {
      "text/html": [
       "<div>\n",
       "<style scoped>\n",
       "    .dataframe tbody tr th:only-of-type {\n",
       "        vertical-align: middle;\n",
       "    }\n",
       "\n",
       "    .dataframe tbody tr th {\n",
       "        vertical-align: top;\n",
       "    }\n",
       "\n",
       "    .dataframe thead th {\n",
       "        text-align: right;\n",
       "    }\n",
       "</style>\n",
       "<table border=\"1\" class=\"dataframe\">\n",
       "  <thead>\n",
       "    <tr style=\"text-align: right;\">\n",
       "      <th></th>\n",
       "      <th>title</th>\n",
       "      <th>text</th>\n",
       "      <th>type</th>\n",
       "    </tr>\n",
       "  </thead>\n",
       "  <tbody>\n",
       "    <tr>\n",
       "      <th>0</th>\n",
       "      <td>Muslims BUSTED: They Stole Millions In Gov’t B...</td>\n",
       "      <td>Print They should pay all the back all the mon...</td>\n",
       "      <td>bias</td>\n",
       "    </tr>\n",
       "    <tr>\n",
       "      <th>1</th>\n",
       "      <td>Re: Why Did Attorney General Loretta Lynch Ple...</td>\n",
       "      <td>Why Did Attorney General Loretta Lynch Plead T...</td>\n",
       "      <td>bias</td>\n",
       "    </tr>\n",
       "    <tr>\n",
       "      <th>2</th>\n",
       "      <td>BREAKING: Weiner Cooperating With FBI On Hilla...</td>\n",
       "      <td>Red State : \\nFox News Sunday reported this mo...</td>\n",
       "      <td>bias</td>\n",
       "    </tr>\n",
       "    <tr>\n",
       "      <th>3</th>\n",
       "      <td>PIN DROP SPEECH BY FATHER OF DAUGHTER Kidnappe...</td>\n",
       "      <td>Email Kayla Mueller was a prisoner and torture...</td>\n",
       "      <td>bias</td>\n",
       "    </tr>\n",
       "    <tr>\n",
       "      <th>4</th>\n",
       "      <td>FANTASTIC! TRUMP'S 7 POINT PLAN To Reform Heal...</td>\n",
       "      <td>Email HEALTHCARE REFORM TO MAKE AMERICA GREAT ...</td>\n",
       "      <td>bias</td>\n",
       "    </tr>\n",
       "  </tbody>\n",
       "</table>\n",
       "</div>"
      ],
      "text/plain": [
       "                                               title  \\\n",
       "0  Muslims BUSTED: They Stole Millions In Gov’t B...   \n",
       "1  Re: Why Did Attorney General Loretta Lynch Ple...   \n",
       "2  BREAKING: Weiner Cooperating With FBI On Hilla...   \n",
       "3  PIN DROP SPEECH BY FATHER OF DAUGHTER Kidnappe...   \n",
       "4  FANTASTIC! TRUMP'S 7 POINT PLAN To Reform Heal...   \n",
       "\n",
       "                                                text  type  \n",
       "0  Print They should pay all the back all the mon...  bias  \n",
       "1  Why Did Attorney General Loretta Lynch Plead T...  bias  \n",
       "2  Red State : \\nFox News Sunday reported this mo...  bias  \n",
       "3  Email Kayla Mueller was a prisoner and torture...  bias  \n",
       "4  Email HEALTHCARE REFORM TO MAKE AMERICA GREAT ...  bias  "
      ]
     },
     "execution_count": 5,
     "metadata": {},
     "output_type": "execute_result"
    }
   ],
   "source": [
    "news.head()"
   ]
  },
  {
   "cell_type": "markdown",
   "metadata": {},
   "source": [
    "El dataset incluye distintos tipos de noticias falsas categorizadas junto a metadatos. Se pretende entrenar un modelo que distinga también verdaderas, por lo que debemos añadir samples verdaderos de FakeNewsCorpus.\n",
    "\n",
    "Previamente se han extraido sólamente las verdaderas en `data/only_true.csv`."
   ]
  },
  {
   "cell_type": "code",
   "execution_count": 6,
   "metadata": {},
   "outputs": [],
   "source": [
    "true_news = pd.read_csv(\"../data/Other_datasets/GettingRealAboutFake/news_only_true.csv\", nrows=1000)"
   ]
  },
  {
   "cell_type": "code",
   "execution_count": 7,
   "metadata": {},
   "outputs": [],
   "source": [
    "#Poner todos los type como true\n",
    "true_news['type'] = 'true'"
   ]
  },
  {
   "cell_type": "code",
   "execution_count": 8,
   "metadata": {},
   "outputs": [],
   "source": [
    "true_news = true_news[['title', 'content', 'type']]\n",
    "true_news = true_news.rename(str, columns={\"content\": \"text\"})"
   ]
  },
  {
   "cell_type": "code",
   "execution_count": 9,
   "metadata": {},
   "outputs": [
    {
     "data": {
      "text/html": [
       "<div>\n",
       "<style scoped>\n",
       "    .dataframe tbody tr th:only-of-type {\n",
       "        vertical-align: middle;\n",
       "    }\n",
       "\n",
       "    .dataframe tbody tr th {\n",
       "        vertical-align: top;\n",
       "    }\n",
       "\n",
       "    .dataframe thead th {\n",
       "        text-align: right;\n",
       "    }\n",
       "</style>\n",
       "<table border=\"1\" class=\"dataframe\">\n",
       "  <thead>\n",
       "    <tr style=\"text-align: right;\">\n",
       "      <th></th>\n",
       "      <th>title</th>\n",
       "      <th>text</th>\n",
       "      <th>type</th>\n",
       "    </tr>\n",
       "  </thead>\n",
       "  <tbody>\n",
       "    <tr>\n",
       "      <th>0</th>\n",
       "      <td>Iranian Christian Convert Leads 1,500 Muslims ...</td>\n",
       "      <td>(Screencap: YouTube/Tidningen Dagen) Annahita ...</td>\n",
       "      <td>true</td>\n",
       "    </tr>\n",
       "    <tr>\n",
       "      <th>1</th>\n",
       "      <td>Finding wonder and foreboding in the pathway o...</td>\n",
       "      <td>It is rather hard to write with eclipse glasse...</td>\n",
       "      <td>true</td>\n",
       "    </tr>\n",
       "    <tr>\n",
       "      <th>2</th>\n",
       "      <td>#MeToo! Our culture of sexual predation – Bapt...</td>\n",
       "      <td>Social media is blowing up about a culture of ...</td>\n",
       "      <td>true</td>\n",
       "    </tr>\n",
       "    <tr>\n",
       "      <th>3</th>\n",
       "      <td>God’s invitation to life – Baptist News Global</td>\n",
       "      <td>Many preachers took up the Isaiah 55 passage t...</td>\n",
       "      <td>true</td>\n",
       "    </tr>\n",
       "    <tr>\n",
       "      <th>4</th>\n",
       "      <td>What is sown in the heart – Baptist News Global</td>\n",
       "      <td>A trip to the cardiologist is rarely routine. ...</td>\n",
       "      <td>true</td>\n",
       "    </tr>\n",
       "  </tbody>\n",
       "</table>\n",
       "</div>"
      ],
      "text/plain": [
       "                                               title  \\\n",
       "0  Iranian Christian Convert Leads 1,500 Muslims ...   \n",
       "1  Finding wonder and foreboding in the pathway o...   \n",
       "2  #MeToo! Our culture of sexual predation – Bapt...   \n",
       "3     God’s invitation to life – Baptist News Global   \n",
       "4    What is sown in the heart – Baptist News Global   \n",
       "\n",
       "                                                text  type  \n",
       "0  (Screencap: YouTube/Tidningen Dagen) Annahita ...  true  \n",
       "1  It is rather hard to write with eclipse glasse...  true  \n",
       "2  Social media is blowing up about a culture of ...  true  \n",
       "3  Many preachers took up the Isaiah 55 passage t...  true  \n",
       "4  A trip to the cardiologist is rarely routine. ...  true  "
      ]
     },
     "execution_count": 9,
     "metadata": {},
     "output_type": "execute_result"
    }
   ],
   "source": [
    "true_news.head()"
   ]
  },
  {
   "cell_type": "markdown",
   "metadata": {},
   "source": [
    "Concatenar y shufflear Dataframes"
   ]
  },
  {
   "cell_type": "code",
   "execution_count": 10,
   "metadata": {},
   "outputs": [],
   "source": [
    "news = pd.concat([news, true_news])\n",
    "news = news.sample(frac=1).reset_index(drop=True)"
   ]
  },
  {
   "cell_type": "markdown",
   "metadata": {},
   "source": [
    "Agrupamos los tipos de noticia en bias - fake - true"
   ]
  },
  {
   "cell_type": "code",
   "execution_count": 11,
   "metadata": {},
   "outputs": [],
   "source": [
    "news.loc[news['type'] =='conspiracy', 'type'] = 'fake'\n",
    "news.loc[news['type'] =='hate', 'type'] = 'fake'\n",
    "news.loc[news['type'] =='junksci', 'type'] = 'fake'\n",
    "news.loc[news['type'] =='satire', 'type'] = 'fake'\n",
    "news.loc[news['type'] =='state', 'type'] = 'fake'"
   ]
  },
  {
   "cell_type": "markdown",
   "metadata": {},
   "source": [
    "**Noticias por categoría**"
   ]
  },
  {
   "cell_type": "code",
   "execution_count": 12,
   "metadata": {},
   "outputs": [
    {
     "data": {
      "text/plain": [
       "<matplotlib.axes._subplots.AxesSubplot at 0x1c26961908>"
      ]
     },
     "execution_count": 12,
     "metadata": {},
     "output_type": "execute_result"
    },
    {
     "data": {
      "image/png": "[encoded data removed]",
      "text/plain": [
       "<matplotlib.figure.Figure at 0x1c269614a8>"
      ]
     },
     "metadata": {
      "needs_background": "light"
     },
     "output_type": "display_data"
    }
   ],
   "source": [
    "fig, ax = plt.subplots(1,1, figsize=(16,6))\n",
    "news.groupby(\"type\").count()['title'].plot.bar(title = \"Number of articles by type\", ax = ax)"
   ]
  },
  {
   "cell_type": "markdown",
   "metadata": {},
   "source": [
    "### Vectorización"
   ]
  },
  {
   "cell_type": "code",
   "execution_count": 13,
   "metadata": {},
   "outputs": [],
   "source": [
    "from gensim.models import KeyedVectors"
   ]
  },
  {
   "cell_type": "code",
   "execution_count": 14,
   "metadata": {},
   "outputs": [],
   "source": [
    "model = KeyedVectors.load_word2vec_format(\"../data/GoogleNews-vectors-negative300.bin.gz\", binary=True,\n",
    "                                          limit=50000)"
   ]
  },
  {
   "cell_type": "code",
   "execution_count": 15,
   "metadata": {},
   "outputs": [
    {
     "name": "stderr",
     "output_type": "stream",
     "text": [
      "100%|██████████| 2503/2503 [00:00<00:00, 17425.65it/s]\n"
     ]
    }
   ],
   "source": [
    "news['title'] = news.progress_apply(lambda r: \n",
    "                        [model.vocab[x].index for x in str(r['title']) if x in model.vocab], axis=1)"
   ]
  },
  {
   "cell_type": "code",
   "execution_count": 16,
   "metadata": {},
   "outputs": [
    {
     "name": "stderr",
     "output_type": "stream",
     "text": [
      "100%|██████████| 2503/2503 [00:01<00:00, 2373.28it/s]\n"
     ]
    }
   ],
   "source": [
    "news['content'] = news.progress_apply(lambda r: \n",
    "                        [model.vocab[x].index for x in str(r['text']) if x in model.vocab], axis=1)"
   ]
  },
  {
   "cell_type": "code",
   "execution_count": 17,
   "metadata": {},
   "outputs": [
    {
     "data": {
      "text/html": [
       "<div>\n",
       "<style scoped>\n",
       "    .dataframe tbody tr th:only-of-type {\n",
       "        vertical-align: middle;\n",
       "    }\n",
       "\n",
       "    .dataframe tbody tr th {\n",
       "        vertical-align: top;\n",
       "    }\n",
       "\n",
       "    .dataframe thead th {\n",
       "        text-align: right;\n",
       "    }\n",
       "</style>\n",
       "<table border=\"1\" class=\"dataframe\">\n",
       "  <thead>\n",
       "    <tr style=\"text-align: right;\">\n",
       "      <th></th>\n",
       "      <th>title</th>\n",
       "      <th>type</th>\n",
       "      <th>content</th>\n",
       "    </tr>\n",
       "  </thead>\n",
       "  <tbody>\n",
       "    <tr>\n",
       "      <th>0</th>\n",
       "      <td>[4024, 2370, 1280, 11538, 17251, 20, 17919, 57...</td>\n",
       "      <td>fake</td>\n",
       "      <td>[4024, 2370, 1280, 11538, 17251, 20, 17919, 57...</td>\n",
       "    </tr>\n",
       "    <tr>\n",
       "      <th>1</th>\n",
       "      <td>[5977, 4211, 7726, 11538, 9311, 8469, 4211, 12...</td>\n",
       "      <td>fake</td>\n",
       "      <td>[5760, 5760]</td>\n",
       "    </tr>\n",
       "    <tr>\n",
       "      <th>2</th>\n",
       "      <td>[7203, 15775, 15775, 3581, 7726, 17919, 4211, ...</td>\n",
       "      <td>fake</td>\n",
       "      <td>[3708, 4211, 5760, 7726, 15775, 4211, 6869, 42...</td>\n",
       "    </tr>\n",
       "    <tr>\n",
       "      <th>3</th>\n",
       "      <td>[11969, 4211, 1280, 4883, 4501, 23199, 8469, 2...</td>\n",
       "      <td>fake</td>\n",
       "      <td>[3708, 11538, 7726, 11538, 73, 17919, 7726, 45...</td>\n",
       "    </tr>\n",
       "    <tr>\n",
       "      <th>4</th>\n",
       "      <td>[3581, 4501, 11538, 16205, 8303, 20, 5760, 846...</td>\n",
       "      <td>fake</td>\n",
       "      <td>[3581, 4501, 11538, 16205, 8303, 20, 5760, 846...</td>\n",
       "    </tr>\n",
       "  </tbody>\n",
       "</table>\n",
       "</div>"
      ],
      "text/plain": [
       "                                               title  type  \\\n",
       "0  [4024, 2370, 1280, 11538, 17251, 20, 17919, 57...  fake   \n",
       "1  [5977, 4211, 7726, 11538, 9311, 8469, 4211, 12...  fake   \n",
       "2  [7203, 15775, 15775, 3581, 7726, 17919, 4211, ...  fake   \n",
       "3  [11969, 4211, 1280, 4883, 4501, 23199, 8469, 2...  fake   \n",
       "4  [3581, 4501, 11538, 16205, 8303, 20, 5760, 846...  fake   \n",
       "\n",
       "                                             content  \n",
       "0  [4024, 2370, 1280, 11538, 17251, 20, 17919, 57...  \n",
       "1                                       [5760, 5760]  \n",
       "2  [3708, 4211, 5760, 7726, 15775, 4211, 6869, 42...  \n",
       "3  [3708, 11538, 7726, 11538, 73, 17919, 7726, 45...  \n",
       "4  [3581, 4501, 11538, 16205, 8303, 20, 5760, 846...  "
      ]
     },
     "execution_count": 17,
     "metadata": {},
     "output_type": "execute_result"
    }
   ],
   "source": [
    "news = news.drop('text', axis=1)\n",
    "news.head()"
   ]
  },
  {
   "cell_type": "code",
   "execution_count": 18,
   "metadata": {},
   "outputs": [],
   "source": [
    "news = news[news['title'].map(len) >= 1]\n",
    "#Reset index\n",
    "news = news.reset_index().drop(\"index\", axis=1)"
   ]
  },
  {
   "cell_type": "code",
   "execution_count": 19,
   "metadata": {},
   "outputs": [],
   "source": [
    "def pad_array(array, token_len):\n",
    "    diff_token = token_len - len(array)\n",
    "    if(diff_token < 0):\n",
    "        array = array[:token_len] #Truncate\n",
    "    else:\n",
    "        #Pad\n",
    "        array += [0]*diff_token #Pad\n",
    "        \n",
    "    return array  "
   ]
  },
  {
   "cell_type": "code",
   "execution_count": 20,
   "metadata": {},
   "outputs": [
    {
     "name": "stderr",
     "output_type": "stream",
     "text": [
      "Pandas Apply: 100%|██████████| 2503/2503 [00:00<00:00, 45125.24it/s]\n"
     ]
    },
    {
     "data": {
      "text/plain": [
       "<matplotlib.axes._subplots.AxesSubplot at 0x1c2cca2978>"
      ]
     },
     "execution_count": 20,
     "metadata": {},
     "output_type": "execute_result"
    },
    {
     "data": {
      "image/png": "[encoded data removed]",
      "text/plain": [
       "<matplotlib.figure.Figure at 0x1c2cbe67f0>"
      ]
     },
     "metadata": {
      "needs_background": "light"
     },
     "output_type": "display_data"
    }
   ],
   "source": [
    "# Longitud en tokens de cada noticia\n",
    "tokens_numbers = news.swifter.apply(lambda row: len(row['content']), axis = 1)\n",
    "\n",
    "fig, ax = plt.subplots(1,1, figsize=(16,6))\n",
    "tokens_numbers.plot.hist(title=\"Number of tokens in the article\", bins = 70, ax=ax)"
   ]
  },
  {
   "cell_type": "code",
   "execution_count": 21,
   "metadata": {},
   "outputs": [
    {
     "name": "stdout",
     "output_type": "stream",
     "text": [
      "Número medio de tokens por artículo: 2260\n",
      "Desviación estándar de tokens por artículo: 2892\n",
      "Mediana de tokens por artículo: 1592\n",
      "Ventana de tokens escogida: 8045 - Cubre el 96.92369157011586% del dataset\n"
     ]
    }
   ],
   "source": [
    "print(\"Número medio de tokens por artículo: {}\".format(int(np.mean(tokens_numbers))))\n",
    "print(\"Desviación estándar de tokens por artículo: {}\".format(int(np.std(tokens_numbers))))\n",
    "print(\"Mediana de tokens por artículo: {}\".format(int(np.median(tokens_numbers))))\n",
    "\n",
    "max_tokens = np.mean(tokens_numbers) + 2 * np.std(tokens_numbers)\n",
    "max_tokens = int(max_tokens)\n",
    "\n",
    "percent_tokens = tokens_numbers[tokens_numbers <= max_tokens].count() / tokens_numbers.count()\n",
    "print(\"Ventana de tokens escogida: {} - Cubre el {}% del dataset\".format(max_tokens, percent_tokens*100))"
   ]
  },
  {
   "cell_type": "code",
   "execution_count": 22,
   "metadata": {},
   "outputs": [],
   "source": [
    "n_tokens = max_tokens\n",
    "news['content'] = news.apply(lambda r: pad_array(r['content'], MAX_LEN_CONTENT) , axis=1) #Use necessary for the model"
   ]
  },
  {
   "cell_type": "code",
   "execution_count": 23,
   "metadata": {},
   "outputs": [
    {
     "name": "stderr",
     "output_type": "stream",
     "text": [
      "\r",
      "Pandas Apply:   0%|          | 0/2503 [00:00<?, ?it/s]"
     ]
    },
    {
     "name": "stdout",
     "output_type": "stream",
     "text": [
      "Número medio de tokens por título: 47\n",
      "Desviación estándar de tokens por título: 22\n",
      "Mediana de tokens por título: 47\n",
      "Ventana de tokens escogida: 93 - Cubre el 96.763883339992% del dataset\n"
     ]
    },
    {
     "name": "stderr",
     "output_type": "stream",
     "text": [
      "Pandas Apply: 100%|██████████| 2503/2503 [00:00<00:00, 35954.46it/s]\n"
     ]
    },
    {
     "data": {
      "image/png": "[encoded data removed]",
      "text/plain": [
       "<matplotlib.figure.Figure at 0x1c2d001208>"
      ]
     },
     "metadata": {
      "needs_background": "light"
     },
     "output_type": "display_data"
    }
   ],
   "source": [
    "# Longitud en tokens de cada noticia\n",
    "tokens_numbers = news.apply(lambda row: len(row['title']), axis = 1)\n",
    "\n",
    "fig, ax = plt.subplots(1,1, figsize=(16,6))\n",
    "tokens_numbers.plot.hist(title=\"Number of tokens in the article\", bins = 30, ax=ax)\n",
    "\n",
    "print(\"Número medio de tokens por título: {}\".format(int(np.mean(tokens_numbers))))\n",
    "print(\"Desviación estándar de tokens por título: {}\".format(int(np.std(tokens_numbers))))\n",
    "print(\"Mediana de tokens por título: {}\".format(int(np.median(tokens_numbers))))\n",
    "\n",
    "max_tokens = np.mean(tokens_numbers) + 2 * np.std(tokens_numbers)\n",
    "max_tokens = int(max_tokens)\n",
    "\n",
    "n_tokens = max_tokens\n",
    "\n",
    "percent_tokens = tokens_numbers[tokens_numbers <= max_tokens].count() / tokens_numbers.count()\n",
    "print(\"Ventana de tokens escogida: {} - Cubre el {}% del dataset\".format(max_tokens, percent_tokens*100))\n",
    "\n",
    "#Use necessary for the model\n",
    "news['title'] = news.progress_apply(lambda r: pad_array(r['title'], MAX_LEN_TITLE) , axis=1)"
   ]
  },
  {
   "cell_type": "markdown",
   "metadata": {},
   "source": [
    "### Label a categorical"
   ]
  },
  {
   "cell_type": "code",
   "execution_count": 24,
   "metadata": {},
   "outputs": [
    {
     "data": {
      "text/html": [
       "<div>\n",
       "<style scoped>\n",
       "    .dataframe tbody tr th:only-of-type {\n",
       "        vertical-align: middle;\n",
       "    }\n",
       "\n",
       "    .dataframe tbody tr th {\n",
       "        vertical-align: top;\n",
       "    }\n",
       "\n",
       "    .dataframe thead th {\n",
       "        text-align: right;\n",
       "    }\n",
       "</style>\n",
       "<table border=\"1\" class=\"dataframe\">\n",
       "  <thead>\n",
       "    <tr style=\"text-align: right;\">\n",
       "      <th></th>\n",
       "      <th>title</th>\n",
       "      <th>type</th>\n",
       "      <th>content</th>\n",
       "      <th>one_hot_label</th>\n",
       "    </tr>\n",
       "  </thead>\n",
       "  <tbody>\n",
       "    <tr>\n",
       "      <th>0</th>\n",
       "      <td>[4024, 2370, 1280, 11538, 17251, 20, 17919, 57...</td>\n",
       "      <td>fake</td>\n",
       "      <td>[4024, 2370, 1280, 11538, 17251, 20, 17919, 57...</td>\n",
       "      <td>[0, 1, 0]</td>\n",
       "    </tr>\n",
       "    <tr>\n",
       "      <th>1</th>\n",
       "      <td>[5977, 4211, 7726, 11538, 9311, 8469, 4211, 12...</td>\n",
       "      <td>fake</td>\n",
       "      <td>[5760, 5760, 0, 0, 0, 0, 0, 0, 0, 0, 0, 0, 0, ...</td>\n",
       "      <td>[0, 1, 0]</td>\n",
       "    </tr>\n",
       "    <tr>\n",
       "      <th>2</th>\n",
       "      <td>[7203, 15775, 15775, 3581, 7726, 17919, 4211, ...</td>\n",
       "      <td>fake</td>\n",
       "      <td>[3708, 4211, 5760, 7726, 15775, 4211, 6869, 42...</td>\n",
       "      <td>[0, 1, 0]</td>\n",
       "    </tr>\n",
       "    <tr>\n",
       "      <th>3</th>\n",
       "      <td>[11969, 4211, 1280, 4883, 4501, 23199, 8469, 2...</td>\n",
       "      <td>fake</td>\n",
       "      <td>[3708, 11538, 7726, 11538, 73, 17919, 7726, 45...</td>\n",
       "      <td>[0, 1, 0]</td>\n",
       "    </tr>\n",
       "    <tr>\n",
       "      <th>4</th>\n",
       "      <td>[3581, 4501, 11538, 16205, 8303, 20, 5760, 846...</td>\n",
       "      <td>fake</td>\n",
       "      <td>[3581, 4501, 11538, 16205, 8303, 20, 5760, 846...</td>\n",
       "      <td>[0, 1, 0]</td>\n",
       "    </tr>\n",
       "  </tbody>\n",
       "</table>\n",
       "</div>"
      ],
      "text/plain": [
       "                                               title  type  \\\n",
       "0  [4024, 2370, 1280, 11538, 17251, 20, 17919, 57...  fake   \n",
       "1  [5977, 4211, 7726, 11538, 9311, 8469, 4211, 12...  fake   \n",
       "2  [7203, 15775, 15775, 3581, 7726, 17919, 4211, ...  fake   \n",
       "3  [11969, 4211, 1280, 4883, 4501, 23199, 8469, 2...  fake   \n",
       "4  [3581, 4501, 11538, 16205, 8303, 20, 5760, 846...  fake   \n",
       "\n",
       "                                             content one_hot_label  \n",
       "0  [4024, 2370, 1280, 11538, 17251, 20, 17919, 57...     [0, 1, 0]  \n",
       "1  [5760, 5760, 0, 0, 0, 0, 0, 0, 0, 0, 0, 0, 0, ...     [0, 1, 0]  \n",
       "2  [3708, 4211, 5760, 7726, 15775, 4211, 6869, 42...     [0, 1, 0]  \n",
       "3  [3708, 11538, 7726, 11538, 73, 17919, 7726, 45...     [0, 1, 0]  \n",
       "4  [3581, 4501, 11538, 16205, 8303, 20, 5760, 846...     [0, 1, 0]  "
      ]
     },
     "execution_count": 24,
     "metadata": {},
     "output_type": "execute_result"
    }
   ],
   "source": [
    "encoder = LabelBinarizer().fit(list(news['type']))\n",
    "news['one_hot_label'] = news.apply(lambda r: encoder.transform([r['type']])[0], axis=1)\n",
    "news.head()"
   ]
  },
  {
   "cell_type": "code",
   "execution_count": 25,
   "metadata": {},
   "outputs": [
    {
     "name": "stdout",
     "output_type": "stream",
     "text": [
      "LABELS\n",
      "bias [1 0 0]\n",
      "fake [0 1 0]\n",
      "true [0 0 1]\n"
     ]
    }
   ],
   "source": [
    "print(\"LABELS\")\n",
    "enc = encoder.transform(encoder.classes_)\n",
    "for x, y in zip(encoder.classes_, enc):\n",
    "    print(x, y)"
   ]
  },
  {
   "cell_type": "code",
   "execution_count": 26,
   "metadata": {},
   "outputs": [],
   "source": [
    "### Guardar el dataset\n",
    "news.to_pickle('../data/news_getting_real.pickle')"
   ]
  },
  {
   "cell_type": "code",
   "execution_count": null,
   "metadata": {},
   "outputs": [],
   "source": []
  }
 ],
 "metadata": {
  "kernelspec": {
   "display_name": "Python 3",
   "language": "python",
   "name": "python3"
  },
  "language_info": {
   "codemirror_mode": {
    "name": "ipython",
    "version": 3
   },
   "file_extension": ".py",
   "mimetype": "text/x-python",
   "name": "python",
   "nbconvert_exporter": "python",
   "pygments_lexer": "ipython3",
   "version": "3.6.7"
  }
 },
 "nbformat": 4,
 "nbformat_minor": 2
}
